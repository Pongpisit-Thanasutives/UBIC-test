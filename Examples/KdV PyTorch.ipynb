{
 "cells": [
  {
   "cell_type": "code",
   "execution_count": 1,
   "id": "51c88777",
   "metadata": {},
   "outputs": [],
   "source": [
    "import torch\n",
    "from torch import nn\n",
    "from torch import optim\n",
    "from torch.autograd import Variable\n",
    "\n",
    "%matplotlib inline\n",
    "import matplotlib.pyplot as plt\n",
    "\n",
    "import pysindy as ps\n",
    "\n",
    "from scipy import io as sio\n",
    "from scipy.linalg import lstsq\n",
    "\n",
    "import numpy as np\n",
    "\n",
    "from tqdm import trange\n",
    "\n",
    "import sys; sys.path.insert(0, \"../\")\n",
    "from sgolay2 import SGolayFilter2"
   ]
  },
  {
   "cell_type": "code",
   "execution_count": 2,
   "id": "a240b006",
   "metadata": {},
   "outputs": [],
   "source": [
    "# class NetL(nn.Module):\n",
    "#     def __init__(self, n_feature, n_hidden, n_output):                                                                              \n",
    "#         super(NetL, self).__init__()\n",
    "#         self.fc1 = nn.Linear(n_feature, n_hidden)\n",
    "#         self.fc2 = nn.Linear(n_hidden, n_hidden)\n",
    "#         self.fc3 = nn.Linear(n_hidden, n_hidden)\n",
    "#         self.fc4 = nn.Linear(n_hidden, n_hidden)\n",
    "#         self.predict = nn.Linear(n_hidden, n_output)\n",
    "#     def forward(self, x):\n",
    "#         out = torch.sin((self.fc1(x)))\n",
    "#         out = torch.sin((self.fc2(out)))\n",
    "#         out = torch.sin((self.fc3(out)))\n",
    "#         out = torch.sin((self.fc4(out)))\n",
    "#         out = self.predict(out)\n",
    "#         return out\n",
    "\n",
    "class Net(nn.Module):\n",
    "    def __init__(self, n_feature, n_hidden, n_output):                                                                              \n",
    "        super(Net, self).__init__()\n",
    "        self.fc1 = nn.Linear(n_feature, n_hidden)\n",
    "        self.fc2 = nn.Linear(n_hidden, n_hidden)\n",
    "        self.predict = nn.Linear(n_hidden, n_output)\n",
    "    def forward(self, x):\n",
    "        out = torch.sin((self.fc1(x)))\n",
    "        out = torch.sin((self.fc2(out)))\n",
    "        out = torch.sin((self.fc2(out)))\n",
    "        out = torch.sin((self.fc2(out)))\n",
    "        out = self.predict(out)\n",
    "        return out"
   ]
  },
  {
   "cell_type": "code",
   "execution_count": 3,
   "id": "e81056c9",
   "metadata": {},
   "outputs": [
    {
     "name": "stdout",
     "output_type": "stream",
     "text": [
      "Domain shape: (512, 201)\n"
     ]
    }
   ],
   "source": [
    "# data = sio.loadmat('../../SGA-PDE/codes/data/KdV.mat')\n",
    "# u = data.get(\"uu\"); u_clean = u.copy()\n",
    "# x = np.squeeze(data.get(\"x\"))\n",
    "# t = np.squeeze(data.get(\"tt\").reshape(1,201))\n",
    "\n",
    "data = sio.loadmat('../Datasets/KdV_rudy.mat')\n",
    "u = (data['usol']).real; u_clean = u.copy()\n",
    "x = data['x'][0]\n",
    "t = data['t'].flatten()\n",
    "\n",
    "print(\"Domain shape:\", u.shape)"
   ]
  },
  {
   "cell_type": "code",
   "execution_count": 4,
   "id": "a56025b4",
   "metadata": {},
   "outputs": [],
   "source": [
    "dt = t[1]-t[0]\n",
    "dx = x[1]-x[0]\n",
    "X, T = np.meshgrid(x, t)\n",
    "XT = np.asarray([X, T]).T"
   ]
  },
  {
   "cell_type": "code",
   "execution_count": 5,
   "id": "b25df642",
   "metadata": {},
   "outputs": [],
   "source": [
    "diff = ps.FiniteDifference(is_uniform=True)\n",
    "u_clean_t = diff._differentiate(u_clean.T, t).T\n",
    "u_clean_x = diff._differentiate(u_clean, x)\n",
    "u_clean_xx = diff._differentiate(u_clean_x, x)\n",
    "u_clean_xxx = diff._differentiate(u_clean_xx, x)\n",
    "\n",
    "base_features = np.hstack([u_clean_t.reshape(-1, 1), \n",
    "                           u_clean.reshape(-1, 1), \n",
    "                           u_clean_x.reshape(-1, 1), \n",
    "                           u_clean_xx.reshape(-1, 1), \n",
    "                           u_clean_xxx.reshape(-1, 1)])"
   ]
  },
  {
   "cell_type": "code",
   "execution_count": 6,
   "id": "324a0947",
   "metadata": {},
   "outputs": [
    {
     "name": "stdout",
     "output_type": "stream",
     "text": [
      "Noise level: 0.0\n"
     ]
    }
   ],
   "source": [
    "np.random.seed(0)\n",
    "noise_lv = float(0)\n",
    "print(\"Noise level:\", noise_lv)\n",
    "noise = 0.01*np.abs(noise_lv)*(u.std())*np.random.randn(u.shape[0],u.shape[1])\n",
    "u = u + noise"
   ]
  },
  {
   "cell_type": "code",
   "execution_count": 7,
   "id": "e682ee29",
   "metadata": {},
   "outputs": [],
   "source": [
    "denoise = True\n",
    "if denoise:\n",
    "    u = SGolayFilter2(window_size=19, poly_order=3)(u)"
   ]
  },
  {
   "cell_type": "code",
   "execution_count": 8,
   "id": "4599e313",
   "metadata": {},
   "outputs": [],
   "source": [
    "device = torch.device('cpu')\n",
    "net = Net(2, 50, 1).to(device)\n",
    "xt = XT.reshape(-1, 2)\n",
    "u_vec = u.reshape(-1, 1)"
   ]
  },
  {
   "cell_type": "code",
   "execution_count": 9,
   "id": "4ff4b343",
   "metadata": {},
   "outputs": [],
   "source": [
    "train_size = 50000\n",
    "train_indices = np.random.randint(0, len(u_vec), size=train_size)\n",
    "test_indices = np.array(list(set(range(len(u_vec))) - set(train_indices)))\n",
    "\n",
    "xt_train = torch.from_numpy(xt[train_indices, :]).float()\n",
    "xt_train = Variable(xt_train).to(device)\n",
    "u_train = torch.from_numpy(u_vec[train_indices]).float()\n",
    "u_train = Variable(u_train).to(device)\n",
    "\n",
    "xt_test = torch.from_numpy(xt[test_indices, :]).float()\n",
    "xt_test = Variable(xt_test).to(device)\n",
    "u_test = torch.from_numpy(u_vec[test_indices]).float()\n",
    "u_test = Variable(u_test).to(device)"
   ]
  },
  {
   "cell_type": "code",
   "execution_count": 10,
   "id": "7dbf3c17",
   "metadata": {},
   "outputs": [],
   "source": [
    "criterion = nn.MSELoss()\n",
    "optimizer = optim.Adam(net.parameters())"
   ]
  },
  {
   "cell_type": "code",
   "execution_count": 11,
   "id": "30f43cf2",
   "metadata": {},
   "outputs": [
    {
     "name": "stderr",
     "output_type": "stream",
     "text": [
      "100%|████████████████████████████████████████████████████████| 100000/100000 [1:05:29<00:00, 25.45it/s]\n"
     ]
    },
    {
     "data": {
      "text/plain": [
       "Net(\n",
       "  (fc1): Linear(in_features=2, out_features=50, bias=True)\n",
       "  (fc2): Linear(in_features=50, out_features=50, bias=True)\n",
       "  (predict): Linear(in_features=50, out_features=1, bias=True)\n",
       ")"
      ]
     },
     "execution_count": 11,
     "metadata": {},
     "output_type": "execute_result"
    }
   ],
   "source": [
    "min_loss = 1\n",
    "max_epoch = 1000*100\n",
    "\n",
    "for epoch in trange(max_epoch):\n",
    "    # train\n",
    "    optimizer.zero_grad()\n",
    "    loss = criterion(net(xt_train), u_train)\n",
    "    loss.backward()\n",
    "    optimizer.step()\n",
    "    # test\n",
    "    if (epoch%100 == 0):\n",
    "        with torch.no_grad():\n",
    "            test_loss = ((net(xt_test)-u_test)**2).mean().item()\n",
    "            if test_loss < min_loss:\n",
    "                min_loss = test_loss\n",
    "                torch.save(net.state_dict(), f'./nn_files/net{int(noise_lv)}.pth')\n",
    "    net.train()\n",
    "    \n",
    "net.load_state_dict(torch.load(f'./nn_files/net{int(noise_lv)}.pth'))\n",
    "net.eval()"
   ]
  },
  {
   "cell_type": "code",
   "execution_count": 12,
   "id": "2217f55e",
   "metadata": {},
   "outputs": [],
   "source": [
    "recon = np.array(net(torch.from_numpy(xt[:, :]).float()).detach()).reshape(len(x), len(t))"
   ]
  },
  {
   "cell_type": "code",
   "execution_count": 13,
   "id": "a4779809",
   "metadata": {},
   "outputs": [
    {
     "data": {
      "text/plain": [
       "(4.577486821213701e-06, 4.50550216027558e-06)"
      ]
     },
     "execution_count": 13,
     "metadata": {},
     "output_type": "execute_result"
    }
   ],
   "source": [
    "((u-u_clean)**2).mean(), ((recon-u_clean)**2).mean()"
   ]
  },
  {
   "cell_type": "code",
   "execution_count": 14,
   "id": "6a99c83d",
   "metadata": {},
   "outputs": [],
   "source": [
    "xt = Variable(torch.from_numpy(xt).float(), requires_grad=True).to(device)\n",
    "grad = torch.autograd.grad(net(xt).sum(), xt, create_graph=True)[0]\n",
    "u_t = grad[:, 1:2].detach().numpy()\n",
    "u_x =  grad[:, 0:1]\n",
    "u_xx = torch.autograd.grad(u_x.sum(), inputs=xt, create_graph=True)[0][:, 0:1]\n",
    "u_xxx = torch.autograd.grad(u_xx.sum(), inputs=xt, create_graph=True)[0][:, 0:1]"
   ]
  },
  {
   "cell_type": "code",
   "execution_count": 15,
   "id": "4b8ef4ed",
   "metadata": {},
   "outputs": [],
   "source": [
    "base_features = np.hstack([u_t, \n",
    "                           recon.reshape(-1, 1), \n",
    "                           u_x.detach().numpy(), \n",
    "                           u_xx.detach().numpy(), \n",
    "                           u_xxx.detach().numpy()])\n",
    "\n",
    "np.save(f\"./nn_files/nn_base_features{int(noise_lv)}.npy\", base_features)"
   ]
  },
  {
   "cell_type": "markdown",
   "id": "92dab3ee",
   "metadata": {},
   "source": [
    "#### Somehow I need to reload.\n",
    "#### There seems to be some conflict between pytorch2.2 and numpy. IDK"
   ]
  },
  {
   "cell_type": "code",
   "execution_count": 1,
   "id": "8a25559e",
   "metadata": {},
   "outputs": [],
   "source": [
    "import numpy as np\n",
    "from sklearn.preprocessing import PolynomialFeatures"
   ]
  },
  {
   "cell_type": "code",
   "execution_count": 2,
   "id": "70e0efb6",
   "metadata": {},
   "outputs": [],
   "source": [
    "noise_lv = 0\n",
    "base_features = np.load(f\"./nn_files/nn_base_features{int(noise_lv)}.npy\")"
   ]
  },
  {
   "cell_type": "code",
   "execution_count": 3,
   "id": "732d139b",
   "metadata": {},
   "outputs": [
    {
     "data": {
      "text/plain": [
       "array(['x0', 'x1', 'x2', 'x3', 'x0 x1', 'x0 x2', 'x0 x3', 'x1 x2',\n",
       "       'x1 x3', 'x2 x3'], dtype=object)"
      ]
     },
     "execution_count": 3,
     "metadata": {},
     "output_type": "execute_result"
    }
   ],
   "source": [
    "candidate_lib = PolynomialFeatures(2, interaction_only=True, include_bias=False)\n",
    "theta = candidate_lib.fit_transform(base_features[:, 1:])\n",
    "candidate_lib.get_feature_names_out()"
   ]
  },
  {
   "cell_type": "code",
   "execution_count": 4,
   "id": "38d6e3de",
   "metadata": {},
   "outputs": [
    {
     "data": {
      "text/plain": [
       "array([[-1.0712005],\n",
       "       [-5.984719 ]], dtype=float32)"
      ]
     },
     "execution_count": 4,
     "metadata": {},
     "output_type": "execute_result"
    }
   ],
   "source": [
    "np.linalg.lstsq(theta[:, [3, 4]], base_features[:, 0:1], rcond=None)[0]"
   ]
  },
  {
   "cell_type": "code",
   "execution_count": null,
   "id": "0705d1ea",
   "metadata": {},
   "outputs": [],
   "source": []
  },
  {
   "cell_type": "code",
   "execution_count": null,
   "id": "9b9f9c2a",
   "metadata": {},
   "outputs": [],
   "source": []
  }
 ],
 "metadata": {
  "kernelspec": {
   "display_name": "Python [conda env:pysr_latest]",
   "language": "python",
   "name": "conda-env-pysr_latest-py"
  },
  "language_info": {
   "codemirror_mode": {
    "name": "ipython",
    "version": 3
   },
   "file_extension": ".py",
   "mimetype": "text/x-python",
   "name": "python",
   "nbconvert_exporter": "python",
   "pygments_lexer": "ipython3",
   "version": "3.11.11"
  }
 },
 "nbformat": 4,
 "nbformat_minor": 5
}
