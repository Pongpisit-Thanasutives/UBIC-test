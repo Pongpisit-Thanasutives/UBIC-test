{
 "cells": [
  {
   "cell_type": "code",
   "execution_count": 1,
   "metadata": {},
   "outputs": [
    {
     "name": "stdout",
     "output_type": "stream",
     "text": [
      "Sklearn's version: 1.6.1\n"
     ]
    }
   ],
   "source": [
    "%matplotlib inline\n",
    "import matplotlib.pyplot as plt\n",
    "import warnings; warnings.filterwarnings(\"ignore\")\n",
    "import scienceplots\n",
    "\n",
    "import os\n",
    "import sys; sys.path.append('../')\n",
    "import numpy as np\n",
    "from numpy.random import default_rng\n",
    "\n",
    "import scipy.io as sio\n",
    "import pysindy as ps\n",
    "from PDE_FIND import build_linear_system, print_pde, TrainSTRidge, measure_pce\n",
    "from best_subset import *\n",
    "from UBIC import *\n",
    "from solvel0 import solvel0\n",
    "from findiff import FinDiff\n",
    "import sgolay2"
   ]
  },
  {
   "cell_type": "markdown",
   "metadata": {},
   "source": [
    "#### Load data"
   ]
  },
  {
   "cell_type": "code",
   "execution_count": 2,
   "metadata": {},
   "outputs": [],
   "source": [
    "data = sio.loadmat('../Datasets/Big/reaction_diffusion_2d_big.mat')\n",
    "u_sol = (data['u']).real\n",
    "v_sol = (data['v']).real\n",
    "x = (data['x'][0]).real\n",
    "y = (data['y'][0]).real\n",
    "t = (data['t'][:,0]).real\n",
    "\n",
    "n = 512; issub = 2\n",
    "if issub > 1:\n",
    "    spatial_sub_indices = np.array([i for i in range(n) if i%issub==0])\n",
    "    u_sol = u_sol[spatial_sub_indices, :, :][:, spatial_sub_indices, :]\n",
    "    v_sol = v_sol[spatial_sub_indices, :, :][:, spatial_sub_indices, :]\n",
    "    x = x[spatial_sub_indices]\n",
    "    y = y[spatial_sub_indices]\n",
    "m = 201; issub = 1\n",
    "if issub > 1:\n",
    "    time_sub_indices = np.array([i for i in range(m) if i%issub==0])\n",
    "    u_sol = u_sol[:, :, time_sub_indices]\n",
    "    v_sol = v_sol[:, :, time_sub_indices]\n",
    "    t = t[time_sub_indices]\n",
    "\n",
    "dt = t[1] - t[0]\n",
    "dx = x[1] - x[0]\n",
    "dy = y[1] - y[0]\n",
    "\n",
    "# Ground truth\n",
    "ground_indices_u = np.array((0, 5, 6, 7, 8, 11, 17))\n",
    "ground_coeff_u = np.array([1.000,-1.000,1.000,-1.000,1.000,0.100,0.100])\n",
    "ground_indices_v = np.array((1, 5, 6, 7, 8, 12, 18))\n",
    "ground_coeff_v = np.array([1.000,-1.000,-1.000,-1.000,-1.000,0.100,0.100])"
   ]
  },
  {
   "cell_type": "code",
   "execution_count": 3,
   "metadata": {},
   "outputs": [],
   "source": [
    "u = np.zeros((x.shape[0], y.shape[0], len(t), 2))\n",
    "u[:, :, :, 0] = u_sol\n",
    "u[:, :, :, 1] = v_sol\n",
    "\n",
    "# Need to define the 2D spatial grid before calling the library\n",
    "np.random.seed(100)\n",
    "X, Y, T = np.meshgrid(x, y, t, indexing='ij')\n",
    "XYT = np.transpose([X, Y, T], [1, 2, 3, 0])"
   ]
  },
  {
   "cell_type": "markdown",
   "metadata": {},
   "source": [
    "#### Add noise"
   ]
  },
  {
   "cell_type": "code",
   "execution_count": 4,
   "metadata": {},
   "outputs": [],
   "source": [
    "# Need to increase the weak form mesh resolution a bit if data is noisy\n",
    "# weak_lib = ps.WeakPDELibrary(\n",
    "#     library_functions=library_functions,\n",
    "#     function_names=library_function_names,\n",
    "#     derivative_order=2,\n",
    "#     spatiotemporal_grid=XYT,\n",
    "#     K=10000,\n",
    "#     is_uniform=True,\n",
    "#     periodic=False,\n",
    "#     include_interaction=True, \n",
    "#     cache=True\n",
    "# )\n",
    "\n",
    "weak_lib = ps.WeakPDELibrary(\n",
    "    function_library=ps.PolynomialLibrary(degree=3, include_bias=False),\n",
    "    derivative_order=2,\n",
    "    spatiotemporal_grid=XYT,\n",
    "    is_uniform=True,\n",
    "    periodic=True,\n",
    "    K=2000,\n",
    "    include_interaction=False,\n",
    ")\n",
    "\n",
    "u_noisy = u.copy()\n",
    "\n",
    "### Add noise ###\n",
    "noise_lv = 10\n",
    "domain_noise = 0.01*np.abs(noise_lv)*np.std(u_noisy)*np.random.randn(*u_noisy.shape)\n",
    "u_noisy = u_noisy + domain_noise"
   ]
  },
  {
   "cell_type": "markdown",
   "metadata": {},
   "source": [
    "#### Denoise"
   ]
  },
  {
   "cell_type": "code",
   "execution_count": 5,
   "metadata": {},
   "outputs": [
    {
     "name": "stderr",
     "output_type": "stream",
     "text": [
      "100%|███████████████████████████████████████████████████████████████████| 201/201 [00:00<00:00, 277.68it/s]\n",
      "100%|███████████████████████████████████████████████████████████████████| 201/201 [00:00<00:00, 283.35it/s]\n"
     ]
    }
   ],
   "source": [
    "denoise = True\n",
    "if denoise:\n",
    "    un = u_noisy[:, :, :, 0].T\n",
    "    vn = u_noisy[:, :, :, 1].T\n",
    "\n",
    "    div = 30\n",
    "    ws = max(un[0].shape)//div; po = 2\n",
    "    if ws%2 == 0: ws -=1\n",
    "\n",
    "    und = []\n",
    "    for i in trange(un.shape[0]):\n",
    "        und.append(sgolay2.SGolayFilter2(window_size=ws, poly_order=po)(un[i]))\n",
    "    und = np.stack(und, axis=0).T\n",
    "\n",
    "    vnd = []\n",
    "    for i in trange(vn.shape[0]):\n",
    "        vnd.append(sgolay2.SGolayFilter2(window_size=ws, poly_order=po)(vn[i]))\n",
    "    vnd = np.stack(vnd, axis=0).T\n",
    "\n",
    "    u_noisy = np.stack((und, vnd), axis=-1)\n",
    "    del und, vnd, un, vn"
   ]
  },
  {
   "cell_type": "markdown",
   "metadata": {},
   "source": [
    "#### Applying best-subset regression on the weak formulation"
   ]
  },
  {
   "cell_type": "code",
   "execution_count": 6,
   "metadata": {},
   "outputs": [],
   "source": [
    "X_pre = np.array(weak_lib.fit_transform(u_noisy))\n",
    "y_pre = weak_lib.convert_u_dot_integral(u_noisy)\n",
    "feature_names = np.array(weak_lib.get_feature_names())\n",
    "u_pre, v_pre = y_pre[:, 0:1], y_pre[:, 1:2]\n",
    "del y_pre"
   ]
  },
  {
   "cell_type": "code",
   "execution_count": 7,
   "metadata": {},
   "outputs": [
    {
     "name": "stderr",
     "output_type": "stream",
     "text": [
      "  0%|                                                                               | 0/10 [00:00<?, ?it/s]"
     ]
    },
    {
     "name": "stdout",
     "output_type": "stream",
     "text": [
      "Set parameter Username\n",
      "Academic license - for non-commercial use only - expires 2025-10-17\n"
     ]
    },
    {
     "name": "stderr",
     "output_type": "stream",
     "text": [
      "100%|██████████████████████████████████████████████████████████████████████| 10/10 [00:00<00:00, 28.81it/s]\n",
      "100%|██████████████████████████████████████████████████████████████████████| 10/10 [00:00<00:00, 28.77it/s]\n"
     ]
    },
    {
     "data": {
      "text/plain": [
       "[(1,),\n",
       " (1, 11),\n",
       " (0, 1, 11),\n",
       " (0, 1, 11, 17),\n",
       " (0, 1, 11, 12, 17),\n",
       " (0, 1, 5, 7, 11, 17),\n",
       " (0, 5, 6, 7, 8, 11, 17),\n",
       " (0, 1, 5, 6, 7, 8, 11, 17),\n",
       " (0, 1, 5, 6, 7, 8, 11, 14, 17),\n",
       " (0, 1, 5, 6, 7, 8, 11, 14, 17, 18)]"
      ]
     },
     "execution_count": 7,
     "metadata": {},
     "output_type": "execute_result"
    }
   ],
   "source": [
    "solve_grb = solvel0(X_pre, u_pre, intercept=False, refine=True, max_complexity=10)\n",
    "\n",
    "potential_indices = Counter(solve_grb[0])\n",
    "for e in solve_grb[1:]: \n",
    "    potential_indices += Counter(e)\n",
    "potential_indices = sorted(potential_indices, key=potential_indices.get, reverse=True)[:15]\n",
    "potential_indices = sorted(potential_indices)\n",
    "potential_feature_names = feature_names[potential_indices]\n",
    "\n",
    "brute_solve = brute_force_all_subsets(X_pre[:, potential_indices], u_pre, max_support_size=10)\n",
    "map2pysindy = dict(zip([i for i in range(len(potential_indices))], potential_indices))\n",
    "best_subsets_u = [tuple([map2pysindy[ei] for ei in effective_indices]) \n",
    "                  for effective_indices in brute_solve[-1]]\n",
    "best_subsets_u"
   ]
  },
  {
   "cell_type": "code",
   "execution_count": 8,
   "metadata": {},
   "outputs": [
    {
     "name": "stdout",
     "output_type": "stream",
     "text": [
      "-3016.762160561657\n",
      "0.029514723860574466\n",
      "0 <---> 0 inf\n",
      "0 <---> 6 0.030627318804873387\n",
      "6 <---> 6 inf\n"
     ]
    },
    {
     "data": {
      "text/plain": [
       "(0.0,\n",
       " array([-16300.55293053, -16391.68448544, -16463.36536193, -16934.33314935,\n",
       "        -16943.21499063, -17236.01679533, -19221.16671518, -19106.25455423,\n",
       "        -19102.78712952, -19091.08557196]),\n",
       " 6)"
      ]
     },
     "execution_count": 8,
     "metadata": {},
     "output_type": "execute_result"
    }
   ],
   "source": [
    "tau = 3; per = 75\n",
    "scale = np.log(len(u_pre))\n",
    "# scale = 1\n",
    "\n",
    "post_means, b_bics, b_uns = baye_uncertainties(best_subsets_u, (X_pre, u_pre), u_type='cv1', take_sqrt=True)\n",
    "print(min(b_bics)-max(b_bics))\n",
    "predictions = X_pre@post_means\n",
    "\n",
    "b_bics = np.array(b_bics)\n",
    "complexities = np.array([len(bs) for bs in best_subsets_u])\n",
    "d_complexities = complexities[decreasing_values_indices(b_bics)]\n",
    "d_bics = b_bics[decreasing_values_indices(b_bics)]\n",
    "thres = np.percentile(np.abs(np.diff(d_bics)/(np.diff(d_complexities)*d_bics[:-1])), per)\n",
    "# thres = 0.02\n",
    "print(thres)\n",
    "\n",
    "lower_bounds = []\n",
    "for k, efi in enumerate(best_subsets_u):\n",
    "    com = len(efi)\n",
    "    assert com == np.count_nonzero(post_means[:, k:k+1])\n",
    "    # lower_bound = 2*log_like_value(predictions[:, k:k+1], u_pre)/np.log(len(u_pre))-com\n",
    "    lower_bound = 2*log_like_value(predictions[:, k:k+1], u_pre)-np.log(len(u_pre))*com\n",
    "    lower_bounds.append(lower_bound)\n",
    "    \n",
    "last_lam = np.log10(max(lower_bounds/(b_uns*scale)))\n",
    "delta = last_lam/tau\n",
    "now_lam = last_lam-delta\n",
    "last_ubic = UBIC(b_bics, b_uns, len(u_pre), hyp=10**last_lam, scale=scale)\n",
    "last_bc = np.argmin(last_ubic)\n",
    "while now_lam > 0:\n",
    "    now_ubic = UBIC(b_bics, b_uns, len(u_pre), hyp=10**now_lam, scale=scale)\n",
    "    now_bc = np.argmin(now_ubic)\n",
    "    \n",
    "    diff_com = now_bc-last_bc\n",
    "    diff_bic = b_bics[now_bc]-b_bics[last_bc]\n",
    "    imp = abs(diff_bic/(b_bics[last_bc]*diff_com))\n",
    "    print(min(last_bc, now_bc), '<--->', max(last_bc, now_bc), np.nan_to_num(imp, nan=np.inf))\n",
    "\n",
    "    if (diff_com > 0 and (diff_bic > 0 or imp < thres)) or \\\n",
    "        (diff_com < 0 and diff_bic > 0 and imp > thres):\n",
    "        break\n",
    "    \n",
    "    last_lam = now_lam\n",
    "    now_lam = last_lam-delta\n",
    "    last_ubic = now_ubic\n",
    "    last_bc = now_bc\n",
    "    \n",
    "best_bc = last_bc\n",
    "if abs((b_bics[last_bc]-b_bics[last_bc-1])/b_bics[last_bc-1]) < thres:\n",
    "    best_bc = best_bc - 1\n",
    "\n",
    "last_lam = round(last_lam, 10)\n",
    "last_lam_d_u = last_lam\n",
    "last_ubic_d_u = last_ubic\n",
    "last_bc_d_u = last_bc\n",
    "uns_u = b_uns\n",
    "last_lam, last_ubic, last_bc"
   ]
  },
  {
   "cell_type": "code",
   "execution_count": 9,
   "metadata": {},
   "outputs": [
    {
     "name": "stderr",
     "output_type": "stream",
     "text": [
      "100%|██████████████████████████████████████████████████████████████████████| 10/10 [00:00<00:00, 22.03it/s]\n",
      "100%|██████████████████████████████████████████████████████████████████████| 10/10 [00:00<00:00, 32.17it/s]\n"
     ]
    },
    {
     "data": {
      "text/plain": [
       "[(0,),\n",
       " (0, 12),\n",
       " (0, 1, 12),\n",
       " (0, 1, 12, 18),\n",
       " (0, 1, 12, 17, 18),\n",
       " (0, 1, 6, 8, 12, 18),\n",
       " (1, 5, 6, 7, 8, 12, 18),\n",
       " (0, 1, 5, 6, 7, 8, 12, 18),\n",
       " (0, 1, 5, 6, 7, 8, 10, 12, 18),\n",
       " (0, 1, 5, 6, 7, 8, 10, 12, 16, 18)]"
      ]
     },
     "execution_count": 9,
     "metadata": {},
     "output_type": "execute_result"
    }
   ],
   "source": [
    "solve_grb = solvel0(X_pre, v_pre, intercept=False, refine=True, max_complexity=10)\n",
    "\n",
    "potential_indices = Counter(solve_grb[0])\n",
    "for e in solve_grb[1:]: \n",
    "    potential_indices += Counter(e)\n",
    "potential_indices = sorted(potential_indices, key=potential_indices.get, reverse=True)[:15]\n",
    "potential_indices = sorted(potential_indices)\n",
    "potential_feature_names = feature_names[potential_indices]\n",
    "\n",
    "brute_solve = brute_force_all_subsets(X_pre[:, potential_indices], v_pre, max_support_size=10)\n",
    "map2pysindy = dict(zip([i for i in range(len(potential_indices))], potential_indices))\n",
    "best_subsets_v = [tuple([map2pysindy[ei] for ei in effective_indices]) \n",
    "                  for effective_indices in brute_solve[-1]]\n",
    "best_subsets_v"
   ]
  },
  {
   "cell_type": "code",
   "execution_count": 10,
   "metadata": {},
   "outputs": [
    {
     "name": "stdout",
     "output_type": "stream",
     "text": [
      "-3080.993526434757\n",
      "0.02881615992208983\n",
      "0 <---> 0 inf\n",
      "0 <---> 6 0.031143293260793948\n"
     ]
    },
    {
     "data": {
      "text/plain": [
       "(1.1104755571,\n",
       " array([-16205.88643153, -16201.33883708, -16102.75107517, -16388.04697233,\n",
       "        -16225.55674934, -14074.98277072, -18328.30077937, -16720.46621067,\n",
       "        -16704.00050767, -16676.64599006]),\n",
       " 6)"
      ]
     },
     "execution_count": 10,
     "metadata": {},
     "output_type": "execute_result"
    }
   ],
   "source": [
    "tau = 3; per = 75\n",
    "scale = np.log(len(v_pre))\n",
    "# scale = 1\n",
    "\n",
    "post_means, b_bics, b_uns = baye_uncertainties(best_subsets_v, (X_pre, v_pre), u_type='cv1', take_sqrt=True)\n",
    "print(min(b_bics)-max(b_bics))\n",
    "predictions = X_pre@post_means\n",
    "\n",
    "b_bics = np.array(b_bics)\n",
    "complexities = np.array([len(bs) for bs in best_subsets_v])\n",
    "d_complexities = complexities[decreasing_values_indices(b_bics)]\n",
    "d_bics = b_bics[decreasing_values_indices(b_bics)]\n",
    "thres = np.percentile(np.abs(np.diff(d_bics)/(np.diff(d_complexities)*d_bics[:-1])), per)\n",
    "# thres = 0.02\n",
    "print(thres)\n",
    "\n",
    "lower_bounds = []\n",
    "for k, efi in enumerate(best_subsets_v):\n",
    "    com = len(efi)\n",
    "    assert com == np.count_nonzero(post_means[:, k:k+1])\n",
    "    # lower_bound = 2*log_like_value(predictions[:, k:k+1], v_pre)/np.log(len(v_pre))-com\n",
    "    lower_bound = 2*log_like_value(predictions[:, k:k+1], v_pre)-np.log(len(v_pre))*com\n",
    "    lower_bounds.append(lower_bound)\n",
    "\n",
    "last_lam = np.log10(max(lower_bounds/(b_uns*scale)))\n",
    "delta = last_lam/tau\n",
    "now_lam = last_lam-delta\n",
    "last_ubic = UBIC(b_bics, b_uns, len(v_pre), hyp=10**last_lam, scale=scale)\n",
    "last_bc = np.argmin(last_ubic)\n",
    "while now_lam > 0:\n",
    "    now_ubic = UBIC(b_bics, b_uns, len(v_pre), hyp=10**now_lam, scale=scale)\n",
    "    now_bc = np.argmin(now_ubic)\n",
    "    \n",
    "    diff_com = now_bc-last_bc\n",
    "    diff_bic = b_bics[now_bc]-b_bics[last_bc]\n",
    "    imp = abs(diff_bic/(b_bics[last_bc]*diff_com))\n",
    "    print(min(last_bc, now_bc), '<--->', max(last_bc, now_bc), np.nan_to_num(imp, nan=np.inf))\n",
    "\n",
    "    if (diff_com > 0 and (diff_bic > 0 or imp < thres)) or \\\n",
    "        (diff_com < 0 and diff_bic > 0 and imp > thres):\n",
    "        break\n",
    "    \n",
    "    last_lam = now_lam\n",
    "    now_lam = last_lam-delta\n",
    "    last_ubic = now_ubic\n",
    "    last_bc = now_bc\n",
    "    \n",
    "best_bc = last_bc\n",
    "if abs((b_bics[last_bc]-b_bics[last_bc-1])/b_bics[last_bc-1]) < thres:\n",
    "    best_bc = best_bc - 1\n",
    "\n",
    "last_lam = round(last_lam, 10)\n",
    "last_lam_d_v = last_lam\n",
    "last_ubic_d_v = last_ubic\n",
    "last_bc_d_v = last_bc\n",
    "uns_v = b_uns\n",
    "last_lam, last_ubic, last_bc"
   ]
  },
  {
   "cell_type": "code",
   "execution_count": 11,
   "metadata": {},
   "outputs": [
    {
     "data": {
      "image/png": "[encoded data removed]",
      "text/plain": [
       "<Figure size 350x262.5 with 1 Axes>"
      ]
     },
     "metadata": {},
     "output_type": "display_data"
    }
   ],
   "source": [
    "assert list(map(len, best_subsets_u)) == list(map(len, best_subsets_v))\n",
    "complexities = list(map(len, best_subsets_u))\n",
    "with plt.style.context(['science', 'grid']):\n",
    "    fig, ax = plt.subplots()\n",
    "    ax.plot(complexities, last_ubic_d_u, 'o-', c='blue', markerfacecolor='none', label=\"$u_t,\\, \\lambda_{\\\\textrm{U}}=$ \"+str(round(last_lam_d_u, 2)))\n",
    "    ax.plot(complexities, last_ubic_d_v, 's--', c='green', markerfacecolor='none', label=\"$v_t,\\, \\lambda_{\\\\textrm{U}}=$ \"+str(round(last_lam_d_v, 2)))\n",
    "    ax.set_xticks(complexities)\n",
    "    ax.set_ylabel(\"$\\\\textrm{UBIC}_{\\\\Gamma}(\\\\xi^{k}, 10^{\\\\lambda})$\", fontsize=12)\n",
    "    ax.set_xlabel(\"Support sizes ($s_{k}$)\", fontsize=12)\n",
    "\n",
    "    plt.annotate('min$\\checkmark$', fontsize=16, c='blue', \n",
    "             xy=(complexities[last_bc_d_u], last_ubic_d_u[last_bc_d_u]), \n",
    "             xytext=(complexities[last_bc_d_u], last_ubic_d_u[last_bc_d_u]+3000), \n",
    "             arrowprops={'arrowstyle': '->', 'linestyle':'-', 'color':'blue'})\n",
    "    \n",
    "    plt.annotate('min$\\checkmark$', fontsize=16, c='green', \n",
    "             xy=(complexities[last_bc_d_v], last_ubic_d_v[last_bc_d_v]), \n",
    "             xytext=(complexities[last_bc_d_v]-3, last_ubic_d_v[last_bc_d_v]+3000), \n",
    "             arrowprops={'arrowstyle': '->', 'linestyle':'--', 'color':'green'})\n",
    "    plt.legend()\n",
    "    plt.show()"
   ]
  },
  {
   "cell_type": "markdown",
   "metadata": {},
   "source": [
    "#### Percent coefficient error"
   ]
  },
  {
   "cell_type": "code",
   "execution_count": 12,
   "metadata": {},
   "outputs": [
    {
     "name": "stdout",
     "output_type": "stream",
     "text": [
      "1.877354892081876 1.3994424128852236\n",
      "2.082728065092851 1.6871539859287605\n"
     ]
    }
   ],
   "source": [
    "assert np.alltrue(best_subsets_v[last_bc_d_v] == ground_indices_v) and np.alltrue(best_subsets_u[last_bc_d_u] == ground_indices_u)\n",
    "errs_u = measure_pce(np.linalg.lstsq(X_pre[:, ground_indices_u], u_pre, rcond=None)[0].flatten(), \n",
    "                     ground_coeff_u)\n",
    "errs_v = measure_pce(np.linalg.lstsq(X_pre[:, ground_indices_v], v_pre, rcond=None)[0].flatten(), \n",
    "                     ground_coeff_v)\n",
    "print(errs_u.mean(), errs_u.std())\n",
    "print(errs_v.mean(), errs_v.std())"
   ]
  },
  {
   "cell_type": "code",
   "execution_count": null,
   "metadata": {},
   "outputs": [],
   "source": []
  },
  {
   "cell_type": "code",
   "execution_count": null,
   "metadata": {},
   "outputs": [],
   "source": []
  }
 ],
 "metadata": {
  "anaconda-cloud": {},
  "kernelspec": {
   "display_name": "Python [conda env:sindy]",
   "language": "python",
   "name": "conda-env-sindy-py"
  },
  "language_info": {
   "codemirror_mode": {
    "name": "ipython",
    "version": 3
   },
   "file_extension": ".py",
   "mimetype": "text/x-python",
   "name": "python",
   "nbconvert_exporter": "python",
   "pygments_lexer": "ipython3",
   "version": "3.10.13"
  },
  "widgets": {
   "application/vnd.jupyter.widget-state+json": {
    "state": {},
    "version_major": 2,
    "version_minor": 0
   }
  }
 },
 "nbformat": 4,
 "nbformat_minor": 4
}
