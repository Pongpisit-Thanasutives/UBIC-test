{
 "cells": [
  {
   "cell_type": "code",
   "execution_count": 1,
   "id": "c66886e2",
   "metadata": {},
   "outputs": [
    {
     "name": "stdout",
     "output_type": "stream",
     "text": [
      "Sklearn's version: 1.6.1\n"
     ]
    }
   ],
   "source": [
    "# import torch\n",
    "# from torch import nn\n",
    "import os\n",
    "import yaml\n",
    "\n",
    "%matplotlib inline\n",
    "import matplotlib.pyplot as plt\n",
    "from IPython.display import display as pretty\n",
    "\n",
    "from collections import Counter\n",
    "from functools import cmp_to_key\n",
    "from typing import List\n",
    "from decimal import Decimal\n",
    "import heapq\n",
    "from tqdm import trange\n",
    "\n",
    "import sympy\n",
    "import numpy as np\n",
    "import scipy.io as sio\n",
    "import pysindy as ps\n",
    "from derivative import dxdt\n",
    "import sys; sys.path.insert(0, \"../\")\n",
    "from best_subset import ps_features, brute_force, L0BNB, brute_force_all_subsets\n",
    "from sklearn.model_selection import train_test_split\n",
    "from sklearn.preprocessing import normalize\n",
    "from okridge.solvel0 import *\n",
    "from UBIC import *\n",
    "\n",
    "from scipy.signal import savgol_filter\n",
    "from sgolay2 import SGolayFilter2\n",
    "\n",
    "from weakident_utils.data import load_data, add_noise\n",
    "from weakident import (weak_ident, weak_ident_pred, \n",
    "                   build_feature_vector_tags, build_feature_matrix_and_scale_matrix)"
   ]
  },
  {
   "cell_type": "code",
   "execution_count": 2,
   "id": "30d3a2fd",
   "metadata": {},
   "outputs": [
    {
     "name": "stdout",
     "output_type": "stream",
     "text": [
      "Domain shape: (512, 201)\n"
     ]
    }
   ],
   "source": [
    "# data = sio.loadmat('../Datasets/KdV_sine_rep_big.mat')\n",
    "# u = data.get(\"usol\"); u_clean = u.copy()\n",
    "# x = np.squeeze(data.get(\"x\"))\n",
    "# t = np.squeeze(data.get(\"t\"))\n",
    "# xt = np.array([x.reshape(-1, 1), t.reshape(1, -1)], dtype=object)\n",
    "\n",
    "data = sio.loadmat('../Datasets/KdV_rudy.mat')\n",
    "u = (data['usol']).real; u_clean = u.copy()\n",
    "x = np.squeeze(data['x'])\n",
    "t = np.squeeze(data['t'])\n",
    "xt = np.array([x.reshape(-1, 1), t.reshape(1, -1)], dtype=object)\n",
    "\n",
    "print(\"Domain shape:\", u.shape)"
   ]
  },
  {
   "cell_type": "code",
   "execution_count": 3,
   "id": "aa6f4be5",
   "metadata": {},
   "outputs": [],
   "source": [
    "dt = t[1]-t[0]\n",
    "dx = x[1]-x[0]\n",
    "X, T = np.meshgrid(x, t)\n",
    "XT = np.asarray([X, T]).T"
   ]
  },
  {
   "cell_type": "code",
   "execution_count": 4,
   "id": "e546eca9",
   "metadata": {},
   "outputs": [
    {
     "name": "stdout",
     "output_type": "stream",
     "text": [
      "Noise level: 0.0\n"
     ]
    }
   ],
   "source": [
    "np.random.seed(0)\n",
    "noise_lv = float(0)\n",
    "print(\"Noise level:\", noise_lv)\n",
    "noise = 0.01*np.abs(noise_lv)*(u.std())*np.random.randn(u.shape[0],u.shape[1])\n",
    "u = u + noise"
   ]
  },
  {
   "cell_type": "code",
   "execution_count": 5,
   "id": "12567034",
   "metadata": {},
   "outputs": [],
   "source": [
    "denoise = True\n",
    "if denoise:\n",
    "    u = SGolayFilter2(window_size=19, poly_order=3)(u)\n",
    "    # print(((u-u_clean)**2).mean())\n",
    "\n",
    "use_nn_base_features = True\n",
    "if use_nn_base_features:\n",
    "    nn_path = f\"./nn_files/nn_base_features{int(noise_lv)}.npy\"\n",
    "    if os.path.exists(nn_path):\n",
    "        nn_base_features = np.load(f\"./nn_files/nn_base_features{int(noise_lv)}.npy\")\n",
    "        nn_base_features = nn_base_features[:, 1:].T\n",
    "        nn_base_features = nn_base_features.reshape(len(nn_base_features), \n",
    "                                              len(x), len(t))\n",
    "        u = nn_base_features[0]\n",
    "        # print(((u-u_clean)**2).mean())\n",
    "        del nn_base_features\n",
    "    else:\n",
    "        print(\"NN NOT FOUND.\")"
   ]
  },
  {
   "cell_type": "code",
   "execution_count": 6,
   "id": "b8d79782",
   "metadata": {},
   "outputs": [
    {
     "name": "stdout",
     "output_type": "stream",
     "text": [
      "{'libraray_arg': {'max_poly': 6, 'max_dt': 1, 'max_dx': 6, 'use_cross_der': False}, 'Noise': {'sigma_SNR': 0.2}, 'Subsampling': {'stride_x': 4, 'stride_t': 12}, 'Dataset_name': {'equation': 'Korteweg-de Vires (KdV) Equation (1 variables, 1D)', 'filename': 'KdV.npy'}, 'Other_paramters': {'Tau': 0.05}}\n",
      "Start building feature matrix W:\n",
      "[======================] 100.0% \n",
      "Start building scale matrix S:\n",
      "[======================] 100.0% \n",
      "The number of rows in the highly dynamic region is  396\n",
      "\n",
      " Start finding support: \n",
      "[=========] 100.0% \n",
      "WeakIdent finished support trimming and narrow-fit for variable no.1 . A support is found this variable.\n"
     ]
    },
    {
     "data": {
      "text/plain": [
       "array([[ 0.        ],\n",
       "       [ 0.        ],\n",
       "       [ 0.        ],\n",
       "       [ 0.        ],\n",
       "       [-1.08854567],\n",
       "       [ 0.        ],\n",
       "       [ 0.        ],\n",
       "       [ 0.        ],\n",
       "       [ 0.        ],\n",
       "       [-3.10853212],\n",
       "       [ 0.        ],\n",
       "       [ 0.        ],\n",
       "       [ 0.        ],\n",
       "       [ 0.        ],\n",
       "       [ 0.        ],\n",
       "       [ 0.        ],\n",
       "       [ 0.        ],\n",
       "       [ 0.        ],\n",
       "       [ 0.        ],\n",
       "       [ 0.        ],\n",
       "       [ 0.        ],\n",
       "       [ 0.        ]])"
      ]
     },
     "execution_count": 6,
     "metadata": {},
     "output_type": "execute_result"
    }
   ],
   "source": [
    "with open('./weakident_configs/config_5.yaml') as f:\n",
    "    print(yaml.safe_load(f))\n",
    "\n",
    "X_pre, y_pre, weak_ident_coeff, lhs, rhs = weak_ident(u, xt, np.array([]), \n",
    "                                                      max_dx=6, skip_x=4, skip_t=12, \n",
    "                                                      max_poly=3, tau=0.05)\n",
    "weak_ident_coeff"
   ]
  },
  {
   "cell_type": "code",
   "execution_count": 7,
   "id": "2dc09236",
   "metadata": {},
   "outputs": [
    {
     "data": {
      "text/plain": [
       "['1',\n",
       " 'x0',\n",
       " 'x0^2',\n",
       " 'x0^3',\n",
       " 'x0_1',\n",
       " 'x0_11',\n",
       " 'x0_111',\n",
       " 'x0_1111',\n",
       " 'x0x0_1',\n",
       " 'x0^2x0_1',\n",
       " 'x0^3x0_1',\n",
       " 'x0x0_11',\n",
       " 'x0^2x0_11',\n",
       " 'x0^3x0_11',\n",
       " 'x0x0_111',\n",
       " 'x0^2x0_111',\n",
       " 'x0^3x0_111',\n",
       " 'x0x0_1111',\n",
       " 'x0^2x0_1111',\n",
       " 'x0^3x0_1111']"
      ]
     },
     "execution_count": 7,
     "metadata": {},
     "output_type": "execute_result"
    }
   ],
   "source": [
    "function_library = ps.PolynomialLibrary(degree=3, include_bias=False)\n",
    "weak_lib = ps.WeakPDELibrary(\n",
    "    function_library=function_library,\n",
    "    derivative_order=4,\n",
    "    spatiotemporal_grid=XT,\n",
    "    include_bias=True, # change here\n",
    "    diff_kwargs={\"is_uniform\":True},\n",
    "    K=10000\n",
    ")\n",
    "\n",
    "# model = ps.SINDy(feature_library=weak_lib, \n",
    "#                  optimizer=L0BNB(max_nonzeros=2, lam=1e-4, is_normal=True, normalize_columns=False, threshold=1e-4), \n",
    "#                  feature_names=['u'])\n",
    "\n",
    "# model.fit(np.expand_dims(u, -1), t=dt)\n",
    "# model.print()\n",
    "\n",
    "# y_pre = model.feature_library.convert_u_dot_integral(np.expand_dims(u, -1))\n",
    "# X_pre = model.optimizer.Theta_\n",
    "\n",
    "X_pre = np.array(weak_lib.fit_transform(np.expand_dims(u, -1)))\n",
    "y_pre = weak_lib.convert_u_dot_integral(np.expand_dims(u, -1))\n",
    "\n",
    "weak_lib.get_feature_names()"
   ]
  },
  {
   "cell_type": "code",
   "execution_count": 8,
   "id": "107a5540",
   "metadata": {},
   "outputs": [
    {
     "name": "stdout",
     "output_type": "stream",
     "text": [
      "wihtout preprocessing\n"
     ]
    },
    {
     "name": "stderr",
     "output_type": "stream",
     "text": [
      " 12%|████████▎                                                         | 1/8 [00:00<00:02,  2.82it/s]\n"
     ]
    },
    {
     "name": "stdout",
     "output_type": "stream",
     "text": [
      "with l2 preprocessing\n"
     ]
    },
    {
     "name": "stderr",
     "output_type": "stream",
     "text": [
      " 12%|████████▎                                                         | 1/8 [00:00<00:02,  2.84it/s]\n"
     ]
    },
    {
     "name": "stdout",
     "output_type": "stream",
     "text": [
      "with max preprocessing\n"
     ]
    },
    {
     "name": "stderr",
     "output_type": "stream",
     "text": [
      "100%|██████████████████████████████████████████████████████████████████| 8/8 [00:04<00:00,  1.68it/s]\n"
     ]
    }
   ],
   "source": [
    "# _, best_subsets = brute_force_all_subsets(X_pre, y_pre, max_support_size=8) # compare solvel0's res to bf_solve\n",
    "\n",
    "# Collecting best subsets from different preprocessing and evaluate them on (X_pre, y_pre)\n",
    "try:\n",
    "    print(\"wihtout preprocessing\")\n",
    "    _, best_subsets = okridge_solvel0_full(normalize(X_pre, norm='l2', axis=0), \n",
    "                                           y_pre, k=8)\n",
    "except AttributeError:\n",
    "    # with preprocessing\n",
    "    try: \n",
    "        print(\"with l2 preprocessing\")\n",
    "        _, best_subsets = okridge_solvel0_full(normalize(X_pre, norm='l2', axis=0), \n",
    "                                               y_pre, k=8)\n",
    "    except AttributeError:\n",
    "        print(\"with max preprocessing\")\n",
    "        _, best_subsets = okridge_solvel0_full(normalize(X_pre, norm='max', axis=0), \n",
    "                                               y_pre, k=8)"
   ]
  },
  {
   "cell_type": "code",
   "execution_count": 9,
   "id": "a11335dc",
   "metadata": {},
   "outputs": [
    {
     "name": "stdout",
     "output_type": "stream",
     "text": [
      "threshold: 0.09338885997949559\n",
      "1 <---> 1 inf\n",
      "1 <---> 5 0.06191950745179308\n"
     ]
    },
    {
     "name": "stderr",
     "output_type": "stream",
     "text": [
      "/var/folders/z3/_stfms3523dd5mnfr3ch5n100000gp/T/ipykernel_1587/3880633122.py:43: RuntimeWarning: invalid value encountered in scalar divide\n",
      "  imp = abs(diff_bic/(b_bics[last_bc]*diff_com))\n"
     ]
    },
    {
     "data": {
      "text/plain": [
       "(2.6814697325160815,\n",
       " array([-35176.30515245, -92511.63505076, -87099.67199252, -73890.86548608,\n",
       "        -52414.59356372, -42587.46636101,  78574.83484996, 103093.6611392 ]),\n",
       " 1,\n",
       " 1)"
      ]
     },
     "execution_count": 9,
     "metadata": {},
     "output_type": "execute_result"
    }
   ],
   "source": [
    "tau = 3 # we fix its value as a constant\n",
    "scale = np.log(len(y_pre))\n",
    "# scale = 1\n",
    "per = 75\n",
    "\n",
    "post_means, b_bics, b_uns = baye_uncertainties(best_subsets, (X_pre, y_pre), u_type='cv1', take_sqrt=True)\n",
    "predictions = X_pre@post_means\n",
    "\n",
    "b_bics = np.array(b_bics)\n",
    "max_complexity = len(b_bics)\n",
    "complexities = np.arange(max_complexity)+1\n",
    "d_complexities = complexities[decreasing_values_indices(b_bics)]\n",
    "d_bics = b_bics[decreasing_values_indices(b_bics)]\n",
    "slopes = np.diff(b_bics)/(np.diff(complexities)*b_bics[:-1])\n",
    "try:\n",
    "    thres = np.percentile(np.abs(np.diff(d_bics)/(np.diff(d_complexities)*d_bics[:-1])), per)\n",
    "except IndexError:\n",
    "    thres = 0.02\n",
    "min_thres = 0.02\n",
    "thres = max(thres, min_thres)\n",
    "print(\"threshold:\", thres)\n",
    "\n",
    "lower_bounds = []\n",
    "for k, efi in enumerate(best_subsets):\n",
    "    assert len(efi) == np.count_nonzero(post_means[:, k:k+1])\n",
    "    com = len(efi)\n",
    "    # lower_bound = 2*log_like_value(predictions[:, k:k+1], y_pre)/np.log(len(y_pre))-com\n",
    "    lower_bound = 2*np.abs(log_like_value(predictions[:, k:k+1], y_pre))-np.log(len(y_pre))*com\n",
    "    lower_bounds.append(lower_bound)\n",
    "\n",
    "last_lam = np.log10(max(lower_bounds/(b_uns*scale)))\n",
    "delta = last_lam/tau\n",
    "now_lam = last_lam-delta\n",
    "last_ubic = UBIC(b_bics, b_uns, len(y_pre), hyp=10**last_lam, scale=scale)\n",
    "last_bc = np.argmin(last_ubic)\n",
    "bc_seq = [last_bc]\n",
    "while now_lam >= 0:\n",
    "    now_ubic = UBIC(b_bics, b_uns, len(y_pre), hyp=10**now_lam, scale=scale)\n",
    "    now_bc = np.argmin(now_ubic)\n",
    "    \n",
    "    diff_com = now_bc-last_bc\n",
    "    diff_bic = b_bics[now_bc]-b_bics[last_bc]\n",
    "    imp = abs(diff_bic/(b_bics[last_bc]*diff_com))\n",
    "    \n",
    "    print(min(last_bc, now_bc), '<--->', max(last_bc, now_bc), np.nan_to_num(imp, nan=np.inf))\n",
    "    \n",
    "    if (diff_com > 0 and (diff_bic > 0 or imp < thres)) or \\\n",
    "        (diff_com < 0 and diff_bic > 0 and imp > thres):\n",
    "        break\n",
    "    \n",
    "    last_lam = now_lam\n",
    "    now_lam = round(last_lam-delta, 8)\n",
    "    last_ubic = now_ubic\n",
    "    last_bc = now_bc\n",
    "    bc_seq.append(last_bc)\n",
    "\n",
    "best_bc = last_bc\n",
    "alt_bc = bc_seq[-2] if len(bc_seq) > 1 else last_bc-1\n",
    "cond = abs((b_bics[last_bc]-b_bics[last_bc-1])/b_bics[last_bc-1]) or \\\n",
    "        abs((b_bics[last_bc]-b_bics[alt_bc])/(b_bics[alt_bc]*(last_bc-alt_bc)))\n",
    "if cond < thres: \n",
    "    best_bc = alt_bc\n",
    "    \n",
    "last_lam, last_ubic, last_bc, best_bc"
   ]
  },
  {
   "cell_type": "code",
   "execution_count": 10,
   "id": "808257a0",
   "metadata": {},
   "outputs": [
    {
     "data": {
      "image/png": "[encoded data removed]",
      "text/plain": [
       "<Figure size 350x262.5 with 2 Axes>"
      ]
     },
     "metadata": {},
     "output_type": "display_data"
    }
   ],
   "source": [
    "complexity_axis = [len(bs) for bs in best_subsets]\n",
    "with plt.style.context(['science']):\n",
    "    fig, ax = plt.subplots()\n",
    "    ax2 = ax.twinx()\n",
    "    ax.set_zorder(ax2.get_zorder()+1)\n",
    "    ax.patch.set_visible(False)\n",
    "    \n",
    "    l1, = ax.plot(complexity_axis, last_ubic, 'o-', c='black', markerfacecolor='none', label=f\"$\\lambda = {abs(last_lam)}$\")\n",
    "    ax.set_xticks(complexity_axis)\n",
    "    ax.set_ylabel(\"$\\\\textrm{UBIC}(\\\\xi^{k}, 10^{\\\\lambda})$\", fontsize=12)\n",
    "    ax.set_xlabel(\"Support sizes ($s_{k}$)\", fontsize=12)\n",
    "#     ax.annotate('$(u_{xxx}, uu_{x})\\checkmark$', fontsize=15, \n",
    "#                  xy=(complexity_axis[best_bc], last_ubic[best_bc]), \n",
    "#                  xytext=(complexity_axis[best_bc]-0.25, last_ubic[best_bc]+15000), \n",
    "#                  va = \"top\", ha=\"left\" )\n",
    "#     ax.annotate('', fontsize=16, \n",
    "#                  xy=(complexity_axis[best_bc], last_ubic[best_bc]), \n",
    "#                  xytext=(complexity_axis[best_bc]+0.25, last_ubic[best_bc]+12500), \n",
    "#                  arrowprops={'arrowstyle': '->'}, va = \"top\", ha=\"left\" )\n",
    "    \n",
    "    l2, = ax2.plot(complexity_axis, b_uns, 'o--', c='blue', markerfacecolor='none', label=\"Uncertainty $\\\\textrm{U}^{k}$\")\n",
    "    s1 = ax2.scatter(complexity_axis[np.argmin(b_uns)], b_uns[np.argmin(b_uns)], c='blue')\n",
    "    ax2.tick_params(axis='y', labelcolor='blue')\n",
    "\n",
    "    ax.legend([l1, l2, s1], [f\"UBIC with $\\lambda = {abs(round(last_lam,2))}$\", \"Uncertainty $\\\\textrm{U}^{k}$\", \"Min $\\\\textrm{U}^{k}$\"], \n",
    "              labelcolor='linecolor', loc='upper center', fontsize=12, bbox_to_anchor=(-0.025,0,1,1))\n",
    "    \n",
    "    plt.show()"
   ]
  },
  {
   "cell_type": "markdown",
   "id": "8f9ed572",
   "metadata": {},
   "source": [
    "## GA"
   ]
  },
  {
   "cell_type": "code",
   "execution_count": 11,
   "id": "d2c8ac14",
   "metadata": {},
   "outputs": [],
   "source": [
    "np.random.seed(0)"
   ]
  },
  {
   "cell_type": "code",
   "execution_count": 12,
   "id": "9211998a",
   "metadata": {},
   "outputs": [],
   "source": [
    "### GA (Loop of crossover -> mutation -> evaluate_genome) ###\n",
    "@cmp_to_key\n",
    "def compare_module(module1, module2):\n",
    "    if module1 == module2:\n",
    "        return 0\n",
    "    lg1 = len(module1); lg2 = len(module2)\n",
    "    if lg1 != lg2:\n",
    "        return lg1 - lg2\n",
    "    if module1 < module2: \n",
    "        return -1\n",
    "    else:\n",
    "        return 1\n",
    "    \n",
    "def generate_module(n_poly, n_derivatives):\n",
    "    pde_module = (np.random.randint(0, n_poly+1), np.random.randint(0, n_derivatives+1))\n",
    "    return pde_module\n",
    "\n",
    "def generate_genome(n_modules, n_poly, n_derivatives):\n",
    "    genome = fset(generate_module(n_poly, n_derivatives) for _ in range(n_modules))\n",
    "    return genome\n",
    "\n",
    "def generate_chromosome(n_modules, n_poly, n_derivatives, pop_size):\n",
    "    chromosome = set()\n",
    "    count = 0\n",
    "    while count < pop_size:\n",
    "        genome = generate_genome(n_modules, n_poly, n_derivatives)\n",
    "        if genome not in chromosome:\n",
    "            chromosome.add(genome)\n",
    "            count += 1\n",
    "    return chromosome\n",
    "\n",
    "def derivative_to_string(n):\n",
    "    if n > 0: \n",
    "        nx = 'x'*n\n",
    "        return f'u_{nx}'\n",
    "    return '1'\n",
    "\n",
    "def polynomial_to_string(n):\n",
    "    if n > 0: \n",
    "        return f'u^{n}'\n",
    "    return '1'\n",
    "\n",
    "def display_module(pde_module):\n",
    "    return sympy.sympify(polynomial_to_string(pde_module[0]) + '*' + derivative_to_string(pde_module[1]))\n",
    "\n",
    "# coefficients for sorted(encoded_pde)\n",
    "def display_pde(encoded_pde, coefficients=None):\n",
    "    if coefficients is None:\n",
    "        coefficients = [1 for _ in range(len(encoded_pde))]\n",
    "    out = []\n",
    "    for module, c in zip(encoded_pde, coefficients):\n",
    "        out.append(c*display_module(module))\n",
    "    return sum(out)\n",
    "\n",
    "# not efficient: O(len(genome))\n",
    "def crossover(genome1: List, genome2: List, fs=True):\n",
    "    if genome1 != genome2:\n",
    "        while True: \n",
    "            idx1 = np.random.randint(len(genome1))\n",
    "            idx2 = np.random.randint(len(genome2))\n",
    "            if genome1[idx1] != genome2[idx2]:\n",
    "                break\n",
    "        genome1[idx1], genome2[idx2] = genome2[idx2], genome1[idx1]\n",
    "    if fs: \n",
    "        genome1, genome2 = fset(genome1), fset(genome2)\n",
    "    return genome1, genome2\n",
    "\n",
    "# in-place func\n",
    "def mutation(genome: List, n_poly: int, n_derivatives: int, mutate_rate=(0.4, 0.5, 0.4), fs=True):\n",
    "    add_rate, delete_rate, order_rate = mutate_rate\n",
    "    # add\n",
    "    if np.random.uniform(0, 1) < add_rate:\n",
    "        genome.append(generate_module(n_poly, n_derivatives))\n",
    "    # del\n",
    "    if np.random.uniform(0, 1) < delete_rate:\n",
    "        lg = len(genome)\n",
    "        if lg > 0:\n",
    "            idx = np.random.randint(lg)\n",
    "            genome.pop(idx)\n",
    "    # order\n",
    "    if np.random.uniform(0, 1) < order_rate:\n",
    "        lg = len(genome)\n",
    "        if lg > 0: \n",
    "            i = np.random.randint(lg)\n",
    "            lg = len(genome[i])\n",
    "            if lg > 0:\n",
    "                genome[i] = list(genome[i])\n",
    "                j = np.random.randint(len(genome[i]))\n",
    "                if genome[i][j] == 0:\n",
    "                    if j == 0:\n",
    "                        genome[i][j] = np.random.randint(0, n_poly+1)\n",
    "                    else:\n",
    "                        genome[i][j] = np.random.randint(0, n_derivatives+1)\n",
    "                else:\n",
    "                    genome[i][j] -= 1\n",
    "                genome[i] = tuple(sorted(genome[i]))\n",
    "    if fs: \n",
    "        genome = fset(genome)\n",
    "    return genome\n",
    "\n",
    "def numericalize_module(module, base_features):\n",
    "    return base_features[module]\n",
    "\n",
    "def numericalize_genome(genome, base_features):\n",
    "    return np.stack([numericalize_module(module, base_features) \n",
    "                     for module in genome], axis=-1)\n",
    "\n",
    "def compute_genome_coefficient(genome, base_features, target):\n",
    "    features = numericalize_genome(genome, base_features)\n",
    "    # assert target.shape == features[:, :, 0].shape\n",
    "    n_features = features.shape[-1]\n",
    "    target = target.reshape(-1, 1)\n",
    "    features = features.reshape(-1, n_features)\n",
    "    coeff, error, _, _ = np.linalg.lstsq(features, target, rcond=None)\n",
    "    return coeff, error[0]\n",
    "\n",
    "# Computing coefficients + fitness\n",
    "def evaluate_genome(genome, base_features, target, epsilon=0):\n",
    "    coeff, mse = compute_genome_coefficient(genome, base_features, target)\n",
    "    mse = mse / np.prod(target.shape)\n",
    "    # fitness = mse + abs(epsilon)*sum(sum(g) for g in genome)\n",
    "    fitness = mse + abs(epsilon)*len(genome)\n",
    "    return fitness, coeff\n",
    "\n",
    "### Miscellaneous for GA ###\n",
    "def sci_format(n):\n",
    "    sf = '%.2E' % Decimal(n)\n",
    "    sf = sf.split('E')\n",
    "    return float(sf[0]), int(sf[1])\n",
    "\n",
    "def fset(ls): return frozenset(ls)"
   ]
  },
  {
   "cell_type": "code",
   "execution_count": 13,
   "id": "9c54d685",
   "metadata": {},
   "outputs": [],
   "source": [
    "from derivative import dxdt\n",
    "\n",
    "if noise_lv > 0:\n",
    "    diff = lambda x, y: dxdt(x, y, axis=0, \n",
    "                             kind=\"kalman\", alpha=1e-1)\n",
    "else:\n",
    "    diff = lambda x, y: dxdt(x, y, axis=0, \n",
    "                             kind=\"finite_difference\", k=1)"
   ]
  },
  {
   "cell_type": "code",
   "execution_count": 14,
   "id": "f5f3790d",
   "metadata": {},
   "outputs": [],
   "source": [
    "n_poly = 3\n",
    "n_derivatives = weak_lib.derivative_order\n",
    "n_modules = 3\n",
    "pop_size = 400\n",
    "epsilons = [10**(i-6) for i in range(1, 6)] # 1e-5 to 1e-1\n",
    "differentiation_method = ps.FiniteDifference(is_uniform=True) # good for noiseless\n",
    "# differentiation_method = ps.SINDyDerivative(kind=\"kalman\", alpha=1e-1, save_smooth=True)"
   ]
  },
  {
   "cell_type": "code",
   "execution_count": 15,
   "id": "c7807c9c",
   "metadata": {
    "scrolled": true
   },
   "outputs": [],
   "source": [
    "base_poly = np.array([[p, 0] for p in range(1, n_poly+1)])\n",
    "base_derivative = np.array([[0, d] for d in range(1, n_derivatives+1)])\n",
    "modules = [(0, 0)] if weak_lib.include_bias else []\n",
    "modules += [(p, 0) for p in range(1, n_poly+1)] + \\\n",
    "            [(0, d) for d in range(1, n_derivatives+1)] + \\\n",
    "            [tuple(p+d) for d in base_derivative for p in base_poly]\n",
    "assert len(modules) == len(weak_lib.get_feature_names())\n",
    "base_features = dict(zip(modules, X_pre.T))\n",
    "u_t = y_pre.copy()"
   ]
  },
  {
   "cell_type": "code",
   "execution_count": 16,
   "id": "27ac2707",
   "metadata": {},
   "outputs": [
    {
     "name": "stdout",
     "output_type": "stream",
     "text": [
      "frozenset({(3, 1), (3, 3), (0, 0)})\n",
      "(0.00025637223586297796, array([[-2.63978310e+02],\n",
      "       [-2.10781819e+02],\n",
      "       [ 1.22083896e-05]]))\n"
     ]
    },
    {
     "data": {
      "text/latex": [
       "$\\displaystyle 3 u^{3} u_{x} + 4 u^{3} u_{xxx} + 5$"
      ],
      "text/plain": [
       "3*u**3*u_x + 4*u**3*u_xxx + 5"
      ]
     },
     "execution_count": 16,
     "metadata": {},
     "output_type": "execute_result"
    }
   ],
   "source": [
    "genome = generate_genome(n_modules, n_poly, n_derivatives); print(genome)\n",
    "print(evaluate_genome(genome, base_features, u_t))\n",
    "display_pde(genome, [3,4,5])"
   ]
  },
  {
   "cell_type": "code",
   "execution_count": 17,
   "id": "42ae579f",
   "metadata": {},
   "outputs": [
    {
     "data": {
      "text/latex": [
       "$\\displaystyle u u_{x} + u_{xxx}$"
      ],
      "text/plain": [
       "u*u_x + u_xxx"
      ]
     },
     "execution_count": 17,
     "metadata": {},
     "output_type": "execute_result"
    }
   ],
   "source": [
    "display_pde(fset({(1,1), (0, 3)}))"
   ]
  },
  {
   "cell_type": "code",
   "execution_count": 18,
   "id": "4fa6d79f",
   "metadata": {},
   "outputs": [
    {
     "data": {
      "text/plain": [
       "(3.6049176172976947e-06,\n",
       " array([[-6.17794126],\n",
       "        [-1.06500937]]))"
      ]
     },
     "execution_count": 18,
     "metadata": {},
     "output_type": "execute_result"
    }
   ],
   "source": [
    "evaluate_genome(fset({(1,1), (0, 3)}), base_features, u_t)"
   ]
  },
  {
   "cell_type": "markdown",
   "id": "9eb68697",
   "metadata": {},
   "source": [
    "## GA (Implemented by Pongpisit Thanasutives) ##"
   ]
  },
  {
   "cell_type": "code",
   "execution_count": 19,
   "id": "44bfd6e7",
   "metadata": {},
   "outputs": [
    {
     "name": "stdout",
     "output_type": "stream",
     "text": [
      "Initialization...\n",
      "epi = 0.001\n",
      "Learning PDEs...\n"
     ]
    },
    {
     "name": "stderr",
     "output_type": "stream",
     "text": [
      "100%|████████████████████████████████████████████████████████████████| 25/25 [00:07<00:00,  3.17it/s]\n"
     ]
    },
    {
     "data": {
      "text/plain": [
       "[(frozenset({(0, 1)}), 0.0012307162206470017),\n",
       " (frozenset({(1, 1)}), 0.0014071900455207833),\n",
       " (frozenset({(2, 1)}), 0.0018529399066563486),\n",
       " (frozenset({(0, 3), (1, 1)}), 0.0020036049176172977),\n",
       " (frozenset({(1, 1), (1, 3)}), 0.0021247239366784924),\n",
       " (frozenset({(1, 3), (2, 1)}), 0.002124892442016941),\n",
       " (frozenset({(0, 1), (3, 1)}), 0.0021532431532461233),\n",
       " (frozenset({(0, 1), (3, 1)}), 0.0021532431532461246),\n",
       " (frozenset({(0, 1), (2, 1)}), 0.0021542520152241056),\n",
       " (frozenset({(0, 1), (3, 3)}), 0.0021597615214864973)]"
      ]
     },
     "execution_count": 19,
     "metadata": {},
     "output_type": "execute_result"
    }
   ],
   "source": [
    "class LargestUniqueHeap:\n",
    "    def __init__(self, N, decending=True):\n",
    "        self.N = N\n",
    "        self.heap = []\n",
    "        self.unique_values = set()\n",
    "        self.decending = decending\n",
    "        \n",
    "    def add(self, value):\n",
    "        if value in self.unique_values:\n",
    "            # Ignore if the value is already in the set (duplicate)\n",
    "            return\n",
    "        \n",
    "        if len(self.heap) < self.N:\n",
    "            # If the heap has fewer than N elements, add the new value\n",
    "            heapq.heappush(self.heap, value)\n",
    "            self.unique_values.add(value)\n",
    "        elif value > self.heap[0]:\n",
    "            # If the new value is greater than the smallest in the heap\n",
    "            smallest = heapq.heappushpop(self.heap, value)\n",
    "            # Replace the smallest in the set with the new value\n",
    "            self.unique_values.remove(smallest)\n",
    "            self.unique_values.add(value)\n",
    "\n",
    "    def get_largest_values(self):\n",
    "        # Return the N largest values in ascending order\n",
    "        return sorted(self.heap, reverse=self.decending)\n",
    "\n",
    "n_generations = 25\n",
    "mutate_rate = (0.4, 0.4, 0.4)\n",
    "min_len_chrom = 5\n",
    "\n",
    "print(\"Initialization...\")\n",
    "chrom = generate_chromosome(n_modules, n_poly, n_derivatives, pop_size)\n",
    "set_chrom = chrom.copy()\n",
    "chrom = list(chrom)\n",
    "\n",
    "fitnesses = [evaluate_genome(genome, base_features, u_t, epsilon=0)[0] for genome in chrom]\n",
    "epi = 10**(sci_format(np.median(fitnesses))[1])\n",
    "print('epi =', epi)\n",
    "best_chrom_fitnesses = LargestUniqueHeap(pop_size)\n",
    "for i in range(len(fitnesses)):\n",
    "    fitnesses[i] += epi*len(chrom[i])\n",
    "    best_chrom_fitnesses.add((-fitnesses[i], chrom[i]))\n",
    "\n",
    "print(\"Learning PDEs...\")\n",
    "for g in trange(n_generations):\n",
    "    children = []\n",
    "    # crossover\n",
    "    for _ in range(2):\n",
    "        chrom_f, chrom_m = train_test_split(chrom, test_size=0.5, train_size=0.5, shuffle=True)\n",
    "        for genome_f, genome_m in zip(chrom_f, chrom_m):\n",
    "            child1, child2 = crossover(list(genome_f), list(genome_m))\n",
    "            children.append(child1)\n",
    "            children.append(child2)\n",
    "    # mutation\n",
    "    for i in range(len(children)):\n",
    "        child = list(children[i].copy())\n",
    "        child = mutation(child, n_poly, n_derivatives, mutate_rate)\n",
    "        if len(child) > 0:\n",
    "            children[i] = fset(child)\n",
    "    # fitness\n",
    "    children = set(children)\n",
    "    chrom = []\n",
    "    for child in children:\n",
    "        fitness, _ = evaluate_genome(child, base_features, u_t, epsilon=epi)\n",
    "        chrom.append((fitness, child))\n",
    "        best_chrom_fitnesses.add((-fitness, child))\n",
    "    # Creating parent for the next generation\n",
    "    chrom = sorted(chrom)\n",
    "    chrom = [genome for _, genome in chrom][:pop_size]\n",
    "    \n",
    "best_chrom_fitnesses = [(v, -k) for k, v in best_chrom_fitnesses.get_largest_values()]\n",
    "best_chrom_fitnesses[:10]"
   ]
  },
  {
   "cell_type": "code",
   "execution_count": 20,
   "id": "5a763da1",
   "metadata": {},
   "outputs": [
    {
     "data": {
      "text/latex": [
       "$\\displaystyle - 0.90793 u_{x}$"
      ],
      "text/plain": [
       "-0.90793*u_x"
      ]
     },
     "metadata": {},
     "output_type": "display_data"
    },
    {
     "data": {
      "text/latex": [
       "$\\displaystyle - 3.9015 u u_{x}$"
      ],
      "text/plain": [
       "-3.9015*u*u_x"
      ]
     },
     "metadata": {},
     "output_type": "display_data"
    },
    {
     "data": {
      "text/latex": [
       "$\\displaystyle - 12.25985 u^{2} u_{x}$"
      ],
      "text/plain": [
       "-12.25985*u**2*u_x"
      ]
     },
     "metadata": {},
     "output_type": "display_data"
    },
    {
     "data": {
      "text/latex": [
       "$\\displaystyle - 6.17794 u u_{x} - 1.06501 u_{xxx}$"
      ],
      "text/plain": [
       "-6.17794*u*u_x - 1.06501*u_xxx"
      ]
     },
     "metadata": {},
     "output_type": "display_data"
    },
    {
     "data": {
      "text/latex": [
       "$\\displaystyle - 7.37658 u u_{x} - 4.37834 u u_{xxx}$"
      ],
      "text/plain": [
       "-7.37658*u*u_x - 4.37834*u*u_xxx"
      ]
     },
     "metadata": {},
     "output_type": "display_data"
    },
    {
     "data": {
      "text/latex": [
       "$\\displaystyle - 55.35764 u^{2} u_{x} - 15.99525 u u_{xxx}$"
      ],
      "text/plain": [
       "-55.35764*u**2*u_x - 15.99525*u*u_xxx"
      ]
     },
     "metadata": {},
     "output_type": "display_data"
    },
    {
     "data": {
      "text/latex": [
       "$\\displaystyle - 8.46657 u^{3} u_{x} - 0.74049 u_{x}$"
      ],
      "text/plain": [
       "-8.46657*u**3*u_x - 0.74049*u_x"
      ]
     },
     "metadata": {},
     "output_type": "display_data"
    },
    {
     "data": {
      "text/latex": [
       "$\\displaystyle - 8.46657 u^{3} u_{x} - 0.74049 u_{x}$"
      ],
      "text/plain": [
       "-8.46657*u**3*u_x - 0.74049*u_x"
      ]
     },
     "metadata": {},
     "output_type": "display_data"
    },
    {
     "data": {
      "text/latex": [
       "$\\displaystyle - 3.35986 u^{2} u_{x} - 0.70387 u_{x}$"
      ],
      "text/plain": [
       "-3.35986*u**2*u_x - 0.70387*u_x"
      ]
     },
     "metadata": {},
     "output_type": "display_data"
    },
    {
     "data": {
      "text/latex": [
       "$\\displaystyle 6.80162 u^{3} u_{xxx} - 0.76735 u_{x}$"
      ],
      "text/plain": [
       "6.80162*u**3*u_xxx - 0.76735*u_x"
      ]
     },
     "metadata": {},
     "output_type": "display_data"
    },
    {
     "data": {
      "text/latex": [
       "$\\displaystyle - 1.39734 u u_{x} - 0.60648 u_{x}$"
      ],
      "text/plain": [
       "-1.39734*u*u_x - 0.60648*u_x"
      ]
     },
     "metadata": {},
     "output_type": "display_data"
    },
    {
     "data": {
      "text/latex": [
       "$\\displaystyle 2.61407 u^{2} u_{xxx} - 0.76158 u_{x}$"
      ],
      "text/plain": [
       "2.61407*u**2*u_xxx - 0.76158*u_x"
      ]
     },
     "metadata": {},
     "output_type": "display_data"
    },
    {
     "data": {
      "text/latex": [
       "$\\displaystyle 2.61407 u^{2} u_{xxx} - 0.76158 u_{x}$"
      ],
      "text/plain": [
       "2.61407*u**2*u_xxx - 0.76158*u_x"
      ]
     },
     "metadata": {},
     "output_type": "display_data"
    },
    {
     "data": {
      "text/latex": [
       "$\\displaystyle - 49.32747 u^{2} u_{x} - 37.66871 u^{2} u_{xxx}$"
      ],
      "text/plain": [
       "-49.32747*u**2*u_x - 37.66871*u**2*u_xxx"
      ]
     },
     "metadata": {},
     "output_type": "display_data"
    },
    {
     "data": {
      "text/latex": [
       "$\\displaystyle 0.84455 u u_{xxx} - 0.77586 u_{x}$"
      ],
      "text/plain": [
       "0.84455*u*u_xxx - 0.77586*u_x"
      ]
     },
     "metadata": {},
     "output_type": "display_data"
    },
    {
     "data": {
      "text/latex": [
       "$\\displaystyle - 34.20456 u^{3} u_{x}$"
      ],
      "text/plain": [
       "-34.20456*u**3*u_x"
      ]
     },
     "metadata": {},
     "output_type": "display_data"
    },
    {
     "data": {
      "text/latex": [
       "$\\displaystyle - 8.51443 u^{2} u_{xxx} - 6.34741 u u_{x}$"
      ],
      "text/plain": [
       "-8.51443*u**2*u_xxx - 6.34741*u*u_x"
      ]
     },
     "metadata": {},
     "output_type": "display_data"
    },
    {
     "data": {
      "text/latex": [
       "$\\displaystyle - 0.87627 u_{x} + 0.07931 u_{xxx}$"
      ],
      "text/plain": [
       "-0.87627*u_x + 0.07931*u_xxx"
      ]
     },
     "metadata": {},
     "output_type": "display_data"
    },
    {
     "data": {
      "text/latex": [
       "$\\displaystyle - 0.90792 u_{x} - 0.00313 u_{xx}$"
      ],
      "text/plain": [
       "-0.90792*u_x - 0.00313*u_xx"
      ]
     },
     "metadata": {},
     "output_type": "display_data"
    },
    {
     "data": {
      "text/latex": [
       "$\\displaystyle - 0.00737 u u_{xx} - 0.90789 u_{x}$"
      ],
      "text/plain": [
       "-0.00737*u*u_xx - 0.90789*u_x"
      ]
     },
     "metadata": {},
     "output_type": "display_data"
    }
   ],
   "source": [
    "for potential_pde, _ in best_chrom_fitnesses[:20]:\n",
    "    potential_pde = sorted(list(potential_pde), key=compare_module)\n",
    "    pde_coefficient = compute_genome_coefficient(potential_pde, base_features, u_t)[0].flatten()\n",
    "    pde_coefficient = [round(c, 5) for c in pde_coefficient]\n",
    "    pretty(display_pde(potential_pde, pde_coefficient))"
   ]
  },
  {
   "cell_type": "code",
   "execution_count": 21,
   "id": "a067e1cf",
   "metadata": {},
   "outputs": [
    {
     "name": "stdout",
     "output_type": "stream",
     "text": [
      "[235, 100, 80, 51, 70, 71, 43, 87, 31, 30, 34, 29, 30, 29, 31, 28, 25, 29, 33, 43]\n",
      "1 0.21190261496844004,2 0.30207394048692515,3 0.38052299368800724,4 0.4526600541027953,5 0.5166816952209198,6 0.5798016230838593,7 0.6257889990982868,8 0.6645626690712354,9 0.7033363390441839,10 0.7339945897204689,11 0.763751127141569,12 0.7917042380522994,13 0.8196573489630298,14 0.8467087466185753,15 0.8737601442741209,16 0.8999098286744815,17 0.9260595130748422,18 0.9522091974752029,19 0.9774571686203787,20 1.0,15\n"
     ]
    },
    {
     "data": {
      "text/plain": [
       "['1',\n",
       " 'u_{x}',\n",
       " 'u_{xx}',\n",
       " 'u_{xxx}',\n",
       " 'u_{xxxx}',\n",
       " 'u',\n",
       " 'uu_{x}',\n",
       " 'uu_{xx}',\n",
       " 'uu_{xxx}',\n",
       " 'u^{2}u_{x}',\n",
       " 'u^{2}u_{xx}',\n",
       " 'u^{2}u_{xxx}',\n",
       " 'u^{3}',\n",
       " 'u^{3}u_{x}',\n",
       " 'u^{3}u_{xxx}']"
      ]
     },
     "execution_count": 21,
     "metadata": {},
     "output_type": "execute_result"
    }
   ],
   "source": [
    "common_modules = []\n",
    "for genome, _ in best_chrom_fitnesses:\n",
    "    common_modules.extend([*genome])\n",
    "common_modules = Counter(common_modules)\n",
    "print(list(common_modules.values()))\n",
    "\n",
    "n_common = 0\n",
    "cum_v = 0; total_v = sum(common_modules.values())\n",
    "for _, v in common_modules.most_common():\n",
    "    cum_v += v; n_common += 1\n",
    "    print(n_common, cum_v/total_v, end=',')\n",
    "n_common = 15\n",
    "print(n_common)\n",
    "\n",
    "common_modules = Counter(common_modules).most_common(n_common)\n",
    "common_modules = fset(genome for genome, _ in common_modules)\n",
    "common_modules = sorted(list(common_modules), key=(compare_module))\n",
    "X_pre = numericalize_genome(common_modules, base_features).reshape(-1, n_common)\n",
    "y_pre = u_t.reshape(-1, 1)\n",
    "feature_names = [sympy.latex(display_module(module)).strip().replace(' ', '') \n",
    "                 for module in common_modules]\n",
    "feature_names"
   ]
  },
  {
   "cell_type": "code",
   "execution_count": 22,
   "id": "820a8316",
   "metadata": {},
   "outputs": [],
   "source": [
    "from skscope_tools import best_subset_solution, abess_solution, best_subset_all_solutions, abess_all_solutions"
   ]
  },
  {
   "cell_type": "code",
   "execution_count": 23,
   "id": "a8d32308",
   "metadata": {},
   "outputs": [
    {
     "data": {
      "text/plain": [
       "[[1],\n",
       " [3, 6],\n",
       " [3, 6, 8],\n",
       " [3, 6, 9, 11],\n",
       " [1, 3, 6, 9, 11],\n",
       " [1, 3, 6, 8, 9, 11],\n",
       " [1, 3, 4, 6, 8, 9, 11],\n",
       " [1, 2, 3, 4, 6, 8, 9, 11]]"
      ]
     },
     "execution_count": 23,
     "metadata": {},
     "output_type": "execute_result"
    }
   ],
   "source": [
    "coefficients, best_subsets = best_subset_all_solutions(X_pre, y_pre, 8, refine=True)\n",
    "best_subsets"
   ]
  },
  {
   "cell_type": "code",
   "execution_count": 24,
   "id": "5ce62017",
   "metadata": {},
   "outputs": [
    {
     "data": {
      "text/plain": [
       "array([[ 0.        ],\n",
       "       [ 0.        ],\n",
       "       [ 0.        ],\n",
       "       [-1.06500937],\n",
       "       [ 0.        ],\n",
       "       [ 0.        ],\n",
       "       [-6.17794126],\n",
       "       [ 0.        ],\n",
       "       [ 0.        ],\n",
       "       [ 0.        ],\n",
       "       [ 0.        ],\n",
       "       [ 0.        ],\n",
       "       [ 0.        ],\n",
       "       [ 0.        ],\n",
       "       [ 0.        ]])"
      ]
     },
     "execution_count": 24,
     "metadata": {},
     "output_type": "execute_result"
    }
   ],
   "source": [
    "brute_force(X_pre, y_pre, 2)"
   ]
  },
  {
   "cell_type": "code",
   "execution_count": 25,
   "id": "e8048efd",
   "metadata": {},
   "outputs": [],
   "source": [
    "# coefficients, best_subsets = okridge_solvel0_full(X_pre, y_pre, k=8)\n",
    "# best_subsets"
   ]
  },
  {
   "cell_type": "code",
   "execution_count": 26,
   "id": "00dc72b4",
   "metadata": {},
   "outputs": [
    {
     "name": "stdout",
     "output_type": "stream",
     "text": [
      "[-55355.23984244148, -96934.92504057437, -101089.46908297729, -114725.9718389675, -117764.65718846448, -120393.20636642595, -120467.23140046411, -120461.6944324848]\n",
      "threshold: 0.11188631406502635\n",
      "max_lam: 4.022204598774122\n",
      "1 <---> 1 inf\n",
      "1 <---> 6 0.048552792195464635\n"
     ]
    },
    {
     "data": {
      "text/plain": [
       "(2.68146973,\n",
       " array([-35176.30515245, -92511.63505076, -87099.67199252, -73215.35009181,\n",
       "        -52414.59356372, -39743.57196742, -40164.44384281, -40086.60539022]),\n",
       " 1,\n",
       " 1)"
      ]
     },
     "execution_count": 26,
     "metadata": {},
     "output_type": "execute_result"
    }
   ],
   "source": [
    "tau = 3\n",
    "verbose = True\n",
    "# scale = 1 <- generalized UBIC\n",
    "scale = np.log(len(y_pre))\n",
    "per = 75 # 80\n",
    "\n",
    "# bics = [sm.OLS(y_pre, X_pre[:, bs]).fit().bic for bs in best_subsets]\n",
    "# aics = [sm.OLS(y_pre, X_pre[:, bs]).fit().aic for bs in best_subsets]\n",
    "post_means, b_bics, b_uns = baye_uncertainties(best_subsets, (X_pre, y_pre), u_type='cv1', take_sqrt=True)\n",
    "predictions = X_pre@post_means\n",
    "print(b_bics)\n",
    "b_bics = np.array(b_bics)\n",
    "max_complexity = len(b_bics)\n",
    "complexities = np.arange(max_complexity)+1\n",
    "d_complexities = complexities[decreasing_values_indices(b_bics)]\n",
    "d_bics = b_bics[decreasing_values_indices(b_bics)]\n",
    "slopes = np.diff(b_bics)/(np.diff(complexities)*b_bics[:-1])\n",
    "try:\n",
    "    thres = np.percentile(np.abs(np.diff(d_bics)/(np.diff(d_complexities)*d_bics[:-1])), per)\n",
    "except IndexError:\n",
    "    thres = 0.02\n",
    "min_thres = 0.02\n",
    "thres = max(thres, min_thres)\n",
    "print(\"threshold:\", thres)\n",
    "\n",
    "lower_bounds = []\n",
    "for k, efi in enumerate(best_subsets):\n",
    "    assert len(efi) == np.count_nonzero(post_means[:, k:k+1])\n",
    "    com = len(efi)\n",
    "    lower_bound = 2*np.abs(log_like_value(predictions[:, k:k+1], y_pre))-np.log(len(y_pre))*com\n",
    "    lower_bounds.append(lower_bound)\n",
    "\n",
    "last_lam = np.log10(max(lower_bounds/(b_uns*scale)))\n",
    "print(\"max_lam:\", last_lam)\n",
    "delta = last_lam/tau\n",
    "now_lam = last_lam-delta\n",
    "last_ubic = UBIC(b_bics, b_uns, len(y_pre), hyp=10**last_lam, scale=scale)\n",
    "last_bc = np.argmin(last_ubic)\n",
    "bc_seq = [last_bc]\n",
    "while now_lam >= 0:\n",
    "    now_ubic = UBIC(b_bics, b_uns, len(y_pre), hyp=10**now_lam, scale=scale)\n",
    "    now_bc = np.argmin(now_ubic)\n",
    "    \n",
    "    diff_com = now_bc-last_bc\n",
    "    diff_bic = b_bics[now_bc]-b_bics[last_bc]\n",
    "    imp = np.nan\n",
    "    if diff_com != 0:\n",
    "        imp = abs(diff_bic/(b_bics[last_bc]*diff_com))\n",
    "    \n",
    "    if verbose:\n",
    "        print(min(last_bc, now_bc), '<--->', max(last_bc, now_bc), \n",
    "              np.nan_to_num(imp, nan=np.inf))\n",
    "    \n",
    "    if (diff_com > 0 and (diff_bic > 0 or imp < thres)) or \\\n",
    "        (diff_com < 0 and diff_bic > 0 and imp > thres):\n",
    "        break\n",
    "    \n",
    "    last_lam = now_lam\n",
    "    now_lam = round(last_lam-delta, 8)\n",
    "    last_ubic = now_ubic\n",
    "    last_bc = now_bc\n",
    "    bc_seq.append(last_bc)\n",
    "\n",
    "best_bc = last_bc\n",
    "alt_bc = bc_seq[-2] if len(bc_seq) > 1 else last_bc-1\n",
    "cond = abs((b_bics[last_bc]-b_bics[last_bc-1])/b_bics[last_bc-1]) or \\\n",
    "        abs((b_bics[last_bc]-b_bics[alt_bc])/(b_bics[alt_bc]*(last_bc-alt_bc)))\n",
    "if cond < thres: \n",
    "    best_bc = alt_bc\n",
    "    \n",
    "last_lam = round(last_lam, 8)\n",
    "last_lam, last_ubic, last_bc, best_bc"
   ]
  },
  {
   "cell_type": "code",
   "execution_count": 27,
   "id": "524063e7",
   "metadata": {},
   "outputs": [
    {
     "data": {
      "image/png": "[encoded data removed]",
      "text/plain": [
       "<Figure size 350x262.5 with 2 Axes>"
      ]
     },
     "metadata": {},
     "output_type": "display_data"
    }
   ],
   "source": [
    "complexity_axis = [len(bs) for bs in best_subsets]\n",
    "with plt.style.context(['science']):\n",
    "    fig, ax = plt.subplots()\n",
    "    ax2 = ax.twinx()\n",
    "    ax.set_zorder(ax2.get_zorder()+1)\n",
    "    ax.patch.set_visible(False)\n",
    "    \n",
    "    l1, = ax.plot(complexity_axis, last_ubic, 'o-', c='black', markerfacecolor='none', label=f\"$\\lambda = {abs(last_lam)}$\")\n",
    "    ax.set_xticks(complexity_axis)\n",
    "    ax.set_ylabel(\"$\\\\textrm{UBIC}$\", fontsize=12)\n",
    "    ax.set_xlabel(\"Support size\", fontsize=12)\n",
    "#     ax.annotate('$(u_{xx}, uu_{x})\\checkmark$', fontsize=16, \n",
    "#                  xy=(complexity_axis[best_bc], last_ubic[best_bc]), \n",
    "#                  xytext=(complexity_axis[best_bc]+0.5, last_ubic[best_bc]+200000), \n",
    "#                  arrowprops={'arrowstyle': '->'})\n",
    "    ax.vlines(best_bc+1, min(last_ubic), max(last_ubic), color='red')\n",
    "    \n",
    "    l2, = ax2.plot(complexity_axis, b_uns, 'o--', c='blue', markerfacecolor='none', label=\"Uncertainty $\\\\textrm{U}^{k}$\")\n",
    "    s1 = ax2.scatter(complexity_axis[np.argmin(b_uns)], b_uns[np.argmin(b_uns)], c='blue')\n",
    "    ax2.tick_params(axis='y', labelcolor='blue')\n",
    "\n",
    "    ax.legend([l1, l2, s1], [f\"UBIC with $\\lambda = {round(abs(last_lam), 2)}$\", \"Uncertainty $\\\\textrm{U}^{k}$\", \"Min $\\\\textrm{U}^{k}$\"], \n",
    "              labelcolor='linecolor', loc='upper center', fontsize=12)\n",
    "    \n",
    "    plt.show()"
   ]
  },
  {
   "cell_type": "code",
   "execution_count": 28,
   "id": "d8a78b86",
   "metadata": {},
   "outputs": [
    {
     "data": {
      "image/png": "[encoded data removed]",
      "text/plain": [
       "<Figure size 640x480 with 1 Axes>"
      ]
     },
     "metadata": {},
     "output_type": "display_data"
    }
   ],
   "source": [
    "plt.plot(b_bics); plt.show()"
   ]
  },
  {
   "cell_type": "code",
   "execution_count": null,
   "id": "c2355731",
   "metadata": {},
   "outputs": [],
   "source": []
  },
  {
   "cell_type": "code",
   "execution_count": null,
   "id": "4ca5bac8",
   "metadata": {},
   "outputs": [],
   "source": []
  }
 ],
 "metadata": {
  "kernelspec": {
   "display_name": "Python [conda env:pysr_latest]",
   "language": "python",
   "name": "conda-env-pysr_latest-py"
  },
  "language_info": {
   "codemirror_mode": {
    "name": "ipython",
    "version": 3
   },
   "file_extension": ".py",
   "mimetype": "text/x-python",
   "name": "python",
   "nbconvert_exporter": "python",
   "pygments_lexer": "ipython3",
   "version": "3.11.11"
  }
 },
 "nbformat": 4,
 "nbformat_minor": 5
}
