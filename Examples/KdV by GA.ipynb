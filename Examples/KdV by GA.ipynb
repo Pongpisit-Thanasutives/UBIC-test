{
 "cells": [
  {
   "cell_type": "code",
   "execution_count": 1,
   "id": "c66886e2",
   "metadata": {},
   "outputs": [
    {
     "name": "stdout",
     "output_type": "stream",
     "text": [
      "Sklearn's version: 1.6.1\n"
     ]
    }
   ],
   "source": [
    "%matplotlib inline\n",
    "import matplotlib.pyplot as plt\n",
    "import seaborn\n",
    "from IPython.display import display as pretty\n",
    "\n",
    "from collections import Counter\n",
    "from functools import cmp_to_key\n",
    "from typing import List\n",
    "from decimal import Decimal\n",
    "import heapq\n",
    "from tqdm import trange\n",
    "\n",
    "import sympy\n",
    "import numpy as np\n",
    "import scipy.io as sio\n",
    "import pysindy as ps\n",
    "from derivative import dxdt\n",
    "import sys; sys.path.insert(0, \"../\")\n",
    "from best_subset import ps_features, brute_force, L0BNB, brute_force_all_subsets\n",
    "from sklearn.model_selection import train_test_split\n",
    "from okridge.solvel0 import *\n",
    "from UBIC import *\n",
    "\n",
    "from scipy.signal import savgol_filter\n",
    "from sgolay2 import SGolayFilter2"
   ]
  },
  {
   "cell_type": "code",
   "execution_count": 2,
   "id": "30d3a2fd",
   "metadata": {},
   "outputs": [
    {
     "name": "stdout",
     "output_type": "stream",
     "text": [
      "Domain shape: (512, 201)\n"
     ]
    }
   ],
   "source": [
    "# data = sio.loadmat('../../SGA-PDE/codes/data/KdV.mat')\n",
    "# u = data.get(\"uu\"); u_clean = u.copy()\n",
    "# x = np.squeeze(data.get(\"x\"))\n",
    "# t = np.squeeze(data.get(\"tt\").reshape(1,201))\n",
    "\n",
    "data = sio.loadmat('../Datasets/KdV_rudy.mat')\n",
    "u = (data['usol']).real; u_clean = u.copy()\n",
    "x = data['x'][0]\n",
    "t = data['t'].flatten()\n",
    "\n",
    "print(\"Domain shape:\", u.shape)"
   ]
  },
  {
   "cell_type": "code",
   "execution_count": 3,
   "id": "aa6f4be5",
   "metadata": {},
   "outputs": [],
   "source": [
    "dt = t[1]-t[0]\n",
    "dx = x[1]-x[0]\n",
    "X, T = np.meshgrid(x, t)\n",
    "XT = np.asarray([X, T]).T"
   ]
  },
  {
   "cell_type": "code",
   "execution_count": 4,
   "id": "e546eca9",
   "metadata": {},
   "outputs": [
    {
     "name": "stdout",
     "output_type": "stream",
     "text": [
      "Noise level: 30.0\n"
     ]
    }
   ],
   "source": [
    "np.random.seed(0)\n",
    "noise_lv = float(30)\n",
    "print(\"Noise level:\", noise_lv)\n",
    "noise = 0.01*np.abs(noise_lv)*(u.std())*np.random.randn(u.shape[0],u.shape[1])\n",
    "u = u + noise"
   ]
  },
  {
   "cell_type": "code",
   "execution_count": 5,
   "id": "12567034",
   "metadata": {},
   "outputs": [],
   "source": [
    "denoise = True\n",
    "if denoise:\n",
    "    u = SGolayFilter2(window_size=19, poly_order=3)(u)"
   ]
  },
  {
   "cell_type": "code",
   "execution_count": 6,
   "id": "2dc09236",
   "metadata": {},
   "outputs": [
    {
     "name": "stderr",
     "output_type": "stream",
     "text": [
      "/Users/pongpisit/pysindy_latest/pysindy/pysindy/feature_library/weak_pde_library.py:175: UserWarning: is_uniform and periodic have been deprecated.in favor of differetiation_method and diff_kwargs.\n",
      "  warnings.warn(\n"
     ]
    },
    {
     "data": {
      "text/plain": [
       "['x0',\n",
       " 'x0^2',\n",
       " 'x0_1',\n",
       " 'x0_11',\n",
       " 'x0_111',\n",
       " 'x0_1111',\n",
       " 'x0x0_1',\n",
       " 'x0^2x0_1',\n",
       " 'x0x0_11',\n",
       " 'x0^2x0_11',\n",
       " 'x0x0_111',\n",
       " 'x0^2x0_111',\n",
       " 'x0x0_1111',\n",
       " 'x0^2x0_1111']"
      ]
     },
     "execution_count": 6,
     "metadata": {},
     "output_type": "execute_result"
    }
   ],
   "source": [
    "function_library = ps.PolynomialLibrary(degree=2, include_bias=False)\n",
    "weak_lib = ps.WeakPDELibrary(\n",
    "    function_library=function_library,\n",
    "    derivative_order=4,\n",
    "    spatiotemporal_grid=XT,\n",
    "    include_bias=False,\n",
    "    is_uniform=True,\n",
    "    K=10000\n",
    ")\n",
    "\n",
    "X_pre = np.array(weak_lib.fit_transform(np.expand_dims(u, -1)))\n",
    "y_pre = weak_lib.convert_u_dot_integral(np.expand_dims(u, -1))\n",
    "\n",
    "weak_lib.get_feature_names()"
   ]
  },
  {
   "cell_type": "code",
   "execution_count": 7,
   "id": "c2c29d99",
   "metadata": {},
   "outputs": [],
   "source": [
    "# model = ps.SINDy(feature_library=weak_lib, \n",
    "#                  optimizer=L0BNB(max_nonzeros=2, lam=1e-4, is_normal=True, normalize_columns=False, threshold=1e-4), \n",
    "#                  feature_names=['u'])\n",
    "\n",
    "# model.fit(np.expand_dims(u, -1), t=dt)\n",
    "# model.print()\n",
    "\n",
    "# y_pre = model.feature_library.convert_u_dot_integral(np.expand_dims(u, -1))\n",
    "# X_pre = model.optimizer.Theta_"
   ]
  },
  {
   "cell_type": "code",
   "execution_count": 8,
   "id": "cc46edd7",
   "metadata": {},
   "outputs": [
    {
     "name": "stderr",
     "output_type": "stream",
     "text": [
      "100%|███████████████████████████████████████████████████████████████████████████████| 14/14 [00:15<00:00,  1.07s/it]\n"
     ]
    },
    {
     "data": {
      "text/plain": [
       "[(2,),\n",
       " (4, 6),\n",
       " (4, 6, 10),\n",
       " (4, 6, 7, 10),\n",
       " (2, 4, 6, 7, 10),\n",
       " (0, 2, 4, 6, 7, 10),\n",
       " (2, 4, 5, 6, 7, 10, 12),\n",
       " (2, 3, 4, 5, 6, 7, 10, 12),\n",
       " (2, 3, 4, 5, 6, 7, 10, 11, 12),\n",
       " (0, 1, 2, 3, 4, 6, 7, 8, 10, 12),\n",
       " (0, 1, 2, 3, 4, 6, 7, 8, 10, 11, 12),\n",
       " (0, 1, 2, 3, 4, 6, 7, 8, 9, 10, 11, 12),\n",
       " (0, 1, 2, 3, 4, 5, 6, 7, 8, 10, 11, 12, 13),\n",
       " (0, 1, 2, 3, 4, 5, 6, 7, 8, 9, 10, 11, 12, 13)]"
      ]
     },
     "execution_count": 8,
     "metadata": {},
     "output_type": "execute_result"
    }
   ],
   "source": [
    "bf_solve, best_subsets = brute_force_all_subsets(X_pre, y_pre) # compare solvel0's res to bf_solve\n",
    "best_subsets"
   ]
  },
  {
   "cell_type": "code",
   "execution_count": 9,
   "id": "a11335dc",
   "metadata": {},
   "outputs": [
    {
     "name": "stdout",
     "output_type": "stream",
     "text": [
      "threshold: 0.02\n",
      "1 <---> 1 inf\n",
      "1 <---> 2 0.011340596117397303\n"
     ]
    },
    {
     "name": "stderr",
     "output_type": "stream",
     "text": [
      "/var/folders/z3/_stfms3523dd5mnfr3ch5n100000gp/T/ipykernel_29600/3880633122.py:43: RuntimeWarning: invalid value encountered in scalar divide\n",
      "  imp = abs(diff_bic/(b_bics[last_bc]*diff_com))\n"
     ]
    },
    {
     "data": {
      "text/plain": [
       "(2.595565097118917,\n",
       " array([-48894.11096283, -68418.78194674, -60337.7865552 , -21885.32327809,\n",
       "        -11895.59133329, -11898.57891098, -11467.79550267, -11039.85057425,\n",
       "         46706.63164861,  -6691.42124117,  50470.18330321,  78812.43061378,\n",
       "         62510.71476564,  98518.09316563]),\n",
       " 1,\n",
       " 1)"
      ]
     },
     "execution_count": 9,
     "metadata": {},
     "output_type": "execute_result"
    }
   ],
   "source": [
    "tau = 3 # we fix its value as a constant\n",
    "scale = np.log(len(y_pre))\n",
    "# scale = 1\n",
    "per = 75\n",
    "\n",
    "post_means, b_bics, b_uns = baye_uncertainties(best_subsets, (X_pre, y_pre), u_type='cv1', take_sqrt=True)\n",
    "predictions = X_pre@post_means\n",
    "\n",
    "b_bics = np.array(b_bics)\n",
    "max_complexity = len(b_bics)\n",
    "complexities = np.arange(max_complexity)+1\n",
    "d_complexities = complexities[decreasing_values_indices(b_bics)]\n",
    "d_bics = b_bics[decreasing_values_indices(b_bics)]\n",
    "slopes = np.diff(b_bics)/(np.diff(complexities)*b_bics[:-1])\n",
    "try:\n",
    "    thres = np.percentile(np.abs(np.diff(d_bics)/(np.diff(d_complexities)*d_bics[:-1])), per)\n",
    "except IndexError:\n",
    "    thres = 0.02\n",
    "min_thres = 0.02\n",
    "thres = max(thres, min_thres)\n",
    "print(\"threshold:\", thres)\n",
    "\n",
    "lower_bounds = []\n",
    "for k, efi in enumerate(best_subsets):\n",
    "    assert len(efi) == np.count_nonzero(post_means[:, k:k+1])\n",
    "    com = len(efi)\n",
    "    # lower_bound = 2*log_like_value(predictions[:, k:k+1], y_pre)/np.log(len(y_pre))-com\n",
    "    lower_bound = 2*np.abs(log_like_value(predictions[:, k:k+1], y_pre))-np.log(len(y_pre))*com\n",
    "    lower_bounds.append(lower_bound)\n",
    "\n",
    "last_lam = np.log10(max(lower_bounds/(b_uns*scale)))\n",
    "delta = last_lam/tau\n",
    "now_lam = last_lam-delta\n",
    "last_ubic = UBIC(b_bics, b_uns, len(y_pre), hyp=10**last_lam, scale=scale)\n",
    "last_bc = np.argmin(last_ubic)\n",
    "bc_seq = [last_bc]\n",
    "while now_lam >= 0:\n",
    "    now_ubic = UBIC(b_bics, b_uns, len(y_pre), hyp=10**now_lam, scale=scale)\n",
    "    now_bc = np.argmin(now_ubic)\n",
    "    \n",
    "    diff_com = now_bc-last_bc\n",
    "    diff_bic = b_bics[now_bc]-b_bics[last_bc]\n",
    "    imp = abs(diff_bic/(b_bics[last_bc]*diff_com))\n",
    "    \n",
    "    print(min(last_bc, now_bc), '<--->', max(last_bc, now_bc), np.nan_to_num(imp, nan=np.inf))\n",
    "    \n",
    "    if (diff_com > 0 and (diff_bic > 0 or imp < thres)) or \\\n",
    "        (diff_com < 0 and diff_bic > 0 and imp > thres):\n",
    "        break\n",
    "    \n",
    "    last_lam = now_lam\n",
    "    now_lam = round(last_lam-delta, 8)\n",
    "    last_ubic = now_ubic\n",
    "    last_bc = now_bc\n",
    "    bc_seq.append(last_bc)\n",
    "\n",
    "best_bc = last_bc\n",
    "alt_bc = bc_seq[-2] if len(bc_seq) > 1 else last_bc-1\n",
    "cond = abs((b_bics[last_bc]-b_bics[last_bc-1])/b_bics[last_bc-1]) or \\\n",
    "        abs((b_bics[last_bc]-b_bics[alt_bc])/(b_bics[alt_bc]*(last_bc-alt_bc)))\n",
    "if cond < thres: \n",
    "    best_bc = alt_bc\n",
    "    \n",
    "last_lam, last_ubic, last_bc, best_bc"
   ]
  },
  {
   "cell_type": "code",
   "execution_count": 10,
   "id": "808257a0",
   "metadata": {},
   "outputs": [
    {
     "data": {
      "image/png": "[encoded data removed]",
      "text/plain": [
       "<Figure size 350x262.5 with 2 Axes>"
      ]
     },
     "metadata": {},
     "output_type": "display_data"
    }
   ],
   "source": [
    "complexity_axis = [len(bs) for bs in best_subsets]\n",
    "with plt.style.context(['science']):\n",
    "    fig, ax = plt.subplots()\n",
    "    ax2 = ax.twinx()\n",
    "    ax.set_zorder(ax2.get_zorder()+1)\n",
    "    ax.patch.set_visible(False)\n",
    "    \n",
    "    l1, = ax.plot(complexity_axis, last_ubic, 'o-', c='black', markerfacecolor='none', label=f\"$\\lambda = {abs(last_lam)}$\")\n",
    "    ax.set_xticks(complexity_axis)\n",
    "    ax.set_ylabel(\"$\\\\textrm{UBIC}(\\\\xi^{k}, 10^{\\\\lambda})$\", fontsize=12)\n",
    "    ax.set_xlabel(\"Support sizes ($s_{k}$)\", fontsize=12)\n",
    "#     ax.annotate('$(u_{xxx}, uu_{x})\\checkmark$', fontsize=15, \n",
    "#                  xy=(complexity_axis[best_bc], last_ubic[best_bc]), \n",
    "#                  xytext=(complexity_axis[best_bc]-0.25, last_ubic[best_bc]+15000), \n",
    "#                  va = \"top\", ha=\"left\" )\n",
    "#     ax.annotate('', fontsize=16, \n",
    "#                  xy=(complexity_axis[best_bc], last_ubic[best_bc]), \n",
    "#                  xytext=(complexity_axis[best_bc]+0.25, last_ubic[best_bc]+12500), \n",
    "#                  arrowprops={'arrowstyle': '->'}, va = \"top\", ha=\"left\" )\n",
    "    \n",
    "    l2, = ax2.plot(complexity_axis, b_uns, 'o--', c='blue', markerfacecolor='none', label=\"Uncertainty $\\\\textrm{U}^{k}$\")\n",
    "    s1 = ax2.scatter(complexity_axis[np.argmin(b_uns)], b_uns[np.argmin(b_uns)], c='blue')\n",
    "    ax2.tick_params(axis='y', labelcolor='blue')\n",
    "\n",
    "    ax.legend([l1, l2, s1], [f\"UBIC with $\\lambda = {abs(round(last_lam,2))}$\", \"Uncertainty $\\\\textrm{U}^{k}$\", \"Min $\\\\textrm{U}^{k}$\"], \n",
    "              labelcolor='linecolor', loc='upper center', fontsize=12, bbox_to_anchor=(-0.025,0,1,1))\n",
    "    \n",
    "    plt.show()"
   ]
  },
  {
   "cell_type": "markdown",
   "id": "8f9ed572",
   "metadata": {},
   "source": [
    "## GA"
   ]
  },
  {
   "cell_type": "code",
   "execution_count": null,
   "id": "d2c8ac14",
   "metadata": {},
   "outputs": [],
   "source": [
    "np.random.seed(0)\n",
    "# u = u_clean"
   ]
  },
  {
   "cell_type": "code",
   "execution_count": null,
   "id": "9211998a",
   "metadata": {},
   "outputs": [],
   "source": [
    "MAX_ORDER = 4\n",
    "\n",
    "### GA (Loop of crossover -> mutation -> evaluate_genome) ###\n",
    "@cmp_to_key\n",
    "def compare_module(module1, module2):\n",
    "    if module1 == module2:\n",
    "        return 0\n",
    "    lg1 = len(module1); lg2 = len(module2)\n",
    "    if lg1 != lg2:\n",
    "        return lg1 - lg2\n",
    "    if module1 < module2: \n",
    "        return -1\n",
    "    else:\n",
    "        return 1\n",
    "    \n",
    "def generate_module(n_derivatives):\n",
    "    pde_module = sorted(np.random.randint(0, MAX_ORDER) for i in range(np.random.randint(1, n_derivatives+1)))\n",
    "    return tuple(pde_module)\n",
    "\n",
    "def generate_genome(n_modules, n_derivatives):\n",
    "    genome = fset(generate_module(n_derivatives) for _ in range(n_modules))\n",
    "    return genome\n",
    "\n",
    "def generate_chromosome(n_modules, n_derivatives, pop_size):\n",
    "    chromosome = set()\n",
    "    count = 0\n",
    "    while count < pop_size:\n",
    "        genome = generate_genome(n_modules, n_derivatives)\n",
    "        if genome not in chromosome:\n",
    "            chromosome.add(genome)\n",
    "            count += 1\n",
    "    return chromosome\n",
    "\n",
    "def display_derivative(n):\n",
    "    nx = 'x'*n\n",
    "    return sympy.symbols(f'u_{nx}')\n",
    "\n",
    "def display_module(pde_module):\n",
    "    return np.prod([display_derivative(_) for _ in pde_module])\n",
    "\n",
    "# coefficients for sorted(encoded_pde)\n",
    "def display_pde(encoded_pde, coefficients=None):\n",
    "    if coefficients is None:\n",
    "        coefficients = [1 for _ in range(len(encoded_pde))]\n",
    "    out = []\n",
    "    for module, c in zip(encoded_pde, coefficients):\n",
    "        out.append(c*display_module(module))\n",
    "    return sum(out)\n",
    "\n",
    "# not efficient: O(len(genome))\n",
    "def crossover(genome1: List, genome2: List, fs=True):\n",
    "    if genome1 != genome2:\n",
    "        while True: \n",
    "            idx1 = np.random.randint(len(genome1))\n",
    "            idx2 = np.random.randint(len(genome2))\n",
    "            if genome1[idx1] != genome2[idx2]:\n",
    "                break\n",
    "        genome1[idx1], genome2[idx2] = genome2[idx2], genome1[idx1]\n",
    "    if fs: \n",
    "        genome1, genome2 = fset(genome1), fset(genome2)\n",
    "    return genome1, genome2\n",
    "\n",
    "# in-place func\n",
    "def mutation(genome: List, n_derivatives: int, mutate_rate=(0.4, 0.5, 0.4), fs=True):\n",
    "    add_rate, delete_rate, order_rate = mutate_rate\n",
    "    # add\n",
    "    if np.random.uniform(0, 1) < add_rate:\n",
    "        genome.append(generate_module(n_derivatives))\n",
    "    # del\n",
    "    if np.random.uniform(0, 1) < delete_rate:\n",
    "        lg = len(genome)\n",
    "        if lg > 0:\n",
    "            idx = np.random.randint(lg)\n",
    "            genome.pop(idx)\n",
    "    # order\n",
    "    if np.random.uniform(0, 1) < order_rate:\n",
    "        lg = len(genome)\n",
    "        if lg > 0: \n",
    "            i = np.random.randint(lg)\n",
    "            lg = len(genome[i])\n",
    "            if lg > 0:\n",
    "                genome[i] = list(genome[i])\n",
    "                j = np.random.randint(len(genome[i]))\n",
    "                if genome[i][j] == 0:\n",
    "                    genome[i][j] = np.random.randint(1, n_derivatives)\n",
    "                else:\n",
    "                    genome[i][j] -= 1\n",
    "                genome[i] = tuple(sorted(genome[i]))\n",
    "    if fs: \n",
    "        genome = fset(genome)\n",
    "    return genome\n",
    "\n",
    "def numericalize_module(module, base_features):\n",
    "    return np.prod([base_features[derivative] for derivative in module], axis=0)\n",
    "\n",
    "def numericalize_genome(genome, base_features):\n",
    "    return np.stack([numericalize_module(module, base_features) \n",
    "                     for module in genome], axis=-1)\n",
    "\n",
    "def compute_genome_coefficient(genome, base_features, target):\n",
    "    features = numericalize_genome(genome, base_features)\n",
    "    assert target.shape == features[:, :, 0].shape\n",
    "    n_features = features.shape[-1]\n",
    "    target = target.reshape(-1, 1)\n",
    "    features = features.reshape(-1, n_features)\n",
    "    coeff, error, _, _ = np.linalg.lstsq(features, target, rcond=None)\n",
    "    return coeff, error[0]\n",
    "\n",
    "# Computing coefficients + fitness\n",
    "def evaluate_genome(genome, base_features, target, epsilon=0):\n",
    "    coeff, mse = compute_genome_coefficient(genome, base_features, target)\n",
    "    mse = mse / np.prod(target.shape)\n",
    "    # fitness = mse + abs(epsilon)*len(genome)\n",
    "    fitness = mse + abs(epsilon)*sum(sum(g) for g in genome)\n",
    "    return fitness, coeff\n",
    "\n",
    "### Miscellaneous for GA ###\n",
    "def sci_format(n):\n",
    "    sf = '%.2E' % Decimal(n)\n",
    "    sf = sf.split('E')\n",
    "    return float(sf[0]), int(sf[1])\n",
    "\n",
    "def fset(ls): return frozenset(ls)"
   ]
  },
  {
   "cell_type": "code",
   "execution_count": null,
   "id": "9c54d685",
   "metadata": {},
   "outputs": [],
   "source": [
    "from derivative import dxdt\n",
    "# diff = lambda x, y: dxdt(x, y, axis=0, \n",
    "#                          kind=\"finite_difference\", k=1)\n",
    "\n",
    "diff = lambda x, y: dxdt(x, y, axis=0, \n",
    "                         kind=\"kalman\", alpha=1e-1)"
   ]
  },
  {
   "cell_type": "code",
   "execution_count": null,
   "id": "f5f3790d",
   "metadata": {},
   "outputs": [],
   "source": [
    "n_derivatives = 3\n",
    "n_modules = 3\n",
    "pop_size = 400\n",
    "epsilons = [10**(i-6) for i in range(1, 6)] # 1e-5 to 1e-1\n",
    "differentiation_method = ps.FiniteDifference(is_uniform=True) # good for noiseless\n",
    "# differentiation_method = ps.SINDyDerivative(kind=\"kalman\", alpha=1e-1, save_smooth=True)"
   ]
  },
  {
   "cell_type": "code",
   "execution_count": null,
   "id": "c12a0cd1",
   "metadata": {},
   "outputs": [],
   "source": [
    "# u_t = differentiation_method._differentiate(u.T, t).T\n",
    "u_t = diff(u.T, t).T\n",
    "base_features = [u]\n",
    "for _ in range(1, MAX_ORDER):\n",
    "    # base_features.append(differentiation_method._differentiate(base_features[-1], x))\n",
    "    base_features.append(diff(base_features[-1], x))\n",
    "base_features = np.array(base_features)"
   ]
  },
  {
   "cell_type": "code",
   "execution_count": null,
   "id": "27ac2707",
   "metadata": {},
   "outputs": [],
   "source": [
    "genome = generate_genome(n_modules, n_derivatives); print(genome)\n",
    "print(evaluate_genome(genome, base_features, u_t))\n",
    "display_pde(genome, [3,4,5])"
   ]
  },
  {
   "cell_type": "code",
   "execution_count": null,
   "id": "4fa6d79f",
   "metadata": {},
   "outputs": [],
   "source": [
    "evaluate_genome(fset({(0,1), (3,)}), base_features, u_t)"
   ]
  },
  {
   "cell_type": "markdown",
   "id": "9eb68697",
   "metadata": {},
   "source": [
    "## GA (Following the papers) ##"
   ]
  },
  {
   "cell_type": "code",
   "execution_count": null,
   "id": "44bfd6e7",
   "metadata": {},
   "outputs": [],
   "source": [
    "class LargestUniqueHeap:\n",
    "    def __init__(self, N, decending=True):\n",
    "        self.N = N\n",
    "        self.heap = []\n",
    "        self.unique_values = set()\n",
    "        self.decending = decending\n",
    "        \n",
    "    def add(self, value):\n",
    "        if value in self.unique_values:\n",
    "            # Ignore if the value is already in the set (duplicate)\n",
    "            return\n",
    "        \n",
    "        if len(self.heap) < self.N:\n",
    "            # If the heap has fewer than N elements, add the new value\n",
    "            heapq.heappush(self.heap, value)\n",
    "            self.unique_values.add(value)\n",
    "        elif value > self.heap[0]:\n",
    "            # If the new value is greater than the smallest in the heap\n",
    "            smallest = heapq.heappushpop(self.heap, value)\n",
    "            # Replace the smallest in the set with the new value\n",
    "            self.unique_values.remove(smallest)\n",
    "            self.unique_values.add(value)\n",
    "\n",
    "    def get_largest_values(self):\n",
    "        # Return the N largest values in ascending order\n",
    "        return sorted(self.heap, reverse=self.decending)\n",
    "\n",
    "n_generations = 25\n",
    "mutate_rate = (0.4, 0.4, 0.4)\n",
    "min_len_chrom = 5\n",
    "\n",
    "print(\"Initialization...\")\n",
    "chrom = generate_chromosome(n_modules, n_derivatives, pop_size)\n",
    "set_chrom = chrom.copy()\n",
    "chrom = list(chrom)\n",
    "\n",
    "fitnesses = [evaluate_genome(genome, base_features, u_t, epsilon=0)[0] for genome in chrom]\n",
    "epi = 10**(sci_format(np.median(fitnesses))[1])\n",
    "print('epi =', epi)\n",
    "best_chrom_fitnesses = LargestUniqueHeap(pop_size)\n",
    "for i in range(len(fitnesses)):\n",
    "    fitnesses[i] += epi*len(chrom[i])\n",
    "    best_chrom_fitnesses.add((-fitnesses[i], chrom[i]))\n",
    "\n",
    "print(\"Learning PDEs...\")\n",
    "for g in trange(n_generations):\n",
    "    children = []\n",
    "    # crossover\n",
    "    for _ in range(2):\n",
    "        chrom_f, chrom_m = train_test_split(chrom, test_size=0.5, train_size=0.5, shuffle=True)\n",
    "        for genome_f, genome_m in zip(chrom_f, chrom_m):\n",
    "            child1, child2 = crossover(list(genome_f), list(genome_m))\n",
    "            children.append(child1)\n",
    "            children.append(child2)\n",
    "    # mutation\n",
    "    for i in range(len(children)):\n",
    "        child = list(children[i].copy())\n",
    "        child = mutation(child, n_derivatives, mutate_rate)\n",
    "        if len(child) > 0:\n",
    "            children[i] = fset(child)\n",
    "    # fitness\n",
    "    children = set(children)\n",
    "    chrom = []\n",
    "    for child in children:\n",
    "        fitness, _ = evaluate_genome(child, base_features, u_t, epsilon=epi)\n",
    "        chrom.append((fitness, child))\n",
    "        best_chrom_fitnesses.add((-fitness, child))\n",
    "    # Creating parent for the next generation\n",
    "    chrom = sorted(chrom)\n",
    "    chrom = [genome for _, genome in chrom][:pop_size]\n",
    "    \n",
    "best_chrom_fitnesses = [(v, -k) for k, v in best_chrom_fitnesses.get_largest_values()]\n",
    "best_chrom_fitnesses[:10]"
   ]
  },
  {
   "cell_type": "markdown",
   "id": "f63f029c",
   "metadata": {},
   "source": [
    "## GA (V2 implemented by Pongpisit Thanasutives) ##"
   ]
  },
  {
   "cell_type": "code",
   "execution_count": null,
   "id": "4a5c6d84",
   "metadata": {},
   "outputs": [],
   "source": [
    "# n_generations = 200\n",
    "# mutate_rate = (0.4, 0.4, 0.4)\n",
    "# min_len_chrom = 5\n",
    "\n",
    "# print(\"Initialization...\")\n",
    "# chrom = generate_chromosome(n_modules, n_derivatives, pop_size)\n",
    "# set_chrom = chrom.copy()\n",
    "# chrom = list(chrom)\n",
    "\n",
    "# fitnesses = [evaluate_genome(genome, base_features, u_t, epsilon=0)[0] for genome in chrom]\n",
    "# epi = 0; epi = 10**(sci_format(np.median(fitnesses))[1]-1+epi)\n",
    "# # epi = 1e-5 # 1e-4\n",
    "# print('epi =', epi)\n",
    "# for i in range(len(fitnesses)):\n",
    "#     fitnesses[i] += epi*len(chrom[i])\n",
    "    \n",
    "# best_chrom_fitnesses = heapq.nsmallest(len(chrom), zip(chrom, fitnesses), \n",
    "#                                        key=lambda _: _[1])\n",
    "\n",
    "# print(\"Learning PDEs...\")\n",
    "# for _ in trange(n_generations):\n",
    "#     chrom_f, chrom_m = train_test_split(chrom, test_size=0.5, train_size=0.5, shuffle=True)\n",
    "#     for genome_f, genome_m in zip(chrom_f, chrom_m):\n",
    "#         genome_child1, genome_child2 = crossover(list(genome_f), list(genome_m))\n",
    "#         chrom.append(genome_child1)\n",
    "#         chrom.append(genome_child2)\n",
    "#         if genome_child1 not in set_chrom:\n",
    "#             fitness_child1, _ = evaluate_genome(genome_child1, base_features, u_t, epsilon=epi)\n",
    "#             best_chrom_fitnesses.append((genome_child1, fitness_child1))\n",
    "#             set_chrom.add(genome_child1)\n",
    "#         if genome_child2 not in set_chrom:\n",
    "#             fitness_child2, _ = evaluate_genome(genome_child2, base_features, u_t, epsilon=epi)\n",
    "#             best_chrom_fitnesses.append((genome_child2, fitness_child2))\n",
    "#             set_chrom.add(genome_child2)\n",
    "\n",
    "#     for i in range(len(chrom)):\n",
    "#         genome = list(chrom[i].copy())\n",
    "#         genome = mutation(genome, n_derivatives, mutate_rate)\n",
    "#         if len(genome) > 0:\n",
    "#             chrom[i] = fset(genome)\n",
    "    \n",
    "#     new_chrom = []; fitnesses = []\n",
    "#     for i in range(len(chrom)):\n",
    "#         if chrom[i] not in set_chrom:\n",
    "#             fitness, _ = evaluate_genome(chrom[i], base_features, u_t, epsilon=epi)\n",
    "#             best_chrom_fitnesses.append((chrom[i], fitness))\n",
    "#             new_chrom.append(chrom[i])\n",
    "#             fitnesses.append(fitness)\n",
    "#             set_chrom.add(chrom[i])\n",
    "            \n",
    "#     best_chrom_fitnesses = heapq.nsmallest(pop_size, best_chrom_fitnesses, key=lambda _ : _[1])\n",
    "#     chrom_fitnesses = heapq.nsmallest(pop_size, zip(new_chrom, fitnesses), key=lambda _ : _[1])\n",
    "#     chrom = []; fitnesses = []; del new_chrom\n",
    "#     for genome, fitness in chrom_fitnesses:\n",
    "#         chrom.append(genome); fitnesses.append(fitness)\n",
    "#     if len(chrom) <= min_len_chrom:\n",
    "#         break\n",
    "\n",
    "# assert len(chrom) == len(set(chrom))\n",
    "# # [(frozenset({(0, 1), (2,)}), 0.00020050332746595256),\n",
    "# #  (frozenset({(0, 1), (1, 1, 2), (2,)}), 0.00030041491578636356),\n",
    "# #  (frozenset({(0, 1), (1, 2), (2,)}), 0.00030041518841411233),\n",
    "# #  (frozenset({(0, 1), (0, 1, 2), (2,)}), 0.0003004376828294478),\n",
    "# #  (frozenset({(0, 0, 1), (0, 1), (2,)}), 0.0003004803064302649),\n",
    "# #  (frozenset({(0, 0, 0), (0, 1), (2,)}), 0.0003004808326250074),\n",
    "# #  (frozenset({(0, 0), (0, 1), (2,)}), 0.0003004869577000254),\n",
    "# #  (frozenset({(0, 1), (1,), (2,)}), 0.0003004883027313859),\n",
    "# #  (frozenset({(0, 1), (2,), (2, 2, 2)}), 0.0003004915325845),\n",
    "# #  (frozenset({(0, 1), (1, 1, 1), (2,)}), 0.0003004934561692255)]\n",
    "# best_chrom_fitnesses[:10]"
   ]
  },
  {
   "cell_type": "code",
   "execution_count": null,
   "id": "5a763da1",
   "metadata": {},
   "outputs": [],
   "source": [
    "for potential_pde, _ in best_chrom_fitnesses[:20]:\n",
    "    potential_pde = sorted(list(potential_pde), key=compare_module)\n",
    "    pde_coefficient = compute_genome_coefficient(potential_pde, base_features, u_t)[0].flatten()\n",
    "    pde_coefficient = [round(c, 5) for c in pde_coefficient]\n",
    "    pretty(display_pde(potential_pde, pde_coefficient))"
   ]
  },
  {
   "cell_type": "code",
   "execution_count": null,
   "id": "a067e1cf",
   "metadata": {},
   "outputs": [],
   "source": [
    "common_modules = []\n",
    "for genome, _ in best_chrom_fitnesses:\n",
    "    common_modules.extend([*genome])\n",
    "common_modules = Counter(common_modules)\n",
    "print(list(common_modules.values()))\n",
    "\n",
    "n_common = 0\n",
    "cum_v = 0; total_v = sum(common_modules.values())\n",
    "for _, v in common_modules.most_common():\n",
    "    cum_v += v; n_common += 1\n",
    "    print(n_common, cum_v/total_v, end=',')\n",
    "n_common = 15\n",
    "print(n_common)\n",
    "\n",
    "common_modules = Counter(common_modules).most_common(n_common)\n",
    "common_modules = fset(genome for genome, _ in common_modules)\n",
    "common_modules = sorted(list(common_modules), key=(compare_module))\n",
    "X_pre = numericalize_genome(common_modules, base_features).reshape(-1, n_common)\n",
    "y_pre = u_t.reshape(-1, 1)\n",
    "feature_names = [sympy.latex(display_module(module)).strip().replace(' ', '') \n",
    "                 for module in common_modules]\n",
    "feature_names"
   ]
  },
  {
   "cell_type": "code",
   "execution_count": null,
   "id": "820a8316",
   "metadata": {},
   "outputs": [],
   "source": [
    "from skscope_tools import best_subset_solution, abess_solution, best_subset_all_solutions, abess_all_solutions"
   ]
  },
  {
   "cell_type": "code",
   "execution_count": null,
   "id": "a8d32308",
   "metadata": {},
   "outputs": [],
   "source": [
    "coefficients, best_subsets = best_subset_all_solutions(X_pre, y_pre, 8, refine=True)\n",
    "best_subsets"
   ]
  },
  {
   "cell_type": "code",
   "execution_count": null,
   "id": "5ce62017",
   "metadata": {},
   "outputs": [],
   "source": [
    "brute_force(X_pre, y_pre, 2)"
   ]
  },
  {
   "cell_type": "code",
   "execution_count": null,
   "id": "e8048efd",
   "metadata": {},
   "outputs": [],
   "source": [
    "# coefficients, best_subsets = okridge_solvel0_full(X_pre, y_pre, k=8)\n",
    "# best_subsets"
   ]
  },
  {
   "cell_type": "code",
   "execution_count": null,
   "id": "00dc72b4",
   "metadata": {},
   "outputs": [],
   "source": [
    "tau = 3\n",
    "verbose = True\n",
    "# scale = 1 <- generalized UBIC\n",
    "scale = np.log(len(y_pre))\n",
    "per = 75\n",
    "\n",
    "# bics = [sm.OLS(y_pre, X_pre[:, bs]).fit().bic for bs in best_subsets]\n",
    "# aics = [sm.OLS(y_pre, X_pre[:, bs]).fit().aic for bs in best_subsets]\n",
    "post_means, b_bics, b_uns = baye_uncertainties(best_subsets, (X_pre, y_pre), u_type='cv1', take_sqrt=True)\n",
    "predictions = X_pre@post_means\n",
    "print(b_bics)\n",
    "b_bics = np.array(b_bics)\n",
    "max_complexity = len(b_bics)\n",
    "complexities = np.arange(max_complexity)+1\n",
    "d_complexities = complexities[decreasing_values_indices(b_bics)]\n",
    "d_bics = b_bics[decreasing_values_indices(b_bics)]\n",
    "slopes = np.diff(b_bics)/(np.diff(complexities)*b_bics[:-1])\n",
    "try:\n",
    "    thres = np.percentile(np.abs(np.diff(d_bics)/(np.diff(d_complexities)*d_bics[:-1])), per)\n",
    "except IndexError:\n",
    "    thres = 0.02\n",
    "min_thres = 0.02\n",
    "thres = max(thres, min_thres)\n",
    "print(\"threshold:\", thres)\n",
    "\n",
    "lower_bounds = []\n",
    "for k, efi in enumerate(best_subsets):\n",
    "    assert len(efi) == np.count_nonzero(post_means[:, k:k+1])\n",
    "    com = len(efi)\n",
    "    lower_bound = 2*np.abs(log_like_value(predictions[:, k:k+1], y_pre))-np.log(len(y_pre))*com\n",
    "    lower_bounds.append(lower_bound)\n",
    "\n",
    "last_lam = np.log10(max(lower_bounds/(b_uns*scale)))\n",
    "print(\"max_lam:\", last_lam)\n",
    "delta = last_lam/tau\n",
    "now_lam = last_lam-delta\n",
    "last_ubic = UBIC(b_bics, b_uns, len(y_pre), hyp=10**last_lam, scale=scale)\n",
    "last_bc = np.argmin(last_ubic)\n",
    "bc_seq = [last_bc]\n",
    "while now_lam >= 0:\n",
    "    now_ubic = UBIC(b_bics, b_uns, len(y_pre), hyp=10**now_lam, scale=scale)\n",
    "    now_bc = np.argmin(now_ubic)\n",
    "    \n",
    "    diff_com = now_bc-last_bc\n",
    "    diff_bic = b_bics[now_bc]-b_bics[last_bc]\n",
    "    imp = np.nan\n",
    "    if diff_com != 0:\n",
    "        imp = abs(diff_bic/(b_bics[last_bc]*diff_com))\n",
    "    \n",
    "    if verbose:\n",
    "        print(min(last_bc, now_bc), '<--->', max(last_bc, now_bc), \n",
    "              np.nan_to_num(imp, nan=np.inf))\n",
    "    \n",
    "    if (diff_com > 0 and (diff_bic > 0 or imp < thres)) or \\\n",
    "        (diff_com < 0 and diff_bic > 0 and imp > thres):\n",
    "        break\n",
    "    \n",
    "    last_lam = now_lam\n",
    "    now_lam = round(last_lam-delta, 8)\n",
    "    last_ubic = now_ubic\n",
    "    last_bc = now_bc\n",
    "    bc_seq.append(last_bc)\n",
    "\n",
    "best_bc = last_bc\n",
    "alt_bc = bc_seq[-2] if len(bc_seq) > 1 else last_bc-1\n",
    "cond = abs((b_bics[last_bc]-b_bics[last_bc-1])/b_bics[last_bc-1]) or \\\n",
    "        abs((b_bics[last_bc]-b_bics[alt_bc])/(b_bics[alt_bc]*(last_bc-alt_bc)))\n",
    "if cond < thres: \n",
    "    best_bc = alt_bc\n",
    "    \n",
    "last_lam = round(last_lam, 8)\n",
    "last_lam, last_ubic, last_bc, best_bc"
   ]
  },
  {
   "cell_type": "code",
   "execution_count": null,
   "id": "524063e7",
   "metadata": {},
   "outputs": [],
   "source": [
    "complexity_axis = [len(bs) for bs in best_subsets]\n",
    "with plt.style.context(['science']):\n",
    "    fig, ax = plt.subplots()\n",
    "    ax2 = ax.twinx()\n",
    "    ax.set_zorder(ax2.get_zorder()+1)\n",
    "    ax.patch.set_visible(False)\n",
    "    \n",
    "    l1, = ax.plot(complexity_axis, last_ubic, 'o-', c='black', markerfacecolor='none', label=f\"$\\lambda = {abs(last_lam)}$\")\n",
    "    ax.set_xticks(complexity_axis)\n",
    "    ax.set_ylabel(\"$\\\\textrm{UBIC}$\", fontsize=12)\n",
    "    ax.set_xlabel(\"Support size\", fontsize=12)\n",
    "#     ax.annotate('$(u_{xx}, uu_{x})\\checkmark$', fontsize=16, \n",
    "#                  xy=(complexity_axis[best_bc], last_ubic[best_bc]), \n",
    "#                  xytext=(complexity_axis[best_bc]+0.5, last_ubic[best_bc]+200000), \n",
    "#                  arrowprops={'arrowstyle': '->'})\n",
    "    ax.vlines(best_bc+1, min(last_ubic), max(last_ubic), color='red')\n",
    "    \n",
    "    l2, = ax2.plot(complexity_axis, b_uns, 'o--', c='blue', markerfacecolor='none', label=\"Uncertainty $\\\\textrm{U}^{k}$\")\n",
    "    s1 = ax2.scatter(complexity_axis[np.argmin(b_uns)], b_uns[np.argmin(b_uns)], c='blue')\n",
    "    ax2.tick_params(axis='y', labelcolor='blue')\n",
    "\n",
    "    ax.legend([l1, l2, s1], [f\"UBIC with $\\lambda = {round(abs(last_lam), 2)}$\", \"Uncertainty $\\\\textrm{U}^{k}$\", \"Min $\\\\textrm{U}^{k}$\"], \n",
    "              labelcolor='linecolor', loc='upper center', fontsize=12)\n",
    "    \n",
    "    plt.show()"
   ]
  },
  {
   "cell_type": "code",
   "execution_count": null,
   "id": "d8a78b86",
   "metadata": {},
   "outputs": [],
   "source": [
    "plt.plot(b_bics); plt.show()"
   ]
  },
  {
   "cell_type": "code",
   "execution_count": null,
   "id": "c2355731",
   "metadata": {},
   "outputs": [],
   "source": []
  },
  {
   "cell_type": "code",
   "execution_count": null,
   "id": "4ca5bac8",
   "metadata": {},
   "outputs": [],
   "source": []
  }
 ],
 "metadata": {
  "kernelspec": {
   "display_name": "Python [conda env:pysr_latest]",
   "language": "python",
   "name": "conda-env-pysr_latest-py"
  },
  "language_info": {
   "codemirror_mode": {
    "name": "ipython",
    "version": 3
   },
   "file_extension": ".py",
   "mimetype": "text/x-python",
   "name": "python",
   "nbconvert_exporter": "python",
   "pygments_lexer": "ipython3",
   "version": "3.11.11"
  }
 },
 "nbformat": 4,
 "nbformat_minor": 5
}
