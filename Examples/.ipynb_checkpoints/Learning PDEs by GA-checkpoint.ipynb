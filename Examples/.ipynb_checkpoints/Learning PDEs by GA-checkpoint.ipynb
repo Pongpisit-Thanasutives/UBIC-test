{
 "cells": [
  {
   "cell_type": "code",
   "execution_count": 1,
   "id": "c66886e2",
   "metadata": {},
   "outputs": [
    {
     "name": "stdout",
     "output_type": "stream",
     "text": [
      "Sklearn's version: 1.5.2\n"
     ]
    }
   ],
   "source": [
    "%matplotlib inline\n",
    "import matplotlib.pyplot as plt\n",
    "import seaborn\n",
    "\n",
    "from collections import Counter\n",
    "from typing import List\n",
    "from decimal import Decimal\n",
    "import heapq\n",
    "from tqdm import trange\n",
    "\n",
    "import sympy\n",
    "import numpy as np\n",
    "import scipy.io as sio\n",
    "import pysindy as ps\n",
    "from derivative import dxdt\n",
    "import sys; sys.path.insert(0, \"../\")\n",
    "from best_subset import ps_features, brute_force\n",
    "from sklearn.model_selection import train_test_split"
   ]
  },
  {
   "cell_type": "code",
   "execution_count": 2,
   "id": "aa6f4be5",
   "metadata": {},
   "outputs": [],
   "source": [
    "### Burgers ###\n",
    "data = sio.loadmat('../Datasets/burgers.mat')\n",
    "u = (data['usol']).real\n",
    "x = (data['x'][0]).real\n",
    "t = (data['t'][:,0]).real\n",
    "dt = t[1]-t[0]\n",
    "dx = x[2]-x[1]\n",
    "X, T = np.meshgrid(x, t)\n",
    "XT = np.asarray([X, T]).T"
   ]
  },
  {
   "cell_type": "code",
   "execution_count": 3,
   "id": "9211998a",
   "metadata": {},
   "outputs": [],
   "source": [
    "### GA (Loop of crossover -> mutation -> evaluate_genome) ###\n",
    "\n",
    "def generate_module(n_derivatives):\n",
    "    pde_module = sorted(np.random.randint(0, 3) for i in range(np.random.randint(1, n_derivatives+1)))\n",
    "    return tuple(pde_module)\n",
    "\n",
    "def generate_genome(n_modules, n_derivatives):\n",
    "    genome = fset(generate_module(n_derivatives) for _ in range(n_modules))\n",
    "    return genome\n",
    "\n",
    "def generate_chromosome(n_modules, n_derivatives, pop_size):\n",
    "    chromosome = set()\n",
    "    count = 0\n",
    "    while count < pop_size:\n",
    "        genome = generate_genome(n_modules, n_derivatives)\n",
    "        if genome not in chromosome:\n",
    "            chromosome.add(genome)\n",
    "            count += 1\n",
    "    return chromosome\n",
    "\n",
    "def display_derivative(n):\n",
    "    nx = 'x'*n\n",
    "    return sympy.symbols(f'u_{nx}')\n",
    "\n",
    "def display_module(pde_module):\n",
    "    return np.prod([display_derivative(_) for _ in pde_module])\n",
    "\n",
    "# coefficients for sorted(encoded_pde)\n",
    "def display_pde(encoded_pde, coefficients=None):\n",
    "    if coefficients is None:\n",
    "        coefficients = [1 for _ in range(len(encoded_pde))]\n",
    "    out = []\n",
    "    for module, c in zip(encoded_pde, coefficients):\n",
    "        out.append(c*display_module(module))\n",
    "    return sum(out)\n",
    "\n",
    "# not efficient: O(len(genome))\n",
    "def crossover(genome1: List, genome2: List, fs=True):\n",
    "    if genome1 != genome2:\n",
    "        while True: \n",
    "            idx1 = np.random.randint(len(genome1))\n",
    "            idx2 = np.random.randint(len(genome2))\n",
    "            if genome1[idx1] != genome2[idx2]:\n",
    "                break\n",
    "        genome1[idx1], genome2[idx2] = genome2[idx2], genome1[idx1]\n",
    "    if fs: \n",
    "        genome1, genome2 = fset(genome1), fset(genome2)\n",
    "    return genome1, genome2\n",
    "\n",
    "# in-place func\n",
    "def mutation(genome: List, n_derivatives: int, mutate_rate=0.4, fs=True):\n",
    "    # add\n",
    "    if np.random.uniform(0, 1) < mutate_rate:\n",
    "        genome.append(generate_module(n_derivatives))\n",
    "    # del\n",
    "    if np.random.uniform(0, 1) < mutate_rate:\n",
    "        lg = len(genome)\n",
    "        if lg > 0:\n",
    "            idx = np.random.randint(lg)\n",
    "            genome.pop(idx)\n",
    "    # order\n",
    "    if np.random.uniform(0, 1) < mutate_rate:\n",
    "        lg = len(genome)\n",
    "        if lg > 0: \n",
    "            i = np.random.randint(lg)\n",
    "            lg = len(genome[i])\n",
    "            if lg > 0:\n",
    "                genome[i] = list(genome[i])\n",
    "                j = np.random.randint(len(genome[i]))\n",
    "                if genome[i][j] == 0:\n",
    "                    genome[i][j] = np.random.randint(1, n_derivatives)\n",
    "                else:\n",
    "                    genome[i][j] -= 1\n",
    "                genome[i] = tuple(sorted(genome[i]))\n",
    "    if fs: \n",
    "        genome = fset(genome)\n",
    "    return genome\n",
    "\n",
    "def numericalize_module(module, base_features):\n",
    "    return np.prod([base_features[derivative] for derivative in module], axis=0)\n",
    "\n",
    "def numericalize_genome(genome, base_features):\n",
    "    return np.stack([numericalize_module(module, base_features) \n",
    "                     for module in genome], axis=-1)\n",
    "\n",
    "def compute_genome_coefficient(genome, base_features, target):\n",
    "    features = numericalize_genome(genome, base_features)\n",
    "    assert target.shape == features[:, :, 0].shape\n",
    "    n_features = features.shape[-1]\n",
    "    target = target.reshape(-1, 1)\n",
    "    features = features.reshape(-1, n_features)\n",
    "    coeff, error, _, _ = np.linalg.lstsq(features, target, rcond=None)\n",
    "    return coeff, error[0]\n",
    "\n",
    "# Computing coefficients + fitness\n",
    "def evaluate_genome(genome, base_features, target, epsilon=0):\n",
    "    coeff, mse = compute_genome_coefficient(genome, base_features, target)\n",
    "    mse = mse / np.prod(target.shape)\n",
    "    fitness = mse + abs(epsilon)*len(genome)\n",
    "    return fitness, coeff\n",
    "\n",
    "### Miscellaneous for GA ###\n",
    "def sci_format(n):\n",
    "    sf = '%.2E' % Decimal(n)\n",
    "    sf = sf.split('E')\n",
    "    return float(sf[0]), int(sf[1])\n",
    "\n",
    "def fset(ls): return frozenset(ls)"
   ]
  },
  {
   "cell_type": "code",
   "execution_count": 4,
   "id": "f5f3790d",
   "metadata": {},
   "outputs": [],
   "source": [
    "n_derivatives = 3\n",
    "n_modules = 3\n",
    "pop_size = 400\n",
    "epsilons = [10**(i-6) for i in range(1, 6)] # 1e-5 to 1e-1\n",
    "\n",
    "differentiation_method = ps.FiniteDifference(is_uniform=True)\n",
    "u_t = differentiation_method._differentiate(u.T, t).T\n",
    "u_x = differentiation_method._differentiate(u, x)\n",
    "u_xx = differentiation_method._differentiate(u_x, x)\n",
    "base_features = np.array([u, u_x, u_xx])"
   ]
  },
  {
   "cell_type": "code",
   "execution_count": 5,
   "id": "27ac2707",
   "metadata": {},
   "outputs": [
    {
     "name": "stdout",
     "output_type": "stream",
     "text": [
      "frozenset({(0, 1), (0,), (0, 0, 2)})\n",
      "(0.0003582229279224092, array([[-0.99037148],\n",
      "       [-0.00265959],\n",
      "       [ 0.17265538]]))\n"
     ]
    },
    {
     "data": {
      "text/latex": [
       "$\\displaystyle 5 u_{}^{2} u_{xx} + 3 u_{} u_{x} + 4 u_{}$"
      ],
      "text/plain": [
       "5*u_**2*u_xx + 3*u_*u_x + 4*u_"
      ]
     },
     "execution_count": 5,
     "metadata": {},
     "output_type": "execute_result"
    }
   ],
   "source": [
    "genome = generate_genome(n_modules, n_derivatives); print(genome)\n",
    "print(evaluate_genome(genome, base_features, u_t))\n",
    "display_pde(genome, [3,4,5])"
   ]
  },
  {
   "cell_type": "code",
   "execution_count": 6,
   "id": "c0d53841",
   "metadata": {},
   "outputs": [],
   "source": [
    "### testing cross over ###\n",
    "# genome2 = generate_genome(n_modules, n_derivatives); print(genome2)\n",
    "# genome, genome2 = crossover(list(genome), list(genome2))\n",
    "# genome, genome2 = fset(genome), fset(genome2)\n",
    "# print(genome, genome2)"
   ]
  },
  {
   "cell_type": "markdown",
   "id": "0737960d",
   "metadata": {},
   "source": [
    "## Cross-over-only GA ##"
   ]
  },
  {
   "cell_type": "code",
   "execution_count": 7,
   "id": "44bfd6e7",
   "metadata": {},
   "outputs": [],
   "source": [
    "# n_generations = 10\n",
    "\n",
    "# print(\"Initialization...\")\n",
    "# chrom = generate_chromosome(n_modules, n_derivatives, pop_size)\n",
    "# set_chrom = chrom.copy()\n",
    "# chrom = list(chrom)\n",
    "\n",
    "# fitnesses = [evaluate_genome(genome, base_features, u_t, epsilon=0)[0] for genome in chrom]\n",
    "# epi = 0; epi = 10**(sci_format(np.median(fitnesses))[1]-1+epi); print('epi =', epi)\n",
    "# for i in range(len(fitnesses)):\n",
    "#     fitnesses[i] += epi*len(chrom[i])\n",
    "\n",
    "# print(\"Learning PDEs...\")\n",
    "# for _ in trange(n_generations):\n",
    "#     chrom_f, chrom_m = train_test_split(chrom, test_size=0.5)\n",
    "#     children = []\n",
    "#     children_fitnesses = []\n",
    "#     for genome_f, genome_m in zip(chrom_f, chrom_m):\n",
    "#         genome_child1, genome_child2 = crossover(list(genome_f), list(genome_m))\n",
    "\n",
    "#         if genome_child1 not in set_chrom:\n",
    "#             fitness_child1, _ = evaluate_genome(genome_child1, base_features, u_t, epsilon=epi)\n",
    "#             children.append(genome_child1)\n",
    "#             children_fitnesses.append(fitness_child1)\n",
    "#             set_chrom.add(genome_child1)\n",
    "#         if genome_child2 not in set_chrom:\n",
    "#             fitness_child2, _ = evaluate_genome(genome_child2, base_features, u_t, epsilon=epi)\n",
    "#             children.append(genome_child2)\n",
    "#             children_fitnesses.append(fitness_child2)\n",
    "#             set_chrom.add(genome_child2)\n",
    "\n",
    "#     chrom_fitnesses = heapq.nsmallest(len(chrom), zip(chrom+children, fitnesses+children_fitnesses), \n",
    "#                                       key=lambda _: _[1])\n",
    "#     chrom = []\n",
    "#     fitnesses = []\n",
    "#     for genome, fitness in chrom_fitnesses:\n",
    "#         chrom.append(genome); fitnesses.append(fitness)\n",
    "    \n",
    "# assert len(chrom) == len(set(chrom))\n",
    "# aaa = chrom_fitnesses\n",
    "# chrom_fitnesses[:10]"
   ]
  },
  {
   "cell_type": "markdown",
   "id": "f63f029c",
   "metadata": {},
   "source": [
    "## GA ##"
   ]
  },
  {
   "cell_type": "code",
   "execution_count": 8,
   "id": "4a5c6d84",
   "metadata": {},
   "outputs": [
    {
     "name": "stdout",
     "output_type": "stream",
     "text": [
      "Initialization...\n",
      "epi = 1e-05\n",
      "Learning PDEs...\n"
     ]
    },
    {
     "name": "stderr",
     "output_type": "stream",
     "text": [
      "100%|████████████████████████████████████████████████████████████████████████████████████████████████████████████| 20/20 [00:07<00:00,  2.51it/s]\n"
     ]
    },
    {
     "data": {
      "text/plain": [
       "[(frozenset({(0, 1), (2,)}), 2.050332746595255e-05),\n",
       " (frozenset({(0, 1), (1, 1, 2), (2,)}), 3.041491578636353e-05),\n",
       " (frozenset({(0, 1), (1, 2), (2,)}), 3.0415188414112294e-05),\n",
       " (frozenset({(0, 1), (0, 1, 2), (2,)}), 3.0437682829447777e-05),\n",
       " (frozenset({(0, 0, 1), (0, 1), (2,)}), 3.0480306430264856e-05),\n",
       " (frozenset({(0, 0, 0), (0, 1), (2,)}), 3.048083262500738e-05),\n",
       " (frozenset({(0, 0), (0, 1), (2,)}), 3.048695770002536e-05),\n",
       " (frozenset({(0, 1), (1,), (2,)}), 3.0488302731385912e-05),\n",
       " (frozenset({(0, 1), (2,), (2, 2, 2)}), 3.049153258449998e-05),\n",
       " (frozenset({(0, 1), (1, 1, 1), (2,)}), 3.0493456169225435e-05)]"
      ]
     },
     "execution_count": 8,
     "metadata": {},
     "output_type": "execute_result"
    }
   ],
   "source": [
    "n_generations = 20\n",
    "mutate_rate = 0.4\n",
    "\n",
    "print(\"Initialization...\")\n",
    "chrom = generate_chromosome(n_modules, n_derivatives, pop_size)\n",
    "set_chrom = chrom.copy()\n",
    "chrom = list(chrom)\n",
    "\n",
    "fitnesses = [evaluate_genome(genome, base_features, u_t, epsilon=0)[0] for genome in chrom]\n",
    "epi = 0; epi = 10**(sci_format(np.median(fitnesses))[1]-1+epi); print('epi =', epi)\n",
    "for i in range(len(fitnesses)):\n",
    "    fitnesses[i] += epi*len(chrom[i])\n",
    "    \n",
    "best_chrom_fitnesses = heapq.nsmallest(len(chrom), zip(chrom, fitnesses), \n",
    "                                       key=lambda _: _[1])\n",
    "\n",
    "print(\"Learning PDEs...\")\n",
    "for _ in trange(n_generations):\n",
    "    chrom_f, chrom_m = train_test_split(chrom, test_size=0.5)\n",
    "    for genome_f, genome_m in zip(chrom_f, chrom_m):\n",
    "        genome_child1, genome_child2 = crossover(list(genome_f), list(genome_m))\n",
    "        chrom.append(genome_child1)\n",
    "        chrom.append(genome_child2)\n",
    "        if genome_child1 not in set_chrom:\n",
    "            fitness_child1, _ = evaluate_genome(genome_child1, base_features, u_t, epsilon=epi)\n",
    "            best_chrom_fitnesses.append((genome_child1, fitness_child1))\n",
    "            set_chrom.add(genome_child1)\n",
    "        if genome_child2 not in set_chrom:\n",
    "            fitness_child2, _ = evaluate_genome(genome_child2, base_features, u_t, epsilon=epi)\n",
    "            best_chrom_fitnesses.append((genome_child2, fitness_child2))\n",
    "            set_chrom.add(genome_child2)\n",
    "\n",
    "    for i in range(len(chrom)):\n",
    "        genome = list(chrom[i].copy())\n",
    "        genome = mutation(genome, n_derivatives, mutate_rate)\n",
    "        if len(genome) > 0:\n",
    "            chrom[i] = fset(genome)\n",
    "    \n",
    "    new_chrom = []; fitnesses = []\n",
    "    for i in range(len(chrom)):\n",
    "        if chrom[i] not in set_chrom:\n",
    "            fitness, _ = evaluate_genome(chrom[i], base_features, u_t, epsilon=epi)\n",
    "            best_chrom_fitnesses.append((chrom[i], fitness))\n",
    "            new_chrom.append(chrom[i])\n",
    "            fitnesses.append(fitness)\n",
    "            set_chrom.add(chrom[i])\n",
    "            \n",
    "    best_chrom_fitnesses = heapq.nsmallest(pop_size, best_chrom_fitnesses, key=lambda _ : _[1])\n",
    "    chrom_fitnesses = heapq.nsmallest(pop_size, zip(new_chrom, fitnesses), key=lambda _ : _[1])\n",
    "    chrom = []; fitnesses = []; del new_chrom\n",
    "    for genome, fitness in chrom_fitnesses:\n",
    "        chrom.append(genome); fitnesses.append(fitness)\n",
    "\n",
    "assert len(chrom) == len(set(chrom))\n",
    "bbb = best_chrom_fitnesses\n",
    "best_chrom_fitnesses[:10]"
   ]
  },
  {
   "cell_type": "code",
   "execution_count": 9,
   "id": "4e0cda27",
   "metadata": {},
   "outputs": [],
   "source": [
    "n_common = 10\n",
    "common_genomes = []\n",
    "for genome, _ in best_chrom_fitnesses:\n",
    "    common_genomes.extend([*genome])\n",
    "common_genomes = Counter(common_genomes).most_common(n_common)\n",
    "common_genomes = fset(genome for genome, _ in common_genomes)\n",
    "X_pre = numericalize_genome(common_genomes, base_features).reshape(-1, n_common)\n",
    "y_pre = u_t.reshape(-1, 1)"
   ]
  },
  {
   "cell_type": "code",
   "execution_count": null,
   "id": "d738ad50",
   "metadata": {},
   "outputs": [],
   "source": []
  },
  {
   "cell_type": "code",
   "execution_count": null,
   "id": "4f00b351",
   "metadata": {},
   "outputs": [],
   "source": []
  }
 ],
 "metadata": {
  "kernelspec": {
   "display_name": "Python [conda env:pysr_latest]",
   "language": "python",
   "name": "conda-env-pysr_latest-py"
  },
  "language_info": {
   "codemirror_mode": {
    "name": "ipython",
    "version": 3
   },
   "file_extension": ".py",
   "mimetype": "text/x-python",
   "name": "python",
   "nbconvert_exporter": "python",
   "pygments_lexer": "ipython3",
   "version": "3.11.10"
  }
 },
 "nbformat": 4,
 "nbformat_minor": 5
}
