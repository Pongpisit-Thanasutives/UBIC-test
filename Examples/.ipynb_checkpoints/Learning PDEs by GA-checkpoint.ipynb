{
 "cells": [
  {
   "cell_type": "code",
   "execution_count": 1,
   "id": "c66886e2",
   "metadata": {},
   "outputs": [
    {
     "name": "stdout",
     "output_type": "stream",
     "text": [
      "Sklearn's version: 1.5.2\n"
     ]
    }
   ],
   "source": [
    "%matplotlib inline\n",
    "import matplotlib.pyplot as plt\n",
    "import seaborn\n",
    "\n",
    "from typing import List\n",
    "from decimal import Decimal\n",
    "import heapq\n",
    "from tqdm import trange\n",
    "\n",
    "import sympy\n",
    "import numpy as np\n",
    "import scipy.io as sio\n",
    "import pysindy as ps\n",
    "from derivative import dxdt\n",
    "import sys; sys.path.insert(0, \"../\")\n",
    "from best_subset import ps_features, brute_force\n",
    "from sklearn.model_selection import train_test_split"
   ]
  },
  {
   "cell_type": "code",
   "execution_count": 2,
   "id": "aa6f4be5",
   "metadata": {},
   "outputs": [],
   "source": [
    "data = sio.loadmat('../Datasets/burgers.mat')\n",
    "u = (data['usol']).real\n",
    "x = (data['x'][0]).real\n",
    "t = (data['t'][:,0]).real\n",
    "dt = t[1]-t[0]\n",
    "dx = x[2]-x[1]\n",
    "X, T = np.meshgrid(x, t)\n",
    "XT = np.asarray([X, T]).T"
   ]
  },
  {
   "cell_type": "code",
   "execution_count": 3,
   "id": "9211998a",
   "metadata": {},
   "outputs": [],
   "source": [
    "### GA (Loop of crossover -> mutation -> evaluate_genome) ###\n",
    "\n",
    "def generate_module(n_derivatives):\n",
    "    pde_module = sorted(np.random.randint(0, 3) for i in range(np.random.randint(1, n_derivatives+1)))\n",
    "    return tuple(pde_module)\n",
    "\n",
    "def generate_genome(n_modules, n_derivatives):\n",
    "    genome = frozenset(generate_module(n_derivatives) for _ in range(n_modules))\n",
    "    return genome\n",
    "\n",
    "def generate_chromosome(n_modules, n_derivatives, pop_size):\n",
    "    chromosome = set()\n",
    "    count = 0\n",
    "    while count < pop_size:\n",
    "        genome = generate_genome(n_modules, n_derivatives)\n",
    "        if genome not in chromosome:\n",
    "            chromosome.add(genome)\n",
    "            count += 1\n",
    "    return chromosome\n",
    "\n",
    "def display_derivative(n):\n",
    "    nx = 'x'*n\n",
    "    return sympy.symbols(f'u_{nx}')\n",
    "\n",
    "def display_module(pde_module):\n",
    "    return np.prod([display_derivative(_) for _ in pde_module])\n",
    "\n",
    "# coefficients for sorted(encoded_pde)\n",
    "def display_pde(encoded_pde, coefficients=None):\n",
    "    if coefficients is None:\n",
    "        coefficients = [1 for _ in range(len(encoded_pde))]\n",
    "    out = []\n",
    "    for module, c in zip(encoded_pde, coefficients):\n",
    "        out.append(c*display_module(module))\n",
    "    return sum(out)\n",
    "\n",
    "# not efficient: O(len(genome))\n",
    "def crossover(genome1: List, genome2: List, fs=False):\n",
    "    if genome1 != genome2:\n",
    "        while True: \n",
    "            idx1 = np.random.randint(len(genome1))\n",
    "            idx2 = np.random.randint(len(genome2))\n",
    "            if genome1[idx1] != genome2[idx2]:\n",
    "                break\n",
    "        genome1[idx1], genome2[idx2] = genome2[idx2], genome1[idx1]\n",
    "    if fs: \n",
    "        genome1, genome2 = fset(genome1), fset(genome2)\n",
    "    return genome1, genome2\n",
    "\n",
    "def order_mutation(genome: List, n_derivatives: int, fs=False):\n",
    "    i = np.random.randint(len(genome))\n",
    "    genome[i] = list(genome[i])\n",
    "    j = np.random.randint(len(genome[i]))\n",
    "    if genome[i][j] == 0:\n",
    "        genome[i][j] = np.random.randint(1, n_derivatives)\n",
    "    else:\n",
    "        genome[i][j] -= 1\n",
    "    genome[i] = tuple(genome[i])\n",
    "    if fs: \n",
    "        genome = fset(genome)\n",
    "    return genome\n",
    "\n",
    "# in-place func\n",
    "def add_mutation(genome: List, n_derivatives, fs=False):\n",
    "    genome.append(generate_module(n_derivatives))\n",
    "    if fs: \n",
    "        genome = fset(genome)\n",
    "    return genome\n",
    "\n",
    "# in-place func\n",
    "def del_mutation(genome: List):\n",
    "    idx = np.random.randint(len(genome))\n",
    "    genome.pop(idx)\n",
    "    if fs: \n",
    "        genome = fset(genome)\n",
    "    return genome\n",
    "\n",
    "def numericalize_genome(genome, base_features):\n",
    "    return np.stack([np.prod([base_features[derivative] for derivative in module], axis=0) \n",
    "                     for module in genome], axis=-1)\n",
    "\n",
    "def compute_genome_coefficient(genome, base_features, target):\n",
    "    features = numericalize_genome(genome, base_features)\n",
    "    assert target.shape == features[:, :, 0].shape\n",
    "    n_features = features.shape[-1]\n",
    "    target = target.reshape(-1, 1)\n",
    "    features = features.reshape(-1, n_features)\n",
    "    coeff, error, _, _ = np.linalg.lstsq(features, target, rcond=None)\n",
    "    return coeff, error[0]\n",
    "\n",
    "# Computing coefficients + fitness\n",
    "def evaluate_genome(genome, base_features, target, epsilon=0):\n",
    "    coeff, mse = compute_genome_coefficient(genome, base_features, target)\n",
    "    mse = mse / np.prod(target.shape)\n",
    "    fitness = mse + abs(epsilon)*len(genome)\n",
    "    return fitness, coeff\n",
    "\n",
    "### Miscellaneous for GA ###\n",
    "def sci_format(n):\n",
    "    sf = '%.2E' % Decimal(n)\n",
    "    sf = sf.split('E')\n",
    "    return float(sf[0]), int(sf[1])\n",
    "\n",
    "def fset(ls): return frozenset(ls)"
   ]
  },
  {
   "cell_type": "code",
   "execution_count": 4,
   "id": "f5f3790d",
   "metadata": {},
   "outputs": [],
   "source": [
    "n_derivatives = 3\n",
    "n_modules = 3\n",
    "pop_size = 400\n",
    "epsilons = [10**(i-6) for i in range(1, 6)] # 1e-5 to 1e-1\n",
    "\n",
    "differentiation_method = ps.FiniteDifference(is_uniform=True)\n",
    "u_t = differentiation_method._differentiate(u.T, t).T\n",
    "u_x = differentiation_method._differentiate(u, x)\n",
    "u_xx = differentiation_method._differentiate(u_x, x)\n",
    "base_features = np.array([u, u_x, u_xx])"
   ]
  },
  {
   "cell_type": "code",
   "execution_count": 5,
   "id": "27ac2707",
   "metadata": {},
   "outputs": [
    {
     "name": "stdout",
     "output_type": "stream",
     "text": [
      "frozenset({(0,), (1,), (0, 1, 2)})\n",
      "(0.0007209483954124982, array([[-0.0599954 ],\n",
      "       [-0.36957037],\n",
      "       [ 0.09727964]]))\n"
     ]
    },
    {
     "data": {
      "text/latex": [
       "$\\displaystyle 5 u_{} u_{x} u_{xx} + 3 u_{} + 4 u_{x}$"
      ],
      "text/plain": [
       "5*u_*u_x*u_xx + 3*u_ + 4*u_x"
      ]
     },
     "execution_count": 5,
     "metadata": {},
     "output_type": "execute_result"
    }
   ],
   "source": [
    "genome = generate_genome(n_modules, n_derivatives); print(genome)\n",
    "print(evaluate_genome(genome, base_features, u_t))\n",
    "display_pde(genome, [3,4,5])"
   ]
  },
  {
   "cell_type": "code",
   "execution_count": 6,
   "id": "c0d53841",
   "metadata": {},
   "outputs": [],
   "source": [
    "### testing cross over ###\n",
    "# genome2 = generate_genome(n_modules, n_derivatives); print(genome2)\n",
    "# genome, genome2 = crossover(list(genome), list(genome2))\n",
    "# genome, genome2 = fset(genome), fset(genome2)\n",
    "# print(genome, genome2)"
   ]
  },
  {
   "cell_type": "markdown",
   "id": "0737960d",
   "metadata": {},
   "source": [
    "## GA ##"
   ]
  },
  {
   "cell_type": "code",
   "execution_count": 7,
   "id": "44bfd6e7",
   "metadata": {},
   "outputs": [
    {
     "name": "stdout",
     "output_type": "stream",
     "text": [
      "Initialization...\n",
      "epi = 0.0001\n",
      "Learning PDEs...\n"
     ]
    },
    {
     "name": "stderr",
     "output_type": "stream",
     "text": [
      "100%|█████████████████████████████████████████████████████████████████████████████████████████████████████████████████████| 10/10 [00:00<00:00, 13.05it/s]\n"
     ]
    },
    {
     "data": {
      "text/plain": [
       "[(frozenset({(0, 1), (2,)}), 0.00020050332746595256),\n",
       " (frozenset({(0, 1), (1, 1, 2), (2,)}), 0.00030041491578636356),\n",
       " (frozenset({(0, 1), (1, 2), (2,)}), 0.00030041518841411233),\n",
       " (frozenset({(0, 1), (0, 1, 2), (2,)}), 0.0003004376828294478),\n",
       " (frozenset({(0, 0, 1), (0, 1), (2,)}), 0.0003004803064302649),\n",
       " (frozenset({(0, 0, 0), (0, 1), (2,)}), 0.0003004808326250074),\n",
       " (frozenset({(0, 0), (0, 1), (2,)}), 0.0003004869577000254),\n",
       " (frozenset({(0, 1), (1,), (2,)}), 0.0003004883027313859),\n",
       " (frozenset({(0, 1), (2,), (2, 2, 2)}), 0.0003004915325845),\n",
       " (frozenset({(0, 1), (1, 1, 1), (2,)}), 0.0003004934561692255)]"
      ]
     },
     "execution_count": 7,
     "metadata": {},
     "output_type": "execute_result"
    }
   ],
   "source": [
    "print(\"Initialization...\")\n",
    "chrom = generate_chromosome(n_modules, n_derivatives, pop_size)\n",
    "set_chrom = chrom.copy()\n",
    "chrom = list(chrom)\n",
    "\n",
    "fitnesses = [evaluate_genome(genome, base_features, u_t, epsilon=0)[0] for genome in chrom]\n",
    "epi = 0; epi = 10**(sci_format(np.median(fitnesses))[1]-1+epi); print('epi =', epi)\n",
    "for i in range(len(fitnesses)):\n",
    "    fitnesses[i] += epi*len(chrom[i])\n",
    "\n",
    "print(\"Learning PDEs...\")\n",
    "for _ in trange(10):\n",
    "    chrom_f, chrom_m = train_test_split(chrom, test_size=0.5)\n",
    "    children = []\n",
    "    children_fitnesses = []\n",
    "    for genome_f, genome_m in zip(chrom_f, chrom_m):\n",
    "        genome_child1, genome_child2 = crossover(list(genome_f), list(genome_m))\n",
    "        genome_child1, genome_child2 = fset(genome_child1), fset(genome_child2)\n",
    "\n",
    "        if genome_child1 not in set_chrom:\n",
    "            fitness_child1, _ = evaluate_genome(genome_child1, base_features, u_t, epsilon=epi)\n",
    "            children.append(genome_child1)\n",
    "            children_fitnesses.append(fitness_child1)\n",
    "            set_chrom.add(genome_child1)\n",
    "        if genome_child2 not in set_chrom:\n",
    "            fitness_child2, _ = evaluate_genome(genome_child2, base_features, u_t, epsilon=epi)\n",
    "            children.append(genome_child2)\n",
    "            children_fitnesses.append(fitness_child2)\n",
    "            set_chrom.add(genome_child2)\n",
    "\n",
    "    chrom_fitnesses = heapq.nsmallest(len(chrom), zip(chrom+children, fitnesses+children_fitnesses), \n",
    "                                      key=lambda _: _[1])\n",
    "    chrom = []\n",
    "    fitnesses = []\n",
    "    for genome, fitness in chrom_fitnesses:\n",
    "        chrom.append(genome); fitnesses.append(fitness)\n",
    "    \n",
    "assert len(chrom) == len(set(chrom))\n",
    "chrom_fitnesses[:10]"
   ]
  },
  {
   "cell_type": "code",
   "execution_count": null,
   "id": "69086ba5",
   "metadata": {},
   "outputs": [],
   "source": []
  },
  {
   "cell_type": "code",
   "execution_count": null,
   "id": "9387d734",
   "metadata": {},
   "outputs": [],
   "source": []
  }
 ],
 "metadata": {
  "kernelspec": {
   "display_name": "Python [conda env:pysr_latest]",
   "language": "python",
   "name": "conda-env-pysr_latest-py"
  },
  "language_info": {
   "codemirror_mode": {
    "name": "ipython",
    "version": 3
   },
   "file_extension": ".py",
   "mimetype": "text/x-python",
   "name": "python",
   "nbconvert_exporter": "python",
   "pygments_lexer": "ipython3",
   "version": "3.11.10"
  }
 },
 "nbformat": 4,
 "nbformat_minor": 5
}
