{
 "cells": [
  {
   "cell_type": "code",
   "execution_count": 1,
   "id": "c66886e2",
   "metadata": {},
   "outputs": [
    {
     "name": "stdout",
     "output_type": "stream",
     "text": [
      "Sklearn's version: 1.5.2\n"
     ]
    }
   ],
   "source": [
    "import sympy\n",
    "import numpy as np\n",
    "import scipy.io as sio\n",
    "import pysindy as ps\n",
    "from derivative import dxdt\n",
    "import sys; sys.path.insert(0, \"../\")\n",
    "from best_subset import ps_features, brute_force"
   ]
  },
  {
   "cell_type": "code",
   "execution_count": 2,
   "id": "aa6f4be5",
   "metadata": {},
   "outputs": [],
   "source": [
    "data = sio.loadmat('../Datasets/burgers.mat')\n",
    "u = (data['usol']).real\n",
    "x = (data['x'][0]).real\n",
    "t = (data['t'][:,0]).real\n",
    "dt = t[1]-t[0]\n",
    "dx = x[2]-x[1]\n",
    "X, T = np.meshgrid(x, t)\n",
    "XT = np.asarray([X, T]).T"
   ]
  },
  {
   "cell_type": "code",
   "execution_count": 3,
   "id": "9211998a",
   "metadata": {},
   "outputs": [],
   "source": [
    "def generate_module(n_derivatives):\n",
    "    pde_module = sorted(np.random.randint(0, 3) for i in range(np.random.randint(1, n_derivatives+1)))\n",
    "    # print(pde_module)\n",
    "    return tuple(pde_module)\n",
    "\n",
    "def generate_genome(n_modules, n_derivatives, sort=False):\n",
    "    genome = {generate_module(n_derivatives) for _ in range(n_modules)}\n",
    "    if sort: return sorted(genome)\n",
    "    return genome\n",
    "\n",
    "def display_derivative(n):\n",
    "    nx = 'x'*n\n",
    "    return sympy.symbols(f'u_{nx}')\n",
    "\n",
    "def display_module(pde_module):\n",
    "    return np.prod([display_derivative(_) for _ in pde_module])\n",
    "\n",
    "# coefficients for sorted(encoded_pde)\n",
    "def display_pde(encoded_pde, coefficients=None):\n",
    "    if coefficients is None:\n",
    "        coefficients = [1 for _ in range(len(encoded_pde))]\n",
    "    out = []\n",
    "    for module, c in zip(encoded_pde, coefficients):\n",
    "        out.append(c*display_module(module))\n",
    "    return sum(out)\n",
    "\n",
    "def fitness(encoded_pde, coefficients=None):\n",
    "    return \n",
    "\n",
    "def crossover():\n",
    "    return\n",
    "\n",
    "# Order mutation, Add mutation, Delete mutation\n",
    "def mutation():\n",
    "    return\n"
   ]
  },
  {
   "cell_type": "code",
   "execution_count": 4,
   "id": "f5f3790d",
   "metadata": {},
   "outputs": [
    {
     "data": {
      "text/latex": [
       "$\\displaystyle 5 u_{} u_{x} + 3 u_{} + 4 u_{xx}$"
      ],
      "text/plain": [
       "5*u_*u_x + 3*u_ + 4*u_xx"
      ]
     },
     "execution_count": 4,
     "metadata": {},
     "output_type": "execute_result"
    }
   ],
   "source": [
    "n_derivatives = 3\n",
    "n_modules = 3\n",
    "genome = generate_genome(n_modules, n_derivatives)\n",
    "display_pde(genome, [3,4,5])"
   ]
  },
  {
   "cell_type": "code",
   "execution_count": 5,
   "id": "6eb48de1",
   "metadata": {},
   "outputs": [],
   "source": [
    "differentiation_method = ps.FiniteDifference(is_uniform=True)\n",
    "u_t = differentiation_method._differentiate(u.T, t).T\n",
    "u_x = differentiation_method._differentiate(u, x)\n",
    "u_xx = differentiation_method._differentiate(u_x, x)"
   ]
  },
  {
   "cell_type": "code",
   "execution_count": 6,
   "id": "d8a0be45",
   "metadata": {},
   "outputs": [
    {
     "data": {
      "text/plain": [
       "(array([[-1.00037321],\n",
       "        [ 0.10117596]]),\n",
       " 0.01301403495966908)"
      ]
     },
     "execution_count": 6,
     "metadata": {},
     "output_type": "execute_result"
    }
   ],
   "source": [
    "coeff, error, _, _ = np.linalg.lstsq(np.hstack([(u*u_x).reshape(-1, 1), u_xx.reshape(-1, 1)]), \n",
    "                                     u_t.reshape(-1, 1), rcond=None)\n",
    "coeff, error[0]"
   ]
  },
  {
   "cell_type": "code",
   "execution_count": null,
   "id": "032f66a8",
   "metadata": {},
   "outputs": [],
   "source": []
  },
  {
   "cell_type": "code",
   "execution_count": null,
   "id": "f781a398",
   "metadata": {},
   "outputs": [],
   "source": []
  }
 ],
 "metadata": {
  "kernelspec": {
   "display_name": "Python [conda env:pysr_latest]",
   "language": "python",
   "name": "conda-env-pysr_latest-py"
  },
  "language_info": {
   "codemirror_mode": {
    "name": "ipython",
    "version": 3
   },
   "file_extension": ".py",
   "mimetype": "text/x-python",
   "name": "python",
   "nbconvert_exporter": "python",
   "pygments_lexer": "ipython3",
   "version": "3.11.10"
  }
 },
 "nbformat": 4,
 "nbformat_minor": 5
}
