{
 "cells": [
  {
   "cell_type": "code",
   "execution_count": 1,
   "id": "5c8736f7-3fcd-49e0-9367-6a3627c14b26",
   "metadata": {},
   "outputs": [
    {
     "name": "stdout",
     "output_type": "stream",
     "text": [
      "Sklearn's version: 1.4.0\n"
     ]
    }
   ],
   "source": [
    "%matplotlib inline\n",
    "import matplotlib.pyplot as plt\n",
    "import warnings; warnings.filterwarnings(\"ignore\")\n",
    "\n",
    "import os\n",
    "import sys; sys.path.append('../')\n",
    "import numpy as np\n",
    "from numpy.random import default_rng\n",
    "\n",
    "import scipy.io as sio\n",
    "from scipy.stats import wilcoxon\n",
    "import pysindy as ps\n",
    "from PDE_FIND import build_linear_system, print_pde, TrainSTRidge, measure_pce\n",
    "from best_subset import *\n",
    "from frols import frols\n",
    "from UBIC import *\n",
    "from solvel0 import solvel0\n",
    "from findiff import FinDiff\n",
    "import sgolay2\n",
    "\n",
    "from sklearn.utils.random import sample_without_replacement\n",
    "from sklearn.utils import resample, shuffle\n",
    "\n",
    "from ICOMP import *\n",
    "# https://github.com/Pongpisit-Thanasutives/ICOMP\n",
    "import sys; sys.path.append('/Users/pongpisit/Documents/github/ICOMP/')\n",
    "from icomp_lm import *\n",
    "from mdl_comp import *"
   ]
  },
  {
   "cell_type": "markdown",
   "id": "5ddb3bc6",
   "metadata": {},
   "source": [
    "#### Load data"
   ]
  },
  {
   "cell_type": "code",
   "execution_count": 2,
   "id": "0e366b04-cdf3-40e8-9cfc-b0e0c25ea165",
   "metadata": {},
   "outputs": [],
   "source": [
    "n = 128\n",
    "data = sio.loadmat(f\"../../PDE-FIND/Datasets/reaction_diffusion_3d_{n}.mat\")\n",
    "u_sol = (data['usol']).real\n",
    "v_sol = (data['vsol']).real\n",
    "x = (data['x'][0]).real\n",
    "y = (data['y'][0]).real\n",
    "z = (data['z'][0]).real\n",
    "t = (data['t'][0]).real\n",
    "\n",
    "del data\n",
    "\n",
    "dt = t[1] - t[0]\n",
    "dx = x[1] - x[0]\n",
    "dy = y[1] - y[0]\n",
    "dz = z[1] - z[0]\n",
    "\n",
    "# Ground truth\n",
    "ground_indices_u = (0, 1, 5, 9, 15, 23)\n",
    "ground_coeff_u = np.array([0.014, -0.014, -1.000, 0.020, 0.020, 0.020])\n",
    "ground_indices_v = (2, 5, 10, 16, 24)\n",
    "ground_coeff_v = np.array([-0.067, 1.0, 0.01, 0.01, 0.01])"
   ]
  },
  {
   "cell_type": "code",
   "execution_count": 3,
   "id": "51a0a7f1-5302-46c7-9974-0466b1de2282",
   "metadata": {},
   "outputs": [],
   "source": [
    "time = t\n",
    "u = np.zeros((n, n, n, len(time), 2))\n",
    "u[:, :, :, :, 0] = u_sol\n",
    "u[:, :, :, :, 1] = v_sol\n",
    "\n",
    "# Odd polynomial terms in (u, v), up to second order derivatives in (u, v)\n",
    "library_functions = [\n",
    "    lambda x: x,\n",
    "    lambda x: x * x * x,\n",
    "    lambda x, y: x * y * y,\n",
    "    lambda x, y: x * x * y,\n",
    "]\n",
    "library_function_names = [\n",
    "    lambda x: x,\n",
    "    lambda x: x + x + x,\n",
    "    lambda x, y: x + y + y,\n",
    "    lambda x, y: x + x + y,\n",
    "]\n",
    "\n",
    "# Need to define the 2D spatial grid before calling the library\n",
    "X, Y, Z, T = np.meshgrid(x, y, z, time, indexing=\"ij\")\n",
    "spatiotemporal_grid = np.asarray([X, Y, Z, T])\n",
    "spatiotemporal_grid = np.transpose(spatiotemporal_grid, axes=[1, 2, 3, 4, 0])\n",
    "weak_lib = ps.WeakPDELibrary(\n",
    "    library_functions=library_functions,\n",
    "    function_names=library_function_names,\n",
    "    derivative_order=2,\n",
    "    spatiotemporal_grid=spatiotemporal_grid,\n",
    "    is_uniform=True,\n",
    "    include_interaction=False,\n",
    "    include_bias=True,\n",
    "    periodic=True,\n",
    "    K=10000,\n",
    "    cache=True\n",
    ")"
   ]
  },
  {
   "cell_type": "markdown",
   "id": "c7189a62",
   "metadata": {},
   "source": [
    "#### Add noise"
   ]
  },
  {
   "cell_type": "code",
   "execution_count": 4,
   "id": "7ad8b85d-f21a-491d-ad42-d1c604f86f66",
   "metadata": {},
   "outputs": [],
   "source": [
    "np.random.seed(100)\n",
    "noise_lv = 0.1\n",
    "domain_noise = 0.01*np.abs(noise_lv)*np.std(u)*np.random.randn(*u.shape)\n",
    "u = u + domain_noise"
   ]
  },
  {
   "cell_type": "markdown",
   "id": "874e4593",
   "metadata": {},
   "source": [
    "#### Denoise"
   ]
  },
  {
   "cell_type": "code",
   "execution_count": 5,
   "id": "13716122",
   "metadata": {},
   "outputs": [
    {
     "name": "stderr",
     "output_type": "stream",
     "text": [
      "100%|████████████████████████████████████████████████████████████████████████████████████████████| 100/100 [00:19<00:00,  5.26it/s]\n",
      "100%|████████████████████████████████████████████████████████████████████████████████████████████| 100/100 [00:17<00:00,  5.56it/s]\n"
     ]
    }
   ],
   "source": [
    "denoise = True\n",
    "if denoise: \n",
    "    un = u[:, :, :, :, 0]\n",
    "    vn = u[:, :, :, :, 1]\n",
    "\n",
    "    div = 30\n",
    "    ws = max(un.shape[:-2])//div; po = 5\n",
    "    if ws%2 == 0: ws -=1\n",
    "\n",
    "    nun = np.zeros_like(un)\n",
    "    for i in trange(un.shape[-1]):\n",
    "        for j in range(un.shape[-2]):\n",
    "            nun[:, :, j, i] = sgolay2.SGolayFilter2(window_size=ws, poly_order=po)(un[:, :, j, i])\n",
    "    un = nun.copy()\n",
    "    del nun\n",
    "    \n",
    "    nvn = np.zeros_like(vn)\n",
    "    for i in trange(vn.shape[-1]):\n",
    "        for j in range(vn.shape[-2]):\n",
    "            nvn[:, :, j, i] = sgolay2.SGolayFilter2(window_size=ws, poly_order=po)(vn[:, :, j, i])\n",
    "    vn = nvn.copy()\n",
    "    del nvn\n",
    "    \n",
    "    dim = 10\n",
    "\n",
    "    un = un.reshape(-1, len(t))\n",
    "    uun, sigmaun, vun = np.linalg.svd(un, full_matrices=False); vun = vun.T\n",
    "    un = uun[:,0: dim].dot(np.diag(sigmaun[0:dim]).dot(vun[:,0:dim].T))\n",
    "    un = un.reshape(len(x), len(y), len(z), len(t))\n",
    "\n",
    "    vn = vn.reshape(-1, len(t))\n",
    "    uvn, sigmavn, vvn = np.linalg.svd(vn, full_matrices=False); vvn = vvn.T\n",
    "    vn = uvn[:,0: dim].dot(np.diag(sigmavn[0:dim]).dot(vvn[:,0:dim].T))\n",
    "    vn = vn.reshape(len(x), len(y), len(z), len(t))\n",
    "\n",
    "    u = np.stack([un, vn], axis=-1)\n",
    "    del un, vn"
   ]
  },
  {
   "cell_type": "markdown",
   "id": "4add67a5",
   "metadata": {},
   "source": [
    "#### Applying best-subset regression on the weak formulation"
   ]
  },
  {
   "cell_type": "code",
   "execution_count": 6,
   "id": "65df608d",
   "metadata": {},
   "outputs": [],
   "source": [
    "# optimizer = ps.SR3(threshold=1e-5, normalize_columns=True, max_iter=100)\n",
    "# model = ps.SINDy(feature_library=weak_lib, optimizer=optimizer, cache=True)\n",
    "# model.fit(u, ensemble=False, library_ensemble=True)\n",
    "# model.print()\n",
    "# X_pre, y_pre = model.feature_library.cached_xp_full[0], model.cached_x_dot"
   ]
  },
  {
   "cell_type": "code",
   "execution_count": 7,
   "id": "91077b16",
   "metadata": {},
   "outputs": [
    {
     "data": {
      "text/plain": [
       "array(['1', 'x0', 'x1', 'x0x0x0', 'x1x1x1', 'x0x1x1', 'x0x0x1', 'x0_3',\n",
       "       'x1_3', 'x0_33', 'x1_33', 'x0_2', 'x1_2', 'x0_23', 'x1_23',\n",
       "       'x0_22', 'x1_22', 'x0_1', 'x1_1', 'x0_13', 'x1_13', 'x0_12',\n",
       "       'x1_12', 'x0_11', 'x1_11'], dtype='<U6')"
      ]
     },
     "execution_count": 7,
     "metadata": {},
     "output_type": "execute_result"
    }
   ],
   "source": [
    "# np.save(\"X_weak_GS.npy\", X_pre)\n",
    "# np.save(\"y_weak_GS.npy\", y_pre)\n",
    "# np.save(\"feature_names_GS.npy\", np.array(model.get_feature_names()), allow_pickle=True)\n",
    "\n",
    "### load ###\n",
    "X_pre = np.load(\"X_weak_GS.npy\")\n",
    "y_pre = np.load(\"y_weak_GS.npy\")\n",
    "feature_names = np.load(\"feature_names_GS.npy\")\n",
    "feature_names"
   ]
  },
  {
   "cell_type": "code",
   "execution_count": 8,
   "id": "19450be1",
   "metadata": {},
   "outputs": [
    {
     "name": "stderr",
     "output_type": "stream",
     "text": [
      "100%|██████████████████████████████████████████████████████████████████████████████████████████████| 12/12 [00:03<00:00,  3.19it/s]\n",
      "100%|██████████████████████████████████████████████████████████████████████████████████████████████| 12/12 [00:04<00:00,  2.77it/s]\n"
     ]
    }
   ],
   "source": [
    "max_complexity = 12\n",
    "\n",
    "target_index = 0\n",
    "frols_coeffs,selected_inds_list,_,_,_ = frols(y_pre[:, target_index:target_index+1], X_pre, \n",
    "                                              max_nonzeros=max_complexity)\n",
    "selected_inds_list = set(selected_inds_list)\n",
    "ever = reduce(np.union1d, selected_inds_list)\n",
    "_, bs = brute_force_all_subsets(X_pre[:, ever], \n",
    "                                y_pre[:, target_index:target_index+1], \n",
    "                                max_support_size=max_complexity)\n",
    "best_subsets_u = [tuple(ever[list(b)]) for b in bs]\n",
    "del bs\n",
    "\n",
    "target_index = 1\n",
    "frols_coeffs,selected_inds_list,_,_,_ = frols(y_pre[:, target_index:target_index+1], X_pre, \n",
    "                                              max_nonzeros=max_complexity)\n",
    "selected_inds_list = set(selected_inds_list)\n",
    "ever = reduce(np.union1d, selected_inds_list)\n",
    "_, bs = brute_force_all_subsets(X_pre[:, ever], \n",
    "                                y_pre[:, target_index:target_index+1], \n",
    "                                max_support_size=max_complexity)\n",
    "best_subsets_v = [tuple(ever[list(b)]) for b in bs]\n",
    "del bs"
   ]
  },
  {
   "cell_type": "code",
   "execution_count": 9,
   "id": "d563c662",
   "metadata": {},
   "outputs": [],
   "source": [
    "u_pre, v_pre = y_pre[:, 0:1], y_pre[:, 1:2]\n",
    "del y_pre"
   ]
  },
  {
   "cell_type": "markdown",
   "id": "6db6f1aa",
   "metadata": {},
   "source": [
    "#### Model selection by the UBIC (Algorithm 1)"
   ]
  },
  {
   "cell_type": "code",
   "execution_count": 10,
   "id": "78d5bbd6",
   "metadata": {},
   "outputs": [
    {
     "name": "stdout",
     "output_type": "stream",
     "text": [
      "0.10925260365398093\n",
      "5 <---> 5 inf\n",
      "5 <---> 5 inf\n",
      "5 <---> 7 6.683316041602188e-06\n"
     ]
    },
    {
     "data": {
      "text/plain": [
       "(1.51091558,\n",
       " array([-177182.63632385, -180630.49614514, -200397.54895973,\n",
       "        -246445.9384504 , -269219.45343236, -313768.41966723,\n",
       "        -313765.89374289, -313760.96704891, -313738.3154861 ,\n",
       "        -313720.42329927, -313704.7567781 , -313687.37598727]),\n",
       " 5)"
      ]
     },
     "execution_count": 10,
     "metadata": {},
     "output_type": "execute_result"
    }
   ],
   "source": [
    "tau = 3; per = 75 # 85\n",
    "scale = np.log(len(u_pre))\n",
    "# scale = 1\n",
    "\n",
    "post_means, b_bics, b_uns = baye_uncertainties(best_subsets_u, (X_pre, u_pre), u_type='cv1', take_sqrt=True)\n",
    "predictions = X_pre@post_means\n",
    "\n",
    "b_bics = np.array(b_bics)\n",
    "complexities = np.array([len(bs) for bs in best_subsets_u])\n",
    "d_complexities = complexities[decreasing_values_indices(b_bics)]\n",
    "d_bics = b_bics[decreasing_values_indices(b_bics)]\n",
    "thres = np.percentile(np.abs(np.diff(d_bics)/(np.diff(d_complexities)*d_bics[:-1])), per)\n",
    "# thres = 0.02\n",
    "print(thres)\n",
    "\n",
    "lower_bounds = []\n",
    "for k, efi in enumerate(best_subsets_u):\n",
    "    com = len(efi)\n",
    "    assert com == np.count_nonzero(post_means[:, k:k+1])\n",
    "    # lower_bound = 2*log_like_value(predictions[:, k:k+1], u_pre)/np.log(len(u_pre))-com\n",
    "    lower_bound = 2*np.abs(log_like_value(predictions[:, k:k+1], u_pre))-np.log(len(u_pre))*com\n",
    "    lower_bounds.append(lower_bound)\n",
    "    \n",
    "last_lam = np.log10(max(lower_bounds/(b_uns*scale)))\n",
    "delta = last_lam/tau\n",
    "now_lam = last_lam-delta\n",
    "last_ubic = UBIC(b_bics, b_uns, len(u_pre), hyp=10**last_lam, scale=scale)\n",
    "last_bc = np.argmin(last_ubic)\n",
    "while now_lam >= 0:\n",
    "    now_ubic = UBIC(b_bics, b_uns, len(u_pre), hyp=10**now_lam, scale=scale)\n",
    "    now_bc = np.argmin(now_ubic)\n",
    "    \n",
    "    diff_com = now_bc-last_bc\n",
    "    diff_bic = b_bics[now_bc]-b_bics[last_bc]\n",
    "    imp = abs(diff_bic/(b_bics[last_bc]*diff_com))\n",
    "    print(min(last_bc, now_bc), '<--->', max(last_bc, now_bc), np.nan_to_num(imp, nan=np.inf))\n",
    "\n",
    "    if (diff_com > 0 and (diff_bic > 0 or imp < thres)) or \\\n",
    "        (diff_com < 0 and diff_bic > 0 and imp > thres):\n",
    "        break\n",
    "    \n",
    "    last_lam = now_lam\n",
    "    now_lam = round(last_lam-delta, 8)\n",
    "    last_ubic = now_ubic\n",
    "    last_bc = now_bc\n",
    "    \n",
    "best_bc = last_bc\n",
    "if abs((b_bics[last_bc]-b_bics[last_bc-1])/b_bics[last_bc-1]) < thres:\n",
    "    best_bc = best_bc - 1\n",
    "\n",
    "last_lam = round(last_lam, 8)\n",
    "if last_lam == 0: last_lam = abs(last_lam)\n",
    "last_lam_d_u = last_lam\n",
    "last_ubic_d_u = last_ubic\n",
    "last_bc_d_u = last_bc\n",
    "uns_u = b_uns\n",
    "last_lam, last_ubic, last_bc"
   ]
  },
  {
   "cell_type": "code",
   "execution_count": 11,
   "id": "fca396c4",
   "metadata": {},
   "outputs": [],
   "source": [
    "# tau = 3; per = 75 # 85\n",
    "# scale = np.log(len(u_pre))\n",
    "# # scale = 1\n",
    "\n",
    "# post_means, b_bics, b_uns = baye_uncertainties(best_subsets_u, (X_pre, u_pre), u_type='cv1', take_sqrt=True)\n",
    "# predictions = X_pre@post_means\n",
    "\n",
    "# b_bics = np.array(b_bics)\n",
    "# complexities = np.array([len(bs) for bs in best_subsets_u])\n",
    "# d_complexities = complexities[decreasing_values_indices(b_bics)]\n",
    "# d_bics = b_bics[decreasing_values_indices(b_bics)]\n",
    "# thres = np.percentile(np.abs(np.diff(d_bics)/(np.diff(d_complexities)*d_bics[:-1])), per)\n",
    "# # thres = 0.02\n",
    "# print(thres)\n",
    "\n",
    "# lower_bounds = []\n",
    "# for k, efi in enumerate(best_subsets_u):\n",
    "#     com = len(efi)\n",
    "#     assert com == np.count_nonzero(post_means[:, k:k+1])\n",
    "#     # lower_bound = 2*log_like_value(predictions[:, k:k+1], u_pre)/np.log(len(u_pre))-com\n",
    "#     lower_bound = 2*log_like_value(predictions[:, k:k+1], u_pre)-np.log(len(u_pre))*com\n",
    "#     lower_bounds.append(lower_bound)\n",
    "    \n",
    "# last_lam = np.log10(max(lower_bounds/(b_uns*scale)))\n",
    "# delta = last_lam/tau\n",
    "# now_lam = last_lam-delta\n",
    "# last_ubic = UBIC(b_bics, b_uns, len(u_pre), hyp=10**last_lam, scale=scale)\n",
    "# last_bc = np.argmin(last_ubic)\n",
    "# while now_lam > 0:\n",
    "#     now_ubic = UBIC(b_bics, b_uns, len(u_pre), hyp=10**now_lam, scale=scale)\n",
    "#     now_bc = np.argmin(now_ubic)\n",
    "    \n",
    "#     diff_com = now_bc-last_bc\n",
    "#     diff_bic = b_bics[now_bc]-b_bics[last_bc]\n",
    "#     imp = abs(diff_bic/(b_bics[last_bc]*diff_com))\n",
    "#     print(min(last_bc, now_bc), '<--->', max(last_bc, now_bc), np.nan_to_num(imp, nan=np.inf))\n",
    "\n",
    "#     if (diff_com > 0 and (diff_bic > 0 or imp < thres)) or \\\n",
    "#         (diff_com < 0 and diff_bic > 0 and imp > thres):\n",
    "#         break\n",
    "    \n",
    "#     last_lam = now_lam\n",
    "#     now_lam = last_lam-delta\n",
    "#     last_ubic = now_ubic\n",
    "#     last_bc = now_bc\n",
    "    \n",
    "# best_bc = last_bc\n",
    "# if abs((b_bics[last_bc]-b_bics[last_bc-1])/b_bics[last_bc-1]) < thres:\n",
    "#     best_bc = best_bc - 1\n",
    "\n",
    "# last_lam = round(last_lam, 10)\n",
    "# last_lam_d_u = last_lam\n",
    "# last_ubic_d_u = last_ubic\n",
    "# last_bc_d_u = last_bc\n",
    "# uns_u = b_uns\n",
    "# last_lam, last_ubic, last_bc"
   ]
  },
  {
   "cell_type": "code",
   "execution_count": 12,
   "id": "e5c2a84d",
   "metadata": {},
   "outputs": [
    {
     "name": "stdout",
     "output_type": "stream",
     "text": [
      "0.12967723653255891\n",
      "4 <---> 4 inf\n",
      "4 <---> 4 inf\n",
      "4 <---> 5 2.3380949237525188e-05\n"
     ]
    },
    {
     "data": {
      "text/plain": [
       "(1.51639342,\n",
       " array([-153799.23831875, -131038.68140891, -186031.32545695,\n",
       "        -244750.30446224, -325876.50056619, -325875.44819373,\n",
       "        -325862.67696445, -325684.58492468, -325654.30048313,\n",
       "        -325636.80682578, -325587.52129761, -325556.21240133]),\n",
       " 4)"
      ]
     },
     "execution_count": 12,
     "metadata": {},
     "output_type": "execute_result"
    }
   ],
   "source": [
    "tau = 3; per = 75 # 85\n",
    "scale = np.log(len(v_pre))\n",
    "# scale = 1\n",
    "\n",
    "post_means, b_bics, b_uns = baye_uncertainties(best_subsets_v, (X_pre, v_pre), u_type='cv1', take_sqrt=True)\n",
    "predictions = X_pre@post_means\n",
    "\n",
    "b_bics = np.array(b_bics)\n",
    "complexities = np.array([len(bs) for bs in best_subsets_v])\n",
    "d_complexities = complexities[decreasing_values_indices(b_bics)]\n",
    "d_bics = b_bics[decreasing_values_indices(b_bics)]\n",
    "thres = np.percentile(np.abs(np.diff(d_bics)/(np.diff(d_complexities)*d_bics[:-1])), per)\n",
    "# thres = 0.02\n",
    "print(thres)\n",
    "\n",
    "lower_bounds = []\n",
    "for k, efi in enumerate(best_subsets_v):\n",
    "    com = len(efi)\n",
    "    assert com == np.count_nonzero(post_means[:, k:k+1])\n",
    "    # lower_bound = 2*log_like_value(predictions[:, k:k+1], v_pre)/np.log(len(v_pre))-com\n",
    "    lower_bound = 2*np.abs(log_like_value(predictions[:, k:k+1], v_pre))-np.log(len(v_pre))*com\n",
    "    lower_bounds.append(lower_bound)\n",
    "\n",
    "last_lam = np.log10(max(lower_bounds/(b_uns*scale)))\n",
    "delta = last_lam/tau\n",
    "now_lam = last_lam-delta\n",
    "last_ubic = UBIC(b_bics, b_uns, len(v_pre), hyp=10**last_lam, scale=scale)\n",
    "last_bc = np.argmin(last_ubic)\n",
    "while now_lam >= 0:\n",
    "    now_ubic = UBIC(b_bics, b_uns, len(v_pre), hyp=10**now_lam, scale=scale)\n",
    "    now_bc = np.argmin(now_ubic)\n",
    "    \n",
    "    diff_com = now_bc-last_bc\n",
    "    diff_bic = b_bics[now_bc]-b_bics[last_bc]\n",
    "    imp = abs(diff_bic/(b_bics[last_bc]*diff_com))\n",
    "    print(min(last_bc, now_bc), '<--->', max(last_bc, now_bc), np.nan_to_num(imp, nan=np.inf))\n",
    "\n",
    "    if (diff_com > 0 and (diff_bic > 0 or imp < thres)) or \\\n",
    "        (diff_com < 0 and diff_bic > 0 and imp > thres):\n",
    "        break\n",
    "    \n",
    "    last_lam = now_lam\n",
    "    now_lam = round(last_lam-delta, 8)\n",
    "    last_ubic = now_ubic\n",
    "    last_bc = now_bc\n",
    "    \n",
    "best_bc = last_bc\n",
    "if abs((b_bics[last_bc]-b_bics[last_bc-1])/b_bics[last_bc-1]) < thres:\n",
    "    best_bc = best_bc - 1\n",
    "\n",
    "last_lam = round(last_lam, 8)\n",
    "if last_lam == 0: last_lam = abs(last_lam)\n",
    "last_lam_d_v = last_lam\n",
    "last_ubic_d_v = last_ubic\n",
    "last_bc_d_v = last_bc\n",
    "uns_v = b_uns\n",
    "last_lam, last_ubic, last_bc"
   ]
  },
  {
   "cell_type": "code",
   "execution_count": 13,
   "id": "bcd05278",
   "metadata": {},
   "outputs": [],
   "source": [
    "# tau = 3; per = 75 # 85\n",
    "# scale = np.log(len(v_pre))\n",
    "# # scale = 1\n",
    "\n",
    "# post_means, b_bics, b_uns = baye_uncertainties(best_subsets_v, (X_pre, v_pre), u_type='cv1', take_sqrt=True)\n",
    "# predictions = X_pre@post_means\n",
    "\n",
    "# b_bics = np.array(b_bics)\n",
    "# complexities = np.array([len(bs) for bs in best_subsets_v])\n",
    "# d_complexities = complexities[decreasing_values_indices(b_bics)]\n",
    "# d_bics = b_bics[decreasing_values_indices(b_bics)]\n",
    "# thres = np.percentile(np.abs(np.diff(d_bics)/(np.diff(d_complexities)*d_bics[:-1])), per)\n",
    "# # thres = 0.02\n",
    "# print(thres)\n",
    "\n",
    "# lower_bounds = []\n",
    "# for k, efi in enumerate(best_subsets_v):\n",
    "#     com = len(efi)\n",
    "#     assert com == np.count_nonzero(post_means[:, k:k+1])\n",
    "#     # lower_bound = 2*log_like_value(predictions[:, k:k+1], v_pre)/np.log(len(v_pre))-com\n",
    "#     lower_bound = 2*log_like_value(predictions[:, k:k+1], v_pre)-np.log(len(v_pre))*com\n",
    "#     lower_bounds.append(lower_bound)\n",
    "\n",
    "# last_lam = np.log10(max(lower_bounds/(b_uns*scale)))\n",
    "# delta = last_lam/tau\n",
    "# now_lam = last_lam-delta\n",
    "# last_ubic = UBIC(b_bics, b_uns, len(v_pre), hyp=10**last_lam, scale=scale)\n",
    "# last_bc = np.argmin(last_ubic)\n",
    "# while now_lam > 0:\n",
    "#     now_ubic = UBIC(b_bics, b_uns, len(v_pre), hyp=10**now_lam, scale=scale)\n",
    "#     now_bc = np.argmin(now_ubic)\n",
    "    \n",
    "#     diff_com = now_bc-last_bc\n",
    "#     diff_bic = b_bics[now_bc]-b_bics[last_bc]\n",
    "#     imp = abs(diff_bic/(b_bics[last_bc]*diff_com))\n",
    "#     print(min(last_bc, now_bc), '<--->', max(last_bc, now_bc), np.nan_to_num(imp, nan=np.inf))\n",
    "\n",
    "#     if (diff_com > 0 and (diff_bic > 0 or imp < thres)) or \\\n",
    "#         (diff_com < 0 and diff_bic > 0 and imp > thres):\n",
    "#         break\n",
    "    \n",
    "#     last_lam = now_lam\n",
    "#     now_lam = last_lam-delta\n",
    "#     last_ubic = now_ubic\n",
    "#     last_bc = now_bc\n",
    "    \n",
    "# best_bc = last_bc\n",
    "# if abs((b_bics[last_bc]-b_bics[last_bc-1])/b_bics[last_bc-1]) < thres:\n",
    "#     best_bc = best_bc - 1\n",
    "\n",
    "# last_lam = round(last_lam, 10)\n",
    "# last_lam_d_v = last_lam\n",
    "# last_ubic_d_v = last_ubic\n",
    "# last_bc_d_v = last_bc\n",
    "# uns_v = b_uns\n",
    "# last_lam, last_ubic, last_bc"
   ]
  },
  {
   "cell_type": "code",
   "execution_count": 14,
   "id": "e421b70a",
   "metadata": {},
   "outputs": [
    {
     "data": {
      "image/png": "[encoded data removed]",
      "text/plain": [
       "<Figure size 350x262.5 with 1 Axes>"
      ]
     },
     "metadata": {},
     "output_type": "display_data"
    }
   ],
   "source": [
    "assert list(map(len, best_subsets_u)) == list(map(len, best_subsets_v))\n",
    "complexities = list(map(len, best_subsets_u))\n",
    "with plt.style.context(['science']):\n",
    "    fig, ax = plt.subplots()\n",
    "    ax.plot(complexities, last_ubic_d_u, 'o-', c='blue', markerfacecolor='none', label=\"$u_t,\\, \\lambda =$ \"+str(round(last_lam_d_u, 2)))\n",
    "    ax.plot(complexities, last_ubic_d_v, 's--', c='green', markerfacecolor='none', label=\"$v_t,\\, \\lambda =$ \"+str(round(last_lam_d_v, 2)))\n",
    "    ax.set_xticks(complexities)\n",
    "    ax.set_ylabel(\"$\\\\textrm{UBIC}_{\\\\Gamma}(\\\\xi^{k}, 10^{\\\\lambda})$\", fontsize=12)\n",
    "    ax.set_xlabel(\"Support sizes ($s_{k}$)\", fontsize=12)\n",
    "\n",
    "    plt.annotate('min$\\checkmark$', fontsize=16, c='blue', \n",
    "             xy=(complexities[last_bc_d_u], last_ubic_d_u[last_bc_d_u]), \n",
    "             xytext=(complexities[last_bc_d_u]+0.5, last_ubic_d_u[last_bc_d_u]+0.5e5), \n",
    "             arrowprops={'arrowstyle': '->', 'linestyle':'-', 'color':'blue'})\n",
    "    \n",
    "    plt.annotate('min$\\checkmark$', fontsize=16, c='green', \n",
    "             xy=(complexities[last_bc_d_v], last_ubic_d_v[last_bc_d_v]), \n",
    "             xytext=(complexities[last_bc_d_v], last_ubic_d_v[last_bc_d_v]+0.925e5), \n",
    "             arrowprops={'arrowstyle': '->', 'linestyle':'--', 'color':'green'})\n",
    "    \n",
    "    plt.legend(fontsize=10, title='Target')\n",
    "    # plt.savefig(\"../Figures2/gs3d_ubics.pdf\")\n",
    "    plt.show()"
   ]
  },
  {
   "cell_type": "markdown",
   "id": "52bd7b8e",
   "metadata": {},
   "source": [
    "#### Percent coefficient error"
   ]
  },
  {
   "cell_type": "code",
   "execution_count": 15,
   "id": "fafbbe39",
   "metadata": {},
   "outputs": [
    {
     "name": "stdout",
     "output_type": "stream",
     "text": [
      "0.05276709050965558 0.07581555217125192\n",
      "0.008007866397605298 0.006618708396899569\n"
     ]
    }
   ],
   "source": [
    "### For pysr env ###\n",
    "# 0.052767090509572956 0.07581555217112425\n",
    "# 0.008007866397730198 0.006618708396551066\n",
    "assert np.alltrue(best_subsets_v[last_bc_d_v] == ground_indices_v) and np.alltrue(best_subsets_u[last_bc_d_u] == ground_indices_u)\n",
    "errs_u = measure_pce(np.linalg.lstsq(X_pre[:, ground_indices_u], u_pre, rcond=None)[0].flatten(), \n",
    "                     ground_coeff_u)\n",
    "errs_v = measure_pce(np.linalg.lstsq(X_pre[:, ground_indices_v], v_pre, rcond=None)[0].flatten(), \n",
    "                     ground_coeff_v)\n",
    "print(errs_u.mean(), errs_u.std())\n",
    "print(errs_v.mean(), errs_v.std())"
   ]
  },
  {
   "cell_type": "code",
   "execution_count": 16,
   "id": "bfa50995",
   "metadata": {},
   "outputs": [],
   "source": [
    "theta_u, dt_u = shuffle(X_pre, u_pre, random_state=0)\n",
    "theta_v, dt_v = shuffle(X_pre, v_pre, random_state=0)"
   ]
  },
  {
   "cell_type": "code",
   "execution_count": 17,
   "id": "75267412",
   "metadata": {},
   "outputs": [
    {
     "name": "stdout",
     "output_type": "stream",
     "text": [
      "9.313225746154785e-10\n",
      "9.313225746154785e-10\n",
      "9.313225746154785e-10\n",
      "9.313225746154785e-10\n",
      "9.313225746154785e-10\n",
      "1.0\n",
      "1.0\n",
      "1.0\n",
      "1.0\n",
      "1.0\n",
      "1.0\n"
     ]
    },
    {
     "data": {
      "text/plain": [
       "[0, 1, 2, 3, 4, 5]"
      ]
     },
     "execution_count": 17,
     "metadata": {},
     "output_type": "execute_result"
    }
   ],
   "source": [
    "n_resample = 30\n",
    "n_samples = len(dt_u)//n_resample\n",
    "v_icomps = []\n",
    "for bs in best_subsets_u:\n",
    "    icomps = []\n",
    "    beta = np.linalg.lstsq(theta_u[:, bs], dt_u, rcond=None)[0]\n",
    "    for _ in range(n_resample):\n",
    "        idx = sample_without_replacement(n_population=theta_u.shape[0]-1, n_samples=n_samples, random_state=_)\n",
    "        X_resample, y_resample = theta_u[idx], dt_u[idx]\n",
    "        X_resample = X_resample[:, bs]\n",
    "        llf, CM, icomp = llf_complexity(X_resample, y_resample, beta=beta, a_n=np.log(len(y_resample)))\n",
    "        icomp = icomp[2]\n",
    "        icomps.append(icomp)\n",
    "    v_icomps.append(icomps)\n",
    "v_icomps = np.array(v_icomps)\n",
    "v_icomps_ranking = np.argsort(v_icomps.sum(axis=-1))\n",
    "\n",
    "oks = [0]\n",
    "for i in range(1, len(best_subsets_u)):\n",
    "    wres = wilcoxon(v_icomps[i], v_icomps[i-1], alternative='less')\n",
    "    print(wres.pvalue)\n",
    "    if wres.pvalue < 1e-2: \n",
    "        oks.append(i)\n",
    "oks"
   ]
  },
  {
   "cell_type": "code",
   "execution_count": 18,
   "id": "3bf9932d",
   "metadata": {},
   "outputs": [
    {
     "name": "stdout",
     "output_type": "stream",
     "text": [
      "Threshold 0.13747382358660418\n",
      "P-Threshold 0.01\n",
      "398911721.7848191 5 0\n",
      "60614.45979309929 5 0\n",
      "3234.516612433596 5 1\n",
      "747.1812405018675 5 5\n",
      "num_an: 4\n",
      "5 ---> 1 0.1286037256300872 1.0 9.313225746154785e-10\n",
      "9.210340371976184 [-199675.16672055 -207004.81721884 -219904.49787639 -250135.61002335\n",
      " -270417.9496602  -313491.18008971] 5\n"
     ]
    },
    {
     "data": {
      "image/png": "[encoded data removed]",
      "text/plain": [
       "<Figure size 640x480 with 1 Axes>"
      ]
     },
     "metadata": {},
     "output_type": "display_data"
    }
   ],
   "source": [
    "a_n = np.log(len(dt_u))\n",
    "CMs = []; llfs = []\n",
    "# for bs in best_subsets_u: \n",
    "for bs in best_subsets_u[:oks[-1]+1]: \n",
    "    beta = np.linalg.lstsq(theta_u[:, bs], dt_u, rcond=None)[0]\n",
    "    llf, CM, _ = llf_complexity(theta_u[:, bs], dt_u, beta=beta, a_n=a_n)\n",
    "    CM = CM[2]\n",
    "    if np.equal(CM, np.inf): break\n",
    "    CMs.append(CM)\n",
    "    llfs.append(llf)\n",
    "llfs = np.array(llfs); CMs = np.array(CMs)\n",
    "last_icomps, last_bc = icomp_ic(llfs, CMs, a_n)\n",
    "icomps = last_icomps.copy()\n",
    "per = 75\n",
    "d_complexities = np.array(complexities)[decreasing_values_indices(icomps)]\n",
    "d_icomps = icomps[decreasing_values_indices(icomps)]\n",
    "thres = np.percentile(np.abs(np.diff(d_icomps)/(np.diff(d_complexities)*d_icomps[:-1])), per)\n",
    "print(\"Threshold\", thres)\n",
    "pthres = 1e-2\n",
    "print(\"P-Threshold\", pthres)\n",
    "\n",
    "num_an = 2\n",
    "for num_an in range(2, 11):\n",
    "    a_ns = np.log(len(dt_u))**np.linspace(1, np.log((llfs/CMs).max()), num_an)\n",
    "    a_n = a_ns[1]\n",
    "    last_bc = icomp_ic(llfs, CMs, a_ns[0])[1]\n",
    "    now_bc = icomp_ic(llfs, CMs, a_n)[1]\n",
    "    print(a_n, last_bc, now_bc)\n",
    "    if last_bc == now_bc:\n",
    "        num_an = num_an-1\n",
    "        num_an = max(num_an, 2)\n",
    "        break\n",
    "a_ns = np.log(len(dt_u))**np.linspace(1, np.log((llfs/CMs).max()), num_an)\n",
    "last_an = a_ns[0]\n",
    "print(\"num_an:\",  num_an)\n",
    "\n",
    "for a_n in a_ns[1:]:\n",
    "    now_icomp, now_bc = icomp_ic(llfs, CMs, a_n)\n",
    "    \n",
    "    diff_com = now_bc-last_bc\n",
    "    diff_icomp = icomps[now_bc]-icomps[last_bc]\n",
    "    imp = abs(diff_icomp/(icomps[min(last_bc, now_bc)]*diff_com))\n",
    "    diff_v_icomp = v_icomps[now_bc]-v_icomps[last_bc]\n",
    "    pvalue_pos, pvalue_neg, pvalue_adj = np.nan, np.nan, np.nan\n",
    "    adj_now_coms = v_icomps_ranking[v_icomps_ranking<now_bc]\n",
    "    if not np.array_equal(diff_v_icomp, np.zeros(len(diff_v_icomp))):\n",
    "        pvalue_pos = wilcoxon(diff_v_icomp, alternative='less').pvalue\n",
    "        pvalue_neg = wilcoxon(-diff_v_icomp, alternative='less').pvalue\n",
    "        if len(adj_now_coms) != 0:\n",
    "            pvalue_adj = wilcoxon(v_icomps[now_bc]-v_icomps[adj_now_coms[0]], alternative='less').pvalue\n",
    "            \n",
    "    print(last_bc, '--->', now_bc, \n",
    "          np.nan_to_num(imp, nan=np.inf), \n",
    "          np.nan_to_num(pvalue_pos, nan=np.inf), \n",
    "          np.nan_to_num(pvalue_neg, nan=np.inf))\n",
    "    \n",
    "    ### Old version ###\n",
    "    # if (diff_com > 0 and (diff_icomp > 0 or imp <= thres)) or \\\n",
    "    #     (diff_com < 0 and diff_icomp > 0 and imp >= thres):\n",
    "    #     break\n",
    "    \n",
    "    if (diff_com > 0 and (diff_icomp > 0 or pvalue_pos > pthres or pvalue_adj > pthres)) or \\\n",
    "        (diff_com < 0 and diff_icomp > 0 and pvalue_neg <= pthres):\n",
    "        break\n",
    "    \n",
    "    last_an = a_n\n",
    "    last_icomps = now_icomp\n",
    "    last_bc = now_bc\n",
    "    \n",
    "print(last_an, last_icomps, last_bc)\n",
    "last_icomps_u = last_icomps\n",
    "plt.plot(last_icomps); plt.show()"
   ]
  },
  {
   "cell_type": "code",
   "execution_count": 19,
   "id": "a91553a2",
   "metadata": {},
   "outputs": [
    {
     "name": "stdout",
     "output_type": "stream",
     "text": [
      "5\n"
     ]
    },
    {
     "data": {
      "image/png": "[encoded data removed]",
      "text/plain": [
       "<Figure size 640x480 with 1 Axes>"
      ]
     },
     "metadata": {},
     "output_type": "display_data"
    }
   ],
   "source": [
    "mdls = []\n",
    "for bs in best_subsets_u[:oks[-1]+1]: \n",
    "    X_train = theta_u[:, bs]\n",
    "    beta = np.linalg.lstsq(X_train, dt_u, rcond=None)[0]\n",
    "    var = np.linalg.norm(dt_u-X_train@beta, ord=2)**2\n",
    "    var = var/(len(dt_u)-len(bs))\n",
    "    prac_mdl = prac_mdl_comp(X_train, dt_u, variance=var)\n",
    "    mdl = prac_mdl['prac_mdl']\n",
    "    thetahat = prac_mdl['thetahat']\n",
    "    \n",
    "    llf, CM, icomp = llf_complexity(X_train, dt_u, \n",
    "                                    beta=thetahat, \n",
    "                                    a_n=last_an)\n",
    "    icomp = icomp[2]\n",
    "    \n",
    "    # mdls.append(mdl)\n",
    "    mdls.append(icomp)\n",
    "\n",
    "print(np.argmin(mdls))\n",
    "plt.plot(mdls, '-o'); plt.show()"
   ]
  },
  {
   "cell_type": "code",
   "execution_count": 20,
   "id": "4564ae02",
   "metadata": {},
   "outputs": [
    {
     "name": "stdout",
     "output_type": "stream",
     "text": [
      "9.313225746154785e-10\n",
      "9.313225746154785e-10\n",
      "9.313225746154785e-10\n",
      "9.313225746154785e-10\n",
      "1.0\n",
      "1.0\n",
      "1.0\n",
      "1.0\n",
      "1.0\n",
      "1.0\n",
      "1.0\n"
     ]
    },
    {
     "data": {
      "text/plain": [
       "[0, 1, 2, 3, 4]"
      ]
     },
     "execution_count": 20,
     "metadata": {},
     "output_type": "execute_result"
    }
   ],
   "source": [
    "n_resample = 30\n",
    "n_samples = len(dt_v)//n_resample\n",
    "v_icomps = []\n",
    "for bs in best_subsets_v:\n",
    "    icomps = []\n",
    "    beta = np.linalg.lstsq(theta_v[:, bs], dt_v, rcond=None)[0]\n",
    "    for _ in range(n_resample):\n",
    "        idx = sample_without_replacement(n_population=theta_u.shape[0]-1, n_samples=n_samples, random_state=_)\n",
    "        X_resample, y_resample = theta_v[idx], dt_v[idx]\n",
    "        X_resample = X_resample[:, bs]\n",
    "        llf, CM, icomp = llf_complexity(X_resample, y_resample, beta=beta, a_n=np.log(len(y_resample)))\n",
    "        icomp = icomp[2]\n",
    "        icomps.append(icomp)\n",
    "    v_icomps.append(icomps)\n",
    "v_icomps = np.array(v_icomps)\n",
    "v_icomps_ranking = np.argsort(v_icomps.sum(axis=-1))\n",
    "\n",
    "oks = [0]\n",
    "for i in range(1, len(best_subsets_u)):\n",
    "    wres = wilcoxon(v_icomps[i], v_icomps[i-1], alternative='less')\n",
    "    print(wres.pvalue)\n",
    "    if wres.pvalue < 1e-2: \n",
    "        oks.append(i)\n",
    "oks"
   ]
  },
  {
   "cell_type": "code",
   "execution_count": 21,
   "id": "1413b696",
   "metadata": {},
   "outputs": [
    {
     "name": "stdout",
     "output_type": "stream",
     "text": [
      "Threshold 0.1674362437319566\n",
      "P-Threshold 0.01\n",
      "413698411.27200127 4 1\n",
      "61727.653277610676 4 1\n",
      "3273.9979592909613 4 1\n",
      "754.0110722331109 4 4\n",
      "num_an: 4\n",
      "4 ---> 1 0.18692870187330762 1.0 9.313225746154785e-10\n",
      "9.210340371976184 [-204602.63721759 -208618.37532296 -225096.41035335 -254314.34811326\n",
      " -325608.66158108] 4\n"
     ]
    },
    {
     "data": {
      "image/png": "[encoded data removed]",
      "text/plain": [
       "<Figure size 640x480 with 1 Axes>"
      ]
     },
     "metadata": {},
     "output_type": "display_data"
    }
   ],
   "source": [
    "a_n = np.log(len(dt_v))\n",
    "CMs = []; llfs = []\n",
    "# for bs in best_subsets_u: \n",
    "for bs in best_subsets_v[:oks[-1]+1]: \n",
    "    beta = np.linalg.lstsq(theta_v[:, bs], dt_v, rcond=None)[0]\n",
    "    llf, CM, _ = llf_complexity(theta_v[:, bs], dt_v, beta=beta, a_n=a_n)\n",
    "    CM = CM[2]\n",
    "    if np.equal(CM, np.inf): break\n",
    "    CMs.append(CM)\n",
    "    llfs.append(llf)\n",
    "llfs = np.array(llfs); CMs = np.array(CMs)\n",
    "last_icomps, last_bc = icomp_ic(llfs, CMs, a_n)\n",
    "icomps = last_icomps.copy()\n",
    "per = 75\n",
    "d_complexities = np.array(complexities)[decreasing_values_indices(icomps)]\n",
    "d_icomps = icomps[decreasing_values_indices(icomps)]\n",
    "thres = np.percentile(np.abs(np.diff(d_icomps)/(np.diff(d_complexities)*d_icomps[:-1])), per)\n",
    "print(\"Threshold\", thres)\n",
    "pthres = 1e-2\n",
    "print(\"P-Threshold\", pthres)\n",
    "\n",
    "num_an = 2\n",
    "for num_an in range(2, 11):\n",
    "    a_ns = np.log(len(dt_v))**np.linspace(1, np.log((llfs/CMs).max()), num_an)\n",
    "    a_n = a_ns[1]\n",
    "    last_bc = icomp_ic(llfs, CMs, a_ns[0])[1]\n",
    "    now_bc = icomp_ic(llfs, CMs, a_n)[1]\n",
    "    print(a_n, last_bc, now_bc)\n",
    "    if last_bc == now_bc:\n",
    "        num_an = num_an-1\n",
    "        num_an = max(num_an, 2)\n",
    "        break\n",
    "a_ns = np.log(len(dt_v))**np.linspace(1, np.log((llfs/CMs).max()), num_an)\n",
    "last_an = a_ns[0]\n",
    "print(\"num_an:\",  num_an)\n",
    "\n",
    "for a_n in a_ns[1:]:\n",
    "    now_icomp, now_bc = icomp_ic(llfs, CMs, a_n)\n",
    "    \n",
    "    diff_com = now_bc-last_bc\n",
    "    diff_icomp = icomps[now_bc]-icomps[last_bc]\n",
    "    imp = abs(diff_icomp/(icomps[min(last_bc, now_bc)]*diff_com))\n",
    "    diff_v_icomp = v_icomps[now_bc]-v_icomps[last_bc]\n",
    "    pvalue_pos, pvalue_neg, pvalue_adj = np.nan, np.nan, np.nan\n",
    "    adj_now_coms = v_icomps_ranking[v_icomps_ranking<now_bc]\n",
    "    if not np.array_equal(diff_v_icomp, np.zeros(len(diff_v_icomp))):\n",
    "        pvalue_pos = wilcoxon(diff_v_icomp, alternative='less').pvalue\n",
    "        pvalue_neg = wilcoxon(-diff_v_icomp, alternative='less').pvalue\n",
    "        if len(adj_now_coms) != 0:\n",
    "            pvalue_adj = wilcoxon(v_icomps[now_bc]-v_icomps[adj_now_coms[0]], alternative='less').pvalue\n",
    "            \n",
    "    print(last_bc, '--->', now_bc, \n",
    "          np.nan_to_num(imp, nan=np.inf), \n",
    "          np.nan_to_num(pvalue_pos, nan=np.inf), \n",
    "          np.nan_to_num(pvalue_neg, nan=np.inf))\n",
    "    \n",
    "    ### Old version ###\n",
    "    # if (diff_com > 0 and (diff_icomp > 0 or imp <= thres)) or \\\n",
    "    #     (diff_com < 0 and diff_icomp > 0 and imp >= thres):\n",
    "    #     break\n",
    "    \n",
    "    if (diff_com > 0 and (diff_icomp > 0 or pvalue_pos > pthres or pvalue_adj > pthres)) or \\\n",
    "        (diff_com < 0 and diff_icomp > 0 and pvalue_neg <= pthres):\n",
    "        break\n",
    "    \n",
    "    last_an = a_n\n",
    "    last_icomps = now_icomp\n",
    "    last_bc = now_bc\n",
    "    \n",
    "print(last_an, last_icomps, last_bc)\n",
    "last_icomps_v = last_icomps\n",
    "plt.plot(last_icomps); plt.show()"
   ]
  },
  {
   "cell_type": "code",
   "execution_count": 22,
   "id": "29b4f783",
   "metadata": {},
   "outputs": [
    {
     "name": "stdout",
     "output_type": "stream",
     "text": [
      "4\n"
     ]
    },
    {
     "data": {
      "image/png": "[encoded data removed]",
      "text/plain": [
       "<Figure size 640x480 with 1 Axes>"
      ]
     },
     "metadata": {},
     "output_type": "display_data"
    }
   ],
   "source": [
    "mdls = []\n",
    "for bs in best_subsets_v[:oks[-1]+1]: \n",
    "    X_train = theta_v[:, bs]\n",
    "    beta = np.linalg.lstsq(X_train, dt_v, rcond=None)[0]\n",
    "    var = np.linalg.norm(dt_v-X_train@beta, ord=2)**2\n",
    "    var = var/(len(dt_u)-len(bs))\n",
    "    prac_mdl = prac_mdl_comp(X_train, dt_v, variance=var)\n",
    "    mdl = prac_mdl['prac_mdl']\n",
    "    thetahat = prac_mdl['thetahat']\n",
    "    \n",
    "    llf, CM, icomp = llf_complexity(X_train, dt_v, \n",
    "                                    beta=thetahat, \n",
    "                                    a_n=last_an)\n",
    "    icomp = icomp[2]\n",
    "    \n",
    "    # mdls.append(mdl)\n",
    "    mdls.append(icomp)\n",
    "\n",
    "print(np.argmin(mdls))\n",
    "plt.plot(mdls, '-o'); plt.show()"
   ]
  },
  {
   "cell_type": "code",
   "execution_count": 23,
   "id": "0448306d",
   "metadata": {},
   "outputs": [
    {
     "data": {
      "text/plain": [
       "[<matplotlib.lines.Line2D at 0x1509dee60>]"
      ]
     },
     "execution_count": 23,
     "metadata": {},
     "output_type": "execute_result"
    },
    {
     "data": {
      "image/png": "[encoded data removed]",
      "text/plain": [
       "<Figure size 640x480 with 1 Axes>"
      ]
     },
     "metadata": {},
     "output_type": "display_data"
    }
   ],
   "source": [
    "plt.plot(last_icomps_u, '-o')\n",
    "plt.plot(last_icomps_v, '-o')"
   ]
  },
  {
   "cell_type": "code",
   "execution_count": null,
   "id": "1960ec32",
   "metadata": {},
   "outputs": [],
   "source": []
  },
  {
   "cell_type": "code",
   "execution_count": null,
   "id": "cce77c78",
   "metadata": {},
   "outputs": [],
   "source": []
  }
 ],
 "metadata": {
  "kernelspec": {
   "display_name": "Python [conda env:pysindy_latest]",
   "language": "python",
   "name": "conda-env-pysindy_latest-py"
  },
  "language_info": {
   "codemirror_mode": {
    "name": "ipython",
    "version": 3
   },
   "file_extension": ".py",
   "mimetype": "text/x-python",
   "name": "python",
   "nbconvert_exporter": "python",
   "pygments_lexer": "ipython3",
   "version": "3.10.13"
  },
  "widgets": {
   "application/vnd.jupyter.widget-state+json": {
    "state": {},
    "version_major": 2,
    "version_minor": 0
   }
  }
 },
 "nbformat": 4,
 "nbformat_minor": 5
}
