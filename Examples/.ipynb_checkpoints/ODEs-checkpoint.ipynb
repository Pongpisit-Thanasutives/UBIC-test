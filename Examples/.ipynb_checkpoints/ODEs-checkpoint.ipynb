{
 "cells": [
  {
   "cell_type": "code",
   "execution_count": 1,
   "id": "dc5e476b",
   "metadata": {},
   "outputs": [
    {
     "name": "stdout",
     "output_type": "stream",
     "text": [
      "Sklearn's version: 1.5.2\n"
     ]
    }
   ],
   "source": [
    "import matplotlib.pyplot as plt\n",
    "from mpl_toolkits.mplot3d import Axes3D\n",
    "from matplotlib.cm import rainbow\n",
    "import numpy as np\n",
    "from scipy.integrate import solve_ivp\n",
    "from scipy.io import loadmat\n",
    "from pysindy.utils import linear_damped_SHO\n",
    "from pysindy.utils import cubic_damped_SHO\n",
    "from pysindy.utils import linear_3D\n",
    "from pysindy.utils import hopf\n",
    "from pysindy.utils import lorenz\n",
    "\n",
    "import pysindy as ps\n",
    "\n",
    "import sys; sys.path.append('../')\n",
    "from best_subset import *\n",
    "from UBIC import *\n",
    "from okridge.tree import BNBTree\n",
    "from okridge.solvel0 import *\n",
    "from sklearn.utils.random import sample_without_replacement\n",
    "\n",
    "from scipy.stats import wilcoxon, ranksums, mannwhitneyu, friedmanchisquare\n",
    "from para_UBIC import find_corner\n",
    "from skscope_tools import best_subset_solution, abess_solution, best_subset_all_solutions, abess_all_solutions"
   ]
  },
  {
   "cell_type": "markdown",
   "id": "5a2a6776",
   "metadata": {},
   "source": [
    "### Data"
   ]
  },
  {
   "cell_type": "code",
   "execution_count": 2,
   "id": "5ce50c97",
   "metadata": {},
   "outputs": [],
   "source": [
    "# Integrator keywords for solve_ivp\n",
    "integrator_keywords = {}\n",
    "integrator_keywords['rtol'] = 1e-12\n",
    "integrator_keywords['method'] = 'LSODA'\n",
    "integrator_keywords['atol'] = 1e-12\n",
    "\n",
    "name = 'lorenz'; target = 1\n",
    "\n",
    "# Linear 2D ODE\n",
    "if name == 'linear2d':\n",
    "    dt = 0.01\n",
    "    t_train = np.arange(0, 25, dt)\n",
    "    t_train_span = (t_train[0], t_train[-1])\n",
    "    x0_train = [2, 0]\n",
    "    x_train = solve_ivp(linear_damped_SHO, t_train_span, \n",
    "                        x0_train, t_eval=t_train, **integrator_keywords).y.T\n",
    "    true_complexities = [2, 2]\n",
    "\n",
    "# Cubic 2D ODE\n",
    "elif name == 'cubic2d':\n",
    "    dt = 0.01\n",
    "    t_train = np.arange(0, 25, dt)\n",
    "    t_train_span = (t_train[0], t_train[-1])\n",
    "    x0_train = [2, 0]\n",
    "    x_train = solve_ivp(cubic_damped_SHO, t_train_span, \n",
    "                        x0_train, t_eval=t_train, **integrator_keywords).y.T\n",
    "    true_complexities = [2, 2]\n",
    "\n",
    "# Linear 3D ODE\n",
    "elif name == 'linear3d':\n",
    "    dt = .01\n",
    "    t_train = np.arange(0, 50, dt)\n",
    "    t_train_span = (t_train[0], t_train[-1])\n",
    "    x0_train = [2, 0, 1]\n",
    "    x_train = solve_ivp(linear_3D, t_train_span, \n",
    "                        x0_train, t_eval=t_train, **integrator_keywords).y.T\n",
    "    true_complexities = [2, 2, 1]\n",
    "\n",
    "# Lorenz (3D)\n",
    "elif name == 'lorenz':\n",
    "    dt = 0.001\n",
    "    t_train = np.arange(0, 100, dt)\n",
    "    t_train_span = (t_train[0], t_train[-1])\n",
    "    x0_train = [-8, 8, 27]\n",
    "    x_train = solve_ivp(lorenz, t_train_span, \n",
    "                        x0_train, t_eval=t_train, **integrator_keywords).y.T\n",
    "    x_dot_train_measured = np.array(\n",
    "        [lorenz(0, x_train[i]) for i in range(t_train.size)]\n",
    "    )\n",
    "    true_complexities = [2, 3, 2]"
   ]
  },
  {
   "cell_type": "markdown",
   "id": "68433ee6",
   "metadata": {},
   "source": [
    "### Modeling"
   ]
  },
  {
   "cell_type": "code",
   "execution_count": 3,
   "id": "d6884d8b",
   "metadata": {},
   "outputs": [
    {
     "name": "stdout",
     "output_type": "stream",
     "text": [
      "(x0)' = -10.001 x0 + 10.001 x1\n",
      "(x1)' = 27.997 x0 + -0.999 x1 + -1.000 x0 x2\n",
      "(x2)' = -0.003 1 + -2.666 x2 + 1.000 x0 x1\n"
     ]
    }
   ],
   "source": [
    "poly_order = 4\n",
    "if name == 'linear3d': poly_order = 3\n",
    "threshold = 1e-5\n",
    "\n",
    "model = ps.SINDy(\n",
    "    optimizer=ps.STLSQ(threshold=threshold),\n",
    "    # optimizer=ps.SR3(relax_coeff_nu=1), \n",
    "    feature_library=ps.PolynomialLibrary(degree=poly_order),\n",
    ")\n",
    "model.fit(x_train, t=dt)\n",
    "model.print()\n",
    "\n",
    "# x_sim = model.simulate(x_train[0], t_train)\n",
    "# bic = 0\n",
    "# for i in range(x_sim.shape[-1]):\n",
    "#     bic += BIC_AIC(x_sim[:, i:i+1], x_train[:, i:i+1], \n",
    "#                    np.count_nonzero(model.coefficients()[i]))[0]\n",
    "# bic /= x_sim.shape[-1]\n",
    "# bic"
   ]
  },
  {
   "cell_type": "code",
   "execution_count": 4,
   "id": "d085ad2b",
   "metadata": {},
   "outputs": [],
   "source": [
    "poly_order = 4\n",
    "if name == 'linear3d': poly_order = 3\n",
    "threshold = 1e-4\n",
    "\n",
    "# model = ps.SINDy(\n",
    "#     # optimizer=L0BNB(max_nonzeros=3, lam=1e-3, is_normal=True, normalize_columns=False), \n",
    "#     # optimizer=ps.STLSQ(threshold=threshold),\n",
    "#     optimizer=BruteForceRegressor(support_size=true_complexities), \n",
    "#     feature_library=ps.PolynomialLibrary(degree=poly_order),\n",
    "# )\n",
    "# model.fit(x_train, t=dt)\n",
    "# model.print()\n",
    "\n",
    "# x_sim = model.simulate(x_train[0], t_train)\n",
    "# bic = 0\n",
    "# for i in range(x_sim.shape[-1]):\n",
    "#     bic += BIC_AIC(x_sim[:, i:i+1], x_train[:, i:i+1], \n",
    "#                    np.count_nonzero(model.coefficients()[i]))[0]\n",
    "# bic /= x_sim.shape[-1]\n",
    "# bic"
   ]
  },
  {
   "cell_type": "code",
   "execution_count": 5,
   "id": "12f43c8a",
   "metadata": {},
   "outputs": [],
   "source": [
    "feature_library = ps.PolynomialLibrary(degree=poly_order)\n",
    "X_pre = np.array(feature_library.fit_transform(x_train))\n",
    "y_pre = model.differentiation_method(x_train, t=t_train)\n",
    "y_pre = y_pre[:, target-1:target]\n",
    "feature_names = feature_library.get_feature_names()"
   ]
  },
  {
   "cell_type": "code",
   "execution_count": 6,
   "id": "5966e3cd",
   "metadata": {},
   "outputs": [
    {
     "name": "stderr",
     "output_type": "stream",
     "text": [
      " 20%|███████████████████████▌                                                                                              | 2/10 [00:00<00:02,  4.00it/s]/Users/pongpisit/anaconda3/envs/pysr_latest/lib/python3.11/site-packages/okridge/node.py:269: LinAlgWarning: Ill-conditioned matrix (rcond=1.09365e-16): result may not be accurate.\n",
      "  self.lower_beta_on_allowed_support = scipy.linalg.solve(\n",
      " 30%|███████████████████████████████████▍                                                                                  | 3/10 [00:00<00:02,  3.33it/s]/Users/pongpisit/anaconda3/envs/pysr_latest/lib/python3.11/site-packages/okridge/node.py:269: LinAlgWarning: Ill-conditioned matrix (rcond=1.09365e-16): result may not be accurate.\n",
      "  self.lower_beta_on_allowed_support = scipy.linalg.solve(\n",
      " 40%|███████████████████████████████████████████████▏                                                                      | 4/10 [00:01<00:01,  3.19it/s]/Users/pongpisit/anaconda3/envs/pysr_latest/lib/python3.11/site-packages/okridge/node.py:269: LinAlgWarning: Ill-conditioned matrix (rcond=1.09365e-16): result may not be accurate.\n",
      "  self.lower_beta_on_allowed_support = scipy.linalg.solve(\n",
      " 50%|███████████████████████████████████████████████████████████                                                           | 5/10 [00:01<00:01,  3.09it/s]/Users/pongpisit/anaconda3/envs/pysr_latest/lib/python3.11/site-packages/okridge/node.py:269: LinAlgWarning: Ill-conditioned matrix (rcond=1.09365e-16): result may not be accurate.\n",
      "  self.lower_beta_on_allowed_support = scipy.linalg.solve(\n",
      " 60%|██████████████████████████████████████████████████████████████████████▊                                               | 6/10 [00:01<00:01,  2.96it/s]/Users/pongpisit/anaconda3/envs/pysr_latest/lib/python3.11/site-packages/okridge/node.py:269: LinAlgWarning: Ill-conditioned matrix (rcond=1.09365e-16): result may not be accurate.\n",
      "  self.lower_beta_on_allowed_support = scipy.linalg.solve(\n",
      " 70%|██████████████████████████████████████████████████████████████████████████████████▌                                   | 7/10 [00:02<00:01,  2.94it/s]/Users/pongpisit/anaconda3/envs/pysr_latest/lib/python3.11/site-packages/okridge/node.py:269: LinAlgWarning: Ill-conditioned matrix (rcond=1.09365e-16): result may not be accurate.\n",
      "  self.lower_beta_on_allowed_support = scipy.linalg.solve(\n",
      " 80%|██████████████████████████████████████████████████████████████████████████████████████████████▍                       | 8/10 [00:02<00:00,  2.85it/s]/Users/pongpisit/anaconda3/envs/pysr_latest/lib/python3.11/site-packages/okridge/node.py:269: LinAlgWarning: Ill-conditioned matrix (rcond=1.09365e-16): result may not be accurate.\n",
      "  self.lower_beta_on_allowed_support = scipy.linalg.solve(\n",
      " 90%|██████████████████████████████████████████████████████████████████████████████████████████████████████████▏           | 9/10 [00:02<00:00,  2.76it/s]/Users/pongpisit/anaconda3/envs/pysr_latest/lib/python3.11/site-packages/okridge/node.py:269: LinAlgWarning: Ill-conditioned matrix (rcond=1.09365e-16): result may not be accurate.\n",
      "  self.lower_beta_on_allowed_support = scipy.linalg.solve(\n",
      "100%|█████████████████████████████████████████████████████████████████████████████████████████████████████████████████████| 10/10 [00:03<00:00,  2.99it/s]\n"
     ]
    }
   ],
   "source": [
    "# TODO: Apply MIOSR here... / Ensemble of optimizers? to get the best subsets\n",
    "k = 10 # cardinality constraint\n",
    "lambda2 = 1e-5 # l2 regularization parameter\n",
    "gap_tol = 1e-6 # optimality gap tolerance\n",
    "try:\n",
    "    coefficients, best_subsets = okridge_solvel0_full(X_pre, y_pre, k, lambda2, gap_tol)\n",
    "except AttributeError:\n",
    "    coefficients, best_subsets = best_subset_all_solutions(X_pre[:, 1:], y_pre, 10, refine=True)\n",
    "    # coefficients, best_subsets = abess_all_solutions(X_pre[:, 1:], y_pre, 10, refine=True)"
   ]
  },
  {
   "cell_type": "code",
   "execution_count": 7,
   "id": "2216ec05",
   "metadata": {},
   "outputs": [
    {
     "name": "stdout",
     "output_type": "stream",
     "text": [
      "0 [[0.]]\n",
      "2 [[-9.9997794   9.99977933]]\n",
      "2 [[-9.99977988  9.99991138 -0.        ]]\n",
      "2 [[-10.00048941  10.00026516  -0.           0.        ]]\n",
      "2 [[-10.00114611  10.00065136   0.          -0.          -0.        ]]\n",
      "2 [[-10.00114611  10.00065136   0.          -0.          -0.\n",
      "   -0.        ]]\n",
      "2 [[-10.00114478  10.00065087   0.          -0.           0.\n",
      "   -0.          -0.        ]]\n",
      "2 [[-10.00113967  10.00064784  -0.           0.          -0.\n",
      "    0.          -0.           0.        ]]\n",
      "2 [[-10.00116449  10.00065834   0.          -0.           0.\n",
      "   -0.           0.          -0.           0.        ]]\n",
      "2 [[-10.00119921  10.00067668   0.          -0.          -0.\n",
      "    0.           0.          -0.          -0.           0.        ]]\n"
     ]
    },
    {
     "data": {
      "text/plain": [
       "array([0, 1])"
      ]
     },
     "execution_count": 7,
     "metadata": {},
     "output_type": "execute_result"
    }
   ],
   "source": [
    "sindy_valid_indices = []\n",
    "for bs in best_subsets:\n",
    "    # coef = ps.STLSQ(alpha=lambda2, threshold=threshold).fit(X_pre[:, bs], y_pre).coef_\n",
    "    coef = ps.SR3(relax_coeff_nu=1).fit(X_pre[:, bs], y_pre).coef_\n",
    "    print(np.count_nonzero(coef), coef)\n",
    "    sindy_valid_indices.append(max(np.count_nonzero(coef)-1, 0))\n",
    "sindy_valid_indices = np.array(sorted(set(sindy_valid_indices)))\n",
    "sindy_valid_indices"
   ]
  },
  {
   "cell_type": "markdown",
   "id": "524cb7a7",
   "metadata": {},
   "source": [
    "### Selection\n",
    "    - Implement varying BICs + stats test"
   ]
  },
  {
   "cell_type": "code",
   "execution_count": 8,
   "id": "afd5fcc6",
   "metadata": {},
   "outputs": [],
   "source": [
    "_, base_bic, _ = baye_uncertainties(best_subsets, (X_pre, y_pre), \n",
    "                                    u_type='cv1', take_sqrt=True, threshold=0)\n",
    "varying_bics = []\n",
    "for _ in range(30):\n",
    "    indices = sample_without_replacement(len(X_pre), len(X_pre)//5)\n",
    "    _, varying_bic, _ = baye_uncertainties(best_subsets, (X_pre[indices, :], y_pre[indices]), \n",
    "                                           u_type='cv1', take_sqrt=True, threshold=0, ridge_lambda=0)\n",
    "    varying_bics.append(varying_bic)\n",
    "varying_bics = np.array(varying_bics).T"
   ]
  },
  {
   "cell_type": "code",
   "execution_count": 9,
   "id": "f6c162b7",
   "metadata": {},
   "outputs": [
    {
     "name": "stdout",
     "output_type": "stream",
     "text": [
      "1.5099296795810785e-11\n",
      "1.5099296795810785e-11\n",
      "1.5099296795810785e-11\n",
      "1.5099296795810785e-11\n"
     ]
    },
    {
     "data": {
      "text/plain": [
       "array([0, 1, 2, 3, 4])"
      ]
     },
     "execution_count": 9,
     "metadata": {},
     "output_type": "execute_result"
    }
   ],
   "source": [
    "pv_threshold = 0.01\n",
    "valid_indices = decreasing_values_indices(base_bic)\n",
    "for i in range(len(valid_indices)-1, 0, -1):\n",
    "    R = valid_indices[i]\n",
    "    L = np.argmin(base_bic[:valid_indices[i]])\n",
    "    pv = mannwhitneyu(varying_bics[R], varying_bics[L], \n",
    "                      alternative='less').pvalue\n",
    "    if not pv < pv_threshold:\n",
    "        valid_indices = np.delete(valid_indices, [i])\n",
    "    else:\n",
    "        print(pv)\n",
    "valid_indices"
   ]
  },
  {
   "cell_type": "code",
   "execution_count": 10,
   "id": "5bc3a596",
   "metadata": {},
   "outputs": [
    {
     "name": "stdout",
     "output_type": "stream",
     "text": [
      "[1007698.8461694481, -1089755.5472904835, -1174642.7026454064, -1438612.047989986, -1950516.7504360822, -1950204.7740829303, -1951460.342219108, -1951278.6759000819, -1953917.8696532687, -1891513.7014570816]\n",
      "threshold: 0.3230550348737697\n",
      "max_lam: 5.228963991215349\n",
      "1 <---> 1 inf\n",
      "1 <---> 1 inf\n",
      "1 <---> 1 inf\n"
     ]
    },
    {
     "data": {
      "text/plain": [
       "(0.0,\n",
       " array([10422276.34034458, -1089618.91144386, -1174543.68350044,\n",
       "        -1438547.7843648 , -1950505.23751062, -1950193.22280143,\n",
       "        -1951433.80615922, -1951244.82990928, -1953845.70921901,\n",
       "        -1891425.14863149]),\n",
       " 1,\n",
       " 1)"
      ]
     },
     "execution_count": 10,
     "metadata": {},
     "output_type": "execute_result"
    }
   ],
   "source": [
    "def conditional_argmin(ics, valid_indices=None):\n",
    "    if valid_indices is None:\n",
    "        return np.argmin(ics)\n",
    "    else:\n",
    "        assert len(valid_indices) > 0\n",
    "        assert len(set(valid_indices)-set(np.arange(len(ics)))) == 0\n",
    "        return max(valid_indices[np.where(valid_indices<=np.argmin(ics))[0]])\n",
    "# valid_indices = None\n",
    "valid_indices = np.array(sorted(set(valid_indices).intersection(set(sindy_valid_indices))))\n",
    "track = {}\n",
    "\n",
    "tau = 3\n",
    "verbose = True\n",
    "scale = np.log(len(y_pre))\n",
    "# scale = 1 <- generalized UBIC\n",
    "per = 75 # 90\n",
    "\n",
    "post_means, b_bics, b_uns = baye_uncertainties(best_subsets, (X_pre, y_pre), \n",
    "                                               u_type='cv1', take_sqrt=True, \n",
    "                                               threshold=0)\n",
    "predictions = X_pre@post_means\n",
    "print(b_bics)\n",
    "b_bics = np.array(b_bics)\n",
    "max_complexity = len(b_bics)\n",
    "complexities = np.arange(max_complexity)+1\n",
    "d_complexities = complexities[decreasing_values_indices(b_bics)]\n",
    "d_bics = b_bics[decreasing_values_indices(b_bics)]\n",
    "slopes = np.diff(b_bics)/(np.diff(complexities)*b_bics[:-1])\n",
    "thres = np.percentile(np.abs(np.diff(d_bics)/(np.diff(d_complexities)*d_bics[:-1])), per)\n",
    "# thres = 0.02\n",
    "print(\"threshold:\", thres)\n",
    "\n",
    "lower_bounds = []\n",
    "for k, efi in enumerate(best_subsets):\n",
    "    com = len(efi)\n",
    "    lower_bound = 2*np.abs(log_like_value(predictions[:, k:k+1], y_pre))-np.log(len(y_pre))*com\n",
    "    lower_bounds.append(lower_bound)\n",
    "\n",
    "last_lam = np.log10(max(lower_bounds/(b_uns*scale)))\n",
    "print(\"max_lam:\", last_lam)\n",
    "delta = last_lam/tau\n",
    "now_lam = last_lam-delta\n",
    "last_ubic = UBIC(b_bics, b_uns, len(y_pre), hyp=10**last_lam, scale=scale)\n",
    "last_bc = conditional_argmin(last_ubic, valid_indices)\n",
    "track[np.argmin(last_ubic)] = last_lam\n",
    "\n",
    "while now_lam >= 0:\n",
    "    now_ubic = UBIC(b_bics, b_uns, len(y_pre), hyp=10**now_lam, scale=scale)\n",
    "    now_bc = conditional_argmin(now_ubic, valid_indices)\n",
    "    track[np.argmin(last_ubic)] = last_lam\n",
    "    \n",
    "    diff_com = now_bc-last_bc\n",
    "    diff_bic = b_bics[now_bc]-b_bics[last_bc]\n",
    "    imp = np.nan\n",
    "    if diff_com != 0:\n",
    "        imp = abs(diff_bic/(b_bics[last_bc]*diff_com))\n",
    "    \n",
    "    if verbose:\n",
    "        print(min(last_bc, now_bc), '<--->', max(last_bc, now_bc), \n",
    "              np.nan_to_num(imp, nan=np.inf))\n",
    "    \n",
    "    if (diff_com > 0 and (diff_bic > 0 or imp < thres)) or \\\n",
    "        (diff_com < 0 and diff_bic > 0 and imp > thres):\n",
    "        break\n",
    "    \n",
    "    last_lam = now_lam\n",
    "    now_lam = round(last_lam-delta, 8)\n",
    "    last_ubic = now_ubic\n",
    "    last_bc = now_bc\n",
    "\n",
    "best_bc = last_bc\n",
    "if abs((b_bics[last_bc]-b_bics[last_bc-1])/b_bics[last_bc-1]) < thres:\n",
    "    best_bc = best_bc - 1\n",
    "    \n",
    "last_lam = abs(round(last_lam, 8))\n",
    "assert last_bc == best_bc\n",
    "last_lam, last_ubic, last_bc, best_bc"
   ]
  },
  {
   "cell_type": "code",
   "execution_count": 11,
   "id": "18ea8734",
   "metadata": {},
   "outputs": [
    {
     "name": "stdout",
     "output_type": "stream",
     "text": [
      "2 2 [1, 2]\n"
     ]
    },
    {
     "data": {
      "image/png": "[encoded data removed]",
      "text/plain": [
       "<Figure size 640x480 with 1 Axes>"
      ]
     },
     "metadata": {},
     "output_type": "display_data"
    }
   ],
   "source": [
    "alt_best_bc = list(track.keys())[np.argmin(abs(np.array(list(track.keys())) - best_bc))]\n",
    "if min(best_bc, alt_best_bc) == best_bc:\n",
    "    ubic_plot = last_ubic\n",
    "    lam_plot = last_lam\n",
    "else:\n",
    "    lam_plot = track[alt_best_bc]\n",
    "    ubic_plot = UBIC(b_bics, b_uns, len(y_pre), hyp=10**lam_plot, scale=scale)\n",
    "\n",
    "corner_complexity = find_corner(complexities, ubic_plot)\n",
    "print(best_bc+1, corner_complexity, best_subsets[best_bc])\n",
    "\n",
    "plt.plot(complexities, ubic_plot)\n",
    "plt.xticks(complexities)\n",
    "plt.show()"
   ]
  },
  {
   "cell_type": "code",
   "execution_count": 12,
   "id": "0c3f09c5",
   "metadata": {},
   "outputs": [
    {
     "data": {
      "text/plain": [
       "array([ 9,  7,  8,  5,  6, 10,  4,  3,  2,  1])"
      ]
     },
     "execution_count": 12,
     "metadata": {},
     "output_type": "execute_result"
    }
   ],
   "source": [
    "(np.argsort(ubic_plot)+1)"
   ]
  },
  {
   "cell_type": "code",
   "execution_count": null,
   "id": "56fcf66e",
   "metadata": {},
   "outputs": [],
   "source": []
  },
  {
   "cell_type": "code",
   "execution_count": null,
   "id": "4a71515a",
   "metadata": {},
   "outputs": [],
   "source": []
  }
 ],
 "metadata": {
  "kernelspec": {
   "display_name": "Python [conda env:pysr_latest]",
   "language": "python",
   "name": "conda-env-pysr_latest-py"
  },
  "language_info": {
   "codemirror_mode": {
    "name": "ipython",
    "version": 3
   },
   "file_extension": ".py",
   "mimetype": "text/x-python",
   "name": "python",
   "nbconvert_exporter": "python",
   "pygments_lexer": "ipython3",
   "version": "3.11.10"
  }
 },
 "nbformat": 4,
 "nbformat_minor": 5
}
