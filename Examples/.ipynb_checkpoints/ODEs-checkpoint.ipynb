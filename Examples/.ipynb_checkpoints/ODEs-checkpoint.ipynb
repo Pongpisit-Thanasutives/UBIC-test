{
 "cells": [
  {
   "cell_type": "code",
   "execution_count": 1,
   "id": "dc5e476b",
   "metadata": {},
   "outputs": [
    {
     "name": "stdout",
     "output_type": "stream",
     "text": [
      "Sklearn's version: 1.5.2\n"
     ]
    }
   ],
   "source": [
    "import matplotlib.pyplot as plt\n",
    "from mpl_toolkits.mplot3d import Axes3D\n",
    "from matplotlib.cm import rainbow\n",
    "import numpy as np\n",
    "from scipy.integrate import solve_ivp\n",
    "from scipy.io import loadmat\n",
    "from pysindy.utils import linear_damped_SHO\n",
    "from pysindy.utils import cubic_damped_SHO\n",
    "from pysindy.utils import linear_3D\n",
    "from pysindy.utils import hopf\n",
    "from pysindy.utils import lorenz\n",
    "\n",
    "import pysindy as ps\n",
    "\n",
    "import sys; sys.path.append('../')\n",
    "from best_subset import *\n",
    "from UBIC import *\n",
    "from okridge.tree import BNBTree\n",
    "from okridge.solvel0 import *\n",
    "from sklearn.utils.random import sample_without_replacement\n",
    "\n",
    "from scipy.stats import wilcoxon, ranksums, mannwhitneyu, friedmanchisquare\n",
    "from para_UBIC import find_corner\n",
    "from skscope_tools import best_subset_solution, abess_solution, best_subset_all_solutions, abess_all_solutions\n",
    "\n",
    "from scipy.signal import savgol_filter\n",
    "\n",
    "np.random.seed(1000)"
   ]
  },
  {
   "cell_type": "markdown",
   "id": "5a2a6776",
   "metadata": {},
   "source": [
    "### Data"
   ]
  },
  {
   "cell_type": "code",
   "execution_count": 2,
   "id": "5ce50c97",
   "metadata": {},
   "outputs": [],
   "source": [
    "# Integrator keywords for solve_ivp\n",
    "integrator_keywords = {}\n",
    "integrator_keywords['rtol'] = 1e-12\n",
    "integrator_keywords['method'] = 'LSODA'\n",
    "integrator_keywords['atol'] = 1e-12\n",
    "\n",
    "name = 'lorenz'; target = 2\n",
    "\n",
    "# Linear 2D ODE\n",
    "if name == 'linear2d':\n",
    "    dt = 0.01\n",
    "    t_train = np.arange(0, 25, dt)\n",
    "    t_train_span = (t_train[0], t_train[-1])\n",
    "    x0_train = [2, 0]\n",
    "    x_train = solve_ivp(linear_damped_SHO, t_train_span, \n",
    "                        x0_train, t_eval=t_train, **integrator_keywords).y.T\n",
    "    true_complexities = [2, 2]\n",
    "\n",
    "# Cubic 2D ODE\n",
    "elif name == 'cubic2d':\n",
    "    dt = 0.01\n",
    "    t_train = np.arange(0, 25, dt)\n",
    "    t_train_span = (t_train[0], t_train[-1])\n",
    "    x0_train = [2, 0]\n",
    "    x_train = solve_ivp(cubic_damped_SHO, t_train_span, \n",
    "                        x0_train, t_eval=t_train, **integrator_keywords).y.T\n",
    "    true_complexities = [2, 2]\n",
    "\n",
    "# Linear 3D ODE\n",
    "elif name == 'linear3d':\n",
    "    dt = .01\n",
    "    t_train = np.arange(0, 50, dt)\n",
    "    t_train_span = (t_train[0], t_train[-1])\n",
    "    x0_train = [2, 0, 1]\n",
    "    x_train = solve_ivp(linear_3D, t_train_span, \n",
    "                        x0_train, t_eval=t_train, **integrator_keywords).y.T\n",
    "    true_complexities = [2, 2, 1]\n",
    "\n",
    "# Lorenz (3D)\n",
    "elif name == 'lorenz':\n",
    "    dt = 0.001\n",
    "    t_train = np.arange(0, 100, dt)\n",
    "    t_train_span = (t_train[0], t_train[-1])\n",
    "    x0_train = [-8, 8, 27]\n",
    "    x_train = solve_ivp(lorenz, t_train_span, \n",
    "                        x0_train, t_eval=t_train, **integrator_keywords).y.T\n",
    "    x_dot_train_measured = np.array(\n",
    "        [lorenz(0, x_train[i]) for i in range(t_train.size)]\n",
    "    )\n",
    "    true_complexities = [2, 3, 2]"
   ]
  },
  {
   "cell_type": "code",
   "execution_count": 3,
   "id": "98881f11",
   "metadata": {},
   "outputs": [],
   "source": [
    "noise_level = 1e-2\n",
    "x_train_clean = x_train.copy()\n",
    "if noise_level != 0:\n",
    "    x_train = x_train_clean + np.random.normal(scale=noise_level, size=x_train.shape)"
   ]
  },
  {
   "cell_type": "code",
   "execution_count": 4,
   "id": "a13fbfec",
   "metadata": {},
   "outputs": [],
   "source": [
    "x_train = savgol_filter(x_train, 11, 3, axis=0)"
   ]
  },
  {
   "cell_type": "code",
   "execution_count": 5,
   "id": "055c2ed4",
   "metadata": {},
   "outputs": [],
   "source": [
    "# TODO: Implement ps.differentiation.Kalman(alpha=...)\n",
    "poly_order = 4\n",
    "if name == 'linear3d': poly_order = 3\n",
    "threshold = 1e-4\n",
    "differentiation_method = ps.differentiation.FiniteDifference()\n",
    "differentiation_method = ps.differentiation.SmoothedFiniteDifference()"
   ]
  },
  {
   "cell_type": "markdown",
   "id": "68433ee6",
   "metadata": {},
   "source": [
    "### Modeling"
   ]
  },
  {
   "cell_type": "code",
   "execution_count": 6,
   "id": "d6884d8b",
   "metadata": {},
   "outputs": [
    {
     "name": "stdout",
     "output_type": "stream",
     "text": [
      "(x0)' = 0.001 1 + -10.000 x0 + 10.000 x1\n",
      "(x1)' = 27.998 x0 + -1.000 x1 + -1.000 x0 x2\n",
      "(x2)' = -0.001 1 + -2.667 x2 + 1.000 x0 x1\n",
      "(x0)' = -10.059 x0 + 10.032 x1\n",
      "(x1)' = -0.091 1 + 27.862 x0 + -0.940 x1 + -0.990 x0 x2\n",
      "(x2)' = -2.665 x2 + 0.993 x0 x1\n"
     ]
    }
   ],
   "source": [
    "model = ps.SINDy(\n",
    "    optimizer=ps.STLSQ(threshold=threshold),\n",
    "    differentiation_method=differentiation_method, \n",
    "    feature_library=ps.PolynomialLibrary(degree=poly_order),\n",
    ")\n",
    "model.fit(x_train, t=dt); model.print()\n",
    "\n",
    "model = ps.SINDy(\n",
    "    # optimizer=ps.STLSQ(threshold=threshold),\n",
    "    optimizer=ps.SR3(reg_weight_lam=0.001, relax_coeff_nu=1), \n",
    "    differentiation_method=differentiation_method, \n",
    "    feature_library=ps.PolynomialLibrary(degree=poly_order),\n",
    ")\n",
    "model.fit(x_train, t=dt); model.print()\n",
    "\n",
    "# x_sim = model.simulate(x_train[0], t_train)\n",
    "# bic = 0\n",
    "# for i in range(x_sim.shape[-1]):\n",
    "#     bic += BIC_AIC(x_sim[:, i:i+1], x_train[:, i:i+1], \n",
    "#                    np.count_nonzero(model.coefficients()[i]))[0]\n",
    "# bic /= x_sim.shape[-1]\n",
    "# bic"
   ]
  },
  {
   "cell_type": "code",
   "execution_count": 7,
   "id": "d085ad2b",
   "metadata": {},
   "outputs": [],
   "source": [
    "# model = ps.SINDy(\n",
    "#     # optimizer=L0BNB(max_nonzeros=3, lam=1e-3, is_normal=True, normalize_columns=False), \n",
    "#     # optimizer=BruteForceRegressor(support_size=true_complexities), \n",
    "#     optimizer=ps.STLSQ(threshold=threshold), \n",
    "#     feature_library=ps.PolynomialLibrary(degree=2), \n",
    "# )\n",
    "\n",
    "# model.fit(x_train, t=dt)\n",
    "# model.print()\n",
    "\n",
    "# x_sim = model.simulate(x_train[0], t_train)\n",
    "# bic = 0\n",
    "# for i in range(x_sim.shape[-1]):\n",
    "#     bic += BIC_AIC(x_sim[:, i:i+1], x_train[:, i:i+1], \n",
    "#                    np.count_nonzero(model.coefficients()[i]))[0]\n",
    "# bic /= x_sim.shape[-1]\n",
    "# bic"
   ]
  },
  {
   "cell_type": "code",
   "execution_count": 8,
   "id": "12f43c8a",
   "metadata": {},
   "outputs": [],
   "source": [
    "X_pre, y_pre, feature_names = ps_features(x_train, t_train, \n",
    "                                          ps.PolynomialLibrary(degree=poly_order, include_bias=True), \n",
    "                                          differentiation_method=differentiation_method, \n",
    "                                          center_output=False, expand_dims=False)\n",
    "y_pre = y_pre[:, target-1:target]"
   ]
  },
  {
   "cell_type": "code",
   "execution_count": 9,
   "id": "5966e3cd",
   "metadata": {},
   "outputs": [
    {
     "name": "stderr",
     "output_type": "stream",
     "text": [
      " 25%|███████████████████████                                                                     | 2/8 [00:00<00:01,  4.07it/s]/Users/pongpisit/anaconda3/envs/pysr_latest/lib/python3.11/site-packages/okridge/node.py:269: LinAlgWarning: Ill-conditioned matrix (rcond=1.10762e-16): result may not be accurate.\n",
      "  self.lower_beta_on_allowed_support = scipy.linalg.solve(\n",
      " 38%|██████████████████████████████████▌                                                         | 3/8 [00:00<00:01,  3.40it/s]/Users/pongpisit/anaconda3/envs/pysr_latest/lib/python3.11/site-packages/okridge/node.py:269: LinAlgWarning: Ill-conditioned matrix (rcond=1.10762e-16): result may not be accurate.\n",
      "  self.lower_beta_on_allowed_support = scipy.linalg.solve(\n",
      " 50%|██████████████████████████████████████████████                                              | 4/8 [00:01<00:01,  3.14it/s]/Users/pongpisit/anaconda3/envs/pysr_latest/lib/python3.11/site-packages/okridge/node.py:269: LinAlgWarning: Ill-conditioned matrix (rcond=1.10762e-16): result may not be accurate.\n",
      "  self.lower_beta_on_allowed_support = scipy.linalg.solve(\n",
      " 62%|█████████████████████████████████████████████████████████▌                                  | 5/8 [00:01<00:01,  2.93it/s]/Users/pongpisit/anaconda3/envs/pysr_latest/lib/python3.11/site-packages/okridge/node.py:269: LinAlgWarning: Ill-conditioned matrix (rcond=1.10762e-16): result may not be accurate.\n",
      "  self.lower_beta_on_allowed_support = scipy.linalg.solve(\n",
      " 75%|█████████████████████████████████████████████████████████████████████                       | 6/8 [00:01<00:00,  2.81it/s]/Users/pongpisit/anaconda3/envs/pysr_latest/lib/python3.11/site-packages/okridge/node.py:269: LinAlgWarning: Ill-conditioned matrix (rcond=1.10762e-16): result may not be accurate.\n",
      "  self.lower_beta_on_allowed_support = scipy.linalg.solve(\n",
      " 88%|████████████████████████████████████████████████████████████████████████████████▌           | 7/8 [00:02<00:00,  2.80it/s]/Users/pongpisit/anaconda3/envs/pysr_latest/lib/python3.11/site-packages/okridge/node.py:269: LinAlgWarning: Ill-conditioned matrix (rcond=1.10762e-16): result may not be accurate.\n",
      "  self.lower_beta_on_allowed_support = scipy.linalg.solve(\n",
      "100%|████████████████████████████████████████████████████████████████████████████████████████████| 8/8 [00:02<00:00,  3.02it/s]\n"
     ]
    }
   ],
   "source": [
    "# TODO: Apply MIOSR here... / Ensemble of optimizers? to get the best subsets\n",
    "k = 8 # cardinality constraint\n",
    "lambda2 = 1e-5 # l2 regularization parameter\n",
    "gap_tol = 1e-6 # optimality gap tolerance\n",
    "try:\n",
    "    coefficients, best_subsets = okridge_solvel0_full(X_pre, y_pre, k, lambda2, gap_tol)\n",
    "except AttributeError:\n",
    "    coefficients, best_subsets = best_subset_all_solutions(X_pre[:, 1:], y_pre, k, refine=True)\n",
    "    # coefficients, best_subsets = abess_all_solutions(X_pre[:, 1:], y_pre, k, refine=True)"
   ]
  },
  {
   "cell_type": "code",
   "execution_count": 10,
   "id": "2216ec05",
   "metadata": {},
   "outputs": [
    {
     "name": "stdout",
     "output_type": "stream",
     "text": [
      "0 [[-0.]]\n",
      "2 [[25.54574273 -0.95133896]]\n",
      "3 [[27.99759622 -0.99954205 -0.99993353]]\n",
      "3 [[27.9986386  -1.00029955 -0.99996454  0.        ]]\n",
      "3 [[27.99287548 -0.99959685 -0.99933781 -0.          0.        ]]\n",
      "3 [[27.99762474 -0.99955838  0.         -0.99993432 -0.          0.        ]]\n",
      "3 [[27.99582096 -1.00094564 -0.99934187  0.         -0.         -0.\n",
      "   0.        ]]\n",
      "3 [[28.0128402  -1.00835095 -1.00050724  0.          0.         -0.\n",
      "   0.          0.        ]]\n"
     ]
    },
    {
     "data": {
      "text/plain": [
       "array([0, 1, 2])"
      ]
     },
     "execution_count": 10,
     "metadata": {},
     "output_type": "execute_result"
    }
   ],
   "source": [
    "sindy_valid_indices = []\n",
    "for bs in best_subsets:\n",
    "    # coef = ps.STLSQ(alpha=lambda2, threshold=threshold).fit(X_pre[:, bs], y_pre).coef_\n",
    "    coef = ps.SR3(reg_weight_lam=0.001, relax_coeff_nu=1).fit(X_pre[:, bs], y_pre).coef_\n",
    "    print(np.count_nonzero(coef), coef)\n",
    "    sindy_valid_indices.append(max(np.count_nonzero(coef)-1, 0))\n",
    "sindy_valid_indices = np.array(sorted(set(sindy_valid_indices)))\n",
    "sindy_valid_indices"
   ]
  },
  {
   "cell_type": "markdown",
   "id": "524cb7a7",
   "metadata": {},
   "source": [
    "### Selection\n",
    "    - Implement varying BICs + stats test"
   ]
  },
  {
   "cell_type": "code",
   "execution_count": 11,
   "id": "afd5fcc6",
   "metadata": {},
   "outputs": [],
   "source": [
    "_, base_bic, _ = baye_uncertainties(best_subsets, (X_pre, y_pre), \n",
    "                                    u_type='cv1', take_sqrt=True, threshold=0)\n",
    "varying_bics = []\n",
    "for _ in range(30):\n",
    "    indices = sample_without_replacement(len(X_pre), len(X_pre)//5)\n",
    "    _, varying_bic, _ = baye_uncertainties(best_subsets, (X_pre[indices, :], y_pre[indices]), \n",
    "                                           u_type='cv1', take_sqrt=True, threshold=0, ridge_lambda=0)\n",
    "    varying_bics.append(varying_bic)\n",
    "varying_bics = np.array(varying_bics).T"
   ]
  },
  {
   "cell_type": "code",
   "execution_count": 12,
   "id": "f6c162b7",
   "metadata": {},
   "outputs": [
    {
     "name": "stdout",
     "output_type": "stream",
     "text": [
      "1.5099296795810785e-11\n",
      "1.5099296795810785e-11\n"
     ]
    },
    {
     "data": {
      "text/plain": [
       "array([0, 1, 2])"
      ]
     },
     "execution_count": 12,
     "metadata": {},
     "output_type": "execute_result"
    }
   ],
   "source": [
    "pv_threshold = 0.01\n",
    "valid_indices = decreasing_values_indices(base_bic)\n",
    "for i in range(len(valid_indices)-1, 0, -1):\n",
    "    R = valid_indices[i]\n",
    "    L = np.argmin(base_bic[:valid_indices[i]])\n",
    "    pv = mannwhitneyu(varying_bics[R], varying_bics[L], \n",
    "                      alternative='less').pvalue\n",
    "    if not pv < pv_threshold:\n",
    "        valid_indices = np.delete(valid_indices, [i])\n",
    "    else:\n",
    "        print(pv)\n",
    "valid_indices"
   ]
  },
  {
   "cell_type": "code",
   "execution_count": 13,
   "id": "5bc3a596",
   "metadata": {},
   "outputs": [
    {
     "name": "stdout",
     "output_type": "stream",
     "text": [
      "[1025238.8809873501, 516451.9434561249, 336315.04145626863, 336326.5278323557, 336337.9270332737, 336349.345697824, 336360.7350200222, 336372.06642667344]\n",
      "threshold: 0.45939563946000195\n",
      "max_lam: 4.63336419987523\n",
      "2 <---> 2 inf\n",
      "2 <---> 2 inf\n",
      "2 <---> 2 inf\n"
     ]
    },
    {
     "data": {
      "text/plain": [
       "(0.0,\n",
       " array([1025398.43213544,  516463.95577877,  336326.55438173,\n",
       "         336353.32200789,  336372.4472072 ,  336361.94536801,\n",
       "         336405.76491309,  336451.23262095]),\n",
       " 2,\n",
       " 2)"
      ]
     },
     "execution_count": 13,
     "metadata": {},
     "output_type": "execute_result"
    }
   ],
   "source": [
    "def conditional_argmin(ics, valid_indices=None):\n",
    "    if valid_indices is None:\n",
    "        return np.argmin(ics)\n",
    "    else:\n",
    "        assert len(valid_indices) > 0\n",
    "        assert len(set(valid_indices)-set(np.arange(len(ics)))) == 0\n",
    "        return max(valid_indices[np.where(valid_indices<=np.argmin(ics))[0]])\n",
    "# valid_indices = None\n",
    "valid_indices = np.array(sorted(set(valid_indices).intersection(set(sindy_valid_indices))))\n",
    "track = {}\n",
    "\n",
    "tau = 3\n",
    "verbose = True\n",
    "scale = np.log(len(y_pre)) \n",
    "# scale = 1 <- generalized UBIC\n",
    "per = 75 # 90\n",
    "\n",
    "post_means, b_bics, b_uns = baye_uncertainties(best_subsets, (X_pre, y_pre), \n",
    "                                               u_type='cv1', take_sqrt=True, \n",
    "                                               threshold=0)\n",
    "predictions = X_pre@post_means\n",
    "print(b_bics)\n",
    "b_bics = np.array(b_bics)\n",
    "max_complexity = len(b_bics)\n",
    "complexities = np.arange(max_complexity)+1\n",
    "d_complexities = complexities[decreasing_values_indices(b_bics)]\n",
    "d_bics = b_bics[decreasing_values_indices(b_bics)]\n",
    "slopes = np.diff(b_bics)/(np.diff(complexities)*b_bics[:-1])\n",
    "try:\n",
    "    thres = np.percentile(np.abs(np.diff(d_bics)/(np.diff(d_complexities)*d_bics[:-1])), per)\n",
    "except IndexError:\n",
    "    thres = 0.01\n",
    "min_thres = 0.01\n",
    "thres = max(thres, min_thres)\n",
    "# thres = 0.02\n",
    "print(\"threshold:\", thres)\n",
    "\n",
    "lower_bounds = []\n",
    "for k, efi in enumerate(best_subsets):\n",
    "    com = len(efi)\n",
    "    lower_bound = 2*np.abs(log_like_value(predictions[:, k:k+1], y_pre))-np.log(len(y_pre))*com\n",
    "    lower_bounds.append(lower_bound)\n",
    "\n",
    "last_lam = np.log10(max(lower_bounds/(b_uns*scale)))\n",
    "print(\"max_lam:\", last_lam)\n",
    "delta = last_lam/tau\n",
    "now_lam = last_lam-delta\n",
    "last_ubic = UBIC(b_bics, b_uns, len(y_pre), hyp=10**last_lam, scale=scale)\n",
    "last_bc = conditional_argmin(last_ubic, valid_indices)\n",
    "track[np.argmin(last_ubic)] = last_lam\n",
    "\n",
    "while now_lam >= 0:\n",
    "    now_ubic = UBIC(b_bics, b_uns, len(y_pre), hyp=10**now_lam, scale=scale)\n",
    "    now_bc = conditional_argmin(now_ubic, valid_indices)\n",
    "    track[np.argmin(last_ubic)] = last_lam\n",
    "    \n",
    "    diff_com = now_bc-last_bc\n",
    "    diff_bic = b_bics[now_bc]-b_bics[last_bc]\n",
    "    imp = np.nan\n",
    "    if diff_com != 0:\n",
    "        imp = abs(diff_bic/(b_bics[last_bc]*diff_com))\n",
    "    \n",
    "    if verbose:\n",
    "        print(min(last_bc, now_bc), '<--->', max(last_bc, now_bc), \n",
    "              np.nan_to_num(imp, nan=np.inf))\n",
    "    \n",
    "    if (diff_com > 0 and (diff_bic > 0 or imp < thres)) or \\\n",
    "        (diff_com < 0 and diff_bic > 0 and imp > thres):\n",
    "        break\n",
    "    \n",
    "    last_lam = now_lam\n",
    "    now_lam = round(last_lam-delta, 8)\n",
    "    last_ubic = now_ubic\n",
    "    last_bc = now_bc\n",
    "\n",
    "best_bc = last_bc\n",
    "if abs((b_bics[last_bc]-b_bics[last_bc-1])/b_bics[last_bc-1]) < thres:\n",
    "    assert last_bc == best_bc\n",
    "    \n",
    "last_lam = abs(round(last_lam, 8))\n",
    "last_lam, last_ubic, last_bc, best_bc"
   ]
  },
  {
   "cell_type": "code",
   "execution_count": 14,
   "id": "18ea8734",
   "metadata": {},
   "outputs": [
    {
     "name": "stdout",
     "output_type": "stream",
     "text": [
      "3 3 3\n",
      "[[29], [1, 6], [1, 2, 6], [1, 2, 6, 8], [1, 2, 6, 15, 29], [1, 2, 5, 6, 14, 28], [1, 2, 6, 10, 11, 15, 29], [1, 2, 6, 8, 10, 11, 13, 24]]\n",
      "[3 4 6 5 7 8 2 1]\n"
     ]
    }
   ],
   "source": [
    "alt_best_bc = list(track.keys())[np.argmin(abs(np.array(list(track.keys())) - best_bc))]\n",
    "if min(best_bc, alt_best_bc) == best_bc:\n",
    "    ubic_plot = last_ubic\n",
    "    lam_plot = last_lam\n",
    "else:\n",
    "    lam_plot = track[alt_best_bc]\n",
    "    ubic_plot = UBIC(b_bics, b_uns, len(y_pre), hyp=10**lam_plot, scale=scale)\n",
    "\n",
    "corner_ubic_complexity = find_corner(complexities, ubic_plot)\n",
    "corner_bic_complexity = find_corner(complexities, b_bics)\n",
    "print(corner_bic_complexity, best_bc+1, corner_ubic_complexity)\n",
    "print(best_subsets)\n",
    "print(np.argsort(ubic_plot)+1)"
   ]
  },
  {
   "cell_type": "code",
   "execution_count": 15,
   "id": "5a5cf012",
   "metadata": {},
   "outputs": [
    {
     "data": {
      "image/png": "[encoded data removed]",
      "text/plain": [
       "<Figure size 640x480 with 2 Axes>"
      ]
     },
     "metadata": {},
     "output_type": "display_data"
    }
   ],
   "source": [
    "fig, ax1 = plt.subplots()\n",
    "\n",
    "color = 'black'\n",
    "ax1.set_xlabel('Support size')\n",
    "ax1.set_ylabel('UBIC', color=color)\n",
    "ax1.scatter(complexities[corner_ubic_complexity-1], ubic_plot[corner_ubic_complexity-1], label='Selected')\n",
    "ax1.plot(complexities, ubic_plot, color=color)\n",
    "ax1.tick_params(axis='y', labelcolor=color)\n",
    "ax1.legend()\n",
    "\n",
    "ax2 = ax1.twinx()  # instantiate a second Axes that shares the same x-axis\n",
    "color = 'blue'\n",
    "ax2.set_ylabel('Uncertainty', color=color)  # we already handled the x-label with ax1\n",
    "ax2.plot(complexities, b_uns, color=color)\n",
    "ax2.tick_params(axis='y', labelcolor=color)\n",
    "ax1.legend()\n",
    "\n",
    "fig.tight_layout()  # otherwise the right y-label is slightly clipped\n",
    "plt.title(f\"Target variable {target}\")\n",
    "plt.show()"
   ]
  },
  {
   "cell_type": "code",
   "execution_count": null,
   "id": "6279967d",
   "metadata": {},
   "outputs": [],
   "source": []
  },
  {
   "cell_type": "code",
   "execution_count": null,
   "id": "1fefdc51",
   "metadata": {},
   "outputs": [],
   "source": []
  }
 ],
 "metadata": {
  "kernelspec": {
   "display_name": "Python [conda env:pysr_latest]",
   "language": "python",
   "name": "conda-env-pysr_latest-py"
  },
  "language_info": {
   "codemirror_mode": {
    "name": "ipython",
    "version": 3
   },
   "file_extension": ".py",
   "mimetype": "text/x-python",
   "name": "python",
   "nbconvert_exporter": "python",
   "pygments_lexer": "ipython3",
   "version": "3.11.10"
  }
 },
 "nbformat": 4,
 "nbformat_minor": 5
}
