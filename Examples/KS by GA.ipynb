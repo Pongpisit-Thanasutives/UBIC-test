{
 "cells": [
  {
   "cell_type": "code",
   "execution_count": 1,
   "id": "c66886e2",
   "metadata": {},
   "outputs": [
    {
     "name": "stdout",
     "output_type": "stream",
     "text": [
      "Sklearn's version: 1.6.1\n"
     ]
    },
    {
     "name": "stderr",
     "output_type": "stream",
     "text": [
      "/Users/pongpisit/anaconda3/envs/pysr_latest/lib/python3.11/site-packages/tqdm/auto.py:21: TqdmWarning: IProgress not found. Please update jupyter and ipywidgets. See https://ipywidgets.readthedocs.io/en/stable/user_install.html\n",
      "  from .autonotebook import tqdm as notebook_tqdm\n"
     ]
    }
   ],
   "source": [
    "import os\n",
    "import yaml\n",
    "import math\n",
    "\n",
    "%matplotlib inline\n",
    "import matplotlib.pyplot as plt\n",
    "from IPython.display import display as pretty\n",
    "\n",
    "from collections import Counter\n",
    "from functools import cmp_to_key\n",
    "from typing import List\n",
    "from decimal import Decimal\n",
    "import heapq\n",
    "from tqdm import trange\n",
    "\n",
    "import sympy\n",
    "import numpy as np\n",
    "import scipy.io as sio\n",
    "from scipy.stats import pearsonr\n",
    "import pysindy as ps\n",
    "from derivative import dxdt\n",
    "import sys; sys.path.insert(0, \"../\")\n",
    "from best_subset import ps_features, brute_force, L0BNB, brute_force_all_subsets\n",
    "from sklearn.model_selection import train_test_split\n",
    "from sklearn.preprocessing import normalize\n",
    "from sklearn import linear_model\n",
    "from okridge.solvel0 import *\n",
    "from UBIC import *\n",
    "from skscope_tools import best_subset_solution, abess_solution, best_subset_all_solutions, abess_all_solutions\n",
    "\n",
    "from scipy.signal import savgol_filter\n",
    "from sgolay2 import SGolayFilter2\n",
    "from skimage.restoration import estimate_sigma\n",
    "\n",
    "from derivative import dxdt\n",
    "\n",
    "from weakident_utils.data import load_data, add_noise\n",
    "from weakident import (weak_ident, weak_ident_pred, \n",
    "                   build_feature_vector_tags, build_feature_matrix_and_scale_matrix)\n",
    "\n",
    "import shap\n",
    "\n",
    "def shap_linear_importance(X_pre, y_pre, scale=True):\n",
    "    explainer = shap.explainers.Linear(linear_model.LinearRegression(fit_intercept=False).fit(X_pre, y_pre), \n",
    "                                       X_pre)\n",
    "    feature_importance = abs(explainer(X_pre).values).mean(axis=0)\n",
    "    if scale:\n",
    "        feature_importance =  feature_importance/sum(feature_importance)\n",
    "    return feature_importance\n",
    "\n",
    "from kneed import KneeLocator"
   ]
  },
  {
   "cell_type": "code",
   "execution_count": 2,
   "id": "30d3a2fd",
   "metadata": {},
   "outputs": [
    {
     "name": "stdout",
     "output_type": "stream",
     "text": [
      "Domain shape: (1024, 251)\n"
     ]
    }
   ],
   "source": [
    "data = sio.loadmat('../Datasets/kuramoto_sivishinky.mat')\n",
    "u_clean = data['uu']\n",
    "u = u_clean.copy()\n",
    "x = data['x'][:,0]\n",
    "t = data['tt'][0,:]\n",
    "dt = t[1]-t[0]\n",
    "dx = x[2]-x[1]\n",
    "xt = np.array([x.reshape(-1, 1), t.reshape(1, -1)], dtype=object)\n",
    "X, T = np.meshgrid(x, t)\n",
    "XT = np.asarray([X, T]).T\n",
    "print(\"Domain shape:\", u.shape)"
   ]
  },
  {
   "cell_type": "code",
   "execution_count": 3,
   "id": "e546eca9",
   "metadata": {},
   "outputs": [
    {
     "name": "stdout",
     "output_type": "stream",
     "text": [
      "Noise level: 50.0\n"
     ]
    }
   ],
   "source": [
    "np.random.seed(0)\n",
    "noise_lv = float(50)\n",
    "print(\"Noise level:\", noise_lv)\n",
    "noise = 0.01*np.abs(noise_lv)*(u.std())*np.random.randn(u.shape[0],u.shape[1])\n",
    "u = u + noise"
   ]
  },
  {
   "cell_type": "code",
   "execution_count": 4,
   "id": "afdca204",
   "metadata": {},
   "outputs": [
    {
     "name": "stdout",
     "output_type": "stream",
     "text": [
      "Start building feature matrix W:\n",
      "[=========================] 100.0% \n",
      "Start building scale matrix S:\n",
      "[=========================] 100.0% \n",
      "The number of rows in the highly dynamic region is  7772\n",
      "\n",
      " Start finding support: \n",
      "[=========] 100.0% \n",
      "WeakIdent finished support trimming and narrow-fit for variable no.1 . A support is found this variable.\n",
      "Start building feature matrix W:\n",
      "[=========================] 100.0% \n",
      "Start building scale matrix S:\n",
      "[=========================] 100.0% \n",
      "The number of rows in the highly dynamic region is  6714\n",
      "\n",
      " Start finding support: \n",
      "[=========] 100.0% \n",
      "WeakIdent finished support trimming and narrow-fit for variable no.1 . A support is found this variable.\n",
      "Start building feature matrix W:\n",
      "[=========================] 100.0% \n",
      "Start building scale matrix S:\n",
      "[=========================] 100.0% \n",
      "The number of rows in the highly dynamic region is  5983\n",
      "\n",
      " Start finding support: \n",
      "[=========] 100.0% \n",
      "WeakIdent finished support trimming and narrow-fit for variable no.1 . A support is found this variable.\n",
      "Start building feature matrix W:\n",
      "[=========================] 100.0% \n",
      "Start building scale matrix S:\n",
      "[=========================] 100.0% \n",
      "The number of rows in the highly dynamic region is  5482\n",
      "\n",
      " Start finding support: \n",
      "[=========] 100.0% \n",
      "WeakIdent finished support trimming and narrow-fit for variable no.1 . A support is found this variable.\n",
      "Start building feature matrix W:\n",
      "[=========================] 100.0% \n",
      "Start building scale matrix S:\n",
      "[=========================] 100.0% \n",
      "The number of rows in the highly dynamic region is  5123\n",
      "\n",
      " Start finding support: \n",
      "[=========] 100.0% \n",
      "WeakIdent finished support trimming and narrow-fit for variable no.1 . A support is found this variable.\n",
      "Start building feature matrix W:\n",
      "[=========================] 100.0% \n",
      "Start building scale matrix S:\n",
      "[=========================] 100.0% \n",
      "The number of rows in the highly dynamic region is  5053\n",
      "\n",
      " Start finding support: \n",
      "[=========] 100.0% \n",
      "WeakIdent finished support trimming and narrow-fit for variable no.1 . A support is found this variable.\n",
      "Start building feature matrix W:\n",
      "[=========================] 100.0% \n",
      "Start building scale matrix S:\n",
      "[=========================] 100.0% \n",
      "The number of rows in the highly dynamic region is  4843\n",
      "\n",
      " Start finding support: \n",
      "[=========] 100.0% \n",
      "WeakIdent finished support trimming and narrow-fit for variable no.1 . A support is found this variable.\n",
      "Start building feature matrix W:\n",
      "[=========================] 100.0% \n",
      "Start building scale matrix S:\n",
      "[=========================] 100.0% \n",
      "The number of rows in the highly dynamic region is  4959\n",
      "\n",
      " Start finding support: \n",
      "[=========] 100.0% \n",
      "WeakIdent finished support trimming and narrow-fit for variable no.1 . A support is found this variable.\n",
      "Start building feature matrix W:\n",
      "[=========================] 100.0% \n",
      "Start building scale matrix S:\n",
      "[=========================] 100.0% \n",
      "The number of rows in the highly dynamic region is  4999\n",
      "\n",
      " Start finding support: \n",
      "[=========] 100.0% \n",
      "WeakIdent finished support trimming and narrow-fit for variable no.1 . A support is found this variable.\n",
      "Start building feature matrix W:\n",
      "[=========================] 100.0% \n",
      "Start building scale matrix S:\n",
      "[=========================] 100.0% \n",
      "The number of rows in the highly dynamic region is  4986\n",
      "\n",
      " Start finding support: \n",
      "[=========] 100.0% \n",
      "WeakIdent finished support trimming and narrow-fit for variable no.1 . A support is found this variable.\n",
      "Start building feature matrix W:\n",
      "[=========================] 100.0% \n",
      "Start building scale matrix S:\n",
      "[=========================] 100.0% \n",
      "The number of rows in the highly dynamic region is  5198\n",
      "\n",
      " Start finding support: \n",
      "[=========] 100.0% \n",
      "WeakIdent finished support trimming and narrow-fit for variable no.1 . A support is found this variable.\n",
      "PearsonRResult(statistic=0.62541549355696, pvalue=0.03960171222230157)\n"
     ]
    },
    {
     "data": {
      "text/plain": [
       "11"
      ]
     },
     "execution_count": 4,
     "metadata": {},
     "output_type": "execute_result"
    }
   ],
   "source": [
    "## Finding ws ###\n",
    "denoising_performance1 = []\n",
    "denoising_performance2 = []\n",
    "\n",
    "for ws in range(5, 27, 2):\n",
    "    denoised_u = SGolayFilter2(window_size=ws, poly_order=3)(u)\n",
    "    denoising_performance1.append(((denoised_u-u_clean)**2).mean())\n",
    "    \n",
    "    X_pre, y_pre, weak_ident_coeff, lhs, rhs = weak_ident(denoised_u, xt, np.array([]), \n",
    "                                                          max_dx=5, skip_x=3, skip_t=6, \n",
    "                                                          max_poly=4, tau=0.2)\n",
    "    \n",
    "    denoising_performance2.append(np.linalg.lstsq(X_pre, y_pre, rcond=None)[1][0])\n",
    "    \n",
    "print(pearsonr(denoising_performance1, denoising_performance2))\n",
    "\n",
    "ws = KneeLocator(range(5, 27, 2), denoising_performance2, S=1, \n",
    "                 curve='convex', direction='decreasing').knee\n",
    "ws"
   ]
  },
  {
   "cell_type": "code",
   "execution_count": 5,
   "id": "e01096a9",
   "metadata": {},
   "outputs": [
    {
     "data": {
      "image/png": "[encoded data removed]",
      "text/plain": [
       "<Figure size 640x480 with 1 Axes>"
      ]
     },
     "metadata": {},
     "output_type": "display_data"
    }
   ],
   "source": [
    "plt.plot(range(5, 27, 2), denoising_performance1, label='true')\n",
    "plt.plot(range(5, 27, 2), denoising_performance2, label='est')\n",
    "plt.legend()\n",
    "plt.show()"
   ]
  },
  {
   "cell_type": "code",
   "execution_count": 6,
   "id": "a2de2aa9",
   "metadata": {},
   "outputs": [
    {
     "name": "stdout",
     "output_type": "stream",
     "text": [
      "Estimated Gaussian noise standard deviation = 0.5271387586279053\n",
      "0.008618585749959813\n"
     ]
    }
   ],
   "source": [
    "sigma_est = estimate_sigma(u, channel_axis=None, average_sigmas=True)\n",
    "print(f'Estimated Gaussian noise standard deviation = {sigma_est}')\n",
    "\n",
    "denoise = True\n",
    "if denoise:\n",
    "    u = SGolayFilter2(window_size=int(ws), poly_order=3)(u)\n",
    "    print(((u-u_clean)**2).mean())\n",
    "\n",
    "use_nn_base_features = False\n",
    "if use_nn_base_features:\n",
    "    nn_path = f\"./nn_files/nn_base_features{int(noise_lv)}.npy\"\n",
    "    if os.path.exists(nn_path):\n",
    "        nn_base_features = np.load(f\"./nn_files/nn_base_features{int(noise_lv)}.npy\")\n",
    "        nn_base_features = nn_base_features[:, 1:].T\n",
    "        nn_base_features = nn_base_features.reshape(len(nn_base_features), \n",
    "                                              len(x), len(t))\n",
    "        u = nn_base_features[0]\n",
    "        del nn_base_features\n",
    "    else:\n",
    "        print(\"NN NOT FOUND.\")"
   ]
  },
  {
   "cell_type": "code",
   "execution_count": 7,
   "id": "b8d79782",
   "metadata": {},
   "outputs": [
    {
     "name": "stdout",
     "output_type": "stream",
     "text": [
      "{'libraray_arg': {'max_poly': 6, 'max_dt': 1, 'max_dx': 6, 'use_cross_der': False}, 'Noise': {'sigma_SNR': 0.4}, 'Subsampling': {'stride_x': 3, 'stride_t': 6}, 'Dataset_name': {'equation': 'Kuramoto-Sivashinsky (KS) Equation (1 variables, 1D)', 'filename': 'KS.npy'}, 'Other_paramters': {'Tau': 0.2}}\n",
      "Start building feature matrix W:\n",
      "[=========================] 100.0% \n",
      "Start building scale matrix S:\n",
      "[=========================] 100.0% \n",
      "The number of rows in the highly dynamic region is  5482\n",
      "\n",
      " Start finding support: \n",
      "[=========] 100.0% \n",
      "WeakIdent finished support trimming and narrow-fit for variable no.1 . A support is found this variable.\n",
      "['1', 'u', 'u_{x}', 'u_{xx}', 'u_{xxx}', 'u_{xxxx}', 'u_{xxxxx}', 'u^2', '(u^2)_{x}', '(u^2)_{xx}', '(u^2)_{xxx}', '(u^2)_{xxxx}', '(u^2)_{xxxxx}', 'u^3', '(u^3)_{x}', '(u^3)_{xx}', '(u^3)_{xxx}', '(u^3)_{xxxx}', '(u^3)_{xxxxx}', 'u^4', '(u^4)_{x}', '(u^4)_{xx}', '(u^4)_{xxx}', '(u^4)_{xxxx}', '(u^4)_{xxxxx}']\n",
      "wihtout preprocessing\n"
     ]
    },
    {
     "name": "stderr",
     "output_type": "stream",
     "text": [
      "100%|█████████████████████████████████████████████| 8/8 [00:27<00:00,  3.43s/it]\n"
     ]
    },
    {
     "name": "stdout",
     "output_type": "stream",
     "text": [
      "[[20], [10, 20], [20, 22, 24], [8, 10, 13, 15], [8, 10, 12, 13, 15], [8, 10, 12, 13, 15, 17], [8, 10, 12, 13, 15, 17, 20], [8, 10, 12, 13, 15, 17, 20, 22]]\n"
     ]
    },
    {
     "data": {
      "image/png": "[encoded data removed]",
      "text/plain": [
       "<Figure size 640x480 with 1 Axes>"
      ]
     },
     "metadata": {},
     "output_type": "display_data"
    }
   ],
   "source": [
    "with open('./weakident_configs/config_6.yaml') as f:\n",
    "    print(yaml.safe_load(f))\n",
    "\n",
    "X_pre, y_pre, weak_ident_coeff, lhs, rhs = weak_ident(u, xt, np.array([]), \n",
    "                                                      max_dx=5, skip_x=3, skip_t=6, \n",
    "                                                      max_poly=4, tau=0.2)\n",
    "print(rhs)\n",
    "\n",
    "# _, best_subsets = brute_force_all_subsets(X_pre, y_pre, max_support_size=8) # compare solvel0's res to bf_solve\n",
    "\n",
    "# Collecting best subsets from different preprocessing and evaluate them on (X_pre, y_pre)\n",
    "try:\n",
    "    print(\"wihtout preprocessing\")\n",
    "    _, best_subsets = okridge_solvel0_full(X_pre, \n",
    "                                           y_pre, k=8)\n",
    "except AttributeError:\n",
    "    # with preprocessing\n",
    "    try: \n",
    "        print(\"with l2 preprocessing\")\n",
    "        _, best_subsets = okridge_solvel0_full(normalize(X_pre, norm='l2', axis=0), \n",
    "                                               y_pre, k=8)\n",
    "    except AttributeError:\n",
    "        print(\"with max preprocessing\")\n",
    "        _, best_subsets = okridge_solvel0_full(normalize(X_pre, norm='max', axis=0), \n",
    "                                               y_pre, k=8)\n",
    "print(best_subsets)\n",
    "\n",
    "feature_importance = shap_linear_importance(X_pre, y_pre)\n",
    "plt.barh(np.array(rhs)[np.argsort(feature_importance)], \n",
    "         feature_importance[np.argsort(feature_importance)])\n",
    "plt.title(\"Scaled values of mean|SHAP|\")\n",
    "plt.show()"
   ]
  },
  {
   "cell_type": "code",
   "execution_count": 8,
   "id": "2dc09236",
   "metadata": {},
   "outputs": [
    {
     "data": {
      "image/png": "[encoded data removed]",
      "text/plain": [
       "<Figure size 640x480 with 1 Axes>"
      ]
     },
     "metadata": {},
     "output_type": "display_data"
    }
   ],
   "source": [
    "# slower than WeakIdent\n",
    "function_library = ps.PolynomialLibrary(degree=4, include_bias=False)\n",
    "weak_lib = ps.WeakPDELibrary(\n",
    "    function_library=function_library,\n",
    "    derivative_order=5,\n",
    "    spatiotemporal_grid=XT,\n",
    "    include_bias=True, # change here\n",
    "    diff_kwargs={\"is_uniform\":True},\n",
    "    K=20000\n",
    ")\n",
    "\n",
    "# model = ps.SINDy(feature_library=weak_lib, \n",
    "#                  optimizer=L0BNB(max_nonzeros=2, lam=1e-4, is_normal=True, normalize_columns=False, threshold=1e-4), \n",
    "#                  feature_names=['u'])\n",
    "# model.fit(np.expand_dims(u, -1), t=dt)\n",
    "# model.print()\n",
    "# y_pre = model.feature_library.convert_u_dot_integral(np.expand_dims(u, -1))\n",
    "# X_pre = model.optimizer.Theta_\n",
    "\n",
    "X_pre = np.array(weak_lib.fit_transform(np.expand_dims(u, -1)))\n",
    "y_pre = weak_lib.convert_u_dot_integral(np.expand_dims(u, -1))\n",
    "\n",
    "feature_importance = shap_linear_importance(X_pre, y_pre)\n",
    "plt.barh(np.array(weak_lib.get_feature_names())[np.argsort(feature_importance)], \n",
    "         feature_importance[np.argsort(feature_importance)])\n",
    "plt.title(\"Scaled values of mean|SHAP|\")\n",
    "plt.show()"
   ]
  },
  {
   "cell_type": "code",
   "execution_count": 9,
   "id": "107a5540",
   "metadata": {
    "scrolled": false
   },
   "outputs": [
    {
     "name": "stdout",
     "output_type": "stream",
     "text": [
      "wihtout preprocessing\n"
     ]
    },
    {
     "name": "stderr",
     "output_type": "stream",
     "text": [
      "100%|█████████████████████████████████████████████| 8/8 [01:54<00:00, 14.33s/it]"
     ]
    },
    {
     "name": "stdout",
     "output_type": "stream",
     "text": [
      "['1', 'x0', 'x0^2', 'x0^3', 'x0^4', 'x0_1', 'x0_11', 'x0_111', 'x0_1111', 'x0_11111', 'x0x0_1', 'x0^2x0_1', 'x0^3x0_1', 'x0^4x0_1', 'x0x0_11', 'x0^2x0_11', 'x0^3x0_11', 'x0^4x0_11', 'x0x0_111', 'x0^2x0_111', 'x0^3x0_111', 'x0^4x0_111', 'x0x0_1111', 'x0^2x0_1111', 'x0^3x0_1111', 'x0^4x0_1111', 'x0x0_11111', 'x0^2x0_11111', 'x0^3x0_11111', 'x0^4x0_11111']\n"
     ]
    },
    {
     "name": "stderr",
     "output_type": "stream",
     "text": [
      "\n"
     ]
    },
    {
     "data": {
      "text/plain": [
       "[[12],\n",
       " [3, 12],\n",
       " [6, 8, 10],\n",
       " [6, 8, 10, 25],\n",
       " [3, 6, 8, 10, 15],\n",
       " [3, 6, 7, 8, 10, 15],\n",
       " [4, 6, 8, 10, 13, 16, 25],\n",
       " [3, 4, 6, 8, 10, 13, 15, 16]]"
      ]
     },
     "execution_count": 9,
     "metadata": {},
     "output_type": "execute_result"
    }
   ],
   "source": [
    "# _, best_subsets = brute_force_all_subsets(X_pre, y_pre, max_support_size=8) # compare solvel0's res to bf_solve\n",
    "\n",
    "# Collecting best subsets from different preprocessing and evaluate them on (X_pre, y_pre)\n",
    "try:\n",
    "    print(\"wihtout preprocessing\")\n",
    "    _, best_subsets = okridge_solvel0_full(X_pre, \n",
    "                                           y_pre, k=8, gap_tol=1e-4)\n",
    "except AttributeError:\n",
    "    # with preprocessing\n",
    "    try: \n",
    "        print(\"with l2 preprocessing\")\n",
    "        _, best_subsets = okridge_solvel0_full(normalize(X_pre, norm='l2', axis=0), \n",
    "                                               y_pre, k=8, gap_tol=1e-4)\n",
    "    except AttributeError:\n",
    "        print(\"with max preprocessing\")\n",
    "        _, best_subsets = okridge_solvel0_full(normalize(X_pre, norm='max', axis=0), \n",
    "                                               y_pre, k=8, gap_tol=1e-4)\n",
    "\n",
    "print(weak_lib.get_feature_names())\n",
    "best_subsets"
   ]
  },
  {
   "cell_type": "code",
   "execution_count": 10,
   "id": "a11335dc",
   "metadata": {},
   "outputs": [
    {
     "name": "stdout",
     "output_type": "stream",
     "text": [
      "threshold: 0.07434360772981857\n",
      "2 <---> 6 0.006931433647372262\n"
     ]
    },
    {
     "data": {
      "text/plain": [
       "(3.0162575079523934,\n",
       " array([126832.1559076 ,  97502.3297942 ,   2477.66327844,   3476.30537232,\n",
       "          5485.60420756,   6589.01677394,   4280.65542954,   6300.63511626]),\n",
       " 2,\n",
       " 2)"
      ]
     },
     "execution_count": 10,
     "metadata": {},
     "output_type": "execute_result"
    }
   ],
   "source": [
    "tau = 3 # we fix its value as a constant\n",
    "scale = np.log(len(y_pre))\n",
    "# scale = 1\n",
    "per = 75\n",
    "\n",
    "post_means, b_bics, b_uns = baye_uncertainties(best_subsets, (X_pre, y_pre), u_type='cv1', take_sqrt=True)\n",
    "predictions = X_pre@post_means\n",
    "\n",
    "b_bics = np.array(b_bics)\n",
    "max_complexity = len(b_bics)\n",
    "complexities = np.arange(max_complexity)+1\n",
    "d_complexities = complexities[decreasing_values_indices(b_bics)]\n",
    "d_bics = b_bics[decreasing_values_indices(b_bics)]\n",
    "slopes = np.diff(b_bics)/(np.diff(complexities)*b_bics[:-1])\n",
    "try:\n",
    "    thres = np.percentile(np.abs(np.diff(d_bics)/(np.diff(d_complexities)*d_bics[:-1])), per)\n",
    "except IndexError:\n",
    "    thres = 0.02\n",
    "min_thres = 0.02\n",
    "thres = max(thres, min_thres)\n",
    "print(\"threshold:\", thres)\n",
    "\n",
    "lower_bounds = []\n",
    "for k, efi in enumerate(best_subsets):\n",
    "    assert len(efi) == np.count_nonzero(post_means[:, k:k+1])\n",
    "    com = len(efi)\n",
    "    # lower_bound = 2*log_like_value(predictions[:, k:k+1], y_pre)/np.log(len(y_pre))-com\n",
    "    lower_bound = 2*np.abs(log_like_value(predictions[:, k:k+1], y_pre))-np.log(len(y_pre))*com\n",
    "    lower_bounds.append(lower_bound)\n",
    "\n",
    "last_lam = np.log10(max(lower_bounds/(b_uns*scale)))\n",
    "delta = last_lam/tau\n",
    "now_lam = last_lam-delta\n",
    "last_ubic = UBIC(b_bics, b_uns, len(y_pre), hyp=10**last_lam, scale=scale)\n",
    "last_bc = np.argmin(last_ubic)\n",
    "bc_seq = [last_bc]\n",
    "while now_lam >= 0:\n",
    "    now_ubic = UBIC(b_bics, b_uns, len(y_pre), hyp=10**now_lam, scale=scale)\n",
    "    now_bc = np.argmin(now_ubic)\n",
    "    \n",
    "    diff_com = now_bc-last_bc\n",
    "    diff_bic = b_bics[now_bc]-b_bics[last_bc]\n",
    "    imp = abs(diff_bic/(b_bics[last_bc]*diff_com))\n",
    "    \n",
    "    print(min(last_bc, now_bc), '<--->', max(last_bc, now_bc), np.nan_to_num(imp, nan=np.inf))\n",
    "    \n",
    "    if (diff_com > 0 and (diff_bic > 0 or imp < thres)) or \\\n",
    "        (diff_com < 0 and diff_bic > 0 and imp > thres):\n",
    "        break\n",
    "    \n",
    "    last_lam = now_lam\n",
    "    now_lam = round(last_lam-delta, 8)\n",
    "    last_ubic = now_ubic\n",
    "    last_bc = now_bc\n",
    "    if last_bc not in bc_seq:\n",
    "        bc_seq.append(last_bc)\n",
    "\n",
    "best_bc = last_bc\n",
    "alt_bc = bc_seq[-2] if len(bc_seq) > 1 else last_bc-1\n",
    "cond = abs((b_bics[last_bc]-b_bics[last_bc-1])/b_bics[last_bc-1]) or \\\n",
    "        abs((b_bics[last_bc]-b_bics[alt_bc])/(b_bics[alt_bc]*(last_bc-alt_bc)))\n",
    "if cond < thres: \n",
    "    best_bc = alt_bc\n",
    "    \n",
    "last_lam, last_ubic, last_bc, best_bc"
   ]
  },
  {
   "cell_type": "code",
   "execution_count": 11,
   "id": "808257a0",
   "metadata": {},
   "outputs": [
    {
     "data": {
      "image/png": "[encoded data removed]",
      "text/plain": [
       "<Figure size 350x262.5 with 2 Axes>"
      ]
     },
     "metadata": {},
     "output_type": "display_data"
    }
   ],
   "source": [
    "complexity_axis = [len(bs) for bs in best_subsets]\n",
    "with plt.style.context(['science']):\n",
    "    fig, ax = plt.subplots()\n",
    "    ax2 = ax.twinx()\n",
    "    ax.set_zorder(ax2.get_zorder()+1)\n",
    "    ax.patch.set_visible(False)\n",
    "    \n",
    "    l1, = ax.plot(complexity_axis, last_ubic, 'o-', c='black', markerfacecolor='none', label=f\"$\\lambda = {abs(last_lam)}$\")\n",
    "    ax.set_xticks(complexity_axis)\n",
    "    ax.set_ylabel(\"$\\\\textrm{UBIC}(\\\\xi^{k}, 10^{\\\\lambda})$\", fontsize=12)\n",
    "    ax.set_xlabel(\"Support sizes ($s_{k}$)\", fontsize=12)\n",
    "#     ax.annotate('$(u_{xxx}, uu_{x})\\checkmark$', fontsize=15, \n",
    "#                  xy=(complexity_axis[best_bc], last_ubic[best_bc]), \n",
    "#                  xytext=(complexity_axis[best_bc]-0.25, last_ubic[best_bc]+15000), \n",
    "#                  va = \"top\", ha=\"left\" )\n",
    "#     ax.annotate('', fontsize=16, \n",
    "#                  xy=(complexity_axis[best_bc], last_ubic[best_bc]), \n",
    "#                  xytext=(complexity_axis[best_bc]+0.25, last_ubic[best_bc]+12500), \n",
    "#                  arrowprops={'arrowstyle': '->'}, va = \"top\", ha=\"left\" )\n",
    "    \n",
    "    l2, = ax2.plot(complexity_axis, b_uns, 'o--', c='blue', markerfacecolor='none', label=\"Uncertainty $\\\\textrm{U}^{k}$\")\n",
    "    s1 = ax2.scatter(complexity_axis[np.argmin(b_uns)], b_uns[np.argmin(b_uns)], c='blue')\n",
    "    ax2.tick_params(axis='y', labelcolor='blue')\n",
    "\n",
    "    ax.legend([l1, l2, s1], [f\"UBIC with $\\lambda = {abs(round(last_lam,2))}$\", \"Uncertainty $\\\\textrm{U}^{k}$\", \"Min $\\\\textrm{U}^{k}$\"], \n",
    "              labelcolor='linecolor', loc='upper center', fontsize=12, bbox_to_anchor=(-0.025,0,1,1))\n",
    "    \n",
    "    plt.show()"
   ]
  },
  {
   "cell_type": "markdown",
   "id": "8f9ed572",
   "metadata": {},
   "source": [
    "## GA"
   ]
  },
  {
   "cell_type": "code",
   "execution_count": 12,
   "id": "d2c8ac14",
   "metadata": {},
   "outputs": [],
   "source": [
    "np.random.seed(0)"
   ]
  },
  {
   "cell_type": "code",
   "execution_count": 13,
   "id": "9211998a",
   "metadata": {},
   "outputs": [],
   "source": [
    "### GA (Loop of crossover -> mutation -> evaluate_genome) ###\n",
    "@cmp_to_key\n",
    "def compare_module(module1, module2):\n",
    "    if module1 == module2:\n",
    "        return 0\n",
    "    lg1 = len(module1); lg2 = len(module2)\n",
    "    if lg1 != lg2:\n",
    "        return lg1 - lg2\n",
    "    if module1 < module2: \n",
    "        return -1\n",
    "    else:\n",
    "        return 1\n",
    "    \n",
    "def generate_module(n_poly, n_derivatives):\n",
    "    pde_module = (np.random.randint(0, n_poly+1), np.random.randint(0, n_derivatives+1))\n",
    "    return pde_module\n",
    "\n",
    "def generate_genome(n_modules, n_poly, n_derivatives):\n",
    "    genome = fset(generate_module(n_poly, n_derivatives) \n",
    "                  for _ in range(np.random.randint(low=1, high=n_modules+1)))\n",
    "    return genome\n",
    "\n",
    "def generate_chromosome(n_modules, n_poly, n_derivatives, pop_size):\n",
    "    chromosome = set()\n",
    "    count = 0\n",
    "    while count < pop_size:\n",
    "        genome = generate_genome(n_modules, n_poly, n_derivatives)\n",
    "        if genome not in chromosome:\n",
    "            chromosome.add(genome)\n",
    "            count += 1\n",
    "    return chromosome\n",
    "\n",
    "def derivative_to_string(n):\n",
    "    if n > 0: \n",
    "        nx = 'x'*n\n",
    "        return f'u_{nx}'\n",
    "    return '1'\n",
    "\n",
    "def polynomial_to_string(n):\n",
    "    if n > 0: \n",
    "        return f'u^{n}'\n",
    "    return '1'\n",
    "\n",
    "def display_module(pde_module):\n",
    "    return sympy.sympify(polynomial_to_string(pde_module[0]) + '*' + derivative_to_string(pde_module[1]))\n",
    "\n",
    "# coefficients for sorted(encoded_pde)\n",
    "def display_pde(encoded_pde, coefficients=None):\n",
    "    if coefficients is None:\n",
    "        coefficients = [1 for _ in range(len(encoded_pde))]\n",
    "    out = []\n",
    "    for module, c in zip(encoded_pde, coefficients):\n",
    "        out.append(c*display_module(module))\n",
    "    return sum(out)\n",
    "\n",
    "# not efficient: O(len(genome))\n",
    "def crossover(genome1: List, genome2: List, fs=True):\n",
    "    if genome1 != genome2:\n",
    "        while True: \n",
    "            idx1 = np.random.randint(len(genome1))\n",
    "            idx2 = np.random.randint(len(genome2))\n",
    "            if genome1[idx1] != genome2[idx2]:\n",
    "                break\n",
    "        genome1[idx1], genome2[idx2] = genome2[idx2], genome1[idx1]\n",
    "    if fs: \n",
    "        genome1, genome2 = fset(genome1), fset(genome2)\n",
    "    return genome1, genome2\n",
    "\n",
    "# in-place func\n",
    "def mutation(genome: List, n_poly: int, n_derivatives: int, mutate_rate=(0.4, 0.5, 0.4), fs=True):\n",
    "    add_rate, delete_rate, order_rate = mutate_rate\n",
    "    # add\n",
    "    if np.random.uniform(0, 1) < add_rate:\n",
    "        genome.append(generate_module(n_poly, n_derivatives))\n",
    "    # del\n",
    "    if np.random.uniform(0, 1) < delete_rate:\n",
    "        lg = len(genome)\n",
    "        if lg > 0:\n",
    "            idx = np.random.randint(lg)\n",
    "            genome.pop(idx)\n",
    "    # order\n",
    "    if np.random.uniform(0, 1) < order_rate:\n",
    "        lg = len(genome)\n",
    "        if lg > 0: \n",
    "            i = np.random.randint(lg)\n",
    "            lg = len(genome[i])\n",
    "            if lg > 0:\n",
    "                genome[i] = list(genome[i])\n",
    "                j = np.random.randint(len(genome[i]))\n",
    "                if genome[i][j] == 0:\n",
    "                    if j == 0:\n",
    "                        genome[i][j] = np.random.randint(0, n_poly+1)\n",
    "                    else:\n",
    "                        genome[i][j] = np.random.randint(0, n_derivatives+1)\n",
    "                else:\n",
    "                    genome[i][j] -= 1\n",
    "                genome[i] = tuple(sorted(genome[i]))\n",
    "    if fs: \n",
    "        genome = fset(genome)\n",
    "    return genome\n",
    "\n",
    "def numericalize_module(module, base_features):\n",
    "    return base_features[module]\n",
    "\n",
    "def numericalize_genome(genome, base_features):\n",
    "    return np.stack([numericalize_module(module, base_features) \n",
    "                     for module in genome], axis=-1)\n",
    "\n",
    "def compute_genome_coefficient(genome, base_features, target):\n",
    "    features = numericalize_genome(genome, base_features)\n",
    "    # assert target.shape == features[:, :, 0].shape\n",
    "    n_features = features.shape[-1]\n",
    "    target = target.reshape(-1, 1)\n",
    "    features = features.reshape(-1, n_features)\n",
    "    coeff, error, _, _ = np.linalg.lstsq(features, target, rcond=None)\n",
    "    return coeff, error[0]\n",
    "\n",
    "# Computing coefficients + fitness\n",
    "def evaluate_genome(genome, base_features, target, epsilon=0):\n",
    "    coeff, mse = compute_genome_coefficient(genome, base_features, target)\n",
    "    mse = mse / np.prod(target.shape)\n",
    "    # fitness = mse + abs(epsilon)*sum(sum(g) for g in genome)\n",
    "    fitness = mse + abs(epsilon)*len(genome)\n",
    "    return fitness, coeff\n",
    "\n",
    "### Miscellaneous for GA ###\n",
    "def sci_format(n):\n",
    "    sf = '%.2E' % Decimal(n)\n",
    "    sf = sf.split('E')\n",
    "    return float(sf[0]), int(sf[1])\n",
    "\n",
    "def fset(ls): return frozenset(ls)"
   ]
  },
  {
   "cell_type": "code",
   "execution_count": 14,
   "id": "9c54d685",
   "metadata": {},
   "outputs": [],
   "source": [
    "# if noise_lv > 0:\n",
    "#     diff = lambda x, y: dxdt(x, y, axis=0, \n",
    "#                              kind=\"kalman\", alpha=1e-1)\n",
    "# else:\n",
    "#     diff = lambda x, y: dxdt(x, y, axis=0, \n",
    "#                              kind=\"finite_difference\", k=1)"
   ]
  },
  {
   "cell_type": "code",
   "execution_count": 15,
   "id": "f5f3790d",
   "metadata": {},
   "outputs": [],
   "source": [
    "n_poly = weak_lib.function_library.degree\n",
    "n_derivatives = weak_lib.derivative_order\n",
    "n_modules = 8\n",
    "pop_size = 400\n",
    "epsilons = [10**(i-6) for i in range(1, 6)] # 1e-5 to 1e-1"
   ]
  },
  {
   "cell_type": "code",
   "execution_count": 16,
   "id": "c7807c9c",
   "metadata": {
    "scrolled": true
   },
   "outputs": [],
   "source": [
    "base_poly = np.array([[p, 0] for p in range(1, n_poly+1)])\n",
    "base_derivative = np.array([[0, d] for d in range(1, n_derivatives+1)])\n",
    "modules = [(0, 0)] if weak_lib.include_bias else []\n",
    "modules += [(p, 0) for p in range(1, n_poly+1)] + \\\n",
    "            [(0, d) for d in range(1, n_derivatives+1)] + \\\n",
    "            [tuple(p+d) for d in base_derivative for p in base_poly]\n",
    "assert len(modules) == len(weak_lib.get_feature_names())\n",
    "base_features = dict(zip(modules, X_pre.T))\n",
    "u_t = y_pre.copy()"
   ]
  },
  {
   "cell_type": "code",
   "execution_count": 17,
   "id": "4fa6d79f",
   "metadata": {},
   "outputs": [
    {
     "name": "stdout",
     "output_type": "stream",
     "text": [
      "(0.039575635002785076, array([[-0.98780793],\n",
      "       [-0.98180462],\n",
      "       [-0.97515844]]))\n"
     ]
    },
    {
     "data": {
      "text/latex": [
       "$\\displaystyle u u_{x} + u_{xx} + u_{xxxx}$"
      ],
      "text/plain": [
       "u*u_x + u_xx + u_xxxx"
      ]
     },
     "execution_count": 17,
     "metadata": {},
     "output_type": "execute_result"
    }
   ],
   "source": [
    "print(evaluate_genome(fset({(1,1), (0, 2), (0, 4)}), base_features, u_t))\n",
    "display_pde(fset({(1,1), (0, 2), (0, 4)}))"
   ]
  },
  {
   "cell_type": "markdown",
   "id": "9eb68697",
   "metadata": {},
   "source": [
    "## GA (Implemented by Pongpisit Thanasutives) ##"
   ]
  },
  {
   "cell_type": "code",
   "execution_count": 18,
   "id": "44bfd6e7",
   "metadata": {},
   "outputs": [
    {
     "name": "stdout",
     "output_type": "stream",
     "text": [
      "Initialization...\n",
      "epi = 0.01\n",
      "Learning PDEs...\n"
     ]
    },
    {
     "name": "stderr",
     "output_type": "stream",
     "text": [
      "100%|█████████████████████████████████████████| 100/100 [02:19<00:00,  1.40s/it]\n"
     ]
    },
    {
     "data": {
      "text/plain": [
       "[(frozenset({(0, 2), (0, 4), (1, 1)}), 0.06957563500278507),\n",
       " (frozenset({(0, 2), (0, 4), (1, 1)}), 0.06957563500278513),\n",
       " (frozenset({(0, 2), (0, 4), (1, 1), (4, 4)}), 0.0794269029910262),\n",
       " (frozenset({(0, 2), (0, 4), (1, 1), (3, 0)}), 0.07944532718870832),\n",
       " (frozenset({(0, 2), (0, 4), (1, 1), (3, 0)}), 0.07944532718870864),\n",
       " (frozenset({(0, 2), (0, 4), (1, 1), (3, 0)}), 0.0794453271887087),\n",
       " (frozenset({(0, 2), (0, 3), (0, 4), (1, 1)}), 0.07948769447905293),\n",
       " (frozenset({(0, 2), (0, 3), (0, 4), (1, 1)}), 0.07948769447905295),\n",
       " (frozenset({(0, 2), (0, 4), (1, 1), (3, 3)}), 0.07949543107366389),\n",
       " (frozenset({(0, 2), (0, 4), (1, 1), (3, 3)}), 0.079495431073664)]"
      ]
     },
     "execution_count": 18,
     "metadata": {},
     "output_type": "execute_result"
    }
   ],
   "source": [
    "class LargestUniqueHeap:\n",
    "    def __init__(self, N, decending=True):\n",
    "        self.N = N\n",
    "        self.heap = []\n",
    "        self.unique_values = set()\n",
    "        self.decending = decending\n",
    "        \n",
    "    def add(self, value):\n",
    "        if value in self.unique_values:\n",
    "            # Ignore if the value is already in the set (duplicate)\n",
    "            return\n",
    "        \n",
    "        if len(self.heap) < self.N:\n",
    "            # If the heap has fewer than N elements, add the new value\n",
    "            heapq.heappush(self.heap, value)\n",
    "            self.unique_values.add(value)\n",
    "        elif value > self.heap[0]:\n",
    "            # If the new value is greater than the smallest in the heap\n",
    "            smallest = heapq.heappushpop(self.heap, value)\n",
    "            # Replace the smallest in the set with the new value\n",
    "            self.unique_values.remove(smallest)\n",
    "            self.unique_values.add(value)\n",
    "\n",
    "    def get_largest_values(self):\n",
    "        # Return the N largest values in ascending order\n",
    "        return sorted(self.heap, reverse=self.decending)\n",
    "\n",
    "n_generations = 100\n",
    "mutate_rate = (0.4, 0.4, 0.4)\n",
    "\n",
    "print(\"Initialization...\")\n",
    "chrom = generate_chromosome(n_modules, n_poly, n_derivatives, pop_size)\n",
    "set_chrom = chrom.copy()\n",
    "chrom = list(chrom)\n",
    "\n",
    "fitnesses = [evaluate_genome(genome, base_features, u_t, epsilon=0)[0] for genome in chrom]\n",
    "epi = 10**(sci_format(np.median(fitnesses))[1])\n",
    "epi = min(1e-2, epi)\n",
    "print('epi =', epi)\n",
    "best_chrom_fitnesses = LargestUniqueHeap(pop_size)\n",
    "for i in range(len(fitnesses)):\n",
    "    fitnesses[i] += epi*len(chrom[i])\n",
    "    best_chrom_fitnesses.add((-fitnesses[i], chrom[i]))\n",
    "\n",
    "print(\"Learning PDEs...\")\n",
    "for g in trange(n_generations):\n",
    "    children = []\n",
    "    # crossover\n",
    "    for _ in range(2):\n",
    "        chrom_f, chrom_m = train_test_split(chrom, test_size=0.5, train_size=0.5, shuffle=True)\n",
    "        for genome_f, genome_m in zip(chrom_f, chrom_m):\n",
    "            child1, child2 = crossover(list(genome_f), list(genome_m))\n",
    "            children.append(child1)\n",
    "            children.append(child2)\n",
    "    # mutation\n",
    "    for i in range(len(children)):\n",
    "        child = list(children[i].copy())\n",
    "        child = mutation(child, n_poly, n_derivatives, mutate_rate)\n",
    "        if len(child) > 0:\n",
    "            children[i] = fset(child)\n",
    "    # fitness\n",
    "    children = set(children)\n",
    "    chrom = []\n",
    "    for child in children:\n",
    "        fitness, _ = evaluate_genome(child, base_features, u_t, epsilon=epi)\n",
    "        chrom.append((fitness, child))\n",
    "        best_chrom_fitnesses.add((-fitness, child))\n",
    "    # Creating parent for the next generation\n",
    "    chrom = sorted(chrom)\n",
    "    chrom = [genome for _, genome in chrom][:pop_size]\n",
    "    \n",
    "best_chrom_fitnesses = [(v, -k) for k, v in best_chrom_fitnesses.get_largest_values()]\n",
    "best_chrom_fitnesses[:10]"
   ]
  },
  {
   "cell_type": "code",
   "execution_count": 19,
   "id": "5a763da1",
   "metadata": {},
   "outputs": [
    {
     "data": {
      "text/latex": [
       "$\\displaystyle - 0.98781 u u_{x} - 0.97516 u_{xx} - 0.9818 u_{xxxx}$"
      ],
      "text/plain": [
       "-0.98781*u*u_x - 0.97516*u_xx - 0.9818*u_xxxx"
      ]
     },
     "metadata": {},
     "output_type": "display_data"
    },
    {
     "data": {
      "text/latex": [
       "$\\displaystyle - 0.98781 u u_{x} - 0.97516 u_{xx} - 0.9818 u_{xxxx}$"
      ],
      "text/plain": [
       "-0.98781*u*u_x - 0.97516*u_xx - 0.9818*u_xxxx"
      ]
     },
     "metadata": {},
     "output_type": "display_data"
    },
    {
     "data": {
      "text/latex": [
       "$\\displaystyle - 1.0 \\cdot 10^{-5} u^{4} u_{xxxx} - 0.98863 u u_{x} - 0.98397 u_{xx} - 0.98723 u_{xxxx}$"
      ],
      "text/plain": [
       "-1.0e-5*u**4*u_xxxx - 0.98863*u*u_x - 0.98397*u_xx - 0.98723*u_xxxx"
      ]
     },
     "metadata": {},
     "output_type": "display_data"
    },
    {
     "data": {
      "text/latex": [
       "$\\displaystyle - 0.00081 u^{3} - 0.98848 u u_{x} - 0.98369 u_{xx} - 0.98708 u_{xxxx}$"
      ],
      "text/plain": [
       "-0.00081*u**3 - 0.98848*u*u_x - 0.98369*u_xx - 0.98708*u_xxxx"
      ]
     },
     "metadata": {},
     "output_type": "display_data"
    },
    {
     "data": {
      "text/latex": [
       "$\\displaystyle - 0.00081 u^{3} - 0.98848 u u_{x} - 0.98369 u_{xx} - 0.98708 u_{xxxx}$"
      ],
      "text/plain": [
       "-0.00081*u**3 - 0.98848*u*u_x - 0.98369*u_xx - 0.98708*u_xxxx"
      ]
     },
     "metadata": {},
     "output_type": "display_data"
    },
    {
     "data": {
      "text/latex": [
       "$\\displaystyle - 0.00081 u^{3} - 0.98848 u u_{x} - 0.98369 u_{xx} - 0.98708 u_{xxxx}$"
      ],
      "text/plain": [
       "-0.00081*u**3 - 0.98848*u*u_x - 0.98369*u_xx - 0.98708*u_xxxx"
      ]
     },
     "metadata": {},
     "output_type": "display_data"
    },
    {
     "data": {
      "text/latex": [
       "$\\displaystyle - 0.98811 u u_{x} - 0.97546 u_{xx} + 0.00314 u_{xxx} - 0.98212 u_{xxxx}$"
      ],
      "text/plain": [
       "-0.98811*u*u_x - 0.97546*u_xx + 0.00314*u_xxx - 0.98212*u_xxxx"
      ]
     },
     "metadata": {},
     "output_type": "display_data"
    },
    {
     "data": {
      "text/latex": [
       "$\\displaystyle - 0.98811 u u_{x} - 0.97546 u_{xx} + 0.00314 u_{xxx} - 0.98212 u_{xxxx}$"
      ],
      "text/plain": [
       "-0.98811*u*u_x - 0.97546*u_xx + 0.00314*u_xxx - 0.98212*u_xxxx"
      ]
     },
     "metadata": {},
     "output_type": "display_data"
    },
    {
     "data": {
      "text/latex": [
       "$\\displaystyle 0.00063 u^{3} u_{xxx} - 0.98576 u u_{x} - 0.97969 u_{xx} - 0.98384 u_{xxxx}$"
      ],
      "text/plain": [
       "0.00063*u**3*u_xxx - 0.98576*u*u_x - 0.97969*u_xx - 0.98384*u_xxxx"
      ]
     },
     "metadata": {},
     "output_type": "display_data"
    },
    {
     "data": {
      "text/latex": [
       "$\\displaystyle 0.00063 u^{3} u_{xxx} - 0.98576 u u_{x} - 0.97969 u_{xx} - 0.98384 u_{xxxx}$"
      ],
      "text/plain": [
       "0.00063*u**3*u_xxx - 0.98576*u*u_x - 0.97969*u_xx - 0.98384*u_xxxx"
      ]
     },
     "metadata": {},
     "output_type": "display_data"
    },
    {
     "data": {
      "text/latex": [
       "$\\displaystyle - 0.98809 u u_{x} - 0.00174 u_{x} - 0.97544 u_{xx} - 0.98211 u_{xxxx}$"
      ],
      "text/plain": [
       "-0.98809*u*u_x - 0.00174*u_x - 0.97544*u_xx - 0.98211*u_xxxx"
      ]
     },
     "metadata": {},
     "output_type": "display_data"
    },
    {
     "data": {
      "text/latex": [
       "$\\displaystyle - 0.98809 u u_{x} - 0.00174 u_{x} - 0.97544 u_{xx} - 0.98211 u_{xxxx}$"
      ],
      "text/plain": [
       "-0.98809*u*u_x - 0.00174*u_x - 0.97544*u_xx - 0.98211*u_xxxx"
      ]
     },
     "metadata": {},
     "output_type": "display_data"
    },
    {
     "data": {
      "text/latex": [
       "$\\displaystyle - 0.988 u u_{x} - 0.97536 u_{xx} - 0.98203 u_{xxxx} - 0.00292 u_{xxxxx}$"
      ],
      "text/plain": [
       "-0.988*u*u_x - 0.97536*u_xx - 0.98203*u_xxxx - 0.00292*u_xxxxx"
      ]
     },
     "metadata": {},
     "output_type": "display_data"
    },
    {
     "data": {
      "text/latex": [
       "$\\displaystyle - 0.0015 u^{2} u_{x} - 0.98809 u u_{x} - 0.97543 u_{xx} - 0.98209 u_{xxxx}$"
      ],
      "text/plain": [
       "-0.0015*u**2*u_x - 0.98809*u*u_x - 0.97543*u_xx - 0.98209*u_xxxx"
      ]
     },
     "metadata": {},
     "output_type": "display_data"
    },
    {
     "data": {
      "text/latex": [
       "$\\displaystyle - 0.00051 u^{4} u_{x} - 0.98807 u u_{x} - 0.9754 u_{xx} - 0.98205 u_{xxxx}$"
      ],
      "text/plain": [
       "-0.00051*u**4*u_x - 0.98807*u*u_x - 0.9754*u_xx - 0.98205*u_xxxx"
      ]
     },
     "metadata": {},
     "output_type": "display_data"
    },
    {
     "data": {
      "text/latex": [
       "$\\displaystyle - 0.00051 u^{4} u_{x} - 0.98807 u u_{x} - 0.9754 u_{xx} - 0.98205 u_{xxxx}$"
      ],
      "text/plain": [
       "-0.00051*u**4*u_x - 0.98807*u*u_x - 0.9754*u_xx - 0.98205*u_xxxx"
      ]
     },
     "metadata": {},
     "output_type": "display_data"
    },
    {
     "data": {
      "text/latex": [
       "$\\displaystyle - 0.98749 u u_{x} - 0.00113 u - 0.97869 u_{xx} - 0.98406 u_{xxxx}$"
      ],
      "text/plain": [
       "-0.98749*u*u_x - 0.00113*u - 0.97869*u_xx - 0.98406*u_xxxx"
      ]
     },
     "metadata": {},
     "output_type": "display_data"
    },
    {
     "data": {
      "text/latex": [
       "$\\displaystyle - 0.98749 u u_{x} - 0.00113 u - 0.97869 u_{xx} - 0.98406 u_{xxxx}$"
      ],
      "text/plain": [
       "-0.98749*u*u_x - 0.00113*u - 0.97869*u_xx - 0.98406*u_xxxx"
      ]
     },
     "metadata": {},
     "output_type": "display_data"
    },
    {
     "data": {
      "text/latex": [
       "$\\displaystyle 0.00011 u^{4} u_{xx} - 0.98838 u u_{x} - 0.9788 u_{xx} - 0.98377 u_{xxxx}$"
      ],
      "text/plain": [
       "0.00011*u**4*u_xx - 0.98838*u*u_x - 0.9788*u_xx - 0.98377*u_xxxx"
      ]
     },
     "metadata": {},
     "output_type": "display_data"
    },
    {
     "data": {
      "text/latex": [
       "$\\displaystyle 0.00011 u^{4} u_{xx} - 0.98838 u u_{x} - 0.9788 u_{xx} - 0.98377 u_{xxxx}$"
      ],
      "text/plain": [
       "0.00011*u**4*u_xx - 0.98838*u*u_x - 0.9788*u_xx - 0.98377*u_xxxx"
      ]
     },
     "metadata": {},
     "output_type": "display_data"
    }
   ],
   "source": [
    "for potential_pde, _ in best_chrom_fitnesses[:20]:\n",
    "    potential_pde = sorted(list(potential_pde), key=compare_module)\n",
    "    pde_coefficient = compute_genome_coefficient(potential_pde, base_features, u_t)[0].flatten()\n",
    "    pde_coefficient = [round(c, 5) for c in pde_coefficient]\n",
    "    pretty(display_pde(potential_pde, pde_coefficient))"
   ]
  },
  {
   "cell_type": "code",
   "execution_count": 20,
   "id": "a067e1cf",
   "metadata": {},
   "outputs": [
    {
     "data": {
      "text/plain": [
       "['uu_{x}',\n",
       " 'u_{xxxx}',\n",
       " 'u_{xx}',\n",
       " 'u^{3}',\n",
       " 'u^{4}u_{xxxx}',\n",
       " 'u^{2}u_{xx}',\n",
       " 'u_{xxx}',\n",
       " 'u_{x}']"
      ]
     },
     "execution_count": 20,
     "metadata": {},
     "output_type": "execute_result"
    }
   ],
   "source": [
    "n_common = 8\n",
    "\n",
    "common_modules = []\n",
    "for genome, _ in best_chrom_fitnesses:\n",
    "    common_modules.extend([*genome])\n",
    "module_counter = Counter(common_modules)\n",
    "\n",
    "common_modules = sorted(module_counter.items(), key=lambda _:_[1], reverse=True)\n",
    "feature_importance = [v for _, v in common_modules][:n_common]\n",
    "common_modules = [k for k, _ in common_modules][:n_common]\n",
    "\n",
    "X_pre = numericalize_genome(common_modules, base_features)\n",
    "y_pre = u_t.reshape(-1, 1)\n",
    "\n",
    "feature_names = [sympy.latex(display_module(module)).strip().replace(' ', '') \n",
    "                 for module in common_modules]\n",
    "feature_names"
   ]
  },
  {
   "cell_type": "code",
   "execution_count": 21,
   "id": "5ce62017",
   "metadata": {},
   "outputs": [
    {
     "name": "stderr",
     "output_type": "stream",
     "text": [
      "100%|█████████████████████████████████████████████| 8/8 [00:06<00:00,  1.31it/s]\n"
     ]
    },
    {
     "data": {
      "text/plain": [
       "[[0],\n",
       " [0, 3],\n",
       " [0, 1, 2],\n",
       " [0, 1, 2, 4],\n",
       " [0, 1, 2, 3, 5],\n",
       " [0, 1, 2, 3, 5, 6],\n",
       " [0, 1, 2, 3, 4, 5, 6],\n",
       " [0, 1, 2, 3, 4, 5, 6, 7]]"
      ]
     },
     "execution_count": 21,
     "metadata": {},
     "output_type": "execute_result"
    }
   ],
   "source": [
    "# coefficients, best_subsets = best_subset_all_solutions(X_pre, y_pre, 8, refine=True)\n",
    "# best_subsets\n",
    "\n",
    "# brute_force(X_pre, y_pre, 2)\n",
    "\n",
    "coefficients, best_subsets = okridge_solvel0_full(normalize(X_pre, axis=0), \n",
    "                                                  y_pre, k=n_common)\n",
    "best_subsets"
   ]
  },
  {
   "cell_type": "code",
   "execution_count": 22,
   "id": "00dc72b4",
   "metadata": {},
   "outputs": [
    {
     "name": "stdout",
     "output_type": "stream",
     "text": [
      "[57803.00397110096, 49971.89929232677, -7803.580764958645, -7868.982294815111, -7924.375234232526, -7960.678613664581, -7963.473489202714, -7953.699704198259]\n",
      "threshold: 0.2\n",
      "max_lam: 3.019307657062574\n",
      "2 <---> 2 inf\n",
      "2 <---> 6 0.005122415243078348\n"
     ]
    },
    {
     "data": {
      "text/plain": [
       "(2.01287177,\n",
       " array([65331.26832675, 54891.67787981, -6783.44040153, -6743.26386667,\n",
       "        -6593.7909933 , -6517.00784018, -6496.52838328, -6199.72283179]),\n",
       " 2,\n",
       " 2)"
      ]
     },
     "execution_count": 22,
     "metadata": {},
     "output_type": "execute_result"
    }
   ],
   "source": [
    "tau = 3\n",
    "verbose = True\n",
    "# scale = 1 <- generalized UBIC\n",
    "scale = np.log(len(y_pre))\n",
    "per = 75 # 80\n",
    "\n",
    "post_means, b_bics, b_uns = baye_uncertainties(best_subsets, (X_pre, y_pre), u_type='cv1', take_sqrt=True)\n",
    "predictions = X_pre@post_means\n",
    "print(b_bics)\n",
    "b_bics = np.array(b_bics)\n",
    "max_complexity = len(b_bics)\n",
    "complexities = np.arange(max_complexity)+1\n",
    "d_complexities = complexities[decreasing_values_indices(b_bics)]\n",
    "d_bics = b_bics[decreasing_values_indices(b_bics)]\n",
    "slopes = np.diff(b_bics)/(np.diff(complexities)*b_bics[:-1])\n",
    "try:\n",
    "    thres = np.percentile(np.abs(np.diff(d_bics)/(np.diff(d_complexities)*d_bics[:-1])), per)\n",
    "except IndexError:\n",
    "    thres = 0.02\n",
    "min_thres = 0.02\n",
    "thres = max(thres, min_thres)\n",
    "thres = math.ceil(sci_format(thres)[0])*10**sci_format(thres)[1]\n",
    "print(\"threshold:\", thres)\n",
    "\n",
    "lower_bounds = []\n",
    "for k, efi in enumerate(best_subsets):\n",
    "    assert len(efi) == np.count_nonzero(post_means[:, k:k+1])\n",
    "    com = len(efi)\n",
    "    lower_bound = 2*np.abs(log_like_value(predictions[:, k:k+1], y_pre))-np.log(len(y_pre))*com\n",
    "    lower_bounds.append(lower_bound)\n",
    "\n",
    "last_lam = np.log10(max(lower_bounds/(b_uns*scale)))\n",
    "print(\"max_lam:\", last_lam)\n",
    "delta = last_lam/tau\n",
    "now_lam = last_lam-delta\n",
    "last_ubic = UBIC(b_bics, b_uns, len(y_pre), hyp=10**last_lam, scale=scale)\n",
    "last_bc = np.argmin(last_ubic)\n",
    "bc_seq = [last_bc]\n",
    "while now_lam >= 0:\n",
    "    now_ubic = UBIC(b_bics, b_uns, len(y_pre), hyp=10**now_lam, scale=scale)\n",
    "    now_bc = np.argmin(now_ubic)\n",
    "    \n",
    "    diff_com = now_bc-last_bc\n",
    "    diff_bic = b_bics[now_bc]-b_bics[last_bc]\n",
    "    imp = np.nan\n",
    "    if diff_com != 0:\n",
    "        imp = abs(diff_bic/(b_bics[last_bc]*diff_com))\n",
    "    \n",
    "    if verbose:\n",
    "        print(min(last_bc, now_bc), '<--->', max(last_bc, now_bc), \n",
    "              np.nan_to_num(imp, nan=np.inf))\n",
    "    \n",
    "    if (diff_com > 0 and (diff_bic > 0 or imp < thres)) or \\\n",
    "        (diff_com < 0 and diff_bic > 0 and imp > thres):\n",
    "        break\n",
    "    \n",
    "    last_lam = now_lam\n",
    "    now_lam = round(last_lam-delta, 8)\n",
    "    last_ubic = now_ubic\n",
    "    last_bc = now_bc\n",
    "    if last_bc not in bc_seq:\n",
    "        bc_seq.append(last_bc)\n",
    "\n",
    "best_bc = KneeLocator(range(0, len(last_ubic)), last_ubic, S=1, \n",
    "                      curve='convex', direction='decreasing').knee\n",
    "\n",
    "if best_bc is None:\n",
    "    best_bc = last_bc\n",
    "    alt_bc = bc_seq[-2] if len(bc_seq) > 1 else last_bc-10\n",
    "    cond = abs((b_bics[last_bc]-b_bics[last_bc-1])/b_bics[last_bc-1]) or \\\n",
    "            abs((b_bics[last_bc]-b_bics[alt_bc])/(b_bics[alt_bc]*(last_bc-alt_bc)))\n",
    "    if cond < thres: \n",
    "        best_bc = alt_bc\n",
    "    \n",
    "last_lam = round(last_lam, 8)\n",
    "last_lam, last_ubic, last_bc, best_bc"
   ]
  },
  {
   "cell_type": "code",
   "execution_count": 23,
   "id": "524063e7",
   "metadata": {},
   "outputs": [
    {
     "data": {
      "image/png": "[encoded data removed]",
      "text/plain": [
       "<Figure size 350x262.5 with 2 Axes>"
      ]
     },
     "metadata": {},
     "output_type": "display_data"
    }
   ],
   "source": [
    "complexity_axis = [len(bs) for bs in best_subsets]\n",
    "with plt.style.context(['science']):\n",
    "    fig, ax = plt.subplots()\n",
    "    ax2 = ax.twinx()\n",
    "    ax.set_zorder(ax2.get_zorder()+1)\n",
    "    ax.patch.set_visible(False)\n",
    "    \n",
    "    l1, = ax.plot(complexity_axis, last_ubic, 'o-', c='black', markerfacecolor='none', label=f\"$\\lambda = {abs(last_lam)}$\")\n",
    "    ax.set_xticks(complexity_axis)\n",
    "    ax.set_ylabel(\"$\\\\textrm{UBIC}$\", fontsize=12)\n",
    "    ax.set_xlabel(\"Support size\", fontsize=12)\n",
    "#     ax.annotate('$(u_{xx}, uu_{x})\\checkmark$', fontsize=16, \n",
    "#                  xy=(complexity_axis[best_bc], last_ubic[best_bc]), \n",
    "#                  xytext=(complexity_axis[best_bc]+0.5, last_ubic[best_bc]+200000), \n",
    "#                  arrowprops={'arrowstyle': '->'})\n",
    "    ax.vlines(best_bc+1, min(last_ubic), max(last_ubic), color='red')\n",
    "    \n",
    "    l2, = ax2.plot(complexity_axis, b_uns, 'o--', c='blue', markerfacecolor='none', label=\"Uncertainty $\\\\textrm{U}^{k}$\")\n",
    "    s1 = ax2.scatter(complexity_axis[np.argmin(b_uns)], b_uns[np.argmin(b_uns)], c='blue')\n",
    "    ax2.tick_params(axis='y', labelcolor='blue')\n",
    "\n",
    "    ax.legend([l1, l2, s1], [f\"UBIC with $\\lambda = {round(abs(last_lam), 2)}$\", \"Uncertainty $\\\\textrm{U}^{k}$\", \"Min $\\\\textrm{U}^{k}$\"], \n",
    "              labelcolor='linecolor', loc='upper center', fontsize=12)\n",
    "    \n",
    "    plt.show()"
   ]
  },
  {
   "cell_type": "code",
   "execution_count": 24,
   "id": "18e2d521",
   "metadata": {},
   "outputs": [
    {
     "name": "stderr",
     "output_type": "stream",
     "text": [
      "100%|█████████████████████████████████████████| 400/400 [04:18<00:00,  1.55it/s]\n"
     ]
    }
   ],
   "source": [
    "ga = {}\n",
    "for i in trange(len(best_chrom_fitnesses)):\n",
    "    potential_pde = [*(best_chrom_fitnesses[i][0])]\n",
    "    X_pre_sup = numericalize_genome(potential_pde, base_features)\n",
    "    importance_sup = shap_linear_importance(X_pre_sup, y_pre)\n",
    "    for g, s in zip(potential_pde, importance_sup):\n",
    "        if g not in ga:\n",
    "            ga[g] = s\n",
    "        else:\n",
    "            ga[g] += s"
   ]
  },
  {
   "cell_type": "code",
   "execution_count": 25,
   "id": "a440645e",
   "metadata": {},
   "outputs": [
    {
     "data": {
      "image/png": "[encoded data removed]",
      "text/plain": [
       "<Figure size 640x480 with 1 Axes>"
      ]
     },
     "metadata": {},
     "output_type": "display_data"
    }
   ],
   "source": [
    "common_modules = sorted(ga.items(), key=lambda _:_[1], reverse=True)\n",
    "feature_importance = np.array([v for _, v in common_modules])\n",
    "common_modules = np.array([k for k, _ in common_modules])\n",
    "for i, _ in enumerate(np.cumsum(feature_importance)/sum(feature_importance)):\n",
    "    if _ >= 0.995:\n",
    "        feature_importance = feature_importance[:i+1]\n",
    "        common_modules = np.array(common_modules[:i+1])\n",
    "        break\n",
    "feature_importance\n",
    "common_modules = list(map(tuple, common_modules))\n",
    "\n",
    "X_pre = numericalize_genome(common_modules, base_features)\n",
    "y_pre = u_t.reshape(-1, 1)\n",
    "\n",
    "feature_names = [sympy.latex(display_module(module)).strip().replace(' ', '') \n",
    "                 for module in common_modules]\n",
    "\n",
    "plt.barh(feature_names, feature_importance)\n",
    "plt.title(\"Scaled values of mean|SHAP|\")\n",
    "plt.show()"
   ]
  },
  {
   "cell_type": "code",
   "execution_count": 26,
   "id": "4cb3fa91",
   "metadata": {},
   "outputs": [
    {
     "name": "stderr",
     "output_type": "stream",
     "text": [
      "100%|█████████████████████████████████████████████| 3/3 [00:01<00:00,  1.50it/s]\n"
     ]
    },
    {
     "data": {
      "text/plain": [
       "[[2], [0, 2], [0, 1, 2]]"
      ]
     },
     "execution_count": 26,
     "metadata": {},
     "output_type": "execute_result"
    }
   ],
   "source": [
    "coefficients, best_subsets = okridge_solvel0_full(X_pre, \n",
    "                                                  y_pre, k=X_pre.shape[-1])\n",
    "best_subsets"
   ]
  },
  {
   "cell_type": "code",
   "execution_count": 27,
   "id": "1d2abd53",
   "metadata": {},
   "outputs": [
    {
     "name": "stdout",
     "output_type": "stream",
     "text": [
      "[57803.00397110096, 52362.50951277877, -7803.580764958645]\n",
      "threshold: 0.9\n",
      "max_lam: 2.9302855140298\n",
      "2 <---> 2 inf\n",
      "2 <---> 2 inf\n",
      "2 <---> 2 inf\n"
     ]
    },
    {
     "data": {
      "text/plain": [
       "(0.0, array([57876.08810247, 52423.94315384, -7793.67727741]), 2, 2)"
      ]
     },
     "execution_count": 27,
     "metadata": {},
     "output_type": "execute_result"
    }
   ],
   "source": [
    "tau = 3\n",
    "verbose = True\n",
    "# scale = 1 <- generalized UBIC\n",
    "scale = np.log(len(y_pre))\n",
    "per = 75 # 80\n",
    "\n",
    "# bics = [sm.OLS(y_pre, X_pre[:, bs]).fit().bic for bs in best_subsets]\n",
    "# aics = [sm.OLS(y_pre, X_pre[:, bs]).fit().aic for bs in best_subsets]\n",
    "post_means, b_bics, b_uns = baye_uncertainties(best_subsets, (X_pre, y_pre), u_type='cv1', take_sqrt=True)\n",
    "predictions = X_pre@post_means\n",
    "print(b_bics)\n",
    "b_bics = np.array(b_bics)\n",
    "max_complexity = len(b_bics)\n",
    "complexities = np.arange(max_complexity)+1\n",
    "d_complexities = complexities[decreasing_values_indices(b_bics)]\n",
    "d_bics = b_bics[decreasing_values_indices(b_bics)]\n",
    "slopes = np.diff(b_bics)/(np.diff(complexities)*b_bics[:-1])\n",
    "try:\n",
    "    thres = np.percentile(np.abs(np.diff(d_bics)/(np.diff(d_complexities)*d_bics[:-1])), per)\n",
    "except IndexError:\n",
    "    thres = 0.02\n",
    "min_thres = 0.02\n",
    "thres = max(thres, min_thres)\n",
    "thres = math.ceil(sci_format(thres)[0])*10**sci_format(thres)[1]\n",
    "print(\"threshold:\", thres)\n",
    "\n",
    "lower_bounds = []\n",
    "for k, efi in enumerate(best_subsets):\n",
    "    assert len(efi) == np.count_nonzero(post_means[:, k:k+1])\n",
    "    com = len(efi)\n",
    "    lower_bound = 2*np.abs(log_like_value(predictions[:, k:k+1], y_pre))-np.log(len(y_pre))*com\n",
    "    lower_bounds.append(lower_bound)\n",
    "\n",
    "last_lam = np.log10(max(lower_bounds/(b_uns*scale)))\n",
    "print(\"max_lam:\", last_lam)\n",
    "delta = last_lam/tau\n",
    "now_lam = last_lam-delta\n",
    "last_ubic = UBIC(b_bics, b_uns, len(y_pre), hyp=10**last_lam, scale=scale)\n",
    "last_bc = np.argmin(last_ubic)\n",
    "bc_seq = [last_bc]\n",
    "while now_lam >= 0:\n",
    "    now_ubic = UBIC(b_bics, b_uns, len(y_pre), hyp=10**now_lam, scale=scale)\n",
    "    now_bc = np.argmin(now_ubic)\n",
    "    \n",
    "    diff_com = now_bc-last_bc\n",
    "    diff_bic = b_bics[now_bc]-b_bics[last_bc]\n",
    "    imp = np.nan\n",
    "    if diff_com != 0:\n",
    "        imp = abs(diff_bic/(b_bics[last_bc]*diff_com))\n",
    "    \n",
    "    if verbose:\n",
    "        print(min(last_bc, now_bc), '<--->', max(last_bc, now_bc), \n",
    "              np.nan_to_num(imp, nan=np.inf))\n",
    "    \n",
    "    if (diff_com > 0 and (diff_bic > 0 or imp < thres)) or \\\n",
    "        (diff_com < 0 and diff_bic > 0 and imp > thres):\n",
    "        break\n",
    "    \n",
    "    last_lam = now_lam\n",
    "    now_lam = round(last_lam-delta, 8)\n",
    "    last_ubic = now_ubic\n",
    "    last_bc = now_bc\n",
    "    if last_bc not in bc_seq:\n",
    "        bc_seq.append(last_bc)\n",
    "    \n",
    "best_bc = KneeLocator(range(0, len(last_ubic)), last_ubic, S=1, \n",
    "                      curve='convex', direction='decreasing').knee\n",
    "\n",
    "if best_bc is None:\n",
    "    best_bc = last_bc\n",
    "    alt_bc = bc_seq[-2] if len(bc_seq) > 1 else last_bc-10\n",
    "    cond = abs((b_bics[last_bc]-b_bics[last_bc-1])/b_bics[last_bc-1]) or \\\n",
    "            abs((b_bics[last_bc]-b_bics[alt_bc])/(b_bics[alt_bc]*(last_bc-alt_bc)))\n",
    "    if cond < thres: \n",
    "        best_bc = alt_bc\n",
    "    \n",
    "last_lam = round(last_lam, 8)\n",
    "last_lam, last_ubic, last_bc, best_bc"
   ]
  },
  {
   "cell_type": "code",
   "execution_count": 28,
   "id": "ee722777",
   "metadata": {},
   "outputs": [
    {
     "data": {
      "image/png": "[encoded data removed]",
      "text/plain": [
       "<Figure size 350x262.5 with 2 Axes>"
      ]
     },
     "metadata": {},
     "output_type": "display_data"
    }
   ],
   "source": [
    "complexity_axis = [len(bs) for bs in best_subsets]\n",
    "with plt.style.context(['science']):\n",
    "    fig, ax = plt.subplots()\n",
    "    ax2 = ax.twinx()\n",
    "    ax.set_zorder(ax2.get_zorder()+1)\n",
    "    ax.patch.set_visible(False)\n",
    "    \n",
    "    l1, = ax.plot(complexity_axis, last_ubic, 'o-', c='black', markerfacecolor='none', label=f\"$\\lambda = {abs(last_lam)}$\")\n",
    "    ax.set_xticks(complexity_axis)\n",
    "    ax.set_ylabel(\"$\\\\textrm{UBIC}$\", fontsize=12)\n",
    "    ax.set_xlabel(\"Support size\", fontsize=12)\n",
    "#     ax.annotate('$(u_{xx}, uu_{x})\\checkmark$', fontsize=16, \n",
    "#                  xy=(complexity_axis[best_bc], last_ubic[best_bc]), \n",
    "#                  xytext=(complexity_axis[best_bc]+0.5, last_ubic[best_bc]+200000), \n",
    "#                  arrowprops={'arrowstyle': '->'})\n",
    "    ax.vlines(best_bc+1, min(last_ubic), max(last_ubic), color='red')\n",
    "    \n",
    "    l2, = ax2.plot(complexity_axis, b_uns, 'o--', c='blue', markerfacecolor='none', label=\"Uncertainty $\\\\textrm{U}^{k}$\")\n",
    "    s1 = ax2.scatter(complexity_axis[np.argmin(b_uns)], b_uns[np.argmin(b_uns)], c='blue')\n",
    "    ax2.tick_params(axis='y', labelcolor='blue')\n",
    "\n",
    "    ax.legend([l1, l2, s1], [f\"UBIC with $\\lambda = {round(abs(last_lam), 2)}$\", \"Uncertainty $\\\\textrm{U}^{k}$\", \"Min $\\\\textrm{U}^{k}$\"], \n",
    "              labelcolor='linecolor', loc='upper center', fontsize=12)\n",
    "    \n",
    "    plt.show()"
   ]
  },
  {
   "cell_type": "code",
   "execution_count": null,
   "id": "37662f97",
   "metadata": {},
   "outputs": [],
   "source": []
  },
  {
   "cell_type": "code",
   "execution_count": null,
   "id": "a483e01f",
   "metadata": {},
   "outputs": [],
   "source": []
  }
 ],
 "metadata": {
  "kernelspec": {
   "display_name": "Python [conda env:pysr_latest]",
   "language": "python",
   "name": "conda-env-pysr_latest-py"
  },
  "language_info": {
   "codemirror_mode": {
    "name": "ipython",
    "version": 3
   },
   "file_extension": ".py",
   "mimetype": "text/x-python",
   "name": "python",
   "nbconvert_exporter": "python",
   "pygments_lexer": "ipython3",
   "version": "3.11.11"
  }
 },
 "nbformat": 4,
 "nbformat_minor": 5
}
