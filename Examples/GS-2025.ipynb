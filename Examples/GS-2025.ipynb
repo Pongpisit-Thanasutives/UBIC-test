{
 "cells": [
  {
   "cell_type": "code",
   "execution_count": 1,
   "id": "5c8736f7-3fcd-49e0-9367-6a3627c14b26",
   "metadata": {},
   "outputs": [
    {
     "name": "stdout",
     "output_type": "stream",
     "text": [
      "Sklearn's version: 1.6.1\n"
     ]
    }
   ],
   "source": [
    "%matplotlib inline\n",
    "import matplotlib.pyplot as plt\n",
    "import warnings; warnings.filterwarnings(\"ignore\")\n",
    "import scienceplots\n",
    "\n",
    "import os\n",
    "import sys; sys.path.append('../')\n",
    "import numpy as np\n",
    "from numpy.random import default_rng\n",
    "\n",
    "import scipy.io as sio\n",
    "import pysindy as ps\n",
    "from PDE_FIND import build_linear_system, print_pde, TrainSTRidge, measure_pce\n",
    "from best_subset import *\n",
    "from frols import frols\n",
    "from UBIC import *\n",
    "from solvel0 import solvel0\n",
    "from findiff import FinDiff\n",
    "import sgolay2\n",
    "\n",
    "from knockpy import KnockoffFilter\n",
    "from sklearn.preprocessing import StandardScaler, MinMaxScaler"
   ]
  },
  {
   "cell_type": "markdown",
   "id": "5ddb3bc6",
   "metadata": {},
   "source": [
    "#### Load data"
   ]
  },
  {
   "cell_type": "code",
   "execution_count": 2,
   "id": "0e366b04-cdf3-40e8-9cfc-b0e0c25ea165",
   "metadata": {},
   "outputs": [],
   "source": [
    "n = 128\n",
    "data = sio.loadmat(f\"../Datasets/Big/reaction_diffusion_3d_{n}.mat\")\n",
    "u_sol = np.array((data['usol']).real, dtype=np.float32)\n",
    "v_sol = np.array((data['vsol']).real, dtype=np.float32)\n",
    "x = np.array((data['x'][0]).real, dtype=np.float32)\n",
    "y = np.array((data['y'][0]).real, dtype=np.float32)\n",
    "z = np.array((data['z'][0]).real, dtype=np.float32)\n",
    "t = np.array((data['t'][0]).real, dtype=np.float32)\n",
    "\n",
    "del data\n",
    "\n",
    "dt = t[1] - t[0]\n",
    "dx = x[1] - x[0]\n",
    "dy = y[1] - y[0]\n",
    "dz = z[1] - z[0]\n",
    "\n",
    "# Ground truth\n",
    "ground_indices_u = (0, 1, 8, 12, 18, 26)\n",
    "ground_coeff_u = np.array([0.014, -0.014, -1.000, 0.020, 0.020, 0.020])\n",
    "ground_indices_v = (2, 8, 13, 19, 27)\n",
    "ground_coeff_v = np.array([-0.067, 1.0, 0.01, 0.01, 0.01])"
   ]
  },
  {
   "cell_type": "code",
   "execution_count": 3,
   "id": "51a0a7f1-5302-46c7-9974-0466b1de2282",
   "metadata": {},
   "outputs": [],
   "source": [
    "u = np.zeros((n, n, n, len(t), 2))\n",
    "u[:, :, :, :, 0] = u_sol\n",
    "u[:, :, :, :, 1] = v_sol\n",
    "del u_sol, v_sol\n",
    "\n",
    "# Add noise\n",
    "np.random.seed(100)\n",
    "noise_lv = 0.1\n",
    "domain_noise = 0.01*np.abs(noise_lv)*np.std(u)*np.random.randn(*u.shape)\n",
    "u = u + domain_noise"
   ]
  },
  {
   "cell_type": "markdown",
   "id": "874e4593",
   "metadata": {},
   "source": [
    "#### Denoise"
   ]
  },
  {
   "cell_type": "code",
   "execution_count": 4,
   "id": "13716122",
   "metadata": {},
   "outputs": [
    {
     "name": "stderr",
     "output_type": "stream",
     "text": [
      "100%|█████████████████████████████████████████████████████████████████████████████████████| 100/100 [00:07<00:00, 13.79it/s]\n",
      "100%|█████████████████████████████████████████████████████████████████████████████████████| 100/100 [00:06<00:00, 15.64it/s]\n"
     ]
    }
   ],
   "source": [
    "denoise = True\n",
    "if denoise: \n",
    "    un = u[:, :, :, :, 0]\n",
    "    vn = u[:, :, :, :, 1]\n",
    "\n",
    "    div = 30\n",
    "    ws = max(un.shape[:-2])//div; po = 5\n",
    "    if ws%2 == 0: ws -=1\n",
    "\n",
    "    nun = np.zeros_like(un)\n",
    "    for i in trange(un.shape[-1]):\n",
    "        for j in range(un.shape[-2]):\n",
    "            nun[:, :, j, i] = sgolay2.SGolayFilter2(window_size=ws, poly_order=po)(un[:, :, j, i])\n",
    "    un = nun.copy()\n",
    "    del nun\n",
    "    \n",
    "    nvn = np.zeros_like(vn)\n",
    "    for i in trange(vn.shape[-1]):\n",
    "        for j in range(vn.shape[-2]):\n",
    "            nvn[:, :, j, i] = sgolay2.SGolayFilter2(window_size=ws, poly_order=po)(vn[:, :, j, i])\n",
    "    vn = nvn.copy()\n",
    "    del nvn\n",
    "    \n",
    "    dim = 10\n",
    "\n",
    "    un = un.reshape(-1, len(t))\n",
    "    uun, sigmaun, vun = np.linalg.svd(un, full_matrices=False); vun = vun.T\n",
    "    un = uun[:,0: dim].dot(np.diag(sigmaun[0:dim]).dot(vun[:,0:dim].T))\n",
    "    un = un.reshape(len(x), len(y), len(z), len(t))\n",
    "\n",
    "    vn = vn.reshape(-1, len(t))\n",
    "    uvn, sigmavn, vvn = np.linalg.svd(vn, full_matrices=False); vvn = vvn.T\n",
    "    vn = uvn[:,0: dim].dot(np.diag(sigmavn[0:dim]).dot(vvn[:,0:dim].T))\n",
    "    vn = vn.reshape(len(x), len(y), len(z), len(t))\n",
    "\n",
    "    u = np.stack([un, vn], axis=-1)\n",
    "    del un, vn, uun, uvn"
   ]
  },
  {
   "cell_type": "markdown",
   "id": "4add67a5",
   "metadata": {},
   "source": [
    "#### Applying best-subset regression on the weak formulation"
   ]
  },
  {
   "cell_type": "code",
   "execution_count": 5,
   "id": "61e85fe2-c1df-4b82-b6a9-f3ccc8f28227",
   "metadata": {},
   "outputs": [],
   "source": [
    "# Need to define the 2D spatial grid before calling the library\n",
    "# X, Y, Z, T = np.meshgrid(x, y, z, t, indexing=\"ij\")\n",
    "spatiotemporal_grid = np.asarray(np.meshgrid(x, y, z, t, indexing=\"ij\"))\n",
    "spatiotemporal_grid = np.transpose(spatiotemporal_grid, axes=[1, 2, 3, 4, 0])\n",
    "weak_lib = ps.WeakPDELibrary(\n",
    "    function_library=ps.PolynomialLibrary(degree=3,include_bias=False),\n",
    "    derivative_order=2,\n",
    "    spatiotemporal_grid=spatiotemporal_grid,\n",
    "    is_uniform=True,\n",
    "    include_interaction=False,\n",
    "    include_bias=True,\n",
    "    periodic=True,\n",
    "    K=5000,\n",
    ")"
   ]
  },
  {
   "cell_type": "code",
   "execution_count": 6,
   "id": "a2684e70-3c0d-4d28-9b34-04e29d204298",
   "metadata": {},
   "outputs": [],
   "source": [
    "# X_pre = np.array(weak_lib.fit_transform(u), dtype=np.float32)\n",
    "# y_pre = np.array(weak_lib.convert_u_dot_integral(u), dtype=np.float32)\n",
    "# np.save(\"X_weak_GS_2025.npy\", X_pre)\n",
    "# np.save(\"y_weak_GS_2025.npy\", y_pre)\n",
    "X_pre = np.load(\"X_weak5000_GS_2025.npy\")\n",
    "y_pre = np.load(\"y_weak5000_GS_2025.npy\")\n",
    "u_pre, v_pre = y_pre[:, 0:1], y_pre[:, 1:2]\n",
    "del y_pre\n",
    "feature_names = np.load(\"feature_names_GS.npy\").astype(object)"
   ]
  },
  {
   "cell_type": "markdown",
   "id": "f7815b84-b225-4d9a-ae63-dd0952295a9f",
   "metadata": {},
   "source": [
    "### Knockoffs ###"
   ]
  },
  {
   "cell_type": "code",
   "execution_count": 7,
   "id": "4cf2fb1c-f762-40a8-bb8e-0e384986de36",
   "metadata": {},
   "outputs": [
    {
     "name": "stderr",
     "output_type": "stream",
     "text": [
      "100%|███████████████████████████████████████████████████████████████████████████████████████| 50/50 [00:01<00:00, 35.04it/s]"
     ]
    },
    {
     "name": "stdout",
     "output_type": "stream",
     "text": [
      "[0, 1, 8, 12, 18, 26] (0, 1, 8, 12, 18, 26)\n"
     ]
    },
    {
     "name": "stderr",
     "output_type": "stream",
     "text": [
      "\n"
     ]
    }
   ],
   "source": [
    "X_scale = StandardScaler().fit_transform(X_pre)\n",
    "u_scale = u_pre-u_pre.mean()\n",
    "\n",
    "kfilter = KnockoffFilter(\n",
    "    ksampler='gaussian',\n",
    "    fstat='ols',\n",
    "    knockoff_kwargs={'method':'mvr'}\n",
    ")\n",
    "\n",
    "fdr = 0.1; n_interation = 50\n",
    "rejections_u = []\n",
    "for _ in trange(n_interation):\n",
    "    rejections = kfilter.forward(X=X_scale, y=u_scale.flatten(), fdr=fdr, shrinkage=\"ledoitwolf\")\n",
    "    rejections = set(np.where(rejections == 1)[0])\n",
    "    if len(rejections) > 0:\n",
    "        rejections_u.append(rejections)\n",
    "rejections_u = sorted(set.intersection(*rejections_u))\n",
    "print(rejections_u, ground_indices_u)\n",
    "X_u = X_pre[:, rejections_u]"
   ]
  },
  {
   "cell_type": "code",
   "execution_count": 8,
   "id": "8b2af32f-3d64-422f-a357-e9196c802dee",
   "metadata": {},
   "outputs": [
    {
     "name": "stderr",
     "output_type": "stream",
     "text": [
      "100%|███████████████████████████████████████████████████████████████████████████████████████| 50/50 [00:01<00:00, 36.14it/s]"
     ]
    },
    {
     "name": "stdout",
     "output_type": "stream",
     "text": [
      "[2, 8, 13, 17, 19, 27] (2, 8, 13, 19, 27)\n"
     ]
    },
    {
     "name": "stderr",
     "output_type": "stream",
     "text": [
      "\n"
     ]
    }
   ],
   "source": [
    "X_scale = StandardScaler().fit_transform(X_pre)\n",
    "v_scale = v_pre-v_pre.mean()\n",
    "\n",
    "kfilter = KnockoffFilter(\n",
    "    ksampler='gaussian',\n",
    "    fstat='ols',\n",
    "    knockoff_kwargs={'method':'mvr'}\n",
    ")\n",
    "\n",
    "fdr = 0.1; n_interation = 50\n",
    "rejections_v = []\n",
    "for _ in trange(n_interation):\n",
    "    rejections = kfilter.forward(X=X_scale, y=v_scale.flatten(), fdr=fdr, shrinkage=\"ledoitwolf\")\n",
    "    rejections = set(np.where(rejections == 1)[0])\n",
    "    if len(rejections) > 0:\n",
    "        rejections_v.append(rejections)\n",
    "rejections_v = sorted(set.intersection(*rejections_v))\n",
    "print(rejections_v, ground_indices_v)\n",
    "X_v = X_pre[:, rejections_v]"
   ]
  },
  {
   "cell_type": "code",
   "execution_count": 9,
   "id": "3d8835c0-cac6-40b5-8a11-11eb1056a2d2",
   "metadata": {},
   "outputs": [
    {
     "name": "stderr",
     "output_type": "stream",
     "text": [
      "100%|████████████████████████████████████████████████████████████████████████████████████████| 6/6 [00:00<00:00, 104.99it/s]\n",
      "100%|████████████████████████████████████████████████████████████████████████████████████████| 6/6 [00:00<00:00, 288.97it/s]\n"
     ]
    }
   ],
   "source": [
    "_, best_subsets_u = brute_force_all_subsets(X_u, u_pre)\n",
    "_, best_subsets_v = brute_force_all_subsets(X_v, v_pre)"
   ]
  },
  {
   "cell_type": "markdown",
   "id": "6db6f1aa",
   "metadata": {},
   "source": [
    "#### Model selection by the UBIC (Algorithm 1)"
   ]
  },
  {
   "cell_type": "code",
   "execution_count": 10,
   "id": "fca396c4",
   "metadata": {},
   "outputs": [
    {
     "name": "stdout",
     "output_type": "stream",
     "text": [
      "0.13764452422116064\n",
      "5 <---> 5 inf\n",
      "5 <---> 5 inf\n"
     ]
    },
    {
     "data": {
      "text/plain": [
       "(1.421928999,\n",
       " array([ -84546.75427496,  -82183.05349421,  -95557.7230581 ,\n",
       "        -122336.85422546, -134582.56111342, -156841.45203514]),\n",
       " 5)"
      ]
     },
     "execution_count": 10,
     "metadata": {},
     "output_type": "execute_result"
    }
   ],
   "source": [
    "tau = 3; per = 75 # 85\n",
    "scale = np.log(len(u_pre))\n",
    "# scale = 1\n",
    "\n",
    "post_means, b_bics, b_uns = baye_uncertainties(best_subsets_u, (X_u, u_pre), \n",
    "                                               u_type='cv1', take_sqrt=True)\n",
    "predictions = X_u@post_means\n",
    "\n",
    "b_bics = np.array(b_bics)\n",
    "b_bics_u = b_bics\n",
    "complexities = np.array([len(bs) for bs in best_subsets_u])\n",
    "d_complexities = complexities[decreasing_values_indices(b_bics)]\n",
    "d_bics = b_bics[decreasing_values_indices(b_bics)]\n",
    "thres = np.percentile(np.abs(np.diff(d_bics)/(np.diff(d_complexities)*d_bics[:-1])), per)\n",
    "# thres = 0.02\n",
    "print(thres)\n",
    "\n",
    "lower_bounds = []\n",
    "for k, efi in enumerate(best_subsets_u):\n",
    "    com = len(efi)\n",
    "    assert com == np.count_nonzero(post_means[:, k:k+1])\n",
    "    # lower_bound = 2*log_like_value(predictions[:, k:k+1], u_pre)/np.log(len(u_pre))-com\n",
    "    lower_bound = 2*log_like_value(predictions[:, k:k+1], u_pre)-np.log(len(u_pre))*com\n",
    "    lower_bounds.append(lower_bound)\n",
    "    \n",
    "last_lam = np.log10(max(lower_bounds/(b_uns*scale)))\n",
    "delta = last_lam/tau\n",
    "now_lam = last_lam-delta\n",
    "last_ubic = UBIC(b_bics, b_uns, len(u_pre), hyp=10**last_lam, scale=scale)\n",
    "last_bc = np.argmin(last_ubic)\n",
    "while now_lam > 0:\n",
    "    now_ubic = UBIC(b_bics, b_uns, len(u_pre), hyp=10**now_lam, scale=scale)\n",
    "    now_bc = np.argmin(now_ubic)\n",
    "    \n",
    "    diff_com = now_bc-last_bc\n",
    "    diff_bic = b_bics[now_bc]-b_bics[last_bc]\n",
    "    imp = abs(diff_bic/(b_bics[last_bc]*diff_com))\n",
    "    print(min(last_bc, now_bc), '<--->', max(last_bc, now_bc), np.nan_to_num(imp, nan=np.inf))\n",
    "\n",
    "    if (diff_com > 0 and (diff_bic > 0 or imp < thres)) or \\\n",
    "        (diff_com < 0 and diff_bic > 0 and imp > thres):\n",
    "        break\n",
    "    \n",
    "    last_lam = now_lam\n",
    "    now_lam = last_lam-delta\n",
    "    last_ubic = now_ubic\n",
    "    last_bc = now_bc\n",
    "    \n",
    "best_bc = last_bc\n",
    "if abs((b_bics[last_bc]-b_bics[last_bc-1])/b_bics[last_bc-1]) < thres:\n",
    "    best_bc = best_bc - 1\n",
    "\n",
    "last_lam = round(last_lam, 10)\n",
    "last_lam_d_u = last_lam\n",
    "last_ubic_d_u = last_ubic\n",
    "last_bc_d_u = last_bc\n",
    "uns_u = b_uns\n",
    "last_lam, last_ubic, last_bc"
   ]
  },
  {
   "cell_type": "code",
   "execution_count": 11,
   "id": "bcd05278",
   "metadata": {},
   "outputs": [
    {
     "name": "stdout",
     "output_type": "stream",
     "text": [
      "0.13061711741205684\n",
      "4 <---> 4 inf\n",
      "4 <---> 5 8.991454340801285e-05\n"
     ]
    },
    {
     "data": {
      "text/plain": [
       "(2.8548246721,\n",
       " array([ 846226.66302194, 1513824.41768947,  642360.3947097 ,\n",
       "          65602.70902164, -157032.80625386, -156772.99528299]),\n",
       " 4)"
      ]
     },
     "execution_count": 11,
     "metadata": {},
     "output_type": "execute_result"
    }
   ],
   "source": [
    "tau = 3; per = 75 # 85\n",
    "scale = np.log(len(v_pre))\n",
    "# scale = 1\n",
    "\n",
    "post_means, b_bics, b_uns = baye_uncertainties(best_subsets_v, (X_v, v_pre), \n",
    "                                               u_type='cv1', take_sqrt=True)\n",
    "predictions = X_v@post_means\n",
    "\n",
    "b_bics = np.array(b_bics)\n",
    "b_bics_v = b_bics\n",
    "complexities = np.array([len(bs) for bs in best_subsets_v])\n",
    "d_complexities = complexities[decreasing_values_indices(b_bics)]\n",
    "d_bics = b_bics[decreasing_values_indices(b_bics)]\n",
    "thres = np.percentile(np.abs(np.diff(d_bics)/(np.diff(d_complexities)*d_bics[:-1])), per)\n",
    "# thres = 0.02\n",
    "print(thres)\n",
    "\n",
    "lower_bounds = []\n",
    "for k, efi in enumerate(best_subsets_v):\n",
    "    com = len(efi)\n",
    "    assert com == np.count_nonzero(post_means[:, k:k+1])\n",
    "    # lower_bound = 2*log_like_value(predictions[:, k:k+1], v_pre)/np.log(len(v_pre))-com\n",
    "    lower_bound = 2*log_like_value(predictions[:, k:k+1], v_pre)-np.log(len(v_pre))*com\n",
    "    lower_bounds.append(lower_bound)\n",
    "\n",
    "last_lam = np.log10(max(lower_bounds/(b_uns*scale)))\n",
    "delta = last_lam/tau\n",
    "now_lam = last_lam-delta\n",
    "last_ubic = UBIC(b_bics, b_uns, len(v_pre), hyp=10**last_lam, scale=scale)\n",
    "last_bc = np.argmin(last_ubic)\n",
    "while now_lam > 0:\n",
    "    now_ubic = UBIC(b_bics, b_uns, len(v_pre), hyp=10**now_lam, scale=scale)\n",
    "    now_bc = np.argmin(now_ubic)\n",
    "    \n",
    "    diff_com = now_bc-last_bc\n",
    "    diff_bic = b_bics[now_bc]-b_bics[last_bc]\n",
    "    imp = abs(diff_bic/(b_bics[last_bc]*diff_com))\n",
    "    print(min(last_bc, now_bc), '<--->', max(last_bc, now_bc), np.nan_to_num(imp, nan=np.inf))\n",
    "\n",
    "    if (diff_com > 0 and (diff_bic > 0 or imp < thres)) or \\\n",
    "        (diff_com < 0 and diff_bic > 0 and imp > thres):\n",
    "        break\n",
    "    \n",
    "    last_lam = now_lam\n",
    "    now_lam = last_lam-delta\n",
    "    last_ubic = now_ubic\n",
    "    last_bc = now_bc\n",
    "    \n",
    "best_bc = last_bc\n",
    "if abs((b_bics[last_bc]-b_bics[last_bc-1])/b_bics[last_bc-1]) < thres:\n",
    "    best_bc = best_bc - 1\n",
    "\n",
    "last_lam = round(last_lam, 10)\n",
    "last_lam_d_v = last_lam\n",
    "last_ubic_d_v = last_ubic\n",
    "last_bc_d_v = last_bc\n",
    "uns_v = b_uns\n",
    "last_lam, last_ubic, last_bc"
   ]
  },
  {
   "cell_type": "code",
   "execution_count": 13,
   "id": "e421b70a",
   "metadata": {},
   "outputs": [
    {
     "data": {
      "image/png": "[encoded data removed]",
      "text/plain": [
       "<Figure size 350x262.5 with 1 Axes>"
      ]
     },
     "metadata": {},
     "output_type": "display_data"
    }
   ],
   "source": [
    "# assert list(map(len, best_subsets_u)) == list(map(len, best_subsets_v))\n",
    "complexities_u = list(map(len, best_subsets_u))\n",
    "complexities_v = list(map(len, best_subsets_v))\n",
    "with plt.style.context(['science', 'grid']):\n",
    "    fig, ax = plt.subplots()\n",
    "    ax.plot(complexities_u, last_ubic_d_u, 'o-', c='blue', markerfacecolor='none', label=\"$u_t,\\, \\lambda_{\\\\textrm{U}}=$ \"+str(round(last_lam_d_u, 2)))\n",
    "    ax.plot(complexities_v, last_ubic_d_v, 's--', c='green', markerfacecolor='none', label=\"$v_t,\\, \\lambda_{\\\\textrm{U}}=$ \"+str(round(last_lam_d_v, 2)))\n",
    "    ax.set_xticks(complexities)\n",
    "    ax.set_ylabel(\"$\\\\textrm{UBIC}_{\\\\Gamma}(\\\\xi^{k}, 10^{\\\\lambda})$\", fontsize=12)\n",
    "    ax.set_xlabel(\"Support sizes ($s_{k}$)\", fontsize=12)\n",
    "\n",
    "    plt.annotate('min$\\checkmark$', fontsize=16, c='blue', \n",
    "             xy=(complexities_u[last_bc_d_u], last_ubic_d_u[last_bc_d_u]), \n",
    "             xytext=(complexities_u[last_bc_d_u], last_ubic_d_u[last_bc_d_u]+0.5e6), \n",
    "             arrowprops={'arrowstyle': '->', 'linestyle':'-', 'color':'blue'})\n",
    "    \n",
    "    plt.annotate('min$\\checkmark$', fontsize=16, c='green', \n",
    "             xy=(complexities_v[last_bc_d_v], last_ubic_d_v[last_bc_d_v]), \n",
    "             xytext=(complexities_v[last_bc_d_v], last_ubic_d_v[last_bc_d_v]+0.925e6), \n",
    "             arrowprops={'arrowstyle': '->', 'linestyle':'--', 'color':'green'})\n",
    "    \n",
    "    plt.legend()\n",
    "    plt.show()"
   ]
  },
  {
   "cell_type": "markdown",
   "id": "52bd7b8e",
   "metadata": {},
   "source": [
    "#### Percent coefficient error"
   ]
  },
  {
   "cell_type": "code",
   "execution_count": 14,
   "id": "fafbbe39",
   "metadata": {},
   "outputs": [
    {
     "name": "stdout",
     "output_type": "stream",
     "text": [
      "0.07932984403201548 0.1376675092222184\n",
      "0.002098426000397427 0.0017979140746648423\n"
     ]
    }
   ],
   "source": [
    "errs_u = measure_pce(np.linalg.lstsq(X_u[:, best_subsets_u[last_bc_d_u]], u_pre, rcond=None)[0].flatten(), \n",
    "                     ground_coeff_u)\n",
    "errs_v = measure_pce(np.linalg.lstsq(X_v[:, best_subsets_v[last_bc_d_v]], v_pre, rcond=None)[0].flatten(), \n",
    "                     ground_coeff_v)\n",
    "print(errs_u.mean(), errs_u.std())\n",
    "print(errs_v.mean(), errs_v.std())"
   ]
  },
  {
   "cell_type": "code",
   "execution_count": 20,
   "id": "07b24b17-6f76-4b5d-bdaf-ff4685c398a7",
   "metadata": {},
   "outputs": [
    {
     "name": "stdout",
     "output_type": "stream",
     "text": [
      "[1377.986572763099, 1377.9865759880972, 1377.986578809356, 1377.9865797702516, 1377.98657981262, 1377.9865798171386] 5\n",
      "\n",
      "[1377.9865756123534, 1377.9865766488642, 1377.9865792447654, 1377.9865797866075, 1377.9865798168478, 1377.9865798152646] 4\n"
     ]
    }
   ],
   "source": [
    "from bayesian_model_evidence import log_evidence\n",
    "from kneefinder import KneeFinder\n",
    "\n",
    "def knee_finder(y, decreasing=False):\n",
    "    y = np.array(y)\n",
    "    if decreasing:\n",
    "        decreasing_indices = range(0, len(y))\n",
    "    else:\n",
    "        decreasing_indices = decreasing_values_indices(y)\n",
    "    if len(decreasing_indices) == 2 and y[1] < y[0]:\n",
    "        return 1\n",
    "    kf = KneeFinder(decreasing_indices, y[decreasing_indices])\n",
    "    return int(kf.find_knee()[0])\n",
    "\n",
    "v = 1e-2\n",
    "while 1:\n",
    "    bme = [log_evidence(X_u, u_pre, effective_indices=bs, v=v) for bs in best_subsets_u]\n",
    "    if np.argmax(bme) >= knee_finder(b_bics_u):\n",
    "        break\n",
    "    else:\n",
    "        v *= 10\n",
    "print(bme, np.argmax(bme)) # does not yield the governing eq.\n",
    "print()\n",
    "\n",
    "v = 1e-2\n",
    "while 1:\n",
    "    bme = [log_evidence(X_v, v_pre, effective_indices=bs, v=v) for bs in best_subsets_v]\n",
    "    if np.argmax(bme) >= knee_finder(b_bics_v):\n",
    "        break\n",
    "    else:\n",
    "        v *= 10\n",
    "print(bme, np.argmax(bme)) # does not yield the governing eq."
   ]
  },
  {
   "cell_type": "code",
   "execution_count": null,
   "id": "40b99d67-0668-4045-8bf3-2f65370615fb",
   "metadata": {},
   "outputs": [],
   "source": []
  },
  {
   "cell_type": "code",
   "execution_count": null,
   "id": "9fa2c15e-ece7-4301-832c-4c27732d6098",
   "metadata": {},
   "outputs": [],
   "source": []
  }
 ],
 "metadata": {
  "kernelspec": {
   "display_name": "Python [conda env:sindy]",
   "language": "python",
   "name": "conda-env-sindy-py"
  },
  "language_info": {
   "codemirror_mode": {
    "name": "ipython",
    "version": 3
   },
   "file_extension": ".py",
   "mimetype": "text/x-python",
   "name": "python",
   "nbconvert_exporter": "python",
   "pygments_lexer": "ipython3",
   "version": "3.10.13"
  },
  "widgets": {
   "application/vnd.jupyter.widget-state+json": {
    "state": {},
    "version_major": 2,
    "version_minor": 0
   }
  }
 },
 "nbformat": 4,
 "nbformat_minor": 5
}
