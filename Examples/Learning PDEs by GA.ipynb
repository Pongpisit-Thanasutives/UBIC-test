{
 "cells": [
  {
   "cell_type": "code",
   "execution_count": 1,
   "id": "c66886e2",
   "metadata": {},
   "outputs": [
    {
     "name": "stdout",
     "output_type": "stream",
     "text": [
      "Sklearn's version: 1.5.2\n"
     ]
    }
   ],
   "source": [
    "%matplotlib inline\n",
    "import matplotlib.pyplot as plt\n",
    "import seaborn\n",
    "\n",
    "from collections import Counter\n",
    "from functools import cmp_to_key\n",
    "from typing import List\n",
    "from decimal import Decimal\n",
    "import heapq\n",
    "from tqdm import trange\n",
    "\n",
    "import sympy\n",
    "import numpy as np\n",
    "import scipy.io as sio\n",
    "import pysindy as ps\n",
    "from derivative import dxdt\n",
    "import sys; sys.path.insert(0, \"../\")\n",
    "from best_subset import ps_features, brute_force\n",
    "from sklearn.model_selection import train_test_split\n",
    "from okridge.solvel0 import *\n",
    "from UBIC import *"
   ]
  },
  {
   "cell_type": "code",
   "execution_count": 2,
   "id": "aa6f4be5",
   "metadata": {},
   "outputs": [],
   "source": [
    "### Burgers ###\n",
    "data = sio.loadmat('../Datasets/burgers.mat')\n",
    "u = (data['usol']).real\n",
    "x = (data['x'][0]).real\n",
    "t = (data['t'][:,0]).real\n",
    "dt = t[1]-t[0]\n",
    "dx = x[2]-x[1]\n",
    "X, T = np.meshgrid(x, t)\n",
    "XT = np.asarray([X, T]).T"
   ]
  },
  {
   "cell_type": "code",
   "execution_count": 3,
   "id": "e546eca9",
   "metadata": {},
   "outputs": [
    {
     "name": "stdout",
     "output_type": "stream",
     "text": [
      "0.0\n"
     ]
    }
   ],
   "source": [
    "np.random.seed(0)\n",
    "noise_lv = float(0); print(noise_lv)\n",
    "u = u + 0.01*np.abs(noise_lv)*(u.std())*np.random.randn(u.shape[0],u.shape[1])"
   ]
  },
  {
   "cell_type": "code",
   "execution_count": 4,
   "id": "9211998a",
   "metadata": {},
   "outputs": [],
   "source": [
    "### GA (Loop of crossover -> mutation -> evaluate_genome) ###\n",
    "def compare_module(genome1, genome2):\n",
    "    if genome1 == genome2:\n",
    "        return 0\n",
    "    lg1 = len(genome1); lg2 = len(genome2)\n",
    "    if lg1 != lg2:\n",
    "        return lg1 - lg2\n",
    "    if genome1 < genome2: \n",
    "        return -1\n",
    "    else:\n",
    "        return 1\n",
    "    \n",
    "def generate_module(n_derivatives):\n",
    "    pde_module = sorted(np.random.randint(0, 3) for i in range(np.random.randint(1, n_derivatives+1)))\n",
    "    return tuple(pde_module)\n",
    "\n",
    "def generate_genome(n_modules, n_derivatives):\n",
    "    genome = fset(generate_module(n_derivatives) for _ in range(n_modules))\n",
    "    return genome\n",
    "\n",
    "def generate_chromosome(n_modules, n_derivatives, pop_size):\n",
    "    chromosome = set()\n",
    "    count = 0\n",
    "    while count < pop_size:\n",
    "        genome = generate_genome(n_modules, n_derivatives)\n",
    "        if genome not in chromosome:\n",
    "            chromosome.add(genome)\n",
    "            count += 1\n",
    "    return chromosome\n",
    "\n",
    "def display_derivative(n):\n",
    "    nx = 'x'*n\n",
    "    return sympy.symbols(f'u_{nx}')\n",
    "\n",
    "def display_module(pde_module):\n",
    "    return np.prod([display_derivative(_) for _ in pde_module])\n",
    "\n",
    "# coefficients for sorted(encoded_pde)\n",
    "def display_pde(encoded_pde, coefficients=None):\n",
    "    if coefficients is None:\n",
    "        coefficients = [1 for _ in range(len(encoded_pde))]\n",
    "    out = []\n",
    "    for module, c in zip(encoded_pde, coefficients):\n",
    "        out.append(c*display_module(module))\n",
    "    return sum(out)\n",
    "\n",
    "# not efficient: O(len(genome))\n",
    "def crossover(genome1: List, genome2: List, fs=True):\n",
    "    if genome1 != genome2:\n",
    "        while True: \n",
    "            idx1 = np.random.randint(len(genome1))\n",
    "            idx2 = np.random.randint(len(genome2))\n",
    "            if genome1[idx1] != genome2[idx2]:\n",
    "                break\n",
    "        genome1[idx1], genome2[idx2] = genome2[idx2], genome1[idx1]\n",
    "    if fs: \n",
    "        genome1, genome2 = fset(genome1), fset(genome2)\n",
    "    return genome1, genome2\n",
    "\n",
    "# in-place func\n",
    "def mutation(genome: List, n_derivatives: int, mutate_rate=(0.4, 0.5, 0.4), fs=True):\n",
    "    add_rate, delete_rate, order_rate = mutate_rate\n",
    "    # add\n",
    "    if np.random.uniform(0, 1) < add_rate:\n",
    "        genome.append(generate_module(n_derivatives))\n",
    "    # del\n",
    "    if np.random.uniform(0, 1) < delete_rate:\n",
    "        lg = len(genome)\n",
    "        if lg > 0:\n",
    "            idx = np.random.randint(lg)\n",
    "            genome.pop(idx)\n",
    "    # order\n",
    "    if np.random.uniform(0, 1) < order_rate:\n",
    "        lg = len(genome)\n",
    "        if lg > 0: \n",
    "            i = np.random.randint(lg)\n",
    "            lg = len(genome[i])\n",
    "            if lg > 0:\n",
    "                genome[i] = list(genome[i])\n",
    "                j = np.random.randint(len(genome[i]))\n",
    "                if genome[i][j] == 0:\n",
    "                    genome[i][j] = np.random.randint(1, n_derivatives)\n",
    "                else:\n",
    "                    genome[i][j] -= 1\n",
    "                genome[i] = tuple(sorted(genome[i]))\n",
    "    if fs: \n",
    "        genome = fset(genome)\n",
    "    return genome\n",
    "\n",
    "def numericalize_module(module, base_features):\n",
    "    return np.prod([base_features[derivative] for derivative in module], axis=0)\n",
    "\n",
    "def numericalize_genome(genome, base_features):\n",
    "    return np.stack([numericalize_module(module, base_features) \n",
    "                     for module in genome], axis=-1)\n",
    "\n",
    "def compute_genome_coefficient(genome, base_features, target):\n",
    "    features = numericalize_genome(genome, base_features)\n",
    "    assert target.shape == features[:, :, 0].shape\n",
    "    n_features = features.shape[-1]\n",
    "    target = target.reshape(-1, 1)\n",
    "    features = features.reshape(-1, n_features)\n",
    "    coeff, error, _, _ = np.linalg.lstsq(features, target, rcond=None)\n",
    "    return coeff, error[0]\n",
    "\n",
    "# Computing coefficients + fitness\n",
    "def evaluate_genome(genome, base_features, target, epsilon=0):\n",
    "    coeff, mse = compute_genome_coefficient(genome, base_features, target)\n",
    "    mse = mse / np.prod(target.shape)\n",
    "    fitness = mse + abs(epsilon)*len(genome)\n",
    "    return fitness, coeff\n",
    "\n",
    "### Miscellaneous for GA ###\n",
    "def sci_format(n):\n",
    "    sf = '%.2E' % Decimal(n)\n",
    "    sf = sf.split('E')\n",
    "    return float(sf[0]), int(sf[1])\n",
    "\n",
    "def fset(ls): return frozenset(ls)"
   ]
  },
  {
   "cell_type": "code",
   "execution_count": 5,
   "id": "f5f3790d",
   "metadata": {},
   "outputs": [],
   "source": [
    "n_derivatives = 3\n",
    "n_modules = 3\n",
    "pop_size = 400\n",
    "epsilons = [10**(i-6) for i in range(1, 6)] # 1e-5 to 1e-1\n",
    "\n",
    "differentiation_method = ps.FiniteDifference(is_uniform=True)\n",
    "u_t = differentiation_method._differentiate(u.T, t).T\n",
    "u_x = differentiation_method._differentiate(u, x)\n",
    "u_xx = differentiation_method._differentiate(u_x, x)\n",
    "base_features = np.array([u, u_x, u_xx])"
   ]
  },
  {
   "cell_type": "code",
   "execution_count": 6,
   "id": "27ac2707",
   "metadata": {},
   "outputs": [
    {
     "name": "stdout",
     "output_type": "stream",
     "text": [
      "frozenset({(1,), (2,)})\n",
      "(0.0007154159682713932, array([[-0.38103245],\n",
      "       [ 0.04717382]]))\n"
     ]
    },
    {
     "data": {
      "text/latex": [
       "$\\displaystyle 3 u_{x} + 4 u_{xx}$"
      ],
      "text/plain": [
       "3*u_x + 4*u_xx"
      ]
     },
     "execution_count": 6,
     "metadata": {},
     "output_type": "execute_result"
    }
   ],
   "source": [
    "genome = generate_genome(n_modules, n_derivatives); print(genome)\n",
    "print(evaluate_genome(genome, base_features, u_t))\n",
    "display_pde(genome, [3,4,5])"
   ]
  },
  {
   "cell_type": "markdown",
   "id": "611fc067",
   "metadata": {},
   "source": [
    "## Cross-over-only GA ##"
   ]
  },
  {
   "cell_type": "code",
   "execution_count": 7,
   "id": "c0d53841",
   "metadata": {},
   "outputs": [],
   "source": [
    "### testing cross over ###\n",
    "# genome2 = generate_genome(n_modules, n_derivatives); print(genome2)\n",
    "# genome, genome2 = crossover(list(genome), list(genome2))\n",
    "# genome, genome2 = fset(genome), fset(genome2)\n",
    "# print(genome, genome2)"
   ]
  },
  {
   "cell_type": "code",
   "execution_count": 8,
   "id": "44bfd6e7",
   "metadata": {},
   "outputs": [],
   "source": [
    "# n_generations = 10\n",
    "\n",
    "# print(\"Initialization...\")\n",
    "# chrom = generate_chromosome(n_modules, n_derivatives, pop_size)\n",
    "# set_chrom = chrom.copy()\n",
    "# chrom = list(chrom)\n",
    "\n",
    "# fitnesses = [evaluate_genome(genome, base_features, u_t, epsilon=0)[0] for genome in chrom]\n",
    "# epi = 0; epi = 10**(sci_format(np.median(fitnesses))[1]-1+epi); print('epi =', epi)\n",
    "# for i in range(len(fitnesses)):\n",
    "#     fitnesses[i] += epi*len(chrom[i])\n",
    "\n",
    "# print(\"Learning PDEs...\")\n",
    "# for _ in trange(n_generations):\n",
    "#     chrom_f, chrom_m = train_test_split(chrom, test_size=0.5)\n",
    "#     children = []\n",
    "#     children_fitnesses = []\n",
    "#     for genome_f, genome_m in zip(chrom_f, chrom_m):\n",
    "#         genome_child1, genome_child2 = crossover(list(genome_f), list(genome_m))\n",
    "\n",
    "#         if genome_child1 not in set_chrom:\n",
    "#             fitness_child1, _ = evaluate_genome(genome_child1, base_features, u_t, epsilon=epi)\n",
    "#             children.append(genome_child1)\n",
    "#             children_fitnesses.append(fitness_child1)\n",
    "#             set_chrom.add(genome_child1)\n",
    "#         if genome_child2 not in set_chrom:\n",
    "#             fitness_child2, _ = evaluate_genome(genome_child2, base_features, u_t, epsilon=epi)\n",
    "#             children.append(genome_child2)\n",
    "#             children_fitnesses.append(fitness_child2)\n",
    "#             set_chrom.add(genome_child2)\n",
    "\n",
    "#     chrom_fitnesses = heapq.nsmallest(len(chrom), zip(chrom+children, fitnesses+children_fitnesses), \n",
    "#                                       key=lambda _: _[1])\n",
    "#     chrom = []\n",
    "#     fitnesses = []\n",
    "#     for genome, fitness in chrom_fitnesses:\n",
    "#         chrom.append(genome); fitnesses.append(fitness)\n",
    "    \n",
    "# assert len(chrom) == len(set(chrom))\n",
    "# chrom_fitnesses[:10]"
   ]
  },
  {
   "cell_type": "markdown",
   "id": "f63f029c",
   "metadata": {},
   "source": [
    "## GA ##"
   ]
  },
  {
   "cell_type": "code",
   "execution_count": 9,
   "id": "4a5c6d84",
   "metadata": {},
   "outputs": [
    {
     "name": "stdout",
     "output_type": "stream",
     "text": [
      "Initialization...\n",
      "epi = 0.0001\n",
      "Learning PDEs...\n"
     ]
    },
    {
     "name": "stderr",
     "output_type": "stream",
     "text": [
      " 43%|████████████████████████▌                                | 86/200 [00:35<00:47,  2.41it/s]\n"
     ]
    },
    {
     "data": {
      "text/plain": [
       "[(frozenset({(0, 1), (2,)}), 0.00020050332746595256),\n",
       " (frozenset({(0, 1), (1, 1, 2), (2,)}), 0.00030041491578636356),\n",
       " (frozenset({(0, 1), (1, 2), (2,)}), 0.00030041518841411233),\n",
       " (frozenset({(0, 1), (0, 1, 2), (2,)}), 0.0003004376828294478),\n",
       " (frozenset({(0, 0, 1), (0, 1), (2,)}), 0.0003004803064302649),\n",
       " (frozenset({(0, 0, 0), (0, 1), (2,)}), 0.0003004808326250074),\n",
       " (frozenset({(0, 0), (0, 1), (2,)}), 0.0003004869577000254),\n",
       " (frozenset({(0, 1), (1,), (2,)}), 0.0003004883027313859),\n",
       " (frozenset({(0, 1), (2,), (2, 2, 2)}), 0.0003004915325845),\n",
       " (frozenset({(0, 1), (1, 1, 1), (2,)}), 0.0003004934561692255)]"
      ]
     },
     "execution_count": 9,
     "metadata": {},
     "output_type": "execute_result"
    }
   ],
   "source": [
    "n_generations = 200\n",
    "mutate_rate = (0.4, 0.4, 0.4)\n",
    "min_len_chrom = 5\n",
    "\n",
    "print(\"Initialization...\")\n",
    "chrom = generate_chromosome(n_modules, n_derivatives, pop_size)\n",
    "set_chrom = chrom.copy()\n",
    "chrom = list(chrom)\n",
    "\n",
    "fitnesses = [evaluate_genome(genome, base_features, u_t, epsilon=0)[0] for genome in chrom]\n",
    "epi = 0; epi = 10**(sci_format(np.median(fitnesses))[1]-1+epi); print('epi =', epi)\n",
    "for i in range(len(fitnesses)):\n",
    "    fitnesses[i] += epi*len(chrom[i])\n",
    "    \n",
    "best_chrom_fitnesses = heapq.nsmallest(len(chrom), zip(chrom, fitnesses), \n",
    "                                       key=lambda _: _[1])\n",
    "\n",
    "print(\"Learning PDEs...\")\n",
    "for _ in trange(n_generations):\n",
    "    chrom_f, chrom_m = train_test_split(chrom, test_size=0.5, train_size=0.5, shuffle=True)\n",
    "    for genome_f, genome_m in zip(chrom_f, chrom_m):\n",
    "        genome_child1, genome_child2 = crossover(list(genome_f), list(genome_m))\n",
    "        chrom.append(genome_child1)\n",
    "        chrom.append(genome_child2)\n",
    "        if genome_child1 not in set_chrom:\n",
    "            fitness_child1, _ = evaluate_genome(genome_child1, base_features, u_t, epsilon=epi)\n",
    "            best_chrom_fitnesses.append((genome_child1, fitness_child1))\n",
    "            set_chrom.add(genome_child1)\n",
    "        if genome_child2 not in set_chrom:\n",
    "            fitness_child2, _ = evaluate_genome(genome_child2, base_features, u_t, epsilon=epi)\n",
    "            best_chrom_fitnesses.append((genome_child2, fitness_child2))\n",
    "            set_chrom.add(genome_child2)\n",
    "\n",
    "    for i in range(len(chrom)):\n",
    "        genome = list(chrom[i].copy())\n",
    "        genome = mutation(genome, n_derivatives, mutate_rate)\n",
    "        if len(genome) > 0:\n",
    "            chrom[i] = fset(genome)\n",
    "    \n",
    "    new_chrom = []; fitnesses = []\n",
    "    for i in range(len(chrom)):\n",
    "        if chrom[i] not in set_chrom:\n",
    "            fitness, _ = evaluate_genome(chrom[i], base_features, u_t, epsilon=epi)\n",
    "            best_chrom_fitnesses.append((chrom[i], fitness))\n",
    "            new_chrom.append(chrom[i])\n",
    "            fitnesses.append(fitness)\n",
    "            set_chrom.add(chrom[i])\n",
    "            \n",
    "    best_chrom_fitnesses = heapq.nsmallest(pop_size, best_chrom_fitnesses, key=lambda _ : _[1])\n",
    "    chrom_fitnesses = heapq.nsmallest(pop_size, zip(new_chrom, fitnesses), key=lambda _ : _[1])\n",
    "    chrom = []; fitnesses = []; del new_chrom\n",
    "    for genome, fitness in chrom_fitnesses:\n",
    "        chrom.append(genome); fitnesses.append(fitness)\n",
    "    if len(chrom) <= min_len_chrom:\n",
    "        break\n",
    "\n",
    "assert len(chrom) == len(set(chrom))\n",
    "best_chrom_fitnesses[:10]"
   ]
  },
  {
   "cell_type": "code",
   "execution_count": 10,
   "id": "a067e1cf",
   "metadata": {},
   "outputs": [
    {
     "name": "stdout",
     "output_type": "stream",
     "text": [
      "dict_values([382, 361, 68, 79, 89, 83, 41, 52, 76, 48, 46, 66, 57, 42, 47, 93, 63, 54, 54])\n",
      "1 0.21210438645197113,2 0.4125485841199334,3 0.4641865630205441,4 0.5136035535813437,5 0.5596890616324264,6 0.603553581343698,7 0.645752359800111,8 0.6835091615769017,9 0.7201554691837868,10 0.7551360355358134,11 0.7867851193781232,12 0.8167684619655747,13 0.8467518045530261,14 0.8756246529705719,15 0.9022765130483065,16 0.9283731260410882,17 0.9539144919489173,18 0.9772348695169351,19 1.0,8\n"
     ]
    },
    {
     "data": {
      "text/plain": [
       "['u_{x}',\n",
       " 'u_{xx}',\n",
       " 'u_{}u_{x}',\n",
       " 'u_{}u_{xx}',\n",
       " 'u_{x}u_{xx}',\n",
       " 'u_{}^{2}u_{x}',\n",
       " 'u_{}u_{x}u_{xx}',\n",
       " 'u_{x}^{2}u_{xx}']"
      ]
     },
     "execution_count": 10,
     "metadata": {},
     "output_type": "execute_result"
    }
   ],
   "source": [
    "common_modules = []\n",
    "for genome, _ in best_chrom_fitnesses:\n",
    "    common_modules.extend([*genome])\n",
    "common_modules = Counter(common_modules)\n",
    "print(common_modules.values())\n",
    "\n",
    "n_common = 0\n",
    "cum_v = 0; total_v = sum(common_modules.values())\n",
    "for _, v in common_modules.most_common():\n",
    "    cum_v += v; n_common += 1\n",
    "    print(n_common, cum_v/total_v, end=',')\n",
    "n_common = 8\n",
    "print(n_common)\n",
    "\n",
    "common_modules = Counter(common_modules).most_common(n_common)\n",
    "common_modules = fset(genome for genome, _ in common_modules)\n",
    "common_modules = sorted(list(common_modules), key=cmp_to_key(compare_module))\n",
    "X_pre = numericalize_genome(common_modules, base_features).reshape(-1, n_common)\n",
    "y_pre = u_t.reshape(-1, 1)\n",
    "feature_names = [sympy.latex(display_module(module)).strip().replace(' ', '') \n",
    "                 for module in common_modules]\n",
    "feature_names"
   ]
  },
  {
   "cell_type": "code",
   "execution_count": 11,
   "id": "e8048efd",
   "metadata": {},
   "outputs": [
    {
     "name": "stderr",
     "output_type": "stream",
     "text": [
      "100%|████████████████████████████████████████████████████████████| 8/8 [00:02<00:00,  2.87it/s]\n"
     ]
    }
   ],
   "source": [
    "coefficients, best_subsets = okridge_solvel0_full(X_pre, y_pre, k=X_pre.shape[1])"
   ]
  },
  {
   "cell_type": "code",
   "execution_count": 12,
   "id": "00dc72b4",
   "metadata": {},
   "outputs": [
    {
     "name": "stdout",
     "output_type": "stream",
     "text": [
      "[-112765.31053284847, -301567.8845721335, -306552.2090844014, -307215.00306030887, -307221.0026161382, -307218.3148489654, -307208.95193297096, -307198.8258567941]\n",
      "threshold: 0.43097017175537505\n",
      "max_lam: 4.472478645260075\n",
      "1 <---> 1 inf\n",
      "1 <---> 3 0.009362930830959596\n"
     ]
    },
    {
     "name": "stderr",
     "output_type": "stream",
     "text": [
      "/var/folders/z3/_stfms3523dd5mnfr3ch5n100000gp/T/ipykernel_2811/3201017833.py:46: RuntimeWarning: invalid value encountered in scalar divide\n",
      "  imp = abs(diff_bic/(b_bics[last_bc]*diff_com))\n"
     ]
    },
    {
     "data": {
      "text/plain": [
       "(2.98165243,\n",
       " array([ 246047.1117889 , -291827.88642086, -289504.69904162,\n",
       "        -276618.7824277 , -248051.28666374, -226631.40991003,\n",
       "         -59574.27672208,  -40571.63854289]),\n",
       " 1,\n",
       " 1)"
      ]
     },
     "execution_count": 12,
     "metadata": {},
     "output_type": "execute_result"
    }
   ],
   "source": [
    "tau = 3\n",
    "verbose = True\n",
    "# scale = 1 <- generalized UBIC\n",
    "scale = np.log(len(y_pre))\n",
    "per = 75\n",
    "\n",
    "# bics = [sm.OLS(y_pre, X_pre[:, bs]).fit().bic for bs in best_subsets]\n",
    "# aics = [sm.OLS(y_pre, X_pre[:, bs]).fit().aic for bs in best_subsets]\n",
    "post_means, b_bics, b_uns = baye_uncertainties(best_subsets, (X_pre, y_pre), u_type='cv1', take_sqrt=True)\n",
    "predictions = X_pre@post_means\n",
    "print(b_bics)\n",
    "b_bics = np.array(b_bics)\n",
    "max_complexity = len(b_bics)\n",
    "complexities = np.arange(max_complexity)+1\n",
    "d_complexities = complexities[decreasing_values_indices(b_bics)]\n",
    "d_bics = b_bics[decreasing_values_indices(b_bics)]\n",
    "slopes = np.diff(b_bics)/(np.diff(complexities)*b_bics[:-1])\n",
    "try:\n",
    "    thres = np.percentile(np.abs(np.diff(d_bics)/(np.diff(d_complexities)*d_bics[:-1])), per)\n",
    "except IndexError:\n",
    "    thres = 0.01\n",
    "min_thres = 0.01\n",
    "thres = max(thres, min_thres)\n",
    "# thres = 0.02\n",
    "print(\"threshold:\", thres)\n",
    "\n",
    "lower_bounds = []\n",
    "for k, efi in enumerate(best_subsets):\n",
    "    assert len(efi) == np.count_nonzero(post_means[:, k:k+1])\n",
    "    com = len(efi)\n",
    "    lower_bound = 2*np.abs(log_like_value(predictions[:, k:k+1], y_pre))-np.log(len(y_pre))*com\n",
    "    lower_bounds.append(lower_bound)\n",
    "\n",
    "last_lam = np.log10(max(lower_bounds/(b_uns*scale)))\n",
    "print(\"max_lam:\", last_lam)\n",
    "delta = last_lam/tau\n",
    "now_lam = last_lam-delta\n",
    "last_ubic = UBIC(b_bics, b_uns, len(y_pre), hyp=10**last_lam, scale=scale)\n",
    "last_bc = np.argmin(last_ubic)\n",
    "while now_lam >= 0:\n",
    "    now_ubic = UBIC(b_bics, b_uns, len(y_pre), hyp=10**now_lam, scale=scale)\n",
    "    now_bc = np.argmin(now_ubic)\n",
    "    \n",
    "    diff_com = now_bc-last_bc\n",
    "    diff_bic = b_bics[now_bc]-b_bics[last_bc]\n",
    "    imp = abs(diff_bic/(b_bics[last_bc]*diff_com))\n",
    "    \n",
    "    if verbose:\n",
    "        print(min(last_bc, now_bc), '<--->', max(last_bc, now_bc), \n",
    "              np.nan_to_num(imp, nan=np.inf))\n",
    "    \n",
    "    if (diff_com > 0 and (diff_bic > 0 or imp < thres)) or \\\n",
    "        (diff_com < 0 and diff_bic > 0 and imp > thres):\n",
    "        break\n",
    "    \n",
    "    last_lam = now_lam\n",
    "    now_lam = round(last_lam-delta, 8)\n",
    "    last_ubic = now_ubic\n",
    "    last_bc = now_bc\n",
    "\n",
    "best_bc = last_bc\n",
    "if abs((b_bics[last_bc]-b_bics[last_bc-1])/b_bics[last_bc-1]) < thres:\n",
    "    best_bc = best_bc - 1\n",
    "    \n",
    "last_lam = round(last_lam, 8)\n",
    "last_lam, last_ubic, last_bc, best_bc"
   ]
  },
  {
   "cell_type": "code",
   "execution_count": 13,
   "id": "d2f5dd6e",
   "metadata": {},
   "outputs": [
    {
     "data": {
      "text/plain": [
       "[<matplotlib.lines.Line2D at 0x172534f90>]"
      ]
     },
     "execution_count": 13,
     "metadata": {},
     "output_type": "execute_result"
    },
    {
     "data": {
      "image/png": "[encoded data removed]",
      "text/plain": [
       "<Figure size 640x480 with 1 Axes>"
      ]
     },
     "metadata": {},
     "output_type": "display_data"
    }
   ],
   "source": [
    "plt.plot(last_ubic)"
   ]
  },
  {
   "cell_type": "code",
   "execution_count": null,
   "id": "524063e7",
   "metadata": {},
   "outputs": [],
   "source": []
  },
  {
   "cell_type": "code",
   "execution_count": null,
   "id": "c2355731",
   "metadata": {},
   "outputs": [],
   "source": []
  }
 ],
 "metadata": {
  "kernelspec": {
   "display_name": "Python [conda env:pysr_latest]",
   "language": "python",
   "name": "conda-env-pysr_latest-py"
  },
  "language_info": {
   "codemirror_mode": {
    "name": "ipython",
    "version": 3
   },
   "file_extension": ".py",
   "mimetype": "text/x-python",
   "name": "python",
   "nbconvert_exporter": "python",
   "pygments_lexer": "ipython3",
   "version": "3.11.10"
  }
 },
 "nbformat": 4,
 "nbformat_minor": 5
}
