{
 "cells": [
  {
   "cell_type": "code",
   "execution_count": 1,
   "id": "03634fa4",
   "metadata": {},
   "outputs": [],
   "source": [
    "import yaml\n",
    "\n",
    "import numpy as np\n",
    "from scipy import io as sio\n",
    "\n",
    "from weakident_utils.data import load_data, add_noise\n",
    "from weakident import (weak_ident, weak_ident_pred, \n",
    "                   build_feature_vector_tags, build_feature_matrix_and_scale_matrix)"
   ]
  },
  {
   "cell_type": "code",
   "execution_count": 2,
   "id": "575455ff",
   "metadata": {},
   "outputs": [
    {
     "data": {
      "text/plain": [
       "{'libraray_arg': {'max_poly': 6,\n",
       "  'max_dt': 1,\n",
       "  'max_dx': 6,\n",
       "  'use_cross_der': False},\n",
       " 'Noise': {'sigma_SNR': 0.5},\n",
       " 'Subsampling': {'stride_x': 5, 'stride_t': 6},\n",
       " 'Dataset_name': {'equation': 'Transport Equation',\n",
       "  'filename': 'transportDiff_arr.npy'},\n",
       " 'Other_paramters': {'Tau': 0.05}}"
      ]
     },
     "execution_count": 2,
     "metadata": {},
     "output_type": "execute_result"
    }
   ],
   "source": [
    "{1: \"Transport Equation\", \n",
    "2: \"Reaction Diffusion Equation\", \n",
    "3: \"Anisotropic Porous Medium (PM) Equation\", \n",
    "4: \"Heat Equation\", \n",
    "5: \"Korteweg-de Vires (KdV) Equation\", \n",
    "6: \"Kuramoto-Sivashinsky (KS) Equation\", \n",
    "7: \"Nonlinear Schrodinger (NLS)\", \n",
    "8: \"2D Linear System\", \n",
    "9: \"Nonlinear System (Van der Pol)\", \n",
    "10: \"Nonlinear System (Duffing)\", \n",
    "11: \"Noninear System (Lotka-Volterra)\", \n",
    "12: \"Nonlinear System (Lorenz)\", \n",
    "13: \"Noninear System 2D (Lotka-Volterra)\"}\n",
    "\n",
    "with open('./weakident_configs/config_1.yaml') as f:\n",
    "    config = yaml.safe_load(f)\n",
    "config"
   ]
  },
  {
   "cell_type": "markdown",
   "id": "bb99a8d0",
   "metadata": {},
   "source": [
    "## Own datasets"
   ]
  },
  {
   "cell_type": "code",
   "execution_count": 3,
   "id": "79e6e0b7",
   "metadata": {},
   "outputs": [],
   "source": [
    "data = sio.loadmat(\"../Datasets/burgers.mat\")\n",
    "u = data['usol']\n",
    "t = data['t'].reshape(1, -1)\n",
    "x = data['x'].reshape(-1, 1)\n",
    "xs = np.array([x, t], dtype=object)\n",
    "true_coefficients = np.array([])\n",
    "\n",
    "# with open(\"./dataset-Python/burgers.npy\", 'wb') as f:\n",
    "#     np.save(f, u)\n",
    "#     np.save(f, xs)\n",
    "#     np.save(f, true_coefficients)\n",
    "    \n",
    "# with open(\"./dataset-Python/burgers.npy\", 'rb') as f:\n",
    "#     u = np.load(f, allow_pickle=True)\n",
    "#     xs = np.load(f, allow_pickle=True)\n",
    "#     true_coefficients = np.load(f, allow_pickle=True)\n",
    "#     true_coefficients = np.array([])\n",
    "\n",
    "SEED_NUMBER = 9999\n",
    "np.random.seed(SEED_NUMBER)\n",
    "noise_lv = 5\n",
    "u = u + noise_lv*0.01*np.std(u)*np.random.randn(*u.shape)"
   ]
  },
  {
   "cell_type": "code",
   "execution_count": 4,
   "id": "d7afaece",
   "metadata": {},
   "outputs": [
    {
     "name": "stdout",
     "output_type": "stream",
     "text": [
      "Start building feature matrix W:\n",
      "[======================] 100.0% \n",
      "Start building scale matrix S:\n",
      "[======================] 100.0% \n",
      "The number of rows in the highly dynamic region is  139\n",
      "\n",
      " Start finding support: \n",
      "[=========] 100.0% \n",
      "WeakIdent finished support trimming and narrow-fit for variable no.1 . A support is found this variable.\n"
     ]
    }
   ],
   "source": [
    "# dictionary_list, idx_of_lhs_feature, idx_of_rhs_feature, true_coefficient_vector = \\\n",
    "# build_feature_vector_tags(1, 1, 6, 6, False, true_coefficients, False)\n",
    "# feature_matrix, scale_matrix = build_feature_matrix_and_scale_matrix(u, xs, 6, 6, 6, dictionary_list, False)\n",
    "\n",
    "theta, u_t, coeff, lhs, rhs = weak_ident(u, xs, true_coefficients=true_coefficients, \n",
    "                                         skip_t=6, skip_x=5, \n",
    "                                         max_dx=6, max_poly=3, \n",
    "                                         tau=0.05)"
   ]
  },
  {
   "cell_type": "code",
   "execution_count": null,
   "id": "b0b8ac38",
   "metadata": {},
   "outputs": [],
   "source": []
  },
  {
   "cell_type": "code",
   "execution_count": null,
   "id": "476cfbd8",
   "metadata": {},
   "outputs": [],
   "source": []
  }
 ],
 "metadata": {
  "kernelspec": {
   "display_name": "Python [conda env:pysr_latest]",
   "language": "python",
   "name": "conda-env-pysr_latest-py"
  },
  "language_info": {
   "codemirror_mode": {
    "name": "ipython",
    "version": 3
   },
   "file_extension": ".py",
   "mimetype": "text/x-python",
   "name": "python",
   "nbconvert_exporter": "python",
   "pygments_lexer": "ipython3",
   "version": "3.11.11"
  }
 },
 "nbformat": 4,
 "nbformat_minor": 5
}
