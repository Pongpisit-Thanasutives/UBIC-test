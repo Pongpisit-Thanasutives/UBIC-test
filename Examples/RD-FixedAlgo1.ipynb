{
 "cells": [
  {
   "cell_type": "code",
   "execution_count": 1,
   "metadata": {},
   "outputs": [
    {
     "name": "stdout",
     "output_type": "stream",
     "text": [
      "Sklearn's version: 1.4.0\n"
     ]
    }
   ],
   "source": [
    "%matplotlib inline\n",
    "import matplotlib.pyplot as plt\n",
    "import warnings; warnings.filterwarnings(\"ignore\")\n",
    "\n",
    "import os\n",
    "import sys; sys.path.append('../')\n",
    "import numpy as np\n",
    "from numpy.random import default_rng\n",
    "\n",
    "import scipy.io as sio\n",
    "from scipy.stats import wilcoxon\n",
    "import pysindy as ps\n",
    "from PDE_FIND import build_linear_system, print_pde, TrainSTRidge, measure_pce\n",
    "from best_subset import *\n",
    "from UBIC import *\n",
    "from solvel0 import solvel0\n",
    "from findiff import FinDiff\n",
    "import sgolay2\n",
    "\n",
    "from sklearn.utils.random import sample_without_replacement\n",
    "from sklearn.utils import resample, shuffle\n",
    "\n",
    "from ICOMP import *\n",
    "# https://github.com/Pongpisit-Thanasutives/ICOMP\n",
    "import sys; sys.path.append('/Users/pongpisit/Documents/github/ICOMP/')\n",
    "from icomp_lm import *\n",
    "from mdl_comp import *"
   ]
  },
  {
   "cell_type": "markdown",
   "metadata": {},
   "source": [
    "#### Load data"
   ]
  },
  {
   "cell_type": "code",
   "execution_count": 2,
   "metadata": {},
   "outputs": [],
   "source": [
    "data = sio.loadmat('../../PDE-FIND/Datasets/reaction_diffusion_2d_big.mat')\n",
    "u_sol = (data['u']).real\n",
    "v_sol = (data['v']).real\n",
    "x = (data['x'][0]).real\n",
    "y = (data['y'][0]).real\n",
    "t = (data['t'][:,0]).real\n",
    "\n",
    "n = 512; issub = 2\n",
    "if issub > 1:\n",
    "    spatial_sub_indices = np.array([i for i in range(n) if i%issub==0])\n",
    "    u_sol = u_sol[spatial_sub_indices, :, :][:, spatial_sub_indices, :]\n",
    "    v_sol = v_sol[spatial_sub_indices, :, :][:, spatial_sub_indices, :]\n",
    "    x = x[spatial_sub_indices]\n",
    "    y = y[spatial_sub_indices]\n",
    "m = 201; issub = 1\n",
    "if issub > 1:\n",
    "    time_sub_indices = np.array([i for i in range(m) if i%issub==0])\n",
    "    u_sol = u_sol[:, :, time_sub_indices]\n",
    "    v_sol = v_sol[:, :, time_sub_indices]\n",
    "    t = t[time_sub_indices]\n",
    "\n",
    "dt = t[1] - t[0]\n",
    "dx = x[1] - x[0]\n",
    "dy = y[1] - y[0]\n",
    "\n",
    "# Ground truth\n",
    "ground_indices_u = np.array((0, 2, 3, 4, 5, 8, 14))\n",
    "ground_coeff_u = np.array([1.000,-1.000,1.000,-1.000,1.000,0.100,0.100])\n",
    "ground_indices_v = np.array((1, 2, 3, 4, 5, 9, 15))\n",
    "ground_coeff_v = np.array([1.000,-1.000,-1.000,-1.000,-1.000,0.100,0.100])"
   ]
  },
  {
   "cell_type": "code",
   "execution_count": 3,
   "metadata": {},
   "outputs": [],
   "source": [
    "u = np.zeros((x.shape[0], y.shape[0], len(t), 2))\n",
    "u[:, :, :, 0] = u_sol\n",
    "u[:, :, :, 1] = v_sol\n",
    "\n",
    "# Odd polynomial terms in (u, v), up to second order derivatives in (u, v)\n",
    "library_functions = [\n",
    "    lambda x: x,\n",
    "    lambda x: x * x * x,\n",
    "    lambda x, y: x * y * y,\n",
    "    lambda x, y: x * x * y,\n",
    "]\n",
    "library_function_names = [\n",
    "    lambda x: x,\n",
    "    lambda x: x + x + x,\n",
    "    lambda x, y: x + y + y,\n",
    "    lambda x, y: x + x + y,\n",
    "]\n",
    "\n",
    "# Need to define the 2D spatial grid before calling the library\n",
    "np.random.seed(100)\n",
    "X, Y, T = np.meshgrid(x, y, t, indexing='ij')\n",
    "XYT = np.transpose([X, Y, T], [1, 2, 3, 0])"
   ]
  },
  {
   "cell_type": "markdown",
   "metadata": {},
   "source": [
    "#### Add noise"
   ]
  },
  {
   "cell_type": "code",
   "execution_count": 4,
   "metadata": {},
   "outputs": [],
   "source": [
    "# Need to increase the weak form mesh resolution a bit if data is noisy\n",
    "weak_lib = ps.WeakPDELibrary(\n",
    "    library_functions=library_functions,\n",
    "    function_names=library_function_names,\n",
    "    derivative_order=2,\n",
    "    spatiotemporal_grid=XYT,\n",
    "    K=10000,\n",
    "    is_uniform=True,\n",
    "    periodic=False,\n",
    "    include_interaction=True, \n",
    "    cache=True\n",
    ")\n",
    "\n",
    "u_noisy = u.copy()\n",
    "\n",
    "### Add noise ###\n",
    "noise_lv = 10\n",
    "domain_noise = 0.01*np.abs(noise_lv)*np.std(u_noisy)*np.random.randn(*u_noisy.shape)\n",
    "u_noisy = u_noisy + domain_noise"
   ]
  },
  {
   "cell_type": "markdown",
   "metadata": {},
   "source": [
    "#### Denoise"
   ]
  },
  {
   "cell_type": "code",
   "execution_count": 5,
   "metadata": {},
   "outputs": [
    {
     "name": "stderr",
     "output_type": "stream",
     "text": [
      "100%|██████████████████████████████████████████████████████████████████████████████████████████████████████████████████| 201/201 [00:01<00:00, 116.46it/s]\n",
      "100%|██████████████████████████████████████████████████████████████████████████████████████████████████████████████████| 201/201 [00:01<00:00, 128.98it/s]\n"
     ]
    }
   ],
   "source": [
    "denoise = True\n",
    "if denoise:\n",
    "    un = u_noisy[:, :, :, 0].T\n",
    "    vn = u_noisy[:, :, :, 1].T\n",
    "\n",
    "    div = 30\n",
    "    ws = max(un[0].shape)//div; po = 2\n",
    "    if ws%2 == 0: ws -=1\n",
    "\n",
    "    und = []\n",
    "    for i in trange(un.shape[0]):\n",
    "        und.append(sgolay2.SGolayFilter2(window_size=ws, poly_order=po)(un[i]))\n",
    "    und = np.stack(und, axis=0).T\n",
    "\n",
    "    vnd = []\n",
    "    for i in trange(vn.shape[0]):\n",
    "        vnd.append(sgolay2.SGolayFilter2(window_size=ws, poly_order=po)(vn[i]))\n",
    "    vnd = np.stack(vnd, axis=0).T\n",
    "\n",
    "    u_noisy = np.stack((und, vnd), axis=-1)\n",
    "    del und, vnd, un, vn"
   ]
  },
  {
   "cell_type": "markdown",
   "metadata": {},
   "source": [
    "#### Applying best-subset regression on the weak formulation"
   ]
  },
  {
   "cell_type": "code",
   "execution_count": 6,
   "metadata": {},
   "outputs": [],
   "source": [
    "# thres = 1e-4 # 1e-3\n",
    "# # optimizer = ps.STLSQ(threshold=thres, fit_intercept=True, normalize_columns=True, max_iter=100)\n",
    "# optimizer = ps.SR3(threshold=thres, fit_intercept=True, normalize_columns=True, max_iter=100)\n",
    "# # optimizer = ps.MIOSR(target_sparsity=2*7, fit_intercept=False, normalize_columns=True)\n",
    "\n",
    "# model = ps.SINDy(feature_library=weak_lib, optimizer=optimizer, \n",
    "#                  cache=True, feature_names=['u', 'v'])\n",
    "# model.fit(u_noisy, ensemble=False, library_ensemble=True)\n",
    "# # model.print()\n",
    "# X_pre, y_pre = model.feature_library.cached_xp_full[0], model.cached_x_dot"
   ]
  },
  {
   "cell_type": "code",
   "execution_count": 7,
   "metadata": {},
   "outputs": [],
   "source": [
    "X_pre = np.load(\"./X_weak_RD.npy\")\n",
    "y_pre = np.load(\"./y_weak_RD.npy\")\n",
    "feature_names = np.load(\"feature_names_RD.npy\", allow_pickle=True)"
   ]
  },
  {
   "cell_type": "code",
   "execution_count": 8,
   "metadata": {},
   "outputs": [],
   "source": [
    "# feature_names = np.array(model.get_feature_names())\n",
    "u_pre, v_pre = y_pre[:, 0:1], y_pre[:, 1:2]\n",
    "del y_pre"
   ]
  },
  {
   "cell_type": "code",
   "execution_count": 9,
   "metadata": {},
   "outputs": [
    {
     "name": "stderr",
     "output_type": "stream",
     "text": [
      "\r",
      "  0%|                                                                                                                              | 0/10 [00:00<?, ?it/s]"
     ]
    },
    {
     "name": "stdout",
     "output_type": "stream",
     "text": [
      "Set parameter Username\n",
      "Academic license - for non-commercial use only - expires 2024-06-04\n"
     ]
    },
    {
     "name": "stderr",
     "output_type": "stream",
     "text": [
      "100%|█████████████████████████████████████████████████████████████████████████████████████████████████████████████████████| 10/10 [00:02<00:00,  4.14it/s]\n",
      "100%|█████████████████████████████████████████████████████████████████████████████████████████████████████████████████████| 10/10 [00:01<00:00,  6.39it/s]\n"
     ]
    },
    {
     "data": {
      "text/plain": [
       "[(1,),\n",
       " (1, 14),\n",
       " (0, 1, 14),\n",
       " (0, 1, 8, 14),\n",
       " (0, 1, 8, 9, 14),\n",
       " (0, 1, 2, 4, 8, 14),\n",
       " (0, 2, 3, 4, 5, 8, 14),\n",
       " (0, 1, 2, 3, 4, 5, 8, 14),\n",
       " (0, 1, 2, 3, 4, 5, 8, 14, 39),\n",
       " (0, 1, 2, 3, 4, 5, 8, 14, 39, 42)]"
      ]
     },
     "execution_count": 9,
     "metadata": {},
     "output_type": "execute_result"
    }
   ],
   "source": [
    "solve_grb = solvel0(X_pre, u_pre, intercept=False, refine=True, max_complexity=10)\n",
    "\n",
    "potential_indices = Counter(solve_grb[0])\n",
    "for e in solve_grb[1:]: \n",
    "    potential_indices += Counter(e)\n",
    "potential_indices = sorted(potential_indices, key=potential_indices.get, reverse=True)[:15]\n",
    "potential_indices = sorted(potential_indices)\n",
    "potential_feature_names = feature_names[potential_indices]\n",
    "\n",
    "brute_solve = brute_force_all_subsets(X_pre[:, potential_indices], u_pre, max_support_size=10)\n",
    "map2pysindy = dict(zip([i for i in range(len(potential_indices))], potential_indices))\n",
    "best_subsets_u = [tuple([map2pysindy[ei] for ei in effective_indices]) \n",
    "                  for effective_indices in brute_solve[-1]]\n",
    "best_subsets_u"
   ]
  },
  {
   "cell_type": "markdown",
   "metadata": {},
   "source": [
    "#### Model selection by the UBIC (Algorithm 1)"
   ]
  },
  {
   "cell_type": "code",
   "execution_count": 10,
   "metadata": {},
   "outputs": [
    {
     "name": "stdout",
     "output_type": "stream",
     "text": [
      "-14962.70186852511\n",
      "0.028408923577772496\n",
      "0 <---> 0 inf\n",
      "0 <---> 6 0.030003039304471672\n",
      "6 <---> 7 0.0020825485789059523\n"
     ]
    },
    {
     "data": {
      "text/plain": [
       "(1.31650405,\n",
       " array([-81804.19826203, -82158.80397844, -82167.78018335, -83993.69426712,\n",
       "        -83736.88791037, -81586.79224411, -94598.81047957, -91355.3749831 ,\n",
       "        -91223.14358921, -91094.15276425]),\n",
       " 6)"
      ]
     },
     "execution_count": 10,
     "metadata": {},
     "output_type": "execute_result"
    }
   ],
   "source": [
    "tau = 3; per = 75\n",
    "scale = np.log(len(u_pre))\n",
    "# scale = 1\n",
    "\n",
    "post_means, b_bics, b_uns = baye_uncertainties(best_subsets_u, (X_pre, u_pre), u_type='cv1', take_sqrt=True)\n",
    "print(min(b_bics)-max(b_bics))\n",
    "predictions = X_pre@post_means\n",
    "\n",
    "b_bics = np.array(b_bics)\n",
    "complexities = np.array([len(bs) for bs in best_subsets_u])\n",
    "d_complexities = complexities[decreasing_values_indices(b_bics)]\n",
    "d_bics = b_bics[decreasing_values_indices(b_bics)]\n",
    "thres = np.percentile(np.abs(np.diff(d_bics)/(np.diff(d_complexities)*d_bics[:-1])), per)\n",
    "# thres = 0.02\n",
    "print(thres)\n",
    "\n",
    "lower_bounds = []\n",
    "for k, efi in enumerate(best_subsets_u):\n",
    "    com = len(efi)\n",
    "    assert com == np.count_nonzero(post_means[:, k:k+1])\n",
    "    # lower_bound = 2*log_like_value(predictions[:, k:k+1], u_pre)/np.log(len(u_pre))-com\n",
    "    lower_bound = 2*np.abs(log_like_value(predictions[:, k:k+1], u_pre))-np.log(len(u_pre))*com\n",
    "    lower_bounds.append(lower_bound)\n",
    "    \n",
    "last_lam = np.log10(max(lower_bounds/(b_uns*scale)))\n",
    "delta = last_lam/tau\n",
    "now_lam = last_lam-delta\n",
    "last_ubic = UBIC(b_bics, b_uns, len(u_pre), hyp=10**last_lam, scale=scale)\n",
    "last_bc = np.argmin(last_ubic)\n",
    "while now_lam >= 0:\n",
    "    now_ubic = UBIC(b_bics, b_uns, len(u_pre), hyp=10**now_lam, scale=scale)\n",
    "    now_bc = np.argmin(now_ubic)\n",
    "    \n",
    "    diff_com = now_bc-last_bc\n",
    "    diff_bic = b_bics[now_bc]-b_bics[last_bc]\n",
    "    imp = abs(diff_bic/(b_bics[last_bc]*diff_com))\n",
    "    print(min(last_bc, now_bc), '<--->', max(last_bc, now_bc), np.nan_to_num(imp, nan=np.inf))\n",
    "\n",
    "    if (diff_com > 0 and (diff_bic > 0 or imp < thres)) or \\\n",
    "        (diff_com < 0 and diff_bic > 0 and imp > thres):\n",
    "        break\n",
    "    \n",
    "    last_lam = now_lam\n",
    "    now_lam = round(last_lam-delta, 8)\n",
    "    last_ubic = now_ubic\n",
    "    last_bc = now_bc\n",
    "    \n",
    "best_bc = last_bc\n",
    "if abs((b_bics[last_bc]-b_bics[last_bc-1])/b_bics[last_bc-1]) < thres:\n",
    "    best_bc = best_bc - 1\n",
    "\n",
    "last_lam = round(last_lam, 8)\n",
    "if last_lam == 0: last_lam = abs(last_lam)\n",
    "last_lam_d_u = last_lam\n",
    "last_ubic_d_u = last_ubic\n",
    "last_bc_d_u = last_bc\n",
    "uns_u = b_uns\n",
    "last_lam, last_ubic, last_bc"
   ]
  },
  {
   "cell_type": "code",
   "execution_count": 11,
   "metadata": {},
   "outputs": [
    {
     "name": "stderr",
     "output_type": "stream",
     "text": [
      "100%|█████████████████████████████████████████████████████████████████████████████████████████████████████████████████████| 10/10 [00:02<00:00,  4.66it/s]\n",
      "100%|█████████████████████████████████████████████████████████████████████████████████████████████████████████████████████| 10/10 [00:01<00:00,  7.45it/s]\n"
     ]
    },
    {
     "data": {
      "text/plain": [
       "[(0,),\n",
       " (0, 15),\n",
       " (0, 1, 15),\n",
       " (0, 1, 9, 15),\n",
       " (0, 1, 8, 9, 15),\n",
       " (0, 1, 3, 5, 9, 15),\n",
       " (1, 2, 3, 4, 5, 9, 15),\n",
       " (0, 1, 2, 3, 4, 5, 9, 15),\n",
       " (0, 1, 2, 3, 4, 5, 9, 15, 64),\n",
       " (0, 1, 2, 3, 4, 5, 9, 15, 39, 64)]"
      ]
     },
     "execution_count": 11,
     "metadata": {},
     "output_type": "execute_result"
    }
   ],
   "source": [
    "solve_grb = solvel0(X_pre, v_pre, intercept=False, refine=True, max_complexity=10)\n",
    "\n",
    "potential_indices = Counter(solve_grb[0])\n",
    "for e in solve_grb[1:]: \n",
    "    potential_indices += Counter(e)\n",
    "potential_indices = sorted(potential_indices, key=potential_indices.get, reverse=True)[:15]\n",
    "potential_indices = sorted(potential_indices)\n",
    "potential_feature_names = feature_names[potential_indices]\n",
    "\n",
    "brute_solve = brute_force_all_subsets(X_pre[:, potential_indices], v_pre, max_support_size=10)\n",
    "map2pysindy = dict(zip([i for i in range(len(potential_indices))], potential_indices))\n",
    "best_subsets_v = [tuple([map2pysindy[ei] for ei in effective_indices]) \n",
    "                  for effective_indices in brute_solve[-1]]\n",
    "best_subsets_v"
   ]
  },
  {
   "cell_type": "code",
   "execution_count": 12,
   "metadata": {},
   "outputs": [
    {
     "name": "stdout",
     "output_type": "stream",
     "text": [
      "-15915.512397809725\n",
      "0.031631936733893584\n",
      "0 <---> 0 inf\n",
      "0 <---> 6 0.03242979226035913\n",
      "6 <---> 6 inf\n"
     ]
    },
    {
     "data": {
      "text/plain": [
       "(0.0,\n",
       " array([-81057.31443102, -81634.81591469, -82065.30731763, -84914.07706098,\n",
       "        -85012.99421079, -87174.03385972, -96742.3344358 , -96730.6083764 ,\n",
       "        -96723.92957382, -96716.0817433 ]),\n",
       " 6)"
      ]
     },
     "execution_count": 12,
     "metadata": {},
     "output_type": "execute_result"
    }
   ],
   "source": [
    "tau = 3; per = 75\n",
    "scale = np.log(len(v_pre))\n",
    "# scale = 1\n",
    "\n",
    "post_means, b_bics, b_uns = baye_uncertainties(best_subsets_v, (X_pre, v_pre), u_type='cv1', take_sqrt=True)\n",
    "print(min(b_bics)-max(b_bics))\n",
    "predictions = X_pre@post_means\n",
    "\n",
    "b_bics = np.array(b_bics)\n",
    "complexities = np.array([len(bs) for bs in best_subsets_v])\n",
    "d_complexities = complexities[decreasing_values_indices(b_bics)]\n",
    "d_bics = b_bics[decreasing_values_indices(b_bics)]\n",
    "thres = np.percentile(np.abs(np.diff(d_bics)/(np.diff(d_complexities)*d_bics[:-1])), per)\n",
    "# thres = 0.02\n",
    "print(thres)\n",
    "\n",
    "lower_bounds = []\n",
    "for k, efi in enumerate(best_subsets_v):\n",
    "    com = len(efi)\n",
    "    assert com == np.count_nonzero(post_means[:, k:k+1])\n",
    "    # lower_bound = 2*log_like_value(predictions[:, k:k+1], v_pre)/np.log(len(v_pre))-com\n",
    "    lower_bound = 2*np.abs(log_like_value(predictions[:, k:k+1], v_pre))-np.log(len(v_pre))*com\n",
    "    lower_bounds.append(lower_bound)\n",
    "\n",
    "last_lam = np.log10(max(lower_bounds/(b_uns*scale)))\n",
    "delta = last_lam/tau\n",
    "now_lam = last_lam-delta\n",
    "last_ubic = UBIC(b_bics, b_uns, len(v_pre), hyp=10**last_lam, scale=scale)\n",
    "last_bc = np.argmin(last_ubic)\n",
    "while now_lam >= 0:\n",
    "    now_ubic = UBIC(b_bics, b_uns, len(v_pre), hyp=10**now_lam, scale=scale)\n",
    "    now_bc = np.argmin(now_ubic)\n",
    "    \n",
    "    diff_com = now_bc-last_bc\n",
    "    diff_bic = b_bics[now_bc]-b_bics[last_bc]\n",
    "    imp = abs(diff_bic/(b_bics[last_bc]*diff_com))\n",
    "    print(min(last_bc, now_bc), '<--->', max(last_bc, now_bc), np.nan_to_num(imp, nan=np.inf))\n",
    "\n",
    "    if (diff_com > 0 and (diff_bic > 0 or imp < thres)) or \\\n",
    "        (diff_com < 0 and diff_bic > 0 and imp > thres):\n",
    "        break\n",
    "    \n",
    "    last_lam = now_lam\n",
    "    now_lam = round(last_lam-delta, 8)\n",
    "    last_ubic = now_ubic\n",
    "    last_bc = now_bc\n",
    "    \n",
    "best_bc = last_bc\n",
    "if abs((b_bics[last_bc]-b_bics[last_bc-1])/b_bics[last_bc-1]) < thres:\n",
    "    best_bc = best_bc - 1\n",
    "\n",
    "last_lam = round(last_lam, 8)\n",
    "if last_lam == 0: last_lam = abs(last_lam)\n",
    "last_lam_d_v = last_lam\n",
    "last_ubic_d_v = last_ubic\n",
    "last_bc_d_v = last_bc\n",
    "uns_v = b_uns\n",
    "last_lam, last_ubic, last_bc"
   ]
  },
  {
   "cell_type": "code",
   "execution_count": 13,
   "metadata": {},
   "outputs": [
    {
     "data": {
      "image/png": "[encoded data removed]",
      "text/plain": [
       "<Figure size 350x262.5 with 1 Axes>"
      ]
     },
     "metadata": {},
     "output_type": "display_data"
    }
   ],
   "source": [
    "assert list(map(len, best_subsets_u)) == list(map(len, best_subsets_v))\n",
    "complexities = list(map(len, best_subsets_u))\n",
    "with plt.style.context(['science']):\n",
    "    fig, ax = plt.subplots()\n",
    "    ax.plot(complexities, last_ubic_d_u, 'o-', c='blue', markerfacecolor='none', label=\"$u_t,\\, \\lambda =$ \"+str(round(last_lam_d_u, 2)))\n",
    "    ax.plot(complexities, last_ubic_d_v, 's--', c='green', markerfacecolor='none', label=\"$v_t,\\, \\lambda =$ \"+str(round(last_lam_d_v, 2)))\n",
    "    ax.set_xticks(complexities)\n",
    "    ax.set_ylabel(\"$\\\\textrm{UBIC}_{\\\\Gamma}(\\\\xi^{k}, 10^{\\\\lambda})$\", fontsize=12)\n",
    "    ax.set_xlabel(\"Support sizes ($s_{k}$)\", fontsize=12)\n",
    "\n",
    "    plt.annotate('min$\\checkmark$', fontsize=16, c='blue', \n",
    "             xy=(complexities[last_bc_d_u], last_ubic_d_u[last_bc_d_u]), \n",
    "             xytext=(complexities[last_bc_d_u], last_ubic_d_u[last_bc_d_u]+5000), \n",
    "             arrowprops={'arrowstyle': '->', 'linestyle':'-', 'color':'blue'})\n",
    "    \n",
    "    plt.annotate('min$\\checkmark$', fontsize=16, c='green', \n",
    "             xy=(complexities[last_bc_d_v], last_ubic_d_v[last_bc_d_v]), \n",
    "             xytext=(complexities[last_bc_d_v]-3, last_ubic_d_v[last_bc_d_v]+5000), \n",
    "             arrowprops={'arrowstyle': '->', 'linestyle':'--', 'color':'green'})\n",
    "    plt.legend(fontsize=10, title='Target')\n",
    "    # plt.savefig(\"../Figures2/rd2d_ubics.pdf\")\n",
    "    plt.show()"
   ]
  },
  {
   "cell_type": "markdown",
   "metadata": {},
   "source": [
    "#### Percent coefficient error"
   ]
  },
  {
   "cell_type": "code",
   "execution_count": 14,
   "metadata": {},
   "outputs": [
    {
     "name": "stdout",
     "output_type": "stream",
     "text": [
      "2.1639872194525807 1.4818550985129506\n",
      "2.2967262127974317 1.6589786810247757\n"
     ]
    }
   ],
   "source": [
    "assert np.alltrue(best_subsets_v[last_bc_d_v] == ground_indices_v) and np.alltrue(best_subsets_u[last_bc_d_u] == ground_indices_u)\n",
    "errs_u = measure_pce(np.linalg.lstsq(X_pre[:, ground_indices_u], u_pre, rcond=None)[0].flatten(), \n",
    "                     ground_coeff_u)\n",
    "errs_v = measure_pce(np.linalg.lstsq(X_pre[:, ground_indices_v], v_pre, rcond=None)[0].flatten(), \n",
    "                     ground_coeff_v)\n",
    "print(errs_u.mean(), errs_u.std())\n",
    "print(errs_v.mean(), errs_v.std())"
   ]
  },
  {
   "cell_type": "code",
   "execution_count": 15,
   "metadata": {},
   "outputs": [],
   "source": [
    "theta_u, dt_u = shuffle(X_pre, u_pre, random_state=0)\n",
    "theta_v, dt_v = shuffle(X_pre, v_pre, random_state=0)"
   ]
  },
  {
   "cell_type": "code",
   "execution_count": 16,
   "metadata": {},
   "outputs": [
    {
     "name": "stdout",
     "output_type": "stream",
     "text": [
      "4.6566128730773926e-09\n",
      "0.19652509037405252\n",
      "6.51925802230835e-08\n",
      "0.013870718888938427\n",
      "0.9999999981373549\n",
      "9.313225746154785e-10\n",
      "1.0\n",
      "1.0\n",
      "1.0\n"
     ]
    },
    {
     "data": {
      "text/plain": [
       "6"
      ]
     },
     "execution_count": 16,
     "metadata": {},
     "output_type": "execute_result"
    }
   ],
   "source": [
    "n_resample = 30\n",
    "n_samples = len(dt_u)//n_resample\n",
    "v_icomps = []\n",
    "for bs in best_subsets_u:\n",
    "    icomps = []\n",
    "    beta = np.linalg.lstsq(theta_u[:, bs], dt_u, rcond=None)[0]\n",
    "    for _ in range(n_resample):\n",
    "        idx = sample_without_replacement(n_population=theta_u.shape[0]-1, n_samples=n_samples, random_state=_)\n",
    "        X_resample, y_resample = theta_u[idx], dt_u[idx]\n",
    "        X_resample = X_resample[:, bs]\n",
    "        llf, CM, icomp = llf_complexity(X_resample, y_resample, beta=beta, a_n=np.log(len(y_resample)))\n",
    "        icomp = icomp[2]\n",
    "        icomps.append(icomp)\n",
    "    v_icomps.append(icomps)\n",
    "v_icomps = np.array(v_icomps)\n",
    "v_icomps_ranking = np.argsort(v_icomps.sum(axis=-1))\n",
    "\n",
    "ok = 0\n",
    "for i in range(1, len(best_subsets_u)):\n",
    "    wres = wilcoxon(v_icomps[i], v_icomps[i-1], alternative='less')\n",
    "    print(wres.pvalue)\n",
    "    if wres.pvalue < 1e-2: \n",
    "        ok = i\n",
    "ok"
   ]
  },
  {
   "cell_type": "code",
   "execution_count": 17,
   "metadata": {},
   "outputs": [
    {
     "name": "stdout",
     "output_type": "stream",
     "text": [
      "Threshold 0.029973284473186982\n",
      "P-Threshold 0.01\n",
      "6 ---> 0 0.02945416261605911 1.0 9.313225746154785e-10\n"
     ]
    },
    {
     "data": {
      "image/png": "[encoded data removed]",
      "text/plain": [
       "<Figure size 640x480 with 1 Axes>"
      ]
     },
     "metadata": {},
     "output_type": "display_data"
    }
   ],
   "source": [
    "a_n = np.log(len(u_pre))\n",
    "CMs = []; llfs = []\n",
    "for bs in best_subsets_u[:ok+1]: \n",
    "    beta = np.linalg.lstsq(theta_u[:, bs], dt_u, rcond=None)[0]\n",
    "    llf, CM, _ = llf_complexity(theta_u[:, bs], dt_u, beta=beta, a_n=a_n)\n",
    "    CM = CM[2]\n",
    "    if np.equal(CM, np.inf): break\n",
    "    CMs.append(CM)\n",
    "    llfs.append(llf)\n",
    "llfs = np.array(llfs); CMs = np.array(CMs)\n",
    "last_icomps, last_bc = icomp_ic(llfs, CMs, a_n)\n",
    "icomps = last_icomps.copy()\n",
    "per = 75\n",
    "d_complexities = np.array(complexities)[decreasing_values_indices(icomps)]\n",
    "d_icomps = icomps[decreasing_values_indices(icomps)]\n",
    "thres = np.percentile(np.abs(np.diff(d_icomps)/(np.diff(d_complexities)*d_icomps[:-1])), per)\n",
    "print(\"Threshold\", thres)\n",
    "pthres = 1e-2\n",
    "print(\"P-Threshold\", pthres)\n",
    "\n",
    "num_an = 5\n",
    "a_ns = np.log(len(dt_u))**np.linspace(1, np.log((llfs/CMs).max()), num_an)\n",
    "last_an = a_ns[0]\n",
    "for a_n in a_ns[1:]:\n",
    "    now_icomp, now_bc = icomp_ic(llfs, CMs, a_n)\n",
    "    \n",
    "    diff_com = now_bc-last_bc\n",
    "    diff_icomp = icomps[now_bc]-icomps[last_bc]\n",
    "    imp = abs(diff_icomp/(icomps[min(last_bc, now_bc)]*diff_com))\n",
    "    diff_v_icomp = v_icomps[now_bc]-v_icomps[last_bc]\n",
    "    pvalue_pos, pvalue_neg, pvalue_adj = np.nan, np.nan, np.nan\n",
    "    adj_coms = v_icomps_ranking[v_icomps_ranking<now_bc]\n",
    "    if not np.array_equal(diff_v_icomp, np.zeros(len(diff_v_icomp))):\n",
    "        pvalue_pos = wilcoxon(diff_v_icomp, alternative='less').pvalue\n",
    "        pvalue_neg = wilcoxon(-diff_v_icomp, alternative='less').pvalue\n",
    "        if len(adj_coms) != 0:\n",
    "            pvalue_adj = wilcoxon(v_icomps[now_bc]-v_icomps[adj_coms[0]], alternative='less').pvalue\n",
    "\n",
    "    print(last_bc, '--->', now_bc, \n",
    "          np.nan_to_num(imp, nan=np.inf), \n",
    "          np.nan_to_num(pvalue_pos, nan=np.inf), \n",
    "          np.nan_to_num(pvalue_neg, nan=np.inf))\n",
    "    \n",
    "    ### Old version ###\n",
    "    # if (diff_com > 0 and (diff_icomp > 0 or imp <= thres)) or \\\n",
    "    #     (diff_com < 0 and diff_icomp > 0 and imp >= thres):\n",
    "    #     break\n",
    "    \n",
    "    if (diff_com > 0 and (diff_icomp > 0 or pvalue_pos > pthres or pvalue_adj > pthres)) or \\\n",
    "        (diff_com < 0 and diff_icomp > 0 and pvalue_neg <= pthres):\n",
    "        break\n",
    "    \n",
    "    last_an = a_n\n",
    "    last_icomps = now_icomp\n",
    "    last_bc = now_bc\n",
    "    \n",
    "last_an, last_icomps, last_bc\n",
    "plt.plot(last_icomps); plt.show()"
   ]
  },
  {
   "cell_type": "code",
   "execution_count": 18,
   "metadata": {},
   "outputs": [
    {
     "name": "stdout",
     "output_type": "stream",
     "text": [
      "7\n"
     ]
    },
    {
     "data": {
      "image/png": "[encoded data removed]",
      "text/plain": [
       "<Figure size 640x480 with 1 Axes>"
      ]
     },
     "metadata": {},
     "output_type": "display_data"
    }
   ],
   "source": [
    "mdls = []\n",
    "for bs in best_subsets_u:\n",
    "    X_train = theta_u[:, bs]\n",
    "    beta = np.linalg.lstsq(X_train, dt_u, rcond=None)[0]\n",
    "    var = np.linalg.norm(dt_u-X_train@beta, ord=2)**2\n",
    "    var = var/(len(dt_u)-len(bs))\n",
    "    prac_mdl = prac_mdl_comp(X_train, dt_u, variance=var)\n",
    "    mdl = prac_mdl['prac_mdl']\n",
    "    thetahat = prac_mdl['thetahat']\n",
    "    \n",
    "    llf, CM, icomp = llf_complexity(X_train, dt_u, \n",
    "                                    beta=thetahat, \n",
    "                                    a_n=last_an)\n",
    "    icomp = icomp[2]\n",
    "    \n",
    "    # mdls.append(mdl)\n",
    "    mdls.append(icomp)\n",
    "\n",
    "print(np.argmin(mdls))\n",
    "plt.plot(mdls, '-o'); plt.show()"
   ]
  },
  {
   "cell_type": "code",
   "execution_count": null,
   "metadata": {},
   "outputs": [],
   "source": []
  },
  {
   "cell_type": "code",
   "execution_count": null,
   "metadata": {},
   "outputs": [],
   "source": []
  }
 ],
 "metadata": {
  "anaconda-cloud": {},
  "kernelspec": {
   "display_name": "Python [conda env:pysindy_latest]",
   "language": "python",
   "name": "conda-env-pysindy_latest-py"
  },
  "language_info": {
   "codemirror_mode": {
    "name": "ipython",
    "version": 3
   },
   "file_extension": ".py",
   "mimetype": "text/x-python",
   "name": "python",
   "nbconvert_exporter": "python",
   "pygments_lexer": "ipython3",
   "version": "3.10.13"
  },
  "widgets": {
   "application/vnd.jupyter.widget-state+json": {
    "state": {},
    "version_major": 2,
    "version_minor": 0
   }
  }
 },
 "nbformat": 4,
 "nbformat_minor": 4
}
